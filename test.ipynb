{
 "cells": [
  {
   "cell_type": "code",
   "execution_count": 1,
   "metadata": {},
   "outputs": [],
   "source": [
    "from epsilon_transformers.processes import RRXOR\n",
    "from epsilon_transformers.visualization import visualize_graph\n",
    "from epsilon_transformers.simple_transformer import train_hooked_model, sweep_train\n",
    "\n",
    "\n",
    "# Instantiate the RRXORProcess\n",
    "process = RRXOR()"
   ]
  },
  {
   "cell_type": "code",
   "execution_count": 2,
   "metadata": {},
   "outputs": [
    {
     "name": "stdout",
     "output_type": "stream",
     "text": [
      "the stationary distribution is [0.33333333 0.16666667 0.16666667 0.16666667 0.16666667]\n",
      "The number of states is 5\n",
      "The number of symbols is 2\n",
      "The state names are dict_keys(['S', '0', '1', 'T', 'F'])\n",
      "The transitions are \n",
      "[[[0.  0.5 0.  0.  0. ]\n",
      "  [0.  0.  0.  0.  0.5]\n",
      "  [0.  0.  0.  0.5 0. ]\n",
      "  [0.  0.  0.  0.  0. ]\n",
      "  [1.  0.  0.  0.  0. ]]\n",
      "\n",
      " [[0.  0.  0.5 0.  0. ]\n",
      "  [0.  0.  0.  0.5 0. ]\n",
      "  [0.  0.  0.  0.  0.5]\n",
      "  [1.  0.  0.  0.  0. ]\n",
      "  [0.  0.  0.  0.  0. ]]]\n"
     ]
    }
   ],
   "source": [
    "print(f\"the stationary distribution is {process.steady_state}\")\n",
    "print(f\"The number of states is {process.num_states}\")\n",
    "print(f\"The number of symbols is {process.num_symbols}\")\n",
    "print(f\"The state names are {process.state_names.keys()}\")\n",
    "print(f\"The transitions are \\n{process.transition_matrix}\")"
   ]
  },
  {
   "cell_type": "code",
   "execution_count": 3,
   "metadata": {},
   "outputs": [
    {
     "name": "stdout",
     "output_type": "stream",
     "text": [
      "cpu\n"
     ]
    }
   ],
   "source": [
    "# %%\n",
    "from transformer_lens import HookedTransformer, HookedTransformerConfig\n",
    "import torch\n",
    "\n",
    "device = \"cuda\" if torch.cuda.is_available() else \"cpu\"\n",
    "print(device)\n",
    "config = HookedTransformerConfig(\n",
    "    d_model=16,\n",
    "    d_head=4,\n",
    "    n_layers=2,\n",
    "    n_ctx=10,\n",
    "    n_heads=4,\n",
    "    d_mlp=4 * 16,\n",
    "    d_vocab=2,\n",
    "    act_fn=\"relu\",\n",
    "    use_attn_scale=True,\n",
    "    normalization_type=None,\n",
    "    attention_dir=\"causal\",\n",
    "    attn_only=False,\n",
    "    seed=42,\n",
    "    init_weights=True,\n",
    "    device=device,\n",
    ")\n",
    "\n",
    "model = HookedTransformer(config)\n",
    "# Define a config for the transformer and training\n",
    "train_config = {\n",
    "    # training config\n",
    "    \"batch_size\": 64,\n",
    "    \"sequence_length\": 500,\n",
    "    \"num_sequences\": 100,\n",
    "    \"num_epochs\": 200,\n",
    "    \"learning_rate\": 1.5e-4,\n",
    "    \"weight_decay\": 0,\n",
    "}"
   ]
  },
  {
   "cell_type": "code",
   "execution_count": 7,
   "metadata": {},
   "outputs": [
    {
     "name": "stdout",
     "output_type": "stream",
     "text": [
      "Create sweep with ID: eaedbzxy\n",
      "Sweep URL: https://wandb.ai/adamimos/epsilon-transformer/sweeps/eaedbzxy\n"
     ]
    },
    {
     "name": "stderr",
     "output_type": "stream",
     "text": [
      "\u001b[34m\u001b[1mwandb\u001b[0m: Agent Starting Run: n0bgbboy with config:\n",
      "\u001b[34m\u001b[1mwandb\u001b[0m: \tlearning_rate: 0.0001\n",
      "\u001b[34m\u001b[1mwandb\u001b[0m: \tweight_decay: 0\n",
      "Failed to detect the name of this notebook, you can set it manually with the WANDB_NOTEBOOK_NAME environment variable to enable code saving.\n"
     ]
    },
    {
     "data": {
      "text/html": [
       "wandb version 0.16.2 is available!  To upgrade, please run:\n",
       " $ pip install wandb --upgrade"
      ],
      "text/plain": [
       "<IPython.core.display.HTML object>"
      ]
     },
     "metadata": {},
     "output_type": "display_data"
    },
    {
     "data": {
      "text/html": [
       "Tracking run with wandb version 0.16.1"
      ],
      "text/plain": [
       "<IPython.core.display.HTML object>"
      ]
     },
     "metadata": {},
     "output_type": "display_data"
    },
    {
     "data": {
      "text/html": [
       "Run data is saved locally in <code>/Users/adamimos/Documents/GitHub/epsilon-transformers/wandb/run-20240119_150939-n0bgbboy</code>"
      ],
      "text/plain": [
       "<IPython.core.display.HTML object>"
      ]
     },
     "metadata": {},
     "output_type": "display_data"
    },
    {
     "data": {
      "text/html": [
       "Syncing run <strong><a href='https://wandb.ai/adamimos/epsilon-transformer/runs/n0bgbboy' target=\"_blank\">sweet-sweep-1</a></strong> to <a href='https://wandb.ai/adamimos/epsilon-transformer' target=\"_blank\">Weights & Biases</a> (<a href='https://wandb.me/run' target=\"_blank\">docs</a>)<br/>Sweep page: <a href='https://wandb.ai/adamimos/epsilon-transformer/sweeps/eaedbzxy' target=\"_blank\">https://wandb.ai/adamimos/epsilon-transformer/sweeps/eaedbzxy</a>"
      ],
      "text/plain": [
       "<IPython.core.display.HTML object>"
      ]
     },
     "metadata": {},
     "output_type": "display_data"
    },
    {
     "data": {
      "text/html": [
       " View project at <a href='https://wandb.ai/adamimos/epsilon-transformer' target=\"_blank\">https://wandb.ai/adamimos/epsilon-transformer</a>"
      ],
      "text/plain": [
       "<IPython.core.display.HTML object>"
      ]
     },
     "metadata": {},
     "output_type": "display_data"
    },
    {
     "data": {
      "text/html": [
       " View sweep at <a href='https://wandb.ai/adamimos/epsilon-transformer/sweeps/eaedbzxy' target=\"_blank\">https://wandb.ai/adamimos/epsilon-transformer/sweeps/eaedbzxy</a>"
      ],
      "text/plain": [
       "<IPython.core.display.HTML object>"
      ]
     },
     "metadata": {},
     "output_type": "display_data"
    },
    {
     "data": {
      "text/html": [
       " View run at <a href='https://wandb.ai/adamimos/epsilon-transformer/runs/n0bgbboy' target=\"_blank\">https://wandb.ai/adamimos/epsilon-transformer/runs/n0bgbboy</a>"
      ],
      "text/plain": [
       "<IPython.core.display.HTML object>"
      ]
     },
     "metadata": {},
     "output_type": "display_data"
    },
    {
     "name": "stdout",
     "output_type": "stream",
     "text": [
      "| Epoch | Training Acc. | Loss | Overall Acc. | Last Bit Acc. |\n",
      "|   1   |    52.52%    |    0.6905     |      56.09%       |      53.86%      |\n",
      "|   2   |    55.59%    |    0.6546     |      60.08%       |      57.52%      |\n",
      "|   3   |    60.00%    |    0.6561     |      61.57%       |      61.31%      |\n",
      "|   4   |    63.21%    |    0.6194     |      62.35%       |      64.10%      |\n",
      "|   5   |    64.94%    |    0.6387     |      63.13%       |      65.27%      |\n",
      "|   6   |    65.57%    |    0.6687     |      63.19%       |      65.53%      |\n",
      "|   7   |    65.91%    |    0.6098     |      63.48%       |      65.17%      |\n",
      "|   8   |    65.96%    |    0.6369     |      63.84%       |      65.48%      |\n",
      "|   9   |    66.00%    |    0.6262     |      64.03%       |      65.71%      |\n",
      "|  10   |    66.07%    |    0.6375     |      64.26%       |      65.65%      |\n",
      "|  11   |    66.10%    |    0.6169     |      64.01%       |      65.59%      |\n",
      "|  12   |    66.15%    |    0.6476     |      64.33%       |      65.74%      |\n",
      "|  13   |    66.23%    |    0.6302     |      64.23%       |      65.78%      |\n",
      "|  14   |    66.34%    |    0.6392     |      64.36%       |      66.06%      |\n",
      "|  15   |    66.44%    |    0.6298     |      64.40%       |      66.09%      |\n",
      "|  16   |    66.44%    |    0.6060     |      64.53%       |      65.82%      |\n",
      "|  17   |    66.35%    |    0.6309     |      64.62%       |      65.68%      |\n",
      "|  18   |    66.27%    |    0.6299     |      64.49%       |      65.71%      |\n",
      "|  19   |    66.24%    |    0.6284     |      64.57%       |      65.74%      |\n",
      "|  20   |    66.24%    |    0.6374     |      64.63%       |      65.86%      |\n",
      "|  21   |    66.10%    |    0.6223     |      64.55%       |      65.49%      |\n",
      "|  22   |    66.08%    |    0.6210     |      64.58%       |      65.47%      |\n",
      "|  23   |    65.91%    |    0.6145     |      64.62%       |      65.86%      |\n",
      "|  24   |    65.89%    |    0.6204     |      64.62%       |      65.83%      |\n",
      "|  25   |    65.95%    |    0.6176     |      64.50%       |      65.73%      |\n",
      "|  26   |    66.05%    |    0.6123     |      64.55%       |      65.32%      |\n",
      "|  27   |    65.91%    |    0.6040     |      64.55%       |      65.79%      |\n",
      "|  28   |    66.09%    |    0.6214     |      64.53%       |      65.65%      |\n",
      "|  29   |    66.10%    |    0.5987     |      64.50%       |      65.69%      |\n",
      "|  30   |    66.15%    |    0.6015     |      64.54%       |      65.62%      |\n",
      "|  31   |    66.16%    |    0.6427     |      64.54%       |      65.66%      |\n",
      "|  32   |    66.24%    |    0.6117     |      64.54%       |      65.92%      |\n",
      "|  33   |    66.28%    |    0.6053     |      64.49%       |      65.71%      |\n",
      "|  34   |    66.24%    |    0.6053     |      64.66%       |      65.80%      |\n",
      "|  35   |    66.23%    |    0.6047     |      64.58%       |      66.16%      |\n",
      "|  36   |    66.34%    |    0.6098     |      64.57%       |      66.06%      |\n",
      "|  37   |    66.34%    |    0.6077     |      64.50%       |      65.81%      |\n",
      "|  38   |    66.46%    |    0.5990     |      64.62%       |      66.21%      |\n",
      "|  39   |    66.44%    |    0.6301     |      64.60%       |      66.13%      |\n",
      "|  40   |    66.54%    |    0.6143     |      64.58%       |      66.03%      |\n",
      "|  41   |    66.42%    |    0.6104     |      64.57%       |      66.16%      |\n",
      "|  42   |    66.58%    |    0.6159     |      64.49%       |      66.14%      |\n",
      "|  43   |    66.49%    |    0.6099     |      64.65%       |      66.25%      |\n",
      "|  44   |    66.55%    |    0.6080     |      64.61%       |      66.27%      |\n",
      "|  45   |    66.55%    |    0.6076     |      64.55%       |      66.24%      |\n",
      "|  46   |    66.68%    |    0.6105     |      64.53%       |      66.03%      |\n",
      "|  47   |    66.62%    |    0.5989     |      64.60%       |      66.20%      |\n",
      "|  48   |    66.50%    |    0.6103     |      64.66%       |      66.30%      |\n",
      "|  49   |    66.64%    |    0.6003     |      64.67%       |      66.27%      |\n",
      "|  50   |    66.62%    |    0.6154     |      64.54%       |      65.97%      |\n",
      "|  51   |    66.46%    |    0.6102     |      64.51%       |      66.17%      |\n",
      "|  52   |    66.43%    |    0.5926     |      64.70%       |      66.33%      |\n",
      "|  53   |    66.60%    |    0.5889     |      64.71%       |      66.30%      |\n",
      "|  54   |    66.52%    |    0.5966     |      64.65%       |      66.49%      |\n",
      "|  55   |    66.54%    |    0.5894     |      64.69%       |      66.31%      |\n",
      "|  56   |    66.69%    |    0.6081     |      64.61%       |      65.99%      |\n",
      "|  57   |    66.62%    |    0.5927     |      64.58%       |      66.42%      |\n",
      "|  58   |    66.74%    |    0.6049     |      64.60%       |      65.86%      |\n",
      "|  59   |    66.66%    |    0.5822     |      64.56%       |      66.09%      |\n",
      "|  60   |    66.58%    |    0.6176     |      64.69%       |      66.41%      |\n",
      "|  61   |    66.64%    |    0.6002     |      64.44%       |      66.19%      |\n",
      "|  62   |    66.61%    |    0.6077     |      64.54%       |      66.20%      |\n",
      "|  63   |    66.63%    |    0.5917     |      64.59%       |      66.18%      |\n",
      "|  64   |    66.68%    |    0.6130     |      64.61%       |      66.34%      |\n",
      "|  65   |    66.83%    |    0.5768     |      64.67%       |      66.55%      |\n",
      "|  66   |    66.61%    |    0.5869     |      64.62%       |      66.48%      |\n",
      "|  67   |    66.72%    |    0.6036     |      64.60%       |      66.29%      |\n",
      "|  68   |    66.64%    |    0.5958     |      64.58%       |      66.03%      |\n",
      "|  69   |    66.92%    |    0.6012     |      64.64%       |      66.44%      |\n",
      "|  70   |    66.71%    |    0.5871     |      64.60%       |      66.02%      |\n",
      "|  71   |    66.73%    |    0.5862     |      64.57%       |      65.91%      |\n",
      "|  72   |    66.81%    |    0.5941     |      64.69%       |      66.20%      |\n",
      "|  73   |    66.67%    |    0.5850     |      64.60%       |      65.84%      |\n",
      "|  74   |    66.64%    |    0.5933     |      64.68%       |      66.28%      |\n",
      "|  75   |    66.55%    |    0.5999     |      64.60%       |      66.22%      |\n",
      "|  76   |    66.71%    |    0.6080     |      64.55%       |      66.28%      |\n",
      "|  77   |    66.80%    |    0.6033     |      64.71%       |      66.37%      |\n",
      "|  78   |    66.59%    |    0.5852     |      64.62%       |      66.06%      |\n",
      "|  79   |    66.65%    |    0.5834     |      64.55%       |      65.92%      |\n",
      "|  80   |    66.57%    |    0.6199     |      64.69%       |      66.47%      |\n",
      "|  81   |    66.67%    |    0.5976     |      64.53%       |      66.19%      |\n",
      "|  82   |    66.67%    |    0.6175     |      64.54%       |      66.25%      |\n",
      "|  83   |    66.62%    |    0.5952     |      64.53%       |      65.75%      |\n",
      "|  84   |    66.60%    |    0.6121     |      64.64%       |      66.16%      |\n",
      "|  85   |    66.64%    |    0.5862     |      64.48%       |      66.02%      |\n",
      "|  86   |    66.59%    |    0.5970     |      64.60%       |      65.62%      |\n",
      "|  87   |    66.70%    |    0.6153     |      64.65%       |      66.14%      |\n",
      "|  88   |    66.78%    |    0.5856     |      64.60%       |      66.13%      |\n",
      "|  89   |    66.64%    |    0.5830     |      64.45%       |      65.76%      |\n",
      "|  90   |    66.66%    |    0.5802     |      64.72%       |      66.35%      |\n",
      "|  91   |    66.69%    |    0.5938     |      64.68%       |      66.50%      |\n",
      "|  92   |    66.70%    |    0.6011     |      64.59%       |      65.85%      |\n",
      "|  93   |    66.79%    |    0.5775     |      64.64%       |      66.07%      |\n",
      "|  94   |    66.73%    |    0.5945     |      64.52%       |      66.00%      |\n",
      "|  95   |    66.75%    |    0.6093     |      64.54%       |      65.92%      |\n",
      "|  96   |    66.58%    |    0.5967     |      64.75%       |      66.49%      |\n",
      "|  97   |    66.77%    |    0.5827     |      64.63%       |      66.33%      |\n",
      "|  98   |    66.81%    |    0.5890     |      64.60%       |      65.89%      |\n",
      "|  99   |    66.65%    |    0.5997     |      64.61%       |      66.45%      |\n",
      "|  100  |    66.89%    |    0.5881     |      64.67%       |      66.22%      |\n",
      "|  101  |    66.64%    |    0.5933     |      64.64%       |      66.26%      |\n",
      "|  102  |    66.57%    |    0.5913     |      64.53%       |      66.39%      |\n",
      "|  103  |    66.63%    |    0.6068     |      64.73%       |      66.31%      |\n",
      "|  104  |    66.57%    |    0.5921     |      64.77%       |      66.42%      |\n",
      "|  105  |    66.87%    |    0.5999     |      64.54%       |      65.97%      |\n",
      "|  106  |    66.82%    |    0.6113     |      64.67%       |      66.23%      |\n",
      "|  107  |    66.77%    |    0.5902     |      64.54%       |      65.96%      |\n",
      "|  108  |    66.80%    |    0.5984     |      64.61%       |      66.26%      |\n",
      "|  109  |    66.80%    |    0.6050     |      64.65%       |      66.12%      |\n",
      "|  110  |    66.75%    |    0.5907     |      64.64%       |      65.95%      |\n",
      "|  111  |    66.66%    |    0.6107     |      64.55%       |      66.04%      |\n",
      "|  112  |    66.59%    |    0.6035     |      64.64%       |      66.00%      |\n",
      "|  113  |    66.82%    |    0.6000     |      64.75%       |      66.47%      |\n",
      "|  114  |    66.74%    |    0.5923     |      64.52%       |      66.07%      |\n",
      "|  115  |    66.89%    |    0.5965     |      64.57%       |      66.13%      |\n",
      "|  116  |    66.77%    |    0.5890     |      64.71%       |      66.00%      |\n",
      "|  117  |    66.89%    |    0.5970     |      64.66%       |      66.21%      |\n",
      "|  118  |    66.83%    |    0.6134     |      64.62%       |      66.41%      |\n",
      "|  119  |    66.95%    |    0.6009     |      64.61%       |      66.31%      |\n",
      "|  120  |    66.86%    |    0.5876     |      64.66%       |      66.85%      |\n",
      "|  121  |    66.81%    |    0.5878     |      64.62%       |      66.22%      |\n",
      "|  122  |    66.82%    |    0.6106     |      64.52%       |      66.69%      |\n",
      "|  123  |    66.82%    |    0.5988     |      64.58%       |      66.47%      |\n",
      "|  124  |    66.93%    |    0.5994     |      64.55%       |      65.81%      |\n",
      "|  125  |    66.81%    |    0.5861     |      64.62%       |      66.82%      |\n",
      "|  126  |    66.88%    |    0.5792     |      64.53%       |      65.97%      |\n",
      "|  127  |    66.89%    |    0.6159     |      64.74%       |      66.34%      |\n",
      "|  128  |    67.05%    |    0.5929     |      64.88%       |      66.81%      |\n",
      "|  129  |    66.85%    |    0.6035     |      64.69%       |      66.60%      |\n",
      "|  130  |    66.74%    |    0.6024     |      64.64%       |      66.79%      |\n",
      "|  131  |    66.80%    |    0.6001     |      64.66%       |      66.60%      |\n",
      "|  132  |    66.91%    |    0.5991     |      64.63%       |      66.68%      |\n",
      "|  133  |    66.98%    |    0.5767     |      64.60%       |      66.45%      |\n",
      "|  134  |    66.97%    |    0.6016     |      64.58%       |      66.18%      |\n",
      "|  135  |    67.00%    |    0.5777     |      64.62%       |      66.63%      |\n",
      "|  136  |    66.86%    |    0.6076     |      64.53%       |      65.95%      |\n",
      "|  137  |    66.79%    |    0.5761     |      64.76%       |      66.65%      |\n",
      "|  138  |    66.98%    |    0.5874     |      64.61%       |      66.48%      |\n",
      "|  139  |    66.97%    |    0.5924     |      64.68%       |      66.67%      |\n",
      "|  140  |    66.94%    |    0.5837     |      64.70%       |      66.41%      |\n",
      "|  141  |    66.98%    |    0.5836     |      64.67%       |      66.62%      |\n",
      "|  142  |    66.95%    |    0.5964     |      64.62%       |      66.31%      |\n",
      "|  143  |    67.06%    |    0.5751     |      64.58%       |      66.46%      |\n",
      "|  144  |    67.03%    |    0.5905     |      64.47%       |      66.15%      |\n",
      "|  145  |    66.88%    |    0.6166     |      64.69%       |      66.31%      |\n",
      "|  146  |    66.95%    |    0.5876     |      64.64%       |      66.36%      |\n",
      "|  147  |    67.08%    |    0.5779     |      64.63%       |      66.44%      |\n",
      "|  148  |    66.89%    |    0.5920     |      64.60%       |      66.21%      |\n",
      "|  149  |    67.08%    |    0.5958     |      64.76%       |      66.57%      |\n",
      "|  150  |    67.02%    |    0.5807     |      64.57%       |      66.18%      |\n",
      "|  151  |    66.98%    |    0.5866     |      64.73%       |      66.87%      |\n",
      "|  152  |    67.02%    |    0.5785     |      64.61%       |      66.43%      |\n",
      "|  153  |    67.04%    |    0.5754     |      64.70%       |      66.59%      |\n",
      "|  154  |    67.03%    |    0.5818     |      64.69%       |      66.58%      |\n",
      "|  155  |    67.03%    |    0.5986     |      64.78%       |      66.44%      |\n",
      "|  156  |    67.23%    |    0.5892     |      64.67%       |      66.56%      |\n",
      "|  157  |    67.07%    |    0.5857     |      64.53%       |      66.50%      |\n",
      "|  158  |    67.12%    |    0.6026     |      64.66%       |      66.68%      |\n",
      "|  159  |    67.11%    |    0.5952     |      64.80%       |      66.11%      |\n",
      "|  160  |    66.96%    |    0.5784     |      64.61%       |      66.27%      |\n",
      "|  161  |    66.95%    |    0.5794     |      64.71%       |      66.64%      |\n",
      "|  162  |    66.82%    |    0.6090     |      64.69%       |      66.95%      |\n",
      "|  163  |    67.14%    |    0.5871     |      64.68%       |      66.68%      |\n",
      "|  164  |    67.14%    |    0.5857     |      64.71%       |      66.59%      |\n",
      "|  165  |    67.00%    |    0.5853     |      64.67%       |      66.66%      |\n",
      "|  166  |    67.08%    |    0.5725     |      64.74%       |      66.17%      |\n",
      "|  167  |    66.91%    |    0.5944     |      64.62%       |      66.50%      |\n",
      "|  168  |    66.97%    |    0.5814     |      64.52%       |      66.09%      |\n",
      "|  169  |    66.84%    |    0.5820     |      64.78%       |      66.79%      |\n",
      "|  170  |    66.98%    |    0.6035     |      64.74%       |      66.45%      |\n",
      "|  171  |    67.13%    |    0.6031     |      64.78%       |      66.46%      |\n",
      "|  172  |    67.02%    |    0.5927     |      64.71%       |      66.43%      |\n",
      "|  173  |    67.02%    |    0.5704     |      64.71%       |      66.60%      |\n",
      "|  174  |    66.98%    |    0.5897     |      64.74%       |      66.73%      |\n",
      "|  175  |    67.02%    |    0.5882     |      64.58%       |      66.31%      |\n",
      "|  176  |    67.03%    |    0.5745     |      64.69%       |      66.39%      |\n",
      "|  177  |    66.97%    |    0.5816     |      64.52%       |      66.38%      |\n",
      "|  178  |    66.95%    |    0.6000     |      64.72%       |      66.09%      |\n",
      "|  179  |    67.03%    |    0.5855     |      64.64%       |      66.40%      |\n",
      "|  180  |    67.00%    |    0.5951     |      64.74%       |      66.81%      |\n",
      "|  181  |    66.89%    |    0.5954     |      64.68%       |      66.21%      |\n",
      "|  182  |    66.96%    |    0.5869     |      64.59%       |      66.31%      |\n",
      "|  183  |    67.07%    |    0.5828     |      64.69%       |      66.61%      |\n",
      "|  184  |    66.97%    |    0.5986     |      64.74%       |      66.87%      |\n",
      "|  185  |    66.88%    |    0.5792     |      64.70%       |      66.38%      |\n",
      "|  186  |    67.00%    |    0.5897     |      64.74%       |      66.57%      |\n",
      "|  187  |    67.11%    |    0.5916     |      64.66%       |      66.75%      |\n",
      "|  188  |    67.00%    |    0.5987     |      64.58%       |      66.51%      |\n",
      "|  189  |    66.96%    |    0.5927     |      64.69%       |      66.88%      |\n",
      "|  190  |    66.97%    |    0.5970     |      64.55%       |      66.68%      |\n",
      "|  191  |    67.00%    |    0.6053     |      64.66%       |      66.44%      |\n",
      "|  192  |    67.00%    |    0.5863     |      64.65%       |      66.22%      |\n",
      "|  193  |    67.00%    |    0.5853     |      64.67%       |      66.78%      |\n",
      "|  194  |    66.91%    |    0.5880     |      64.73%       |      66.51%      |\n",
      "|  195  |    67.08%    |    0.5980     |      64.68%       |      66.60%      |\n",
      "|  196  |    66.85%    |    0.5798     |      64.60%       |      66.29%      |\n",
      "|  197  |    66.99%    |    0.5845     |      64.66%       |      66.54%      |\n",
      "|  198  |    67.03%    |    0.5866     |      64.60%       |      66.26%      |\n",
      "|  199  |    67.03%    |    0.5929     |      64.77%       |      66.89%      |\n",
      "|  200  |    67.15%    |    0.5826     |      64.66%       |      66.99%      |\n"
     ]
    },
    {
     "data": {
      "application/vnd.jupyter.widget-view+json": {
       "model_id": "1e2d920b31d04998ad683657f48597a7",
       "version_major": 2,
       "version_minor": 0
      },
      "text/plain": [
       "VBox(children=(Label(value='0.001 MB of 0.001 MB uploaded\\r'), FloatProgress(value=1.0, max=1.0)))"
      ]
     },
     "metadata": {},
     "output_type": "display_data"
    },
    {
     "data": {
      "text/html": [
       "<style>\n",
       "    table.wandb td:nth-child(1) { padding: 0 10px; text-align: left ; width: auto;} td:nth-child(2) {text-align: left ; width: 100%}\n",
       "    .wandb-row { display: flex; flex-direction: row; flex-wrap: wrap; justify-content: flex-start; width: 100% }\n",
       "    .wandb-col { display: flex; flex-direction: column; flex-basis: 100%; flex: 1; padding: 10px; }\n",
       "    </style>\n",
       "<div class=\"wandb-row\"><div class=\"wandb-col\"><h3>Run history:</h3><br/><table class=\"wandb\"><tr><td>epoch</td><td>▁▁▁▁▂▂▂▂▂▃▃▃▃▃▃▄▄▄▄▄▅▅▅▅▅▅▆▆▆▆▆▇▇▇▇▇▇███</td></tr><tr><td>test_accuracy</td><td>▁▆▇▇████▇▇██████████▇███▇███▇████▇██████</td></tr><tr><td>test_last_bit_accuracy</td><td>▁▇▇▇▇▇▇▇▇▇█▇▇▇▇▇▇▇▇▇█▇▇███▇█▇▇███▇█▇████</td></tr><tr><td>test_last_bit_loss</td><td>█▆▅▅▅▅▄▄▄▄▃▄▃▃▃▃▃▃▃▂▂▂▂▂▂▂▂▂▂▂▁▁▁▂▁▁▁▁▁▁</td></tr><tr><td>train_accuracy</td><td>▁▇▇█▇▇▇█████████████████████████████████</td></tr><tr><td>train_loss</td><td>▇█▆▃▄▃▃▃▄▃▂▃▃▂▂▁▄▁▃▂▂▂▃▄▃▂▃▁▂▂▁▃▁▁▂▂▂▂▂▁</td></tr></table><br/></div><div class=\"wandb-col\"><h3>Run summary:</h3><br/><table class=\"wandb\"><tr><td>epoch</td><td>200</td></tr><tr><td>test_accuracy</td><td>0.64657</td></tr><tr><td>test_last_bit_accuracy</td><td>0.66995</td></tr><tr><td>test_last_bit_loss</td><td>0.54659</td></tr><tr><td>train_accuracy</td><td>0.67152</td></tr><tr><td>train_loss</td><td>0.58263</td></tr></table><br/></div></div>"
      ],
      "text/plain": [
       "<IPython.core.display.HTML object>"
      ]
     },
     "metadata": {},
     "output_type": "display_data"
    },
    {
     "data": {
      "text/html": [
       " View run <strong style=\"color:#cdcd00\">sweet-sweep-1</strong> at: <a href='https://wandb.ai/adamimos/epsilon-transformer/runs/n0bgbboy' target=\"_blank\">https://wandb.ai/adamimos/epsilon-transformer/runs/n0bgbboy</a><br/>Synced 5 W&B file(s), 0 media file(s), 0 artifact file(s) and 0 other file(s)"
      ],
      "text/plain": [
       "<IPython.core.display.HTML object>"
      ]
     },
     "metadata": {},
     "output_type": "display_data"
    },
    {
     "data": {
      "text/html": [
       "Find logs at: <code>./wandb/run-20240119_150939-n0bgbboy/logs</code>"
      ],
      "text/plain": [
       "<IPython.core.display.HTML object>"
      ]
     },
     "metadata": {},
     "output_type": "display_data"
    },
    {
     "name": "stderr",
     "output_type": "stream",
     "text": [
      "\u001b[34m\u001b[1mwandb\u001b[0m: Agent Starting Run: c5aacqd6 with config:\n",
      "\u001b[34m\u001b[1mwandb\u001b[0m: \tlearning_rate: 0.0001668100537200059\n",
      "\u001b[34m\u001b[1mwandb\u001b[0m: \tweight_decay: 0\n",
      "Failed to detect the name of this notebook, you can set it manually with the WANDB_NOTEBOOK_NAME environment variable to enable code saving.\n"
     ]
    },
    {
     "data": {
      "text/html": [
       "wandb version 0.16.2 is available!  To upgrade, please run:\n",
       " $ pip install wandb --upgrade"
      ],
      "text/plain": [
       "<IPython.core.display.HTML object>"
      ]
     },
     "metadata": {},
     "output_type": "display_data"
    },
    {
     "data": {
      "text/html": [
       "Tracking run with wandb version 0.16.1"
      ],
      "text/plain": [
       "<IPython.core.display.HTML object>"
      ]
     },
     "metadata": {},
     "output_type": "display_data"
    },
    {
     "data": {
      "text/html": [
       "Run data is saved locally in <code>/Users/adamimos/Documents/GitHub/epsilon-transformers/wandb/run-20240119_152554-c5aacqd6</code>"
      ],
      "text/plain": [
       "<IPython.core.display.HTML object>"
      ]
     },
     "metadata": {},
     "output_type": "display_data"
    },
    {
     "data": {
      "text/html": [
       "Syncing run <strong><a href='https://wandb.ai/adamimos/epsilon-transformer/runs/c5aacqd6' target=\"_blank\">stilted-sweep-2</a></strong> to <a href='https://wandb.ai/adamimos/epsilon-transformer' target=\"_blank\">Weights & Biases</a> (<a href='https://wandb.me/run' target=\"_blank\">docs</a>)<br/>Sweep page: <a href='https://wandb.ai/adamimos/epsilon-transformer/sweeps/eaedbzxy' target=\"_blank\">https://wandb.ai/adamimos/epsilon-transformer/sweeps/eaedbzxy</a>"
      ],
      "text/plain": [
       "<IPython.core.display.HTML object>"
      ]
     },
     "metadata": {},
     "output_type": "display_data"
    },
    {
     "data": {
      "text/html": [
       " View project at <a href='https://wandb.ai/adamimos/epsilon-transformer' target=\"_blank\">https://wandb.ai/adamimos/epsilon-transformer</a>"
      ],
      "text/plain": [
       "<IPython.core.display.HTML object>"
      ]
     },
     "metadata": {},
     "output_type": "display_data"
    },
    {
     "data": {
      "text/html": [
       " View sweep at <a href='https://wandb.ai/adamimos/epsilon-transformer/sweeps/eaedbzxy' target=\"_blank\">https://wandb.ai/adamimos/epsilon-transformer/sweeps/eaedbzxy</a>"
      ],
      "text/plain": [
       "<IPython.core.display.HTML object>"
      ]
     },
     "metadata": {},
     "output_type": "display_data"
    },
    {
     "data": {
      "text/html": [
       " View run at <a href='https://wandb.ai/adamimos/epsilon-transformer/runs/c5aacqd6' target=\"_blank\">https://wandb.ai/adamimos/epsilon-transformer/runs/c5aacqd6</a>"
      ],
      "text/plain": [
       "<IPython.core.display.HTML object>"
      ]
     },
     "metadata": {},
     "output_type": "display_data"
    },
    {
     "name": "stdout",
     "output_type": "stream",
     "text": [
      "| Epoch | Training Acc. | Loss | Overall Acc. | Last Bit Acc. |\n",
      "|   1   |    53.54%    |    0.6620     |      60.20%       |      56.03%      |\n",
      "|   2   |    60.27%    |    0.6384     |      62.70%       |      63.33%      |\n",
      "|   3   |    64.50%    |    0.6555     |      63.73%       |      65.52%      |\n",
      "|   4   |    65.99%    |    0.6381     |      64.29%       |      66.87%      |\n",
      "|   5   |    66.40%    |    0.6393     |      64.82%       |      66.65%      |\n",
      "|   6   |    66.61%    |    0.6477     |      65.37%       |      67.17%      |\n",
      "|   7   |    66.94%    |    0.6402     |      65.53%       |      67.05%      |\n",
      "|   8   |    66.81%    |    0.6327     |      65.48%       |      66.74%      |\n",
      "|   9   |    66.59%    |    0.6187     |      65.53%       |      66.55%      |\n",
      "|  10   |    66.57%    |    0.6398     |      65.30%       |      66.53%      |\n",
      "|  11   |    66.60%    |    0.6014     |      65.54%       |      66.74%      |\n",
      "|  12   |    66.72%    |    0.6056     |      65.45%       |      66.73%      |\n",
      "|  13   |    66.64%    |    0.6175     |      65.50%       |      66.87%      |\n",
      "|  14   |    66.81%    |    0.6113     |      65.46%       |      66.77%      |\n",
      "|  15   |    66.89%    |    0.6060     |      65.31%       |      67.07%      |\n",
      "|  16   |    66.92%    |    0.6293     |      65.41%       |      66.89%      |\n",
      "|  17   |    66.94%    |    0.5969     |      65.36%       |      67.12%      |\n",
      "|  18   |    66.96%    |    0.6228     |      65.34%       |      66.95%      |\n",
      "|  19   |    67.00%    |    0.6001     |      65.55%       |      66.98%      |\n",
      "|  20   |    66.95%    |    0.5986     |      65.23%       |      66.93%      |\n",
      "|  21   |    66.98%    |    0.6015     |      65.25%       |      66.88%      |\n",
      "|  22   |    67.07%    |    0.6265     |      65.25%       |      67.25%      |\n",
      "|  23   |    67.13%    |    0.5851     |      65.21%       |      67.16%      |\n",
      "|  24   |    67.12%    |    0.6052     |      65.21%       |      67.13%      |\n",
      "|  25   |    67.10%    |    0.6352     |      65.39%       |      67.19%      |\n",
      "|  26   |    67.02%    |    0.5988     |      65.42%       |      67.09%      |\n",
      "|  27   |    67.14%    |    0.5985     |      65.45%       |      67.40%      |\n",
      "|  28   |    67.17%    |    0.6123     |      65.52%       |      67.16%      |\n",
      "|  29   |    67.12%    |    0.5946     |      65.47%       |      67.31%      |\n",
      "|  30   |    67.08%    |    0.6087     |      65.24%       |      67.14%      |\n",
      "|  31   |    67.15%    |    0.6124     |      65.24%       |      66.64%      |\n",
      "|  32   |    67.11%    |    0.5973     |      65.42%       |      66.69%      |\n",
      "|  33   |    67.03%    |    0.5966     |      65.50%       |      67.22%      |\n",
      "|  34   |    67.09%    |    0.5962     |      65.31%       |      67.14%      |\n",
      "|  35   |    67.28%    |    0.5964     |      65.25%       |      66.73%      |\n",
      "|  36   |    67.10%    |    0.5873     |      65.55%       |      67.00%      |\n",
      "|  37   |    67.17%    |    0.6232     |      65.25%       |      66.86%      |\n",
      "|  38   |    67.09%    |    0.5717     |      65.43%       |      67.36%      |\n",
      "|  39   |    67.16%    |    0.6195     |      65.23%       |      67.12%      |\n",
      "|  40   |    67.19%    |    0.5925     |      65.22%       |      66.67%      |\n",
      "|  41   |    67.10%    |    0.5892     |      65.49%       |      67.45%      |\n",
      "|  42   |    67.12%    |    0.5875     |      65.37%       |      67.34%      |\n",
      "|  43   |    67.02%    |    0.5839     |      65.49%       |      67.42%      |\n",
      "|  44   |    67.17%    |    0.5969     |      65.35%       |      67.14%      |\n",
      "|  45   |    66.98%    |    0.5892     |      65.14%       |      66.67%      |\n",
      "|  46   |    67.07%    |    0.5961     |      65.28%       |      67.28%      |\n",
      "|  47   |    67.03%    |    0.6010     |      65.34%       |      67.34%      |\n",
      "|  48   |    66.97%    |    0.5862     |      65.37%       |      66.71%      |\n",
      "|  49   |    66.99%    |    0.5880     |      65.41%       |      67.16%      |\n",
      "|  50   |    67.00%    |    0.6041     |      65.34%       |      67.14%      |\n",
      "|  51   |    67.18%    |    0.6042     |      65.12%       |      66.74%      |\n",
      "|  52   |    66.96%    |    0.5927     |      65.26%       |      66.74%      |\n",
      "|  53   |    67.07%    |    0.5876     |      65.28%       |      66.54%      |\n",
      "|  54   |    67.05%    |    0.6128     |      65.34%       |      66.98%      |\n",
      "|  55   |    66.91%    |    0.6004     |      65.34%       |      67.33%      |\n",
      "|  56   |    66.93%    |    0.6139     |      65.26%       |      66.64%      |\n",
      "|  57   |    67.01%    |    0.5755     |      65.51%       |      67.43%      |\n",
      "|  58   |    66.94%    |    0.5993     |      65.43%       |      66.93%      |\n",
      "|  59   |    67.16%    |    0.5976     |      65.29%       |      66.76%      |\n",
      "|  60   |    67.03%    |    0.6050     |      65.32%       |      66.98%      |\n",
      "|  61   |    67.02%    |    0.5949     |      65.40%       |      67.24%      |\n",
      "|  62   |    66.95%    |    0.6020     |      65.36%       |      67.02%      |\n",
      "|  63   |    66.98%    |    0.5865     |      65.22%       |      66.93%      |\n",
      "|  64   |    66.95%    |    0.5749     |      65.28%       |      67.08%      |\n",
      "|  65   |    67.01%    |    0.5904     |      65.35%       |      67.25%      |\n",
      "|  66   |    67.14%    |    0.6151     |      65.03%       |      66.92%      |\n",
      "|  67   |    66.96%    |    0.5917     |      65.30%       |      67.27%      |\n",
      "|  68   |    67.11%    |    0.6028     |      65.43%       |      67.14%      |\n",
      "|  69   |    67.13%    |    0.5958     |      65.10%       |      66.64%      |\n",
      "|  70   |    67.15%    |    0.5922     |      65.47%       |      67.16%      |\n",
      "|  71   |    67.05%    |    0.5923     |      65.31%       |      66.96%      |\n",
      "|  72   |    66.93%    |    0.6017     |      65.27%       |      66.64%      |\n",
      "|  73   |    67.04%    |    0.6003     |      65.39%       |      66.85%      |\n",
      "|  74   |    66.98%    |    0.5850     |      65.26%       |      67.04%      |\n",
      "|  75   |    66.89%    |    0.5888     |      65.32%       |      67.15%      |\n",
      "|  76   |    67.09%    |    0.5956     |      65.18%       |      66.84%      |\n",
      "|  77   |    66.96%    |    0.5745     |      65.30%       |      67.03%      |\n",
      "|  78   |    67.27%    |    0.5920     |      65.23%       |      66.91%      |\n",
      "|  79   |    67.10%    |    0.6003     |      65.36%       |      67.11%      |\n",
      "|  80   |    66.91%    |    0.5932     |      65.35%       |      66.76%      |\n",
      "|  81   |    67.00%    |    0.5740     |      65.28%       |      66.92%      |\n",
      "|  82   |    66.99%    |    0.6087     |      65.49%       |      67.05%      |\n",
      "|  83   |    67.10%    |    0.5921     |      65.45%       |      67.22%      |\n",
      "|  84   |    66.97%    |    0.5920     |      65.22%       |      66.61%      |\n",
      "|  85   |    67.20%    |    0.6057     |      65.34%       |      67.09%      |\n",
      "|  86   |    67.01%    |    0.5867     |      65.16%       |      66.70%      |\n",
      "|  87   |    67.17%    |    0.5822     |      65.19%       |      66.69%      |\n",
      "|  88   |    67.13%    |    0.5765     |      65.03%       |      66.67%      |\n",
      "|  89   |    66.78%    |    0.5987     |      65.19%       |      66.79%      |\n",
      "|  90   |    67.21%    |    0.6047     |      65.33%       |      66.77%      |\n",
      "|  91   |    66.91%    |    0.5849     |      65.02%       |      66.64%      |\n",
      "|  92   |    67.15%    |    0.5965     |      65.04%       |      66.55%      |\n",
      "|  93   |    66.89%    |    0.5876     |      65.41%       |      66.79%      |\n",
      "|  94   |    66.87%    |    0.5782     |      65.35%       |      66.99%      |\n",
      "|  95   |    67.04%    |    0.5927     |      65.19%       |      66.97%      |\n",
      "|  96   |    67.01%    |    0.5946     |      65.22%       |      66.88%      |\n",
      "|  97   |    67.03%    |    0.5819     |      65.41%       |      67.13%      |\n",
      "|  98   |    66.86%    |    0.5906     |      65.35%       |      66.82%      |\n",
      "|  99   |    66.85%    |    0.5956     |      65.28%       |      67.02%      |\n",
      "|  100  |    66.81%    |    0.5984     |      65.30%       |      66.49%      |\n",
      "|  101  |    66.91%    |    0.5899     |      65.18%       |      66.92%      |\n",
      "|  102  |    66.98%    |    0.5936     |      65.27%       |      66.74%      |\n",
      "|  103  |    66.93%    |    0.5893     |      65.18%       |      66.88%      |\n",
      "|  104  |    66.94%    |    0.5872     |      65.23%       |      66.82%      |\n",
      "|  105  |    66.95%    |    0.5923     |      64.98%       |      66.50%      |\n",
      "|  106  |    66.97%    |    0.5975     |      65.27%       |      66.76%      |\n",
      "|  107  |    66.77%    |    0.5870     |      65.10%       |      66.60%      |\n",
      "|  108  |    67.19%    |    0.5812     |      65.23%       |      66.64%      |\n",
      "|  109  |    66.95%    |    0.5938     |      65.59%       |      66.98%      |\n",
      "|  110  |    66.91%    |    0.5881     |      65.19%       |      66.71%      |\n",
      "|  111  |    66.96%    |    0.5773     |      65.47%       |      67.02%      |\n",
      "|  112  |    67.30%    |    0.5871     |      65.26%       |      66.72%      |\n",
      "|  113  |    66.92%    |    0.6031     |      65.05%       |      66.80%      |\n",
      "|  114  |    66.96%    |    0.5781     |      65.33%       |      66.66%      |\n",
      "|  115  |    67.12%    |    0.5848     |      65.33%       |      67.24%      |\n",
      "|  116  |    66.99%    |    0.5816     |      65.23%       |      66.88%      |\n",
      "|  117  |    67.04%    |    0.5855     |      65.48%       |      66.54%      |\n",
      "|  118  |    66.88%    |    0.5935     |      65.07%       |      66.83%      |\n",
      "|  119  |    66.86%    |    0.5834     |      65.33%       |      66.88%      |\n",
      "|  120  |    67.04%    |    0.5643     |      65.24%       |      66.41%      |\n",
      "|  121  |    67.03%    |    0.5855     |      65.21%       |      67.28%      |\n",
      "|  122  |    66.80%    |    0.5804     |      65.10%       |      66.37%      |\n",
      "|  123  |    67.10%    |    0.5857     |      65.30%       |      66.75%      |\n",
      "|  124  |    66.95%    |    0.5873     |      65.06%       |      66.85%      |\n",
      "|  125  |    66.83%    |    0.6048     |      65.11%       |      66.65%      |\n",
      "|  126  |    66.98%    |    0.5960     |      65.49%       |      66.83%      |\n",
      "|  127  |    66.71%    |    0.5770     |      65.20%       |      66.95%      |\n",
      "|  128  |    67.11%    |    0.5832     |      65.24%       |      66.81%      |\n",
      "|  129  |    66.82%    |    0.5873     |      65.25%       |      66.71%      |\n",
      "|  130  |    66.84%    |    0.5976     |      65.31%       |      66.61%      |\n",
      "|  131  |    67.13%    |    0.5905     |      65.21%       |      66.97%      |\n",
      "|  132  |    66.82%    |    0.5775     |      65.32%       |      67.03%      |\n",
      "|  133  |    67.11%    |    0.5789     |      65.37%       |      67.21%      |\n",
      "|  134  |    67.04%    |    0.5950     |      65.02%       |      66.95%      |\n",
      "|  135  |    66.89%    |    0.5776     |      64.96%       |      66.98%      |\n",
      "|  136  |    67.04%    |    0.5870     |      65.24%       |      66.89%      |\n",
      "|  137  |    66.87%    |    0.5878     |      65.43%       |      66.97%      |\n",
      "|  138  |    67.02%    |    0.5768     |      65.44%       |      66.89%      |\n",
      "|  139  |    66.86%    |    0.5883     |      65.41%       |      67.14%      |\n",
      "|  140  |    67.07%    |    0.5836     |      65.25%       |      66.75%      |\n",
      "|  141  |    67.12%    |    0.5946     |      65.16%       |      66.73%      |\n",
      "|  142  |    66.98%    |    0.5716     |      65.13%       |      66.97%      |\n",
      "|  143  |    66.85%    |    0.5975     |      65.43%       |      66.70%      |\n",
      "|  144  |    66.99%    |    0.5836     |      65.51%       |      67.28%      |\n",
      "|  145  |    66.93%    |    0.5714     |      65.26%       |      66.80%      |\n",
      "|  146  |    67.28%    |    0.5772     |      65.29%       |      66.92%      |\n",
      "|  147  |    66.96%    |    0.5949     |      65.49%       |      67.12%      |\n",
      "|  148  |    67.15%    |    0.5869     |      65.28%       |      66.97%      |\n",
      "|  149  |    67.11%    |    0.5949     |      65.42%       |      66.72%      |\n",
      "|  150  |    66.96%    |    0.5959     |      65.27%       |      67.13%      |\n",
      "|  151  |    67.03%    |    0.5949     |      65.27%       |      66.58%      |\n",
      "|  152  |    67.17%    |    0.5842     |      65.04%       |      66.42%      |\n",
      "|  153  |    67.06%    |    0.5831     |      65.52%       |      66.87%      |\n",
      "|  154  |    67.26%    |    0.5954     |      65.23%       |      66.90%      |\n",
      "|  155  |    67.14%    |    0.5883     |      65.27%       |      66.56%      |\n",
      "|  156  |    67.27%    |    0.5965     |      65.43%       |      66.95%      |\n",
      "|  157  |    67.06%    |    0.5929     |      65.04%       |      66.55%      |\n",
      "|  158  |    67.03%    |    0.6001     |      65.12%       |      66.99%      |\n",
      "|  159  |    67.09%    |    0.5761     |      65.22%       |      67.30%      |\n",
      "|  160  |    67.28%    |    0.5825     |      65.37%       |      67.12%      |\n",
      "|  161  |    67.33%    |    0.5861     |      65.15%       |      66.62%      |\n",
      "|  162  |    67.03%    |    0.5870     |      65.22%       |      66.66%      |\n",
      "|  163  |    67.28%    |    0.5736     |      65.17%       |      66.73%      |\n",
      "|  164  |    67.04%    |    0.5841     |      65.00%       |      66.00%      |\n",
      "|  165  |    67.01%    |    0.5921     |      65.27%       |      66.64%      |\n",
      "|  166  |    67.17%    |    0.5920     |      65.36%       |      67.53%      |\n",
      "|  167  |    67.20%    |    0.5862     |      65.01%       |      66.68%      |\n",
      "|  168  |    66.91%    |    0.5930     |      65.21%       |      66.72%      |\n",
      "|  169  |    67.16%    |    0.5890     |      65.32%       |      67.13%      |\n",
      "|  170  |    67.29%    |    0.5869     |      65.40%       |      67.27%      |\n",
      "|  171  |    67.36%    |    0.5854     |      65.18%       |      66.94%      |\n",
      "|  172  |    67.21%    |    0.5880     |      65.34%       |      67.00%      |\n",
      "|  173  |    67.23%    |    0.5886     |      65.33%       |      67.29%      |\n",
      "|  174  |    67.11%    |    0.5904     |      65.13%       |      66.96%      |\n",
      "|  175  |    67.22%    |    0.5953     |      65.06%       |      66.34%      |\n",
      "|  176  |    67.26%    |    0.5794     |      65.36%       |      67.02%      |\n",
      "|  177  |    67.14%    |    0.5603     |      65.36%       |      67.26%      |\n",
      "|  178  |    67.12%    |    0.5888     |      65.23%       |      66.35%      |\n",
      "|  179  |    67.15%    |    0.5900     |      65.00%       |      66.09%      |\n",
      "|  180  |    67.43%    |    0.5664     |      65.30%       |      66.89%      |\n",
      "|  181  |    67.24%    |    0.5834     |      65.51%       |      67.19%      |\n",
      "|  182  |    67.12%    |    0.5927     |      65.14%       |      66.78%      |\n",
      "|  183  |    67.39%    |    0.5715     |      65.06%       |      66.68%      |\n",
      "|  184  |    67.03%    |    0.5826     |      65.26%       |      66.99%      |\n",
      "|  185  |    67.28%    |    0.5844     |      65.15%       |      66.53%      |\n",
      "|  186  |    67.12%    |    0.5704     |      65.35%       |      67.06%      |\n",
      "|  187  |    67.44%    |    0.5867     |      65.46%       |      67.09%      |\n",
      "|  188  |    66.98%    |    0.5790     |      65.10%       |      65.77%      |\n",
      "|  189  |    67.30%    |    0.5996     |      65.30%       |      66.88%      |\n",
      "|  190  |    67.40%    |    0.5886     |      65.15%       |      67.00%      |\n",
      "|  191  |    67.07%    |    0.5786     |      65.02%       |      66.34%      |\n",
      "|  192  |    67.21%    |    0.5804     |      65.25%       |      66.80%      |\n",
      "|  193  |    67.21%    |    0.5856     |      64.93%       |      67.04%      |\n",
      "|  194  |    67.09%    |    0.5888     |      65.09%       |      66.19%      |\n",
      "|  195  |    67.21%    |    0.5863     |      65.28%       |      66.61%      |\n",
      "|  196  |    67.31%    |    0.5844     |      65.24%       |      66.59%      |\n",
      "|  197  |    67.37%    |    0.5774     |      65.02%       |      66.80%      |\n",
      "|  198  |    67.26%    |    0.5817     |      65.19%       |      66.80%      |\n",
      "|  199  |    67.37%    |    0.5803     |      65.40%       |      66.30%      |\n",
      "|  200  |    67.13%    |    0.5890     |      65.10%       |      66.17%      |\n"
     ]
    },
    {
     "data": {
      "application/vnd.jupyter.widget-view+json": {
       "model_id": "5122e09f305f4b63ba76abc287fcf8fb",
       "version_major": 2,
       "version_minor": 0
      },
      "text/plain": [
       "VBox(children=(Label(value='0.001 MB of 0.022 MB uploaded\\r'), FloatProgress(value=0.044753700022089685, max=1…"
      ]
     },
     "metadata": {},
     "output_type": "display_data"
    },
    {
     "data": {
      "text/html": [
       "<style>\n",
       "    table.wandb td:nth-child(1) { padding: 0 10px; text-align: left ; width: auto;} td:nth-child(2) {text-align: left ; width: 100%}\n",
       "    .wandb-row { display: flex; flex-direction: row; flex-wrap: wrap; justify-content: flex-start; width: 100% }\n",
       "    .wandb-col { display: flex; flex-direction: column; flex-basis: 100%; flex: 1; padding: 10px; }\n",
       "    </style>\n",
       "<div class=\"wandb-row\"><div class=\"wandb-col\"><h3>Run history:</h3><br/><table class=\"wandb\"><tr><td>epoch</td><td>▁▁▁▁▂▂▂▂▂▃▃▃▃▃▃▄▄▄▄▄▅▅▅▅▅▅▆▆▆▆▆▇▇▇▇▇▇███</td></tr><tr><td>test_accuracy</td><td>▁███▇████▇▇▇██▇▇█▇▇█▇▇▇▇▇▇▇██▇▇▇▇▇▇▇▇▇▇▇</td></tr><tr><td>test_last_bit_accuracy</td><td>▁█▇▇██▇▇██▇▇▇█▇▇▇▇▇▇▇▇▇▇▆▇▇▇█▇▇▇▆▇▇▆▇▅▆▆</td></tr><tr><td>test_last_bit_loss</td><td>█▆▆▅▅▅▄▄▄▄▄▃▃▃▃▃▂▃▂▂▂▂▂▂▂▂▂▁▁▁▁▁▁▁▁▁▁▂▁▁</td></tr><tr><td>train_accuracy</td><td>▁▇▇█████████████████████████████████████</td></tr><tr><td>train_loss</td><td>▇█▄▆▆▃▃▂▂▃▃▅▃▄▃▃▄▁▃▂▃▁▂▃▁▂▃▁▂▂▃▃▂▃▂▂▂▁▂▂</td></tr></table><br/></div><div class=\"wandb-col\"><h3>Run summary:</h3><br/><table class=\"wandb\"><tr><td>epoch</td><td>200</td></tr><tr><td>test_accuracy</td><td>0.65105</td></tr><tr><td>test_last_bit_accuracy</td><td>0.66173</td></tr><tr><td>test_last_bit_loss</td><td>0.53734</td></tr><tr><td>train_accuracy</td><td>0.67126</td></tr><tr><td>train_loss</td><td>0.58896</td></tr></table><br/></div></div>"
      ],
      "text/plain": [
       "<IPython.core.display.HTML object>"
      ]
     },
     "metadata": {},
     "output_type": "display_data"
    },
    {
     "data": {
      "text/html": [
       " View run <strong style=\"color:#cdcd00\">stilted-sweep-2</strong> at: <a href='https://wandb.ai/adamimos/epsilon-transformer/runs/c5aacqd6' target=\"_blank\">https://wandb.ai/adamimos/epsilon-transformer/runs/c5aacqd6</a><br/>Synced 5 W&B file(s), 0 media file(s), 0 artifact file(s) and 0 other file(s)"
      ],
      "text/plain": [
       "<IPython.core.display.HTML object>"
      ]
     },
     "metadata": {},
     "output_type": "display_data"
    },
    {
     "data": {
      "text/html": [
       "Find logs at: <code>./wandb/run-20240119_152554-c5aacqd6/logs</code>"
      ],
      "text/plain": [
       "<IPython.core.display.HTML object>"
      ]
     },
     "metadata": {},
     "output_type": "display_data"
    },
    {
     "name": "stderr",
     "output_type": "stream",
     "text": [
      "\u001b[34m\u001b[1mwandb\u001b[0m: Agent Starting Run: owsbiar8 with config:\n",
      "\u001b[34m\u001b[1mwandb\u001b[0m: \tlearning_rate: 0.0002782559402207126\n",
      "\u001b[34m\u001b[1mwandb\u001b[0m: \tweight_decay: 0\n",
      "Failed to detect the name of this notebook, you can set it manually with the WANDB_NOTEBOOK_NAME environment variable to enable code saving.\n"
     ]
    },
    {
     "data": {
      "text/html": [
       "wandb version 0.16.2 is available!  To upgrade, please run:\n",
       " $ pip install wandb --upgrade"
      ],
      "text/plain": [
       "<IPython.core.display.HTML object>"
      ]
     },
     "metadata": {},
     "output_type": "display_data"
    },
    {
     "data": {
      "text/html": [
       "Tracking run with wandb version 0.16.1"
      ],
      "text/plain": [
       "<IPython.core.display.HTML object>"
      ]
     },
     "metadata": {},
     "output_type": "display_data"
    },
    {
     "data": {
      "text/html": [
       "Run data is saved locally in <code>/Users/adamimos/Documents/GitHub/epsilon-transformers/wandb/run-20240119_154151-owsbiar8</code>"
      ],
      "text/plain": [
       "<IPython.core.display.HTML object>"
      ]
     },
     "metadata": {},
     "output_type": "display_data"
    },
    {
     "data": {
      "text/html": [
       "Syncing run <strong><a href='https://wandb.ai/adamimos/epsilon-transformer/runs/owsbiar8' target=\"_blank\">exalted-sweep-3</a></strong> to <a href='https://wandb.ai/adamimos/epsilon-transformer' target=\"_blank\">Weights & Biases</a> (<a href='https://wandb.me/run' target=\"_blank\">docs</a>)<br/>Sweep page: <a href='https://wandb.ai/adamimos/epsilon-transformer/sweeps/eaedbzxy' target=\"_blank\">https://wandb.ai/adamimos/epsilon-transformer/sweeps/eaedbzxy</a>"
      ],
      "text/plain": [
       "<IPython.core.display.HTML object>"
      ]
     },
     "metadata": {},
     "output_type": "display_data"
    },
    {
     "data": {
      "text/html": [
       " View project at <a href='https://wandb.ai/adamimos/epsilon-transformer' target=\"_blank\">https://wandb.ai/adamimos/epsilon-transformer</a>"
      ],
      "text/plain": [
       "<IPython.core.display.HTML object>"
      ]
     },
     "metadata": {},
     "output_type": "display_data"
    },
    {
     "data": {
      "text/html": [
       " View sweep at <a href='https://wandb.ai/adamimos/epsilon-transformer/sweeps/eaedbzxy' target=\"_blank\">https://wandb.ai/adamimos/epsilon-transformer/sweeps/eaedbzxy</a>"
      ],
      "text/plain": [
       "<IPython.core.display.HTML object>"
      ]
     },
     "metadata": {},
     "output_type": "display_data"
    },
    {
     "data": {
      "text/html": [
       " View run at <a href='https://wandb.ai/adamimos/epsilon-transformer/runs/owsbiar8' target=\"_blank\">https://wandb.ai/adamimos/epsilon-transformer/runs/owsbiar8</a>"
      ],
      "text/plain": [
       "<IPython.core.display.HTML object>"
      ]
     },
     "metadata": {},
     "output_type": "display_data"
    },
    {
     "name": "stdout",
     "output_type": "stream",
     "text": [
      "| Epoch | Training Acc. | Loss | Overall Acc. | Last Bit Acc. |\n",
      "|   1   |    55.20%    |    0.6493     |      61.57%       |      60.12%      |\n",
      "|   2   |    63.72%    |    0.6380     |      63.71%       |      66.21%      |\n",
      "|   3   |    66.19%    |    0.6327     |      64.37%       |      66.52%      |\n",
      "|   4   |    66.75%    |    0.6298     |      64.70%       |      66.79%      |\n",
      "|   5   |    66.69%    |    0.6067     |      65.05%       |      66.80%      |\n",
      "|   6   |    66.66%    |    0.6369     |      64.99%       |      66.70%      |\n",
      "|   7   |    66.61%    |    0.6448     |      64.96%       |      66.78%      |\n",
      "|   8   |    66.64%    |    0.6311     |      64.97%       |      66.84%      |\n",
      "|   9   |    66.79%    |    0.6143     |      64.88%       |      66.68%      |\n",
      "|  10   |    66.76%    |    0.6166     |      64.94%       |      66.47%      |\n",
      "|  11   |    66.80%    |    0.6049     |      64.89%       |      66.60%      |\n",
      "|  12   |    66.85%    |    0.6114     |      64.76%       |      66.30%      |\n",
      "|  13   |    66.83%    |    0.6018     |      64.83%       |      66.66%      |\n",
      "|  14   |    66.90%    |    0.6236     |      64.88%       |      66.46%      |\n",
      "|  15   |    66.93%    |    0.6289     |      64.78%       |      66.40%      |\n",
      "|  16   |    66.72%    |    0.6150     |      64.60%       |      65.77%      |\n",
      "|  17   |    66.94%    |    0.6023     |      64.82%       |      66.44%      |\n",
      "|  18   |    66.76%    |    0.5833     |      64.89%       |      66.37%      |\n",
      "|  19   |    66.73%    |    0.6095     |      64.77%       |      65.93%      |\n",
      "|  20   |    66.81%    |    0.5925     |      64.74%       |      66.60%      |\n",
      "|  21   |    67.00%    |    0.6106     |      64.72%       |      66.06%      |\n",
      "|  22   |    66.61%    |    0.5915     |      64.77%       |      65.96%      |\n",
      "|  23   |    66.96%    |    0.6247     |      64.84%       |      66.28%      |\n",
      "|  24   |    66.97%    |    0.5988     |      64.74%       |      66.53%      |\n",
      "|  25   |    66.92%    |    0.5917     |      64.86%       |      66.38%      |\n",
      "|  26   |    66.97%    |    0.5993     |      64.70%       |      66.50%      |\n",
      "|  27   |    66.87%    |    0.5935     |      64.85%       |      66.00%      |\n",
      "|  28   |    66.89%    |    0.5988     |      64.92%       |      66.59%      |\n",
      "|  29   |    66.96%    |    0.5996     |      64.90%       |      66.31%      |\n",
      "|  30   |    66.92%    |    0.5877     |      64.90%       |      66.64%      |\n",
      "|  31   |    66.98%    |    0.5943     |      64.84%       |      66.48%      |\n",
      "|  32   |    66.80%    |    0.6005     |      64.72%       |      66.13%      |\n",
      "|  33   |    66.89%    |    0.5808     |      64.79%       |      66.29%      |\n",
      "|  34   |    66.99%    |    0.6023     |      64.94%       |      66.34%      |\n",
      "|  35   |    66.84%    |    0.5803     |      64.85%       |      66.11%      |\n",
      "|  36   |    66.99%    |    0.5848     |      64.84%       |      66.51%      |\n",
      "|  37   |    67.00%    |    0.5849     |      64.82%       |      66.29%      |\n",
      "|  38   |    67.03%    |    0.5946     |      65.01%       |      66.47%      |\n",
      "|  39   |    66.88%    |    0.5992     |      64.92%       |      66.29%      |\n",
      "|  40   |    66.97%    |    0.5857     |      64.73%       |      66.25%      |\n",
      "|  41   |    66.77%    |    0.5946     |      65.02%       |      66.67%      |\n",
      "|  42   |    66.83%    |    0.6108     |      64.78%       |      66.18%      |\n",
      "|  43   |    66.91%    |    0.5887     |      64.89%       |      66.36%      |\n",
      "|  44   |    67.13%    |    0.5774     |      64.91%       |      66.14%      |\n",
      "|  45   |    67.13%    |    0.6043     |      65.00%       |      66.06%      |\n",
      "|  46   |    67.00%    |    0.5977     |      64.88%       |      66.12%      |\n",
      "|  47   |    66.90%    |    0.5808     |      64.74%       |      66.18%      |\n",
      "|  48   |    66.95%    |    0.5784     |      64.57%       |      66.26%      |\n",
      "|  49   |    67.00%    |    0.5943     |      64.79%       |      66.28%      |\n",
      "|  50   |    67.07%    |    0.5821     |      64.74%       |      66.20%      |\n",
      "|  51   |    66.93%    |    0.5963     |      64.88%       |      66.11%      |\n",
      "|  52   |    66.92%    |    0.5864     |      64.91%       |      66.18%      |\n",
      "|  53   |    66.92%    |    0.5929     |      64.69%       |      66.13%      |\n",
      "|  54   |    67.12%    |    0.5817     |      64.91%       |      66.38%      |\n",
      "|  55   |    66.89%    |    0.5941     |      64.84%       |      66.16%      |\n",
      "|  56   |    67.10%    |    0.5900     |      64.90%       |      66.58%      |\n",
      "|  57   |    66.94%    |    0.6036     |      64.90%       |      66.38%      |\n",
      "|  58   |    67.10%    |    0.6013     |      64.93%       |      66.37%      |\n",
      "|  59   |    66.87%    |    0.5981     |      64.87%       |      66.57%      |\n",
      "|  60   |    66.97%    |    0.5958     |      64.95%       |      66.20%      |\n",
      "|  61   |    66.95%    |    0.5841     |      64.83%       |      66.64%      |\n",
      "|  62   |    67.16%    |    0.5911     |      64.71%       |      66.66%      |\n",
      "|  63   |    67.11%    |    0.6006     |      64.34%       |      66.01%      |\n",
      "|  64   |    67.09%    |    0.5996     |      65.03%       |      66.26%      |\n",
      "|  65   |    66.78%    |    0.5628     |      64.90%       |      66.45%      |\n",
      "|  66   |    67.06%    |    0.5765     |      64.79%       |      66.68%      |\n",
      "|  67   |    66.70%    |    0.5839     |      64.84%       |      66.28%      |\n",
      "|  68   |    67.25%    |    0.5901     |      64.87%       |      66.59%      |\n",
      "|  69   |    67.38%    |    0.5918     |      64.74%       |      66.16%      |\n",
      "|  70   |    67.24%    |    0.5976     |      64.71%       |      66.18%      |\n",
      "|  71   |    67.15%    |    0.5960     |      64.47%       |      66.24%      |\n",
      "|  72   |    67.31%    |    0.5765     |      64.74%       |      66.30%      |\n",
      "|  73   |    67.05%    |    0.5968     |      64.75%       |      66.49%      |\n",
      "|  74   |    67.04%    |    0.5855     |      64.88%       |      66.57%      |\n",
      "|  75   |    66.92%    |    0.5860     |      64.88%       |      66.30%      |\n",
      "|  76   |    67.23%    |    0.5839     |      64.91%       |      66.56%      |\n",
      "|  77   |    67.18%    |    0.5702     |      64.89%       |      66.60%      |\n",
      "|  78   |    67.01%    |    0.5750     |      64.84%       |      66.40%      |\n",
      "|  79   |    67.16%    |    0.6038     |      65.17%       |      66.95%      |\n",
      "|  80   |    67.03%    |    0.5930     |      64.55%       |      67.16%      |\n",
      "|  81   |    67.35%    |    0.5873     |      64.68%       |      66.15%      |\n",
      "|  82   |    67.04%    |    0.5939     |      64.87%       |      66.85%      |\n",
      "|  83   |    67.07%    |    0.5944     |      64.80%       |      66.31%      |\n",
      "|  84   |    67.03%    |    0.5977     |      64.85%       |      66.49%      |\n",
      "|  85   |    67.08%    |    0.5880     |      64.92%       |      66.90%      |\n",
      "|  86   |    66.99%    |    0.5852     |      64.88%       |      66.62%      |\n",
      "|  87   |    67.18%    |    0.5761     |      64.82%       |      66.16%      |\n",
      "|  88   |    67.15%    |    0.5880     |      64.90%       |      66.29%      |\n",
      "|  89   |    67.16%    |    0.5818     |      64.84%       |      66.30%      |\n",
      "|  90   |    67.08%    |    0.5870     |      64.68%       |      66.14%      |\n",
      "|  91   |    67.14%    |    0.5996     |      64.74%       |      66.31%      |\n",
      "|  92   |    67.12%    |    0.5804     |      64.69%       |      66.59%      |\n",
      "|  93   |    67.04%    |    0.5908     |      65.00%       |      66.52%      |\n",
      "|  94   |    67.29%    |    0.5899     |      64.92%       |      66.03%      |\n",
      "|  95   |    67.15%    |    0.5752     |      64.88%       |      66.42%      |\n",
      "|  96   |    67.07%    |    0.5837     |      64.84%       |      66.83%      |\n",
      "|  97   |    66.97%    |    0.5850     |      64.53%       |      66.08%      |\n",
      "|  98   |    67.16%    |    0.5804     |      64.68%       |      66.01%      |\n",
      "|  99   |    67.14%    |    0.5941     |      64.77%       |      66.39%      |\n",
      "|  100  |    67.30%    |    0.5792     |      64.83%       |      66.22%      |\n",
      "|  101  |    67.29%    |    0.5924     |      64.77%       |      65.82%      |\n",
      "|  102  |    67.25%    |    0.5785     |      64.74%       |      66.06%      |\n",
      "|  103  |    67.43%    |    0.5963     |      64.64%       |      66.58%      |\n",
      "|  104  |    67.04%    |    0.5885     |      64.82%       |      66.40%      |\n",
      "|  105  |    66.93%    |    0.5869     |      64.92%       |      66.34%      |\n",
      "|  106  |    67.42%    |    0.5704     |      64.96%       |      66.23%      |\n",
      "|  107  |    67.03%    |    0.5932     |      64.80%       |      65.85%      |\n",
      "|  108  |    67.21%    |    0.5769     |      64.80%       |      66.39%      |\n",
      "|  109  |    67.19%    |    0.5950     |      64.64%       |      66.26%      |\n",
      "|  110  |    67.17%    |    0.5893     |      64.85%       |      66.41%      |\n",
      "|  111  |    67.25%    |    0.5783     |      64.90%       |      66.68%      |\n",
      "|  112  |    67.17%    |    0.5795     |      64.95%       |      66.67%      |\n",
      "|  113  |    67.05%    |    0.5835     |      64.87%       |      66.18%      |\n",
      "|  114  |    67.23%    |    0.5842     |      64.93%       |      66.50%      |\n",
      "|  115  |    67.24%    |    0.5751     |      64.71%       |      66.30%      |\n",
      "|  116  |    67.18%    |    0.5826     |      64.73%       |      66.34%      |\n",
      "|  117  |    67.19%    |    0.5693     |      64.90%       |      66.53%      |\n",
      "|  118  |    67.31%    |    0.6023     |      64.88%       |      66.50%      |\n",
      "|  119  |    67.48%    |    0.5950     |      64.86%       |      66.77%      |\n",
      "|  120  |    67.57%    |    0.5975     |      64.85%       |      66.64%      |\n",
      "|  121  |    67.18%    |    0.5740     |      64.61%       |      66.25%      |\n",
      "|  122  |    67.17%    |    0.5893     |      64.83%       |      66.00%      |\n",
      "|  123  |    67.23%    |    0.5886     |      64.75%       |      66.13%      |\n",
      "|  124  |    67.13%    |    0.5897     |      64.82%       |      66.17%      |\n",
      "|  125  |    67.24%    |    0.5800     |      65.01%       |      66.27%      |\n",
      "|  126  |    67.66%    |    0.5777     |      64.83%       |      66.68%      |\n",
      "|  127  |    67.17%    |    0.5880     |      64.77%       |      66.16%      |\n",
      "|  128  |    67.35%    |    0.5848     |      64.62%       |      65.95%      |\n",
      "|  129  |    67.09%    |    0.5832     |      64.99%       |      65.99%      |\n",
      "|  130  |    67.32%    |    0.5978     |      65.06%       |      66.81%      |\n",
      "|  131  |    67.13%    |    0.5935     |      64.80%       |      66.20%      |\n",
      "|  132  |    67.19%    |    0.5949     |      64.72%       |      66.17%      |\n",
      "|  133  |    67.06%    |    0.5669     |      64.80%       |      66.38%      |\n",
      "|  134  |    67.21%    |    0.5891     |      64.95%       |      66.29%      |\n",
      "|  135  |    67.21%    |    0.5855     |      64.82%       |      66.17%      |\n",
      "|  136  |    67.68%    |    0.5779     |      64.78%       |      66.26%      |\n",
      "|  137  |    67.31%    |    0.5788     |      64.61%       |      66.47%      |\n",
      "|  138  |    67.51%    |    0.5665     |      64.91%       |      65.96%      |\n",
      "|  139  |    67.25%    |    0.5895     |      64.67%       |      66.17%      |\n",
      "|  140  |    67.46%    |    0.5882     |      64.64%       |      66.15%      |\n",
      "|  141  |    67.31%    |    0.5872     |      64.75%       |      66.00%      |\n",
      "|  142  |    67.24%    |    0.5862     |      64.68%       |      66.00%      |\n",
      "|  143  |    67.44%    |    0.5790     |      65.07%       |      66.39%      |\n",
      "|  144  |    67.30%    |    0.5822     |      64.70%       |      66.30%      |\n",
      "|  145  |    67.47%    |    0.5962     |      64.85%       |      66.46%      |\n",
      "|  146  |    67.63%    |    0.5788     |      64.87%       |      66.21%      |\n",
      "|  147  |    67.32%    |    0.5991     |      64.53%       |      66.15%      |\n",
      "|  148  |    67.26%    |    0.5953     |      64.84%       |      66.43%      |\n",
      "|  149  |    67.18%    |    0.5862     |      64.95%       |      66.36%      |\n",
      "|  150  |    67.43%    |    0.5926     |      64.67%       |      66.07%      |\n",
      "|  151  |    67.25%    |    0.5752     |      64.77%       |      66.10%      |\n",
      "|  152  |    67.33%    |    0.5866     |      64.87%       |      66.38%      |\n",
      "|  153  |    67.35%    |    0.5803     |      65.00%       |      66.23%      |\n",
      "|  154  |    67.27%    |    0.5822     |      64.79%       |      66.14%      |\n",
      "|  155  |    67.42%    |    0.5815     |      64.89%       |      66.76%      |\n",
      "|  156  |    67.38%    |    0.5859     |      64.77%       |      66.60%      |\n",
      "|  157  |    67.41%    |    0.5921     |      64.99%       |      66.57%      |\n",
      "|  158  |    67.58%    |    0.5895     |      64.92%       |      66.55%      |\n",
      "|  159  |    67.32%    |    0.5697     |      64.69%       |      66.47%      |\n",
      "|  160  |    67.56%    |    0.5943     |      64.96%       |      66.55%      |\n",
      "|  161  |    67.51%    |    0.6010     |      64.83%       |      66.49%      |\n",
      "|  162  |    67.42%    |    0.5832     |      64.63%       |      66.25%      |\n",
      "|  163  |    67.48%    |    0.5951     |      64.87%       |      66.25%      |\n",
      "|  164  |    67.31%    |    0.5718     |      64.66%       |      66.00%      |\n",
      "|  165  |    67.71%    |    0.5845     |      64.77%       |      66.13%      |\n",
      "|  166  |    67.36%    |    0.5783     |      64.86%       |      66.30%      |\n",
      "|  167  |    67.33%    |    0.5788     |      64.86%       |      66.48%      |\n",
      "|  168  |    67.52%    |    0.5834     |      64.77%       |      66.16%      |\n",
      "|  169  |    67.42%    |    0.5968     |      64.92%       |      66.94%      |\n",
      "|  170  |    67.59%    |    0.5885     |      64.82%       |      66.26%      |\n",
      "|  171  |    67.56%    |    0.5757     |      64.73%       |      66.16%      |\n",
      "|  172  |    67.66%    |    0.5821     |      65.12%       |      66.96%      |\n",
      "|  173  |    67.39%    |    0.5838     |      64.90%       |      66.41%      |\n",
      "|  174  |    67.71%    |    0.5763     |      64.70%       |      66.63%      |\n",
      "|  175  |    67.55%    |    0.5976     |      64.91%       |      66.55%      |\n",
      "|  176  |    67.42%    |    0.5876     |      64.74%       |      66.38%      |\n",
      "|  177  |    67.56%    |    0.5789     |      65.03%       |      66.28%      |\n",
      "|  178  |    67.74%    |    0.5942     |      64.76%       |      65.89%      |\n",
      "|  179  |    67.48%    |    0.5947     |      64.81%       |      66.72%      |\n",
      "|  180  |    67.62%    |    0.5842     |      65.12%       |      66.59%      |\n",
      "|  181  |    67.36%    |    0.5752     |      64.75%       |      66.75%      |\n",
      "|  182  |    67.37%    |    0.5873     |      64.81%       |      66.01%      |\n",
      "|  183  |    67.34%    |    0.5757     |      64.83%       |      66.04%      |\n",
      "|  184  |    67.51%    |    0.5852     |      65.00%       |      66.65%      |\n",
      "|  185  |    67.56%    |    0.5793     |      64.87%       |      66.52%      |\n",
      "|  186  |    67.38%    |    0.5827     |      64.77%       |      66.82%      |\n",
      "|  187  |    67.38%    |    0.5905     |      64.92%       |      66.65%      |\n",
      "|  188  |    67.73%    |    0.5692     |      65.03%       |      66.49%      |\n",
      "|  189  |    67.54%    |    0.5899     |      64.64%       |      65.96%      |\n",
      "|  190  |    67.33%    |    0.5759     |      64.99%       |      66.56%      |\n",
      "|  191  |    67.36%    |    0.5792     |      64.86%       |      66.72%      |\n",
      "|  192  |    67.59%    |    0.5736     |      64.73%       |      66.30%      |\n",
      "|  193  |    67.64%    |    0.5759     |      65.02%       |      66.78%      |\n",
      "|  194  |    67.77%    |    0.5850     |      64.85%       |      66.89%      |\n",
      "|  195  |    67.47%    |    0.5996     |      64.81%       |      65.71%      |\n",
      "|  196  |    67.39%    |    0.5866     |      64.91%       |      66.69%      |\n",
      "|  197  |    67.32%    |    0.5706     |      64.77%       |      66.42%      |\n",
      "|  198  |    67.47%    |    0.5797     |      64.91%       |      66.36%      |\n",
      "|  199  |    67.41%    |    0.5737     |      64.85%       |      66.48%      |\n",
      "|  200  |    67.54%    |    0.5822     |      64.65%       |      66.01%      |\n"
     ]
    },
    {
     "data": {
      "application/vnd.jupyter.widget-view+json": {
       "model_id": "2f0a9d591ea14d8b8910817d91e2d9e5",
       "version_major": 2,
       "version_minor": 0
      },
      "text/plain": [
       "VBox(children=(Label(value='0.001 MB of 0.022 MB uploaded\\r'), FloatProgress(value=0.044797879390324716, max=1…"
      ]
     },
     "metadata": {},
     "output_type": "display_data"
    },
    {
     "data": {
      "text/html": [
       "<style>\n",
       "    table.wandb td:nth-child(1) { padding: 0 10px; text-align: left ; width: auto;} td:nth-child(2) {text-align: left ; width: 100%}\n",
       "    .wandb-row { display: flex; flex-direction: row; flex-wrap: wrap; justify-content: flex-start; width: 100% }\n",
       "    .wandb-col { display: flex; flex-direction: column; flex-basis: 100%; flex: 1; padding: 10px; }\n",
       "    </style>\n",
       "<div class=\"wandb-row\"><div class=\"wandb-col\"><h3>Run history:</h3><br/><table class=\"wandb\"><tr><td>epoch</td><td>▁▁▁▁▂▂▂▂▂▃▃▃▃▃▃▄▄▄▄▄▅▅▅▅▅▅▆▆▆▆▆▇▇▇▇▇▇███</td></tr><tr><td>test_accuracy</td><td>▁█▇▆▇▆▆▇▇▇▇▇▆▇▆▇▇▇▆▆▆▇█▇▇▆█▇▆▇▇▇▆▇▆▇██▇▆</td></tr><tr><td>test_last_bit_accuracy</td><td>▄▇▄▁▂▆▃▆▄▃▄▆▇▆▄▅█▄▆▃▃▅▇▆▂▂▄▂▄▅▃▆▂▃▆▂▆▅█▃</td></tr><tr><td>test_last_bit_loss</td><td>█▇▆▆▅▅▄▄▄▃▃▃▃▃▂▂▃▂▂▂▂▂▂▂▂▂▂▁▁▁▁▁▂▁▁▁▁▁▁▁</td></tr><tr><td>train_accuracy</td><td>▁▆▆▆▆▇▆▇▆▇▇▇▇▇▇▇▇▇▇▇▇▇▇▇▇▇▇█▇▇▇█▇███████</td></tr><tr><td>train_loss</td><td>██▅▆▃▄▄▃▅▄▃▃▃▃▂▂▄▃▂▂▂▂▂▅▃▃▃▁▃▄▃▃▂▃▂▄▃▁▃▃</td></tr></table><br/></div><div class=\"wandb-col\"><h3>Run summary:</h3><br/><table class=\"wandb\"><tr><td>epoch</td><td>200</td></tr><tr><td>test_accuracy</td><td>0.64653</td></tr><tr><td>test_last_bit_accuracy</td><td>0.66011</td></tr><tr><td>test_last_bit_loss</td><td>0.52409</td></tr><tr><td>train_accuracy</td><td>0.67542</td></tr><tr><td>train_loss</td><td>0.58221</td></tr></table><br/></div></div>"
      ],
      "text/plain": [
       "<IPython.core.display.HTML object>"
      ]
     },
     "metadata": {},
     "output_type": "display_data"
    },
    {
     "data": {
      "text/html": [
       " View run <strong style=\"color:#cdcd00\">exalted-sweep-3</strong> at: <a href='https://wandb.ai/adamimos/epsilon-transformer/runs/owsbiar8' target=\"_blank\">https://wandb.ai/adamimos/epsilon-transformer/runs/owsbiar8</a><br/>Synced 5 W&B file(s), 0 media file(s), 0 artifact file(s) and 0 other file(s)"
      ],
      "text/plain": [
       "<IPython.core.display.HTML object>"
      ]
     },
     "metadata": {},
     "output_type": "display_data"
    },
    {
     "data": {
      "text/html": [
       "Find logs at: <code>./wandb/run-20240119_154151-owsbiar8/logs</code>"
      ],
      "text/plain": [
       "<IPython.core.display.HTML object>"
      ]
     },
     "metadata": {},
     "output_type": "display_data"
    },
    {
     "name": "stderr",
     "output_type": "stream",
     "text": [
      "\u001b[34m\u001b[1mwandb\u001b[0m: Agent Starting Run: 1qusijnn with config:\n",
      "\u001b[34m\u001b[1mwandb\u001b[0m: \tlearning_rate: 0.0004641588833612778\n",
      "\u001b[34m\u001b[1mwandb\u001b[0m: \tweight_decay: 0\n",
      "Failed to detect the name of this notebook, you can set it manually with the WANDB_NOTEBOOK_NAME environment variable to enable code saving.\n"
     ]
    },
    {
     "data": {
      "text/html": [
       "wandb version 0.16.2 is available!  To upgrade, please run:\n",
       " $ pip install wandb --upgrade"
      ],
      "text/plain": [
       "<IPython.core.display.HTML object>"
      ]
     },
     "metadata": {},
     "output_type": "display_data"
    },
    {
     "data": {
      "text/html": [
       "Tracking run with wandb version 0.16.1"
      ],
      "text/plain": [
       "<IPython.core.display.HTML object>"
      ]
     },
     "metadata": {},
     "output_type": "display_data"
    },
    {
     "data": {
      "text/html": [
       "Run data is saved locally in <code>/Users/adamimos/Documents/GitHub/epsilon-transformers/wandb/run-20240119_155711-1qusijnn</code>"
      ],
      "text/plain": [
       "<IPython.core.display.HTML object>"
      ]
     },
     "metadata": {},
     "output_type": "display_data"
    },
    {
     "data": {
      "text/html": [
       "Syncing run <strong><a href='https://wandb.ai/adamimos/epsilon-transformer/runs/1qusijnn' target=\"_blank\">curious-sweep-4</a></strong> to <a href='https://wandb.ai/adamimos/epsilon-transformer' target=\"_blank\">Weights & Biases</a> (<a href='https://wandb.me/run' target=\"_blank\">docs</a>)<br/>Sweep page: <a href='https://wandb.ai/adamimos/epsilon-transformer/sweeps/eaedbzxy' target=\"_blank\">https://wandb.ai/adamimos/epsilon-transformer/sweeps/eaedbzxy</a>"
      ],
      "text/plain": [
       "<IPython.core.display.HTML object>"
      ]
     },
     "metadata": {},
     "output_type": "display_data"
    },
    {
     "data": {
      "text/html": [
       " View project at <a href='https://wandb.ai/adamimos/epsilon-transformer' target=\"_blank\">https://wandb.ai/adamimos/epsilon-transformer</a>"
      ],
      "text/plain": [
       "<IPython.core.display.HTML object>"
      ]
     },
     "metadata": {},
     "output_type": "display_data"
    },
    {
     "data": {
      "text/html": [
       " View sweep at <a href='https://wandb.ai/adamimos/epsilon-transformer/sweeps/eaedbzxy' target=\"_blank\">https://wandb.ai/adamimos/epsilon-transformer/sweeps/eaedbzxy</a>"
      ],
      "text/plain": [
       "<IPython.core.display.HTML object>"
      ]
     },
     "metadata": {},
     "output_type": "display_data"
    },
    {
     "data": {
      "text/html": [
       " View run at <a href='https://wandb.ai/adamimos/epsilon-transformer/runs/1qusijnn' target=\"_blank\">https://wandb.ai/adamimos/epsilon-transformer/runs/1qusijnn</a>"
      ],
      "text/plain": [
       "<IPython.core.display.HTML object>"
      ]
     },
     "metadata": {},
     "output_type": "display_data"
    },
    {
     "name": "stdout",
     "output_type": "stream",
     "text": [
      "| Epoch | Training Acc. | Loss | Overall Acc. | Last Bit Acc. |\n",
      "|   1   |    57.61%    |    0.6396     |      63.28%       |      64.32%      |\n",
      "|   2   |    65.71%    |    0.6418     |      64.64%       |      66.87%      |\n",
      "|   3   |    66.56%    |    0.6308     |      65.01%       |      66.34%      |\n",
      "|   4   |    66.39%    |    0.6121     |      65.05%       |      66.33%      |\n",
      "|   5   |    66.52%    |    0.6217     |      64.85%       |      66.41%      |\n",
      "|   6   |    66.69%    |    0.6278     |      65.03%       |      66.65%      |\n",
      "|   7   |    66.83%    |    0.6124     |      65.19%       |      67.31%      |\n",
      "|   8   |    66.86%    |    0.5855     |      65.16%       |      66.57%      |\n",
      "|   9   |    66.71%    |    0.6207     |      65.01%       |      66.28%      |\n",
      "|  10   |    66.76%    |    0.6176     |      65.18%       |      66.69%      |\n",
      "|  11   |    66.89%    |    0.6463     |      65.10%       |      66.78%      |\n",
      "|  12   |    66.89%    |    0.5877     |      64.78%       |      66.48%      |\n",
      "|  13   |    66.85%    |    0.6040     |      65.23%       |      66.43%      |\n",
      "|  14   |    66.80%    |    0.5960     |      64.98%       |      65.97%      |\n",
      "|  15   |    66.92%    |    0.5951     |      65.10%       |      66.75%      |\n",
      "|  16   |    66.83%    |    0.5938     |      65.27%       |      66.44%      |\n",
      "|  17   |    67.01%    |    0.5823     |      65.11%       |      66.50%      |\n",
      "|  18   |    66.95%    |    0.6013     |      65.07%       |      66.62%      |\n",
      "|  19   |    66.88%    |    0.6238     |      64.92%       |      66.33%      |\n",
      "|  20   |    67.09%    |    0.6114     |      65.21%       |      66.17%      |\n",
      "|  21   |    67.10%    |    0.6000     |      65.08%       |      66.83%      |\n",
      "|  22   |    66.97%    |    0.6082     |      64.99%       |      66.59%      |\n",
      "|  23   |    67.19%    |    0.5996     |      64.95%       |      66.46%      |\n",
      "|  24   |    67.29%    |    0.5924     |      64.81%       |      66.05%      |\n",
      "|  25   |    67.23%    |    0.6002     |      65.18%       |      66.57%      |\n",
      "|  26   |    67.22%    |    0.6072     |      65.18%       |      66.23%      |\n",
      "|  27   |    67.33%    |    0.6010     |      65.09%       |      66.57%      |\n",
      "|  28   |    67.40%    |    0.5825     |      64.83%       |      66.39%      |\n",
      "|  29   |    67.40%    |    0.5840     |      65.14%       |      66.73%      |\n",
      "|  30   |    67.16%    |    0.5854     |      65.05%       |      66.28%      |\n",
      "|  31   |    67.00%    |    0.5935     |      64.97%       |      66.05%      |\n",
      "|  32   |    67.21%    |    0.6021     |      65.05%       |      66.66%      |\n",
      "|  33   |    67.28%    |    0.5944     |      65.28%       |      66.16%      |\n",
      "|  34   |    67.22%    |    0.5946     |      65.29%       |      66.55%      |\n",
      "|  35   |    67.24%    |    0.5975     |      65.09%       |      66.33%      |\n",
      "|  36   |    67.40%    |    0.5992     |      65.14%       |      66.82%      |\n",
      "|  37   |    67.33%    |    0.5862     |      65.03%       |      66.87%      |\n",
      "|  38   |    67.20%    |    0.5918     |      65.17%       |      66.60%      |\n",
      "|  39   |    67.34%    |    0.5865     |      64.90%       |      66.89%      |\n",
      "|  40   |    67.31%    |    0.6073     |      65.07%       |      66.89%      |\n",
      "|  41   |    67.25%    |    0.5891     |      65.12%       |      66.77%      |\n",
      "|  42   |    67.34%    |    0.6177     |      65.12%       |      66.61%      |\n",
      "|  43   |    67.38%    |    0.5664     |      65.08%       |      66.02%      |\n",
      "|  44   |    67.15%    |    0.5898     |      65.01%       |      66.66%      |\n",
      "|  45   |    67.38%    |    0.5785     |      64.94%       |      66.43%      |\n",
      "|  46   |    67.35%    |    0.5962     |      65.10%       |      66.21%      |\n",
      "|  47   |    67.21%    |    0.5951     |      64.98%       |      66.52%      |\n",
      "|  48   |    67.39%    |    0.5984     |      65.17%       |      66.43%      |\n",
      "|  49   |    67.50%    |    0.5791     |      65.06%       |      66.43%      |\n",
      "|  50   |    67.26%    |    0.5742     |      65.11%       |      66.40%      |\n",
      "|  51   |    67.36%    |    0.5791     |      64.94%       |      66.76%      |\n",
      "|  52   |    67.23%    |    0.5771     |      65.22%       |      66.82%      |\n",
      "|  53   |    67.41%    |    0.5930     |      65.14%       |      65.98%      |\n",
      "|  54   |    67.35%    |    0.5824     |      65.04%       |      67.08%      |\n",
      "|  55   |    67.13%    |    0.5817     |      65.00%       |      66.59%      |\n",
      "|  56   |    67.08%    |    0.5813     |      64.94%       |      67.07%      |\n",
      "|  57   |    67.40%    |    0.6023     |      65.15%       |      67.06%      |\n",
      "|  58   |    67.46%    |    0.5750     |      65.27%       |      66.60%      |\n",
      "|  59   |    67.25%    |    0.5845     |      65.06%       |      67.29%      |\n",
      "|  60   |    67.29%    |    0.5937     |      65.13%       |      66.89%      |\n",
      "|  61   |    67.35%    |    0.6065     |      64.97%       |      65.97%      |\n",
      "|  62   |    67.23%    |    0.5845     |      64.97%       |      66.46%      |\n",
      "|  63   |    67.18%    |    0.5779     |      65.22%       |      66.70%      |\n",
      "|  64   |    67.35%    |    0.5869     |      65.04%       |      66.47%      |\n",
      "|  65   |    67.37%    |    0.5918     |      65.08%       |      66.62%      |\n",
      "|  66   |    67.25%    |    0.5914     |      65.05%       |      66.59%      |\n",
      "|  67   |    67.08%    |    0.5953     |      65.12%       |      66.84%      |\n",
      "|  68   |    67.05%    |    0.5740     |      65.15%       |      66.71%      |\n",
      "|  69   |    67.52%    |    0.5850     |      65.19%       |      66.83%      |\n",
      "|  70   |    67.16%    |    0.6014     |      65.20%       |      67.22%      |\n",
      "|  71   |    67.62%    |    0.5844     |      65.07%       |      66.76%      |\n",
      "|  72   |    67.41%    |    0.5922     |      65.00%       |      65.96%      |\n",
      "|  73   |    67.33%    |    0.5830     |      65.16%       |      66.19%      |\n",
      "|  74   |    67.28%    |    0.5943     |      65.08%       |      66.53%      |\n",
      "|  75   |    67.53%    |    0.5675     |      65.09%       |      66.21%      |\n",
      "|  76   |    67.38%    |    0.5944     |      65.02%       |      67.43%      |\n",
      "|  77   |    67.39%    |    0.5847     |      65.05%       |      66.49%      |\n",
      "|  78   |    67.40%    |    0.5893     |      64.98%       |      66.68%      |\n",
      "|  79   |    67.39%    |    0.6048     |      65.21%       |      66.91%      |\n",
      "|  80   |    67.59%    |    0.5716     |      65.01%       |      66.62%      |\n",
      "|  81   |    67.39%    |    0.5627     |      65.07%       |      66.45%      |\n",
      "|  82   |    67.41%    |    0.5786     |      65.09%       |      66.66%      |\n",
      "|  83   |    67.34%    |    0.5846     |      65.18%       |      66.65%      |\n",
      "|  84   |    67.19%    |    0.5827     |      65.10%       |      66.30%      |\n",
      "|  85   |    67.22%    |    0.5719     |      65.02%       |      65.53%      |\n",
      "|  86   |    67.53%    |    0.6006     |      65.26%       |      66.78%      |\n",
      "|  87   |    67.38%    |    0.6032     |      65.18%       |      66.70%      |\n",
      "|  88   |    67.46%    |    0.5870     |      65.12%       |      66.60%      |\n",
      "|  89   |    67.59%    |    0.5875     |      65.17%       |      66.70%      |\n",
      "|  90   |    67.33%    |    0.6015     |      65.39%       |      67.23%      |\n",
      "|  91   |    67.52%    |    0.5969     |      64.98%       |      66.23%      |\n",
      "|  92   |    67.13%    |    0.5916     |      65.03%       |      66.63%      |\n",
      "|  93   |    67.40%    |    0.5780     |      65.09%       |      66.50%      |\n",
      "|  94   |    67.16%    |    0.5815     |      64.97%       |      66.08%      |\n",
      "|  95   |    67.22%    |    0.5880     |      64.87%       |      66.23%      |\n",
      "|  96   |    67.65%    |    0.5941     |      64.96%       |      65.91%      |\n",
      "|  97   |    67.21%    |    0.5843     |      65.00%       |      66.70%      |\n",
      "|  98   |    67.44%    |    0.5741     |      64.91%       |      65.99%      |\n",
      "|  99   |    67.64%    |    0.5878     |      65.14%       |      66.39%      |\n",
      "|  100  |    67.33%    |    0.5881     |      65.13%       |      66.24%      |\n",
      "|  101  |    67.43%    |    0.5752     |      65.31%       |      66.89%      |\n",
      "|  102  |    67.61%    |    0.5690     |      65.17%       |      66.71%      |\n",
      "|  103  |    67.42%    |    0.5906     |      65.01%       |      66.16%      |\n",
      "|  104  |    67.73%    |    0.5850     |      65.11%       |      66.69%      |\n",
      "|  105  |    67.64%    |    0.5849     |      65.15%       |      66.92%      |\n",
      "|  106  |    67.44%    |    0.5962     |      65.20%       |      66.54%      |\n",
      "|  107  |    67.60%    |    0.6005     |      64.99%       |      65.47%      |\n",
      "|  108  |    67.58%    |    0.5884     |      65.03%       |      66.76%      |\n",
      "|  109  |    67.58%    |    0.5684     |      65.20%       |      66.75%      |\n",
      "|  110  |    67.50%    |    0.5884     |      65.16%       |      66.64%      |\n",
      "|  111  |    67.58%    |    0.5741     |      65.10%       |      66.28%      |\n",
      "|  112  |    67.54%    |    0.5826     |      65.14%       |      66.59%      |\n",
      "|  113  |    67.57%    |    0.5796     |      65.04%       |      66.23%      |\n",
      "|  114  |    67.38%    |    0.5770     |      65.19%       |      67.22%      |\n",
      "|  115  |    67.64%    |    0.5983     |      65.02%       |      66.25%      |\n",
      "|  116  |    67.37%    |    0.5824     |      65.12%       |      66.16%      |\n",
      "|  117  |    67.39%    |    0.5705     |      65.13%       |      66.77%      |\n",
      "|  118  |    67.48%    |    0.5914     |      65.09%       |      66.93%      |\n",
      "|  119  |    67.43%    |    0.5632     |      65.07%       |      66.64%      |\n",
      "|  120  |    67.35%    |    0.6033     |      64.85%       |      66.26%      |\n",
      "|  121  |    67.44%    |    0.5730     |      65.06%       |      66.50%      |\n",
      "|  122  |    67.48%    |    0.5872     |      64.92%       |      66.89%      |\n",
      "|  123  |    67.57%    |    0.5983     |      64.96%       |      66.52%      |\n",
      "|  124  |    67.50%    |    0.5973     |      64.98%       |      66.19%      |\n",
      "|  125  |    67.40%    |    0.5862     |      65.22%       |      67.28%      |\n",
      "|  126  |    67.56%    |    0.5779     |      65.03%       |      65.87%      |\n",
      "|  127  |    67.15%    |    0.5777     |      65.38%       |      67.24%      |\n",
      "|  128  |    67.08%    |    0.6007     |      64.82%       |      66.67%      |\n",
      "|  129  |    67.64%    |    0.5908     |      65.01%       |      66.08%      |\n",
      "|  130  |    67.71%    |    0.5851     |      64.98%       |      66.30%      |\n",
      "|  131  |    67.69%    |    0.5826     |      65.06%       |      66.70%      |\n",
      "|  132  |    67.42%    |    0.5783     |      65.19%       |      67.09%      |\n",
      "|  133  |    67.30%    |    0.5872     |      65.13%       |      67.10%      |\n",
      "|  134  |    67.39%    |    0.5796     |      65.19%       |      66.88%      |\n",
      "|  135  |    67.65%    |    0.5820     |      65.06%       |      66.97%      |\n",
      "|  136  |    67.20%    |    0.5863     |      65.08%       |      66.62%      |\n",
      "|  137  |    67.50%    |    0.5854     |      65.19%       |      66.77%      |\n",
      "|  138  |    67.56%    |    0.5871     |      65.05%       |      66.75%      |\n",
      "|  139  |    67.45%    |    0.5911     |      64.92%       |      66.77%      |\n",
      "|  140  |    67.10%    |    0.5731     |      65.25%       |      67.11%      |\n",
      "|  141  |    67.61%    |    0.5710     |      65.09%       |      66.87%      |\n",
      "|  142  |    67.12%    |    0.5818     |      65.20%       |      66.61%      |\n",
      "|  143  |    67.36%    |    0.5893     |      65.08%       |      66.92%      |\n",
      "|  144  |    67.50%    |    0.5886     |      64.99%       |      66.62%      |\n",
      "|  145  |    67.55%    |    0.5874     |      65.08%       |      67.23%      |\n",
      "|  146  |    67.52%    |    0.5857     |      65.02%       |      66.60%      |\n",
      "|  147  |    67.42%    |    0.5745     |      65.16%       |      66.83%      |\n",
      "|  148  |    67.60%    |    0.5805     |      65.23%       |      67.26%      |\n",
      "|  149  |    67.43%    |    0.5804     |      65.05%       |      66.55%      |\n",
      "|  150  |    67.42%    |    0.5801     |      64.92%       |      65.04%      |\n",
      "|  151  |    67.80%    |    0.5745     |      65.18%       |      67.09%      |\n",
      "|  152  |    67.30%    |    0.5781     |      65.01%       |      66.41%      |\n",
      "|  153  |    67.40%    |    0.5903     |      65.27%       |      67.46%      |\n",
      "|  154  |    67.36%    |    0.5762     |      65.09%       |      66.90%      |\n",
      "|  155  |    67.33%    |    0.5682     |      65.29%       |      67.31%      |\n",
      "|  156  |    67.41%    |    0.5794     |      65.16%       |      66.71%      |\n",
      "|  157  |    67.46%    |    0.5893     |      64.96%       |      66.52%      |\n",
      "|  158  |    67.12%    |    0.5967     |      65.19%       |      67.18%      |\n",
      "|  159  |    67.29%    |    0.5729     |      65.06%       |      66.40%      |\n",
      "|  160  |    67.63%    |    0.5704     |      65.03%       |      66.53%      |\n",
      "|  161  |    67.42%    |    0.5828     |      64.89%       |      66.31%      |\n",
      "|  162  |    67.40%    |    0.5861     |      65.15%       |      67.04%      |\n",
      "|  163  |    67.26%    |    0.5872     |      65.09%       |      66.74%      |\n",
      "|  164  |    67.50%    |    0.5775     |      65.28%       |      67.19%      |\n",
      "|  165  |    67.63%    |    0.5824     |      65.02%       |      66.91%      |\n",
      "|  166  |    67.31%    |    0.5745     |      65.11%       |      66.48%      |\n",
      "|  167  |    67.40%    |    0.5786     |      64.91%       |      66.39%      |\n",
      "|  168  |    67.39%    |    0.5802     |      64.96%       |      66.42%      |\n",
      "|  169  |    67.50%    |    0.5743     |      65.19%       |      66.99%      |\n",
      "|  170  |    67.44%    |    0.5991     |      65.07%       |      66.59%      |\n",
      "|  171  |    67.43%    |    0.5883     |      65.14%       |      66.59%      |\n",
      "|  172  |    67.61%    |    0.5782     |      65.26%       |      67.15%      |\n",
      "|  173  |    67.32%    |    0.5955     |      65.04%       |      66.30%      |\n",
      "|  174  |    67.46%    |    0.5910     |      65.14%       |      66.59%      |\n",
      "|  175  |    67.42%    |    0.5970     |      65.04%       |      66.60%      |\n",
      "|  176  |    67.29%    |    0.5725     |      65.15%       |      66.60%      |\n",
      "|  177  |    67.50%    |    0.5802     |      65.09%       |      66.07%      |\n",
      "|  178  |    67.51%    |    0.5931     |      65.07%       |      66.04%      |\n",
      "|  179  |    67.34%    |    0.5849     |      65.04%       |      66.11%      |\n",
      "|  180  |    67.68%    |    0.5815     |      65.15%       |      67.17%      |\n",
      "|  181  |    67.43%    |    0.5891     |      65.18%       |      66.54%      |\n",
      "|  182  |    67.52%    |    0.5814     |      65.20%       |      66.96%      |\n",
      "|  183  |    67.46%    |    0.5772     |      65.12%       |      66.38%      |\n",
      "|  184  |    67.71%    |    0.5897     |      65.04%       |      66.44%      |\n",
      "|  185  |    67.47%    |    0.5797     |      65.15%       |      67.02%      |\n",
      "|  186  |    67.27%    |    0.5950     |      65.00%       |      66.27%      |\n",
      "|  187  |    67.42%    |    0.5749     |      65.17%       |      67.11%      |\n",
      "|  188  |    67.49%    |    0.5729     |      64.97%       |      66.62%      |\n",
      "|  189  |    67.55%    |    0.5879     |      65.17%       |      66.38%      |\n",
      "|  190  |    67.41%    |    0.6025     |      65.07%       |      66.48%      |\n",
      "|  191  |    67.47%    |    0.5931     |      65.01%       |      66.96%      |\n",
      "|  192  |    67.20%    |    0.5808     |      65.11%       |      66.74%      |\n",
      "|  193  |    67.57%    |    0.5885     |      65.16%       |      66.70%      |\n",
      "|  194  |    67.52%    |    0.5749     |      65.06%       |      66.48%      |\n",
      "|  195  |    67.63%    |    0.5806     |      65.20%       |      66.37%      |\n",
      "|  196  |    67.49%    |    0.5839     |      65.17%       |      66.41%      |\n",
      "|  197  |    67.58%    |    0.5800     |      65.02%       |      66.85%      |\n",
      "|  198  |    67.41%    |    0.5749     |      65.01%       |      66.35%      |\n",
      "|  199  |    67.50%    |    0.5679     |      65.01%       |      66.34%      |\n",
      "|  200  |    67.46%    |    0.5827     |      65.04%       |      66.30%      |\n"
     ]
    },
    {
     "data": {
      "application/vnd.jupyter.widget-view+json": {
       "model_id": "4936c80c91a54f12b98585e8ca20be71",
       "version_major": 2,
       "version_minor": 0
      },
      "text/plain": [
       "VBox(children=(Label(value='0.001 MB of 0.001 MB uploaded\\r'), FloatProgress(value=1.0, max=1.0)))"
      ]
     },
     "metadata": {},
     "output_type": "display_data"
    },
    {
     "data": {
      "text/html": [
       "<style>\n",
       "    table.wandb td:nth-child(1) { padding: 0 10px; text-align: left ; width: auto;} td:nth-child(2) {text-align: left ; width: 100%}\n",
       "    .wandb-row { display: flex; flex-direction: row; flex-wrap: wrap; justify-content: flex-start; width: 100% }\n",
       "    .wandb-col { display: flex; flex-direction: column; flex-basis: 100%; flex: 1; padding: 10px; }\n",
       "    </style>\n",
       "<div class=\"wandb-row\"><div class=\"wandb-col\"><h3>Run history:</h3><br/><table class=\"wandb\"><tr><td>epoch</td><td>▁▁▁▁▂▂▂▂▂▃▃▃▃▃▃▄▄▄▄▄▅▅▅▅▅▅▆▆▆▆▆▇▇▇▇▇▇███</td></tr><tr><td>test_accuracy</td><td>▁▅▃█▅▇▆▇▆▆▇▄▅▇▅▅▆▆▅▄▇▅▆▆▄▃▇▅▅▇▆▇█▅▇▆▅▅▆▅</td></tr><tr><td>test_last_bit_accuracy</td><td>▆▅▄▄▄▂▅▆▄▂▆▇▄▅▁▅▅▄▅▁▅▅▄▆▆▅▆▅▅█▆██▃▄▁▄▅▄▃</td></tr><tr><td>test_last_bit_loss</td><td>█▇▅▅▄▄▃▃▃▂▂▂▂▂▂▂▂▂▂▂▂▁▁▁▁▂▁▁▁▁▁▁▁▁▁▂▁▁▁▁</td></tr><tr><td>train_accuracy</td><td>▁▄▅▅▅▆▆▇▇▇▆▆▆▆▇▇▇▇▆▇██▇▇▇▆▇▇▇█▇▆▇▇▇▇█▇▇▇</td></tr><tr><td>train_loss</td><td>█▇▃▃▅▅▄▄▆▄▂▂▂▁▃▃▂▃▃▁▁▃▂▃▃▄▂▃▃▂▂▄▂▂▃▃▃▁▂▂</td></tr></table><br/></div><div class=\"wandb-col\"><h3>Run summary:</h3><br/><table class=\"wandb\"><tr><td>epoch</td><td>200</td></tr><tr><td>test_accuracy</td><td>0.65042</td></tr><tr><td>test_last_bit_accuracy</td><td>0.66305</td></tr><tr><td>test_last_bit_loss</td><td>0.52133</td></tr><tr><td>train_accuracy</td><td>0.67455</td></tr><tr><td>train_loss</td><td>0.58273</td></tr></table><br/></div></div>"
      ],
      "text/plain": [
       "<IPython.core.display.HTML object>"
      ]
     },
     "metadata": {},
     "output_type": "display_data"
    },
    {
     "data": {
      "text/html": [
       " View run <strong style=\"color:#cdcd00\">curious-sweep-4</strong> at: <a href='https://wandb.ai/adamimos/epsilon-transformer/runs/1qusijnn' target=\"_blank\">https://wandb.ai/adamimos/epsilon-transformer/runs/1qusijnn</a><br/>Synced 5 W&B file(s), 0 media file(s), 0 artifact file(s) and 0 other file(s)"
      ],
      "text/plain": [
       "<IPython.core.display.HTML object>"
      ]
     },
     "metadata": {},
     "output_type": "display_data"
    },
    {
     "data": {
      "text/html": [
       "Find logs at: <code>./wandb/run-20240119_155711-1qusijnn/logs</code>"
      ],
      "text/plain": [
       "<IPython.core.display.HTML object>"
      ]
     },
     "metadata": {},
     "output_type": "display_data"
    },
    {
     "name": "stderr",
     "output_type": "stream",
     "text": [
      "\u001b[34m\u001b[1mwandb\u001b[0m: Agent Starting Run: qmi29dl2 with config:\n",
      "\u001b[34m\u001b[1mwandb\u001b[0m: \tlearning_rate: 0.000774263682681127\n",
      "\u001b[34m\u001b[1mwandb\u001b[0m: \tweight_decay: 0\n",
      "Failed to detect the name of this notebook, you can set it manually with the WANDB_NOTEBOOK_NAME environment variable to enable code saving.\n"
     ]
    },
    {
     "data": {
      "text/html": [
       "wandb version 0.16.2 is available!  To upgrade, please run:\n",
       " $ pip install wandb --upgrade"
      ],
      "text/plain": [
       "<IPython.core.display.HTML object>"
      ]
     },
     "metadata": {},
     "output_type": "display_data"
    },
    {
     "data": {
      "text/html": [
       "Tracking run with wandb version 0.16.1"
      ],
      "text/plain": [
       "<IPython.core.display.HTML object>"
      ]
     },
     "metadata": {},
     "output_type": "display_data"
    },
    {
     "data": {
      "text/html": [
       "Run data is saved locally in <code>/Users/adamimos/Documents/GitHub/epsilon-transformers/wandb/run-20240119_161224-qmi29dl2</code>"
      ],
      "text/plain": [
       "<IPython.core.display.HTML object>"
      ]
     },
     "metadata": {},
     "output_type": "display_data"
    },
    {
     "data": {
      "text/html": [
       "Syncing run <strong><a href='https://wandb.ai/adamimos/epsilon-transformer/runs/qmi29dl2' target=\"_blank\">rich-sweep-5</a></strong> to <a href='https://wandb.ai/adamimos/epsilon-transformer' target=\"_blank\">Weights & Biases</a> (<a href='https://wandb.me/run' target=\"_blank\">docs</a>)<br/>Sweep page: <a href='https://wandb.ai/adamimos/epsilon-transformer/sweeps/eaedbzxy' target=\"_blank\">https://wandb.ai/adamimos/epsilon-transformer/sweeps/eaedbzxy</a>"
      ],
      "text/plain": [
       "<IPython.core.display.HTML object>"
      ]
     },
     "metadata": {},
     "output_type": "display_data"
    },
    {
     "data": {
      "text/html": [
       " View project at <a href='https://wandb.ai/adamimos/epsilon-transformer' target=\"_blank\">https://wandb.ai/adamimos/epsilon-transformer</a>"
      ],
      "text/plain": [
       "<IPython.core.display.HTML object>"
      ]
     },
     "metadata": {},
     "output_type": "display_data"
    },
    {
     "data": {
      "text/html": [
       " View sweep at <a href='https://wandb.ai/adamimos/epsilon-transformer/sweeps/eaedbzxy' target=\"_blank\">https://wandb.ai/adamimos/epsilon-transformer/sweeps/eaedbzxy</a>"
      ],
      "text/plain": [
       "<IPython.core.display.HTML object>"
      ]
     },
     "metadata": {},
     "output_type": "display_data"
    },
    {
     "data": {
      "text/html": [
       " View run at <a href='https://wandb.ai/adamimos/epsilon-transformer/runs/qmi29dl2' target=\"_blank\">https://wandb.ai/adamimos/epsilon-transformer/runs/qmi29dl2</a>"
      ],
      "text/plain": [
       "<IPython.core.display.HTML object>"
      ]
     },
     "metadata": {},
     "output_type": "display_data"
    },
    {
     "name": "stdout",
     "output_type": "stream",
     "text": [
      "| Epoch | Training Acc. | Loss | Overall Acc. | Last Bit Acc. |\n",
      "|   1   |    60.83%    |    0.6433     |      64.65%       |      66.94%      |\n",
      "|   2   |    66.42%    |    0.6186     |      65.27%       |      66.86%      |\n",
      "|   3   |    66.28%    |    0.6092     |      65.21%       |      66.66%      |\n",
      "|   4   |    66.10%    |    0.6130     |      65.36%       |      66.83%      |\n",
      "|   5   |    66.22%    |    0.6014     |      65.35%       |      66.92%      |\n",
      "|   6   |    66.48%    |    0.6133     |      65.27%       |      66.28%      |\n",
      "|   7   |    66.58%    |    0.6207     |      65.25%       |      66.82%      |\n",
      "|   8   |    66.47%    |    0.5970     |      65.26%       |      67.11%      |\n",
      "|   9   |    66.68%    |    0.5937     |      65.14%       |      66.94%      |\n",
      "|  10   |    66.50%    |    0.6381     |      65.30%       |      66.95%      |\n",
      "|  11   |    66.42%    |    0.6074     |      65.17%       |      66.29%      |\n",
      "|  12   |    66.66%    |    0.5874     |      65.16%       |      65.65%      |\n",
      "|  13   |    66.61%    |    0.5960     |      65.30%       |      66.43%      |\n",
      "|  14   |    66.67%    |    0.5961     |      65.27%       |      66.42%      |\n",
      "|  15   |    66.78%    |    0.5862     |      65.46%       |      66.99%      |\n",
      "|  16   |    66.68%    |    0.5831     |      65.20%       |      66.67%      |\n",
      "|  17   |    66.44%    |    0.6153     |      64.94%       |      65.64%      |\n",
      "|  18   |    66.31%    |    0.5983     |      65.22%       |      65.62%      |\n",
      "|  19   |    66.63%    |    0.6032     |      65.18%       |      65.94%      |\n",
      "|  20   |    66.47%    |    0.5807     |      65.27%       |      66.74%      |\n",
      "|  21   |    66.58%    |    0.5777     |      65.19%       |      66.82%      |\n",
      "|  22   |    66.43%    |    0.5952     |      65.14%       |      66.42%      |\n",
      "|  23   |    66.64%    |    0.5801     |      65.35%       |      67.63%      |\n",
      "|  24   |    66.71%    |    0.5994     |      65.25%       |      66.85%      |\n",
      "|  25   |    66.89%    |    0.5788     |      65.29%       |      66.81%      |\n",
      "|  26   |    66.69%    |    0.6071     |      65.02%       |      65.38%      |\n",
      "|  27   |    66.51%    |    0.5855     |      65.15%       |      66.59%      |\n",
      "|  28   |    66.94%    |    0.5804     |      65.26%       |      66.59%      |\n",
      "|  29   |    66.83%    |    0.5823     |      65.24%       |      66.55%      |\n",
      "|  30   |    66.53%    |    0.5989     |      65.23%       |      66.51%      |\n",
      "|  31   |    66.71%    |    0.5901     |      65.24%       |      66.15%      |\n",
      "|  32   |    66.76%    |    0.5792     |      65.17%       |      66.91%      |\n",
      "|  33   |    66.61%    |    0.6173     |      65.23%       |      66.94%      |\n",
      "|  34   |    66.93%    |    0.5740     |      65.33%       |      66.93%      |\n",
      "|  35   |    66.83%    |    0.5718     |      65.23%       |      67.12%      |\n",
      "|  36   |    66.84%    |    0.5845     |      65.18%       |      66.76%      |\n",
      "|  37   |    66.63%    |    0.5848     |      65.29%       |      66.80%      |\n",
      "|  38   |    66.49%    |    0.5844     |      65.24%       |      66.48%      |\n",
      "|  39   |    66.53%    |    0.5890     |      65.14%       |      66.02%      |\n",
      "|  40   |    66.78%    |    0.5852     |      64.99%       |      66.58%      |\n",
      "|  41   |    66.88%    |    0.5957     |      65.29%       |      66.38%      |\n",
      "|  42   |    66.77%    |    0.5826     |      65.28%       |      66.69%      |\n",
      "|  43   |    66.66%    |    0.5847     |      65.33%       |      66.88%      |\n",
      "|  44   |    66.39%    |    0.5926     |      65.25%       |      66.50%      |\n",
      "|  45   |    67.02%    |    0.5926     |      65.04%       |      65.78%      |\n",
      "|  46   |    66.96%    |    0.5806     |      65.30%       |      66.59%      |\n",
      "|  47   |    66.78%    |    0.5848     |      65.33%       |      66.51%      |\n",
      "|  48   |    66.87%    |    0.5862     |      65.20%       |      66.44%      |\n",
      "|  49   |    66.34%    |    0.5941     |      65.36%       |      67.33%      |\n",
      "|  50   |    66.71%    |    0.5855     |      65.21%       |      66.41%      |\n",
      "|  51   |    66.90%    |    0.5801     |      65.30%       |      67.00%      |\n",
      "|  52   |    66.71%    |    0.5842     |      65.22%       |      67.06%      |\n",
      "|  53   |    66.79%    |    0.5914     |      65.31%       |      66.93%      |\n",
      "|  54   |    66.82%    |    0.5764     |      65.34%       |      67.10%      |\n",
      "|  55   |    66.52%    |    0.5856     |      65.21%       |      66.73%      |\n",
      "|  56   |    66.79%    |    0.5709     |      65.40%       |      67.05%      |\n",
      "|  57   |    66.59%    |    0.5808     |      65.31%       |      67.12%      |\n",
      "|  58   |    67.03%    |    0.5767     |      65.31%       |      67.26%      |\n",
      "|  59   |    66.91%    |    0.5872     |      65.11%       |      66.88%      |\n",
      "|  60   |    66.71%    |    0.5804     |      65.15%       |      66.53%      |\n",
      "|  61   |    66.81%    |    0.5728     |      65.28%       |      66.40%      |\n",
      "|  62   |    66.60%    |    0.5837     |      65.34%       |      66.94%      |\n",
      "|  63   |    66.73%    |    0.6070     |      65.40%       |      67.20%      |\n",
      "|  64   |    66.72%    |    0.5871     |      65.16%       |      66.72%      |\n",
      "|  65   |    66.96%    |    0.6037     |      65.31%       |      66.83%      |\n",
      "|  66   |    66.98%    |    0.5912     |      65.28%       |      66.51%      |\n",
      "|  67   |    66.77%    |    0.5914     |      65.01%       |      65.65%      |\n",
      "|  68   |    66.84%    |    0.5774     |      65.44%       |      67.41%      |\n",
      "|  69   |    67.05%    |    0.5797     |      65.21%       |      66.41%      |\n",
      "|  70   |    66.85%    |    0.5925     |      65.17%       |      66.49%      |\n",
      "|  71   |    66.99%    |    0.5967     |      65.26%       |      66.50%      |\n",
      "|  72   |    66.92%    |    0.5847     |      65.24%       |      66.49%      |\n",
      "|  73   |    66.95%    |    0.5877     |      65.27%       |      67.18%      |\n",
      "|  74   |    67.17%    |    0.5839     |      65.28%       |      66.84%      |\n",
      "|  75   |    66.92%    |    0.5776     |      65.34%       |      67.08%      |\n",
      "|  76   |    66.80%    |    0.5981     |      65.24%       |      66.26%      |\n",
      "|  77   |    66.73%    |    0.5982     |      65.22%       |      66.41%      |\n",
      "|  78   |    66.57%    |    0.5795     |      65.14%       |      66.36%      |\n",
      "|  79   |    66.89%    |    0.5923     |      65.27%       |      66.64%      |\n",
      "|  80   |    66.96%    |    0.5872     |      65.33%       |      67.21%      |\n",
      "|  81   |    66.75%    |    0.5882     |      65.19%       |      66.39%      |\n",
      "|  82   |    66.97%    |    0.5736     |      65.31%       |      66.99%      |\n",
      "|  83   |    66.68%    |    0.5834     |      65.07%       |      67.11%      |\n",
      "|  84   |    66.84%    |    0.5687     |      65.38%       |      66.92%      |\n",
      "|  85   |    66.65%    |    0.5957     |      65.13%       |      65.96%      |\n",
      "|  86   |    67.08%    |    0.5880     |      65.21%       |      66.77%      |\n",
      "|  87   |    66.99%    |    0.5764     |      65.32%       |      66.79%      |\n",
      "|  88   |    66.83%    |    0.5901     |      65.32%       |      66.75%      |\n",
      "|  89   |    67.05%    |    0.5950     |      65.14%       |      66.18%      |\n",
      "|  90   |    66.87%    |    0.5857     |      65.25%       |      67.08%      |\n",
      "|  91   |    66.69%    |    0.5845     |      65.27%       |      66.80%      |\n",
      "|  92   |    66.99%    |    0.5819     |      65.21%       |      66.48%      |\n",
      "|  93   |    67.15%    |    0.5751     |      65.26%       |      66.50%      |\n",
      "|  94   |    67.12%    |    0.5808     |      64.89%       |      66.70%      |\n",
      "|  95   |    67.03%    |    0.5681     |      65.18%       |      66.55%      |\n",
      "|  96   |    67.13%    |    0.5759     |      65.12%       |      66.86%      |\n",
      "|  97   |    66.95%    |    0.5858     |      65.26%       |      67.36%      |\n",
      "|  98   |    66.84%    |    0.5716     |      65.11%       |      65.94%      |\n",
      "|  99   |    66.83%    |    0.6029     |      65.34%       |      66.94%      |\n",
      "|  100  |    66.97%    |    0.5981     |      65.29%       |      66.77%      |\n",
      "|  101  |    66.82%    |    0.5872     |      65.15%       |      66.46%      |\n",
      "|  102  |    67.04%    |    0.5903     |      65.18%       |      66.26%      |\n",
      "|  103  |    66.88%    |    0.5628     |      65.19%       |      66.45%      |\n",
      "|  104  |    66.85%    |    0.5940     |      65.15%       |      66.65%      |\n",
      "|  105  |    67.02%    |    0.5865     |      65.21%       |      66.59%      |\n",
      "|  106  |    67.21%    |    0.5937     |      65.15%       |      66.80%      |\n",
      "|  107  |    67.15%    |    0.5806     |      65.21%       |      66.74%      |\n",
      "|  108  |    67.08%    |    0.5778     |      65.28%       |      67.11%      |\n",
      "|  109  |    66.61%    |    0.5703     |      65.20%       |      66.82%      |\n",
      "|  110  |    67.20%    |    0.5723     |      65.26%       |      67.17%      |\n",
      "|  111  |    67.05%    |    0.5923     |      65.12%       |      66.22%      |\n",
      "|  112  |    66.84%    |    0.5841     |      65.10%       |      66.23%      |\n",
      "|  113  |    66.97%    |    0.5884     |      65.37%       |      66.85%      |\n",
      "|  114  |    67.01%    |    0.5772     |      65.21%       |      66.71%      |\n",
      "|  115  |    66.93%    |    0.5778     |      65.25%       |      66.34%      |\n",
      "|  116  |    67.09%    |    0.5783     |      65.25%       |      66.53%      |\n",
      "|  117  |    67.16%    |    0.5839     |      65.23%       |      67.31%      |\n",
      "|  118  |    67.10%    |    0.6005     |      65.32%       |      67.12%      |\n",
      "|  119  |    66.91%    |    0.5682     |      65.26%       |      66.06%      |\n",
      "|  120  |    67.00%    |    0.5774     |      65.33%       |      66.24%      |\n",
      "|  121  |    67.03%    |    0.5717     |      65.36%       |      66.48%      |\n",
      "|  122  |    66.94%    |    0.5774     |      65.18%       |      66.48%      |\n",
      "|  123  |    67.02%    |    0.5772     |      65.06%       |      66.47%      |\n",
      "|  124  |    67.08%    |    0.5865     |      65.16%       |      66.54%      |\n",
      "|  125  |    67.13%    |    0.5890     |      65.15%       |      66.45%      |\n",
      "|  126  |    67.03%    |    0.5874     |      65.36%       |      67.43%      |\n",
      "|  127  |    67.15%    |    0.5788     |      65.39%       |      66.84%      |\n",
      "|  128  |    66.85%    |    0.5622     |      65.28%       |      66.66%      |\n",
      "|  129  |    66.89%    |    0.5855     |      65.13%       |      66.57%      |\n",
      "|  130  |    67.22%    |    0.5790     |      65.18%       |      67.46%      |\n",
      "|  131  |    66.94%    |    0.5921     |      65.21%       |      66.56%      |\n",
      "|  132  |    66.87%    |    0.5875     |      65.38%       |      66.87%      |\n",
      "|  133  |    67.20%    |    0.5829     |      65.21%       |      66.57%      |\n",
      "|  134  |    67.17%    |    0.5792     |      65.22%       |      66.76%      |\n",
      "|  135  |    67.15%    |    0.5717     |      65.21%       |      66.73%      |\n",
      "|  136  |    67.13%    |    0.5821     |      65.21%       |      66.61%      |\n",
      "|  137  |    66.99%    |    0.5815     |      65.22%       |      66.92%      |\n",
      "|  138  |    67.35%    |    0.5851     |      65.25%       |      66.88%      |\n",
      "|  139  |    66.95%    |    0.5858     |      65.30%       |      66.93%      |\n",
      "|  140  |    67.02%    |    0.5789     |      65.35%       |      67.41%      |\n",
      "|  141  |    67.30%    |    0.5906     |      65.18%       |      66.65%      |\n",
      "|  142  |    66.90%    |    0.5881     |      65.25%       |      67.15%      |\n",
      "|  143  |    66.99%    |    0.5853     |      65.25%       |      66.89%      |\n",
      "|  144  |    66.98%    |    0.5903     |      65.25%       |      66.55%      |\n",
      "|  145  |    66.98%    |    0.5921     |      65.33%       |      67.30%      |\n",
      "|  146  |    67.09%    |    0.5974     |      65.18%       |      66.97%      |\n",
      "|  147  |    66.91%    |    0.5744     |      65.17%       |      66.83%      |\n",
      "|  148  |    66.87%    |    0.5838     |      65.31%       |      66.59%      |\n",
      "|  149  |    66.99%    |    0.5849     |      65.33%       |      67.21%      |\n",
      "|  150  |    67.27%    |    0.5926     |      65.14%       |      66.77%      |\n",
      "|  151  |    67.22%    |    0.5843     |      65.25%       |      66.81%      |\n",
      "|  152  |    67.09%    |    0.5663     |      65.20%       |      66.74%      |\n",
      "|  153  |    67.08%    |    0.5912     |      65.37%       |      66.91%      |\n",
      "|  154  |    66.98%    |    0.5700     |      65.22%       |      66.96%      |\n",
      "|  155  |    66.85%    |    0.5831     |      65.28%       |      66.62%      |\n",
      "|  156  |    66.94%    |    0.5667     |      65.18%       |      66.78%      |\n",
      "|  157  |    66.97%    |    0.5874     |      65.36%       |      66.80%      |\n",
      "|  158  |    66.98%    |    0.5831     |      65.34%       |      67.47%      |\n",
      "|  159  |    67.15%    |    0.5812     |      65.31%       |      66.96%      |\n",
      "|  160  |    67.18%    |    0.5851     |      65.15%       |      66.69%      |\n",
      "|  161  |    67.05%    |    0.5848     |      65.00%       |      66.87%      |\n",
      "|  162  |    67.28%    |    0.5827     |      65.37%       |      67.44%      |\n",
      "|  163  |    67.12%    |    0.5762     |      65.14%       |      66.35%      |\n",
      "|  164  |    67.08%    |    0.5890     |      65.25%       |      67.22%      |\n",
      "|  165  |    66.77%    |    0.5707     |      65.31%       |      67.48%      |\n",
      "|  166  |    66.93%    |    0.5796     |      65.24%       |      66.87%      |\n",
      "|  167  |    67.15%    |    0.5832     |      65.16%       |      66.79%      |\n",
      "|  168  |    67.18%    |    0.5880     |      65.25%       |      66.77%      |\n",
      "|  169  |    67.05%    |    0.5796     |      65.35%       |      67.16%      |\n",
      "|  170  |    67.41%    |    0.5835     |      65.35%       |      67.32%      |\n",
      "|  171  |    67.23%    |    0.5576     |      65.27%       |      66.97%      |\n",
      "|  172  |    67.15%    |    0.5752     |      65.13%       |      66.63%      |\n",
      "|  173  |    67.20%    |    0.5829     |      65.11%       |      66.33%      |\n",
      "|  174  |    67.04%    |    0.5675     |      65.36%       |      67.11%      |\n",
      "|  175  |    67.17%    |    0.5856     |      65.34%       |      67.04%      |\n",
      "|  176  |    67.03%    |    0.5839     |      65.28%       |      67.06%      |\n",
      "|  177  |    67.20%    |    0.5731     |      65.27%       |      66.95%      |\n",
      "|  178  |    67.31%    |    0.5778     |      65.30%       |      67.10%      |\n",
      "|  179  |    67.11%    |    0.5692     |      65.25%       |      67.11%      |\n",
      "|  180  |    66.94%    |    0.5768     |      65.19%       |      66.90%      |\n",
      "|  181  |    67.22%    |    0.5839     |      65.28%       |      66.29%      |\n",
      "|  182  |    66.83%    |    0.5895     |      65.16%       |      66.52%      |\n",
      "|  183  |    67.04%    |    0.5823     |      65.26%       |      67.06%      |\n",
      "|  184  |    67.32%    |    0.5687     |      65.22%       |      67.09%      |\n",
      "|  185  |    67.02%    |    0.5909     |      65.29%       |      66.63%      |\n",
      "|  186  |    67.32%    |    0.5829     |      65.28%       |      66.65%      |\n",
      "|  187  |    67.09%    |    0.5857     |      65.16%       |      67.12%      |\n",
      "|  188  |    67.39%    |    0.5815     |      65.32%       |      66.78%      |\n",
      "|  189  |    67.22%    |    0.5877     |      65.31%       |      67.27%      |\n",
      "|  190  |    67.34%    |    0.5802     |      65.21%       |      66.48%      |\n",
      "|  191  |    66.95%    |    0.5843     |      65.46%       |      67.41%      |\n",
      "|  192  |    67.06%    |    0.5688     |      65.32%       |      66.87%      |\n",
      "|  193  |    67.05%    |    0.5779     |      65.22%       |      66.78%      |\n",
      "|  194  |    67.30%    |    0.5901     |      65.35%       |      67.45%      |\n",
      "|  195  |    67.10%    |    0.5751     |      65.23%       |      66.96%      |\n",
      "|  196  |    67.29%    |    0.5773     |      65.34%       |      67.07%      |\n",
      "|  197  |    67.26%    |    0.5884     |      65.28%       |      67.12%      |\n",
      "|  198  |    67.28%    |    0.5899     |      65.32%       |      67.33%      |\n",
      "|  199  |    67.16%    |    0.5732     |      65.17%       |      67.26%      |\n",
      "|  200  |    67.25%    |    0.5898     |      65.27%       |      66.81%      |\n"
     ]
    },
    {
     "data": {
      "application/vnd.jupyter.widget-view+json": {
       "model_id": "18a693aa3ec145d8aeeb087aeb4ceeda",
       "version_major": 2,
       "version_minor": 0
      },
      "text/plain": [
       "VBox(children=(Label(value='0.001 MB of 0.001 MB uploaded\\r'), FloatProgress(value=1.0, max=1.0)))"
      ]
     },
     "metadata": {},
     "output_type": "display_data"
    },
    {
     "data": {
      "text/html": [
       "<style>\n",
       "    table.wandb td:nth-child(1) { padding: 0 10px; text-align: left ; width: auto;} td:nth-child(2) {text-align: left ; width: 100%}\n",
       "    .wandb-row { display: flex; flex-direction: row; flex-wrap: wrap; justify-content: flex-start; width: 100% }\n",
       "    .wandb-col { display: flex; flex-direction: column; flex-basis: 100%; flex: 1; padding: 10px; }\n",
       "    </style>\n",
       "<div class=\"wandb-row\"><div class=\"wandb-col\"><h3>Run history:</h3><br/><table class=\"wandb\"><tr><td>epoch</td><td>▁▁▁▁▂▂▂▂▂▃▃▃▃▃▃▄▄▄▄▄▅▅▅▅▅▅▆▆▆▆▆▇▇▇▇▇▇███</td></tr><tr><td>test_accuracy</td><td>▅▅▃▄▃▁▄▄▅▆▄▇▆█▅▃▆▆▄▂▄▅▂▆▄▅▄▅▅▆▄▆▅▅▇▆▄▆▇▅</td></tr><tr><td>test_last_bit_accuracy</td><td>▆▄▂▅▄▁▆▆▅▅▇▇▆█▅▄▆▆▅▃▄▇▄▇▅▅▆▆▅▅▆█▇▆▇▇▇▆█▆</td></tr><tr><td>test_last_bit_loss</td><td>█▆▅▄▃▆▃▃▃▂▂▂▂▂▂▂▂▂▂▂▂▂▂▁▁▁▁▂▁▁▁▁▁▂▁▁▁▁▁▁</td></tr><tr><td>train_accuracy</td><td>▁▁▃▃▁▃▃▄▄▅▃▄▂▄▅▂▅▄▅▄▅▆▄▆▅▄▆█▅▄▅▅▆▇▆▇██▇▇</td></tr><tr><td>train_loss</td><td>█▇▄▄▅▇▃▄▄▃▄▂▄▃▄▃▂▄▃▂▄▃▄▆▃▁▃▄▄▄▂▄▄▄▂▃▂▃▄▄</td></tr></table><br/></div><div class=\"wandb-col\"><h3>Run summary:</h3><br/><table class=\"wandb\"><tr><td>epoch</td><td>200</td></tr><tr><td>test_accuracy</td><td>0.65275</td></tr><tr><td>test_last_bit_accuracy</td><td>0.66812</td></tr><tr><td>test_last_bit_loss</td><td>0.51426</td></tr><tr><td>train_accuracy</td><td>0.67249</td></tr><tr><td>train_loss</td><td>0.58984</td></tr></table><br/></div></div>"
      ],
      "text/plain": [
       "<IPython.core.display.HTML object>"
      ]
     },
     "metadata": {},
     "output_type": "display_data"
    },
    {
     "data": {
      "text/html": [
       " View run <strong style=\"color:#cdcd00\">rich-sweep-5</strong> at: <a href='https://wandb.ai/adamimos/epsilon-transformer/runs/qmi29dl2' target=\"_blank\">https://wandb.ai/adamimos/epsilon-transformer/runs/qmi29dl2</a><br/>Synced 5 W&B file(s), 0 media file(s), 0 artifact file(s) and 0 other file(s)"
      ],
      "text/plain": [
       "<IPython.core.display.HTML object>"
      ]
     },
     "metadata": {},
     "output_type": "display_data"
    },
    {
     "data": {
      "text/html": [
       "Find logs at: <code>./wandb/run-20240119_161224-qmi29dl2/logs</code>"
      ],
      "text/plain": [
       "<IPython.core.display.HTML object>"
      ]
     },
     "metadata": {},
     "output_type": "display_data"
    },
    {
     "name": "stderr",
     "output_type": "stream",
     "text": [
      "\u001b[34m\u001b[1mwandb\u001b[0m: Agent Starting Run: hw58r4fe with config:\n",
      "\u001b[34m\u001b[1mwandb\u001b[0m: \tlearning_rate: 0.001291549665014884\n",
      "\u001b[34m\u001b[1mwandb\u001b[0m: \tweight_decay: 0\n",
      "Failed to detect the name of this notebook, you can set it manually with the WANDB_NOTEBOOK_NAME environment variable to enable code saving.\n"
     ]
    },
    {
     "data": {
      "text/html": [
       "wandb version 0.16.2 is available!  To upgrade, please run:\n",
       " $ pip install wandb --upgrade"
      ],
      "text/plain": [
       "<IPython.core.display.HTML object>"
      ]
     },
     "metadata": {},
     "output_type": "display_data"
    },
    {
     "data": {
      "text/html": [
       "Tracking run with wandb version 0.16.1"
      ],
      "text/plain": [
       "<IPython.core.display.HTML object>"
      ]
     },
     "metadata": {},
     "output_type": "display_data"
    },
    {
     "data": {
      "text/html": [
       "Run data is saved locally in <code>/Users/adamimos/Documents/GitHub/epsilon-transformers/wandb/run-20240119_162754-hw58r4fe</code>"
      ],
      "text/plain": [
       "<IPython.core.display.HTML object>"
      ]
     },
     "metadata": {},
     "output_type": "display_data"
    },
    {
     "data": {
      "text/html": [
       "Syncing run <strong><a href='https://wandb.ai/adamimos/epsilon-transformer/runs/hw58r4fe' target=\"_blank\">soft-sweep-6</a></strong> to <a href='https://wandb.ai/adamimos/epsilon-transformer' target=\"_blank\">Weights & Biases</a> (<a href='https://wandb.me/run' target=\"_blank\">docs</a>)<br/>Sweep page: <a href='https://wandb.ai/adamimos/epsilon-transformer/sweeps/eaedbzxy' target=\"_blank\">https://wandb.ai/adamimos/epsilon-transformer/sweeps/eaedbzxy</a>"
      ],
      "text/plain": [
       "<IPython.core.display.HTML object>"
      ]
     },
     "metadata": {},
     "output_type": "display_data"
    },
    {
     "data": {
      "text/html": [
       " View project at <a href='https://wandb.ai/adamimos/epsilon-transformer' target=\"_blank\">https://wandb.ai/adamimos/epsilon-transformer</a>"
      ],
      "text/plain": [
       "<IPython.core.display.HTML object>"
      ]
     },
     "metadata": {},
     "output_type": "display_data"
    },
    {
     "data": {
      "text/html": [
       " View sweep at <a href='https://wandb.ai/adamimos/epsilon-transformer/sweeps/eaedbzxy' target=\"_blank\">https://wandb.ai/adamimos/epsilon-transformer/sweeps/eaedbzxy</a>"
      ],
      "text/plain": [
       "<IPython.core.display.HTML object>"
      ]
     },
     "metadata": {},
     "output_type": "display_data"
    },
    {
     "data": {
      "text/html": [
       " View run at <a href='https://wandb.ai/adamimos/epsilon-transformer/runs/hw58r4fe' target=\"_blank\">https://wandb.ai/adamimos/epsilon-transformer/runs/hw58r4fe</a>"
      ],
      "text/plain": [
       "<IPython.core.display.HTML object>"
      ]
     },
     "metadata": {},
     "output_type": "display_data"
    },
    {
     "name": "stdout",
     "output_type": "stream",
     "text": [
      "| Epoch | Training Acc. | Loss | Overall Acc. | Last Bit Acc. |\n",
      "|   1   |    62.69%    |    0.6311     |      64.78%       |      67.14%      |\n",
      "|   2   |    66.51%    |    0.6239     |      65.09%       |      66.86%      |\n",
      "|   3   |    66.14%    |    0.6209     |      65.16%       |      66.90%      |\n",
      "|   4   |    66.10%    |    0.5983     |      64.85%       |      66.53%      |\n",
      "|   5   |    65.94%    |    0.6104     |      65.06%       |      66.75%      |\n",
      "|   6   |    66.20%    |    0.5990     |      64.77%       |      66.33%      |\n",
      "|   7   |    66.46%    |    0.5866     |      65.08%       |      66.42%      |\n",
      "|   8   |    66.68%    |    0.5866     |      65.21%       |      66.38%      |\n",
      "|   9   |    66.37%    |    0.5998     |      64.90%       |      65.31%      |\n",
      "|  10   |    66.47%    |    0.5854     |      65.17%       |      66.91%      |\n",
      "|  11   |    66.83%    |    0.5762     |      64.85%       |      66.09%      |\n",
      "|  12   |    66.40%    |    0.5887     |      64.93%       |      65.76%      |\n",
      "|  13   |    66.61%    |    0.5815     |      65.06%       |      66.37%      |\n",
      "|  14   |    66.59%    |    0.6051     |      64.96%       |      66.64%      |\n",
      "|  15   |    66.45%    |    0.5820     |      64.90%       |      66.44%      |\n",
      "|  16   |    66.55%    |    0.5753     |      65.04%       |      66.06%      |\n",
      "|  17   |    66.73%    |    0.5861     |      65.02%       |      66.34%      |\n",
      "|  18   |    66.56%    |    0.5968     |      65.06%       |      66.56%      |\n",
      "|  19   |    66.73%    |    0.5974     |      64.94%       |      65.80%      |\n",
      "|  20   |    67.03%    |    0.5738     |      65.10%       |      66.81%      |\n",
      "|  21   |    66.98%    |    0.5929     |      65.08%       |      66.70%      |\n",
      "|  22   |    66.68%    |    0.5888     |      65.19%       |      66.74%      |\n",
      "|  23   |    66.64%    |    0.6009     |      65.00%       |      66.36%      |\n",
      "|  24   |    66.90%    |    0.5951     |      65.12%       |      66.58%      |\n",
      "|  25   |    66.66%    |    0.5806     |      65.03%       |      66.51%      |\n",
      "|  26   |    66.74%    |    0.5949     |      64.87%       |      66.57%      |\n",
      "|  27   |    66.92%    |    0.5738     |      64.93%       |      66.40%      |\n",
      "|  28   |    66.71%    |    0.5937     |      64.86%       |      66.02%      |\n",
      "|  29   |    66.62%    |    0.5686     |      64.93%       |      65.85%      |\n",
      "|  30   |    66.78%    |    0.5878     |      65.27%       |      66.75%      |\n",
      "|  31   |    66.86%    |    0.5801     |      65.09%       |      66.40%      |\n",
      "|  32   |    66.80%    |    0.6069     |      64.95%       |      66.66%      |\n",
      "|  33   |    66.81%    |    0.5859     |      65.25%       |      66.72%      |\n",
      "|  34   |    66.70%    |    0.5823     |      64.96%       |      66.13%      |\n",
      "|  35   |    66.77%    |    0.5921     |      64.98%       |      66.35%      |\n",
      "|  36   |    66.74%    |    0.5816     |      65.10%       |      66.47%      |\n",
      "|  37   |    66.82%    |    0.5658     |      64.96%       |      66.23%      |\n",
      "|  38   |    66.69%    |    0.5914     |      64.95%       |      66.38%      |\n",
      "|  39   |    66.69%    |    0.5749     |      65.06%       |      66.35%      |\n",
      "|  40   |    66.79%    |    0.5698     |      65.17%       |      66.91%      |\n",
      "|  41   |    66.99%    |    0.5963     |      64.96%       |      66.55%      |\n",
      "|  42   |    66.68%    |    0.5837     |      65.14%       |      66.57%      |\n",
      "|  43   |    67.02%    |    0.5823     |      65.13%       |      66.81%      |\n",
      "|  44   |    66.70%    |    0.5925     |      65.07%       |      66.22%      |\n",
      "|  45   |    66.75%    |    0.5764     |      64.95%       |      66.71%      |\n",
      "|  46   |    66.86%    |    0.5829     |      65.13%       |      66.31%      |\n",
      "|  47   |    66.57%    |    0.6008     |      65.17%       |      66.79%      |\n",
      "|  48   |    66.75%    |    0.5724     |      65.05%       |      66.11%      |\n",
      "|  49   |    66.94%    |    0.5685     |      65.03%       |      66.34%      |\n",
      "|  50   |    66.96%    |    0.5813     |      64.87%       |      66.73%      |\n",
      "|  51   |    66.95%    |    0.5783     |      65.01%       |      66.88%      |\n",
      "|  52   |    66.86%    |    0.5782     |      65.21%       |      66.65%      |\n",
      "|  53   |    67.03%    |    0.5969     |      65.13%       |      66.25%      |\n",
      "|  54   |    66.66%    |    0.5790     |      65.03%       |      66.48%      |\n",
      "|  55   |    66.89%    |    0.5807     |      65.15%       |      66.43%      |\n",
      "|  56   |    66.63%    |    0.6039     |      65.24%       |      66.62%      |\n",
      "|  57   |    67.03%    |    0.5929     |      65.19%       |      66.55%      |\n",
      "|  58   |    66.78%    |    0.5817     |      65.08%       |      66.76%      |\n",
      "|  59   |    67.21%    |    0.5943     |      65.06%       |      66.84%      |\n",
      "|  60   |    67.09%    |    0.5741     |      65.01%       |      66.97%      |\n",
      "|  61   |    66.77%    |    0.5933     |      65.16%       |      66.62%      |\n",
      "|  62   |    67.05%    |    0.5760     |      64.80%       |      66.01%      |\n",
      "|  63   |    67.19%    |    0.6008     |      64.83%       |      66.31%      |\n",
      "|  64   |    66.85%    |    0.5816     |      64.95%       |      66.39%      |\n",
      "|  65   |    66.76%    |    0.5843     |      65.14%       |      66.71%      |\n",
      "|  66   |    67.12%    |    0.5653     |      64.88%       |      66.30%      |\n",
      "|  67   |    66.99%    |    0.5747     |      65.06%       |      66.82%      |\n",
      "|  68   |    67.02%    |    0.5861     |      64.99%       |      66.37%      |\n",
      "|  69   |    67.15%    |    0.5871     |      65.02%       |      66.03%      |\n",
      "|  70   |    67.00%    |    0.5884     |      65.07%       |      66.95%      |\n",
      "|  71   |    66.98%    |    0.5828     |      65.04%       |      67.09%      |\n",
      "|  72   |    66.97%    |    0.5857     |      64.93%       |      66.55%      |\n",
      "|  73   |    67.48%    |    0.5802     |      65.06%       |      66.80%      |\n",
      "|  74   |    67.21%    |    0.5736     |      65.13%       |      67.29%      |\n",
      "|  75   |    66.66%    |    0.5862     |      64.89%       |      67.30%      |\n",
      "|  76   |    67.16%    |    0.5888     |      65.04%       |      66.83%      |\n",
      "|  77   |    67.35%    |    0.5891     |      65.18%       |      67.14%      |\n",
      "|  78   |    67.02%    |    0.5781     |      65.09%       |      67.11%      |\n",
      "|  79   |    66.94%    |    0.5873     |      64.91%       |      66.71%      |\n",
      "|  80   |    67.14%    |    0.5890     |      64.91%       |      66.04%      |\n",
      "|  81   |    66.93%    |    0.5793     |      65.05%       |      66.97%      |\n",
      "|  82   |    67.06%    |    0.5969     |      65.09%       |      66.94%      |\n",
      "|  83   |    67.19%    |    0.5768     |      65.15%       |      67.29%      |\n",
      "|  84   |    67.06%    |    0.5749     |      65.14%       |      66.87%      |\n",
      "|  85   |    67.42%    |    0.5702     |      65.06%       |      66.64%      |\n",
      "|  86   |    66.99%    |    0.5781     |      65.11%       |      67.27%      |\n",
      "|  87   |    67.00%    |    0.5884     |      65.08%       |      66.69%      |\n",
      "|  88   |    66.98%    |    0.5719     |      64.95%       |      66.52%      |\n",
      "|  89   |    66.97%    |    0.5839     |      64.93%       |      66.58%      |\n",
      "|  90   |    66.90%    |    0.5849     |      65.05%       |      66.68%      |\n",
      "|  91   |    67.08%    |    0.5812     |      65.21%       |      66.79%      |\n",
      "|  92   |    67.08%    |    0.5890     |      65.02%       |      66.48%      |\n",
      "|  93   |    67.35%    |    0.5776     |      64.92%       |      66.19%      |\n",
      "|  94   |    67.10%    |    0.5665     |      64.77%       |      66.36%      |\n",
      "|  95   |    67.03%    |    0.5656     |      65.04%       |      66.40%      |\n",
      "|  96   |    67.16%    |    0.5816     |      65.17%       |      66.96%      |\n",
      "|  97   |    66.99%    |    0.5669     |      65.04%       |      66.80%      |\n",
      "|  98   |    67.02%    |    0.5912     |      65.04%       |      66.54%      |\n",
      "|  99   |    66.94%    |    0.5780     |      64.82%       |      66.29%      |\n",
      "|  100  |    67.13%    |    0.5707     |      65.15%       |      66.96%      |\n",
      "|  101  |    67.39%    |    0.5849     |      65.13%       |      66.84%      |\n",
      "|  102  |    67.27%    |    0.5887     |      65.15%       |      66.29%      |\n",
      "|  103  |    67.12%    |    0.5785     |      65.15%       |      66.61%      |\n",
      "|  104  |    67.22%    |    0.5855     |      65.10%       |      66.70%      |\n",
      "|  105  |    67.12%    |    0.5722     |      65.14%       |      66.98%      |\n",
      "|  106  |    67.31%    |    0.5811     |      64.96%       |      65.89%      |\n",
      "|  107  |    67.17%    |    0.5795     |      65.08%       |      66.33%      |\n",
      "|  108  |    67.25%    |    0.5709     |      65.32%       |      67.25%      |\n",
      "|  109  |    67.02%    |    0.5738     |      65.07%       |      66.77%      |\n",
      "|  110  |    67.41%    |    0.5666     |      65.04%       |      67.15%      |\n",
      "|  111  |    67.20%    |    0.5755     |      65.23%       |      66.41%      |\n",
      "|  112  |    67.01%    |    0.5869     |      64.99%       |      66.29%      |\n",
      "|  113  |    67.17%    |    0.5725     |      65.10%       |      66.77%      |\n",
      "|  114  |    67.12%    |    0.5889     |      65.19%       |      66.55%      |\n",
      "|  115  |    66.96%    |    0.5834     |      64.99%       |      66.43%      |\n",
      "|  116  |    67.05%    |    0.5677     |      65.19%       |      67.09%      |\n",
      "|  117  |    67.08%    |    0.5741     |      65.00%       |      66.59%      |\n",
      "|  118  |    67.36%    |    0.5837     |      65.16%       |      67.09%      |\n",
      "|  119  |    67.51%    |    0.5766     |      65.04%       |      66.77%      |\n",
      "|  120  |    67.13%    |    0.5834     |      64.92%       |      66.07%      |\n",
      "|  121  |    67.05%    |    0.5745     |      65.05%       |      66.57%      |\n",
      "|  122  |    67.40%    |    0.5945     |      65.14%       |      66.56%      |\n",
      "|  123  |    67.35%    |    0.5827     |      65.15%       |      66.76%      |\n",
      "|  124  |    67.18%    |    0.5708     |      64.89%       |      66.26%      |\n",
      "|  125  |    67.03%    |    0.5892     |      64.88%       |      66.40%      |\n",
      "|  126  |    67.24%    |    0.5637     |      64.89%       |      66.51%      |\n",
      "|  127  |    67.13%    |    0.5900     |      65.10%       |      66.83%      |\n",
      "|  128  |    67.24%    |    0.5760     |      65.07%       |      66.77%      |\n",
      "|  129  |    67.29%    |    0.5812     |      65.12%       |      66.80%      |\n",
      "|  130  |    67.31%    |    0.5788     |      64.85%       |      66.10%      |\n",
      "|  131  |    67.27%    |    0.5753     |      65.12%       |      66.37%      |\n",
      "|  132  |    67.20%    |    0.5841     |      64.96%       |      66.55%      |\n",
      "|  133  |    67.41%    |    0.5749     |      65.15%       |      66.76%      |\n",
      "|  134  |    66.98%    |    0.5862     |      65.05%       |      66.89%      |\n",
      "|  135  |    67.33%    |    0.5792     |      65.08%       |      66.68%      |\n",
      "|  136  |    67.30%    |    0.5763     |      65.08%       |      66.94%      |\n",
      "|  137  |    67.30%    |    0.5855     |      65.07%       |      66.76%      |\n",
      "|  138  |    67.38%    |    0.5778     |      65.08%       |      66.68%      |\n",
      "|  139  |    67.14%    |    0.5809     |      64.97%       |      65.84%      |\n",
      "|  140  |    67.27%    |    0.5766     |      65.24%       |      66.94%      |\n",
      "|  141  |    67.31%    |    0.5796     |      65.06%       |      66.51%      |\n",
      "|  142  |    67.20%    |    0.5739     |      65.11%       |      66.66%      |\n",
      "|  143  |    67.37%    |    0.5879     |      65.14%       |      66.80%      |\n",
      "|  144  |    67.43%    |    0.5731     |      64.98%       |      65.62%      |\n",
      "|  145  |    67.17%    |    0.5800     |      65.17%       |      66.91%      |\n",
      "|  146  |    67.25%    |    0.5825     |      65.00%       |      66.34%      |\n",
      "|  147  |    67.05%    |    0.5677     |      65.06%       |      66.66%      |\n",
      "|  148  |    67.54%    |    0.5795     |      65.17%       |      67.31%      |\n",
      "|  149  |    67.13%    |    0.5811     |      64.98%       |      66.54%      |\n",
      "|  150  |    67.37%    |    0.5815     |      65.07%       |      66.77%      |\n",
      "|  151  |    67.27%    |    0.5811     |      65.18%       |      66.91%      |\n",
      "|  152  |    67.23%    |    0.5795     |      65.11%       |      66.90%      |\n",
      "|  153  |    67.42%    |    0.5833     |      65.15%       |      66.73%      |\n",
      "|  154  |    67.03%    |    0.5776     |      65.14%       |      66.81%      |\n",
      "|  155  |    67.51%    |    0.5834     |      65.06%       |      66.96%      |\n",
      "|  156  |    67.12%    |    0.5944     |      64.77%       |      65.81%      |\n",
      "|  157  |    67.44%    |    0.5701     |      64.93%       |      66.36%      |\n",
      "|  158  |    67.43%    |    0.5813     |      65.07%       |      66.73%      |\n",
      "|  159  |    67.38%    |    0.5756     |      64.91%       |      66.03%      |\n",
      "|  160  |    67.12%    |    0.5807     |      64.93%       |      66.61%      |\n",
      "|  161  |    67.31%    |    0.5879     |      65.06%       |      66.55%      |\n",
      "|  162  |    67.18%    |    0.5766     |      65.13%       |      66.93%      |\n",
      "|  163  |    67.30%    |    0.5917     |      65.05%       |      66.23%      |\n",
      "|  164  |    67.33%    |    0.5888     |      65.04%       |      67.08%      |\n",
      "|  165  |    67.29%    |    0.5840     |      65.17%       |      66.70%      |\n",
      "|  166  |    67.21%    |    0.5862     |      65.15%       |      66.75%      |\n",
      "|  167  |    67.49%    |    0.5736     |      65.12%       |      66.63%      |\n",
      "|  168  |    67.62%    |    0.5766     |      65.14%       |      66.65%      |\n",
      "|  169  |    67.42%    |    0.5702     |      65.26%       |      66.93%      |\n",
      "|  170  |    67.17%    |    0.5811     |      65.06%       |      66.84%      |\n",
      "|  171  |    67.42%    |    0.5809     |      65.11%       |      66.67%      |\n",
      "|  172  |    67.26%    |    0.5878     |      65.20%       |      66.59%      |\n",
      "|  173  |    67.13%    |    0.5743     |      65.04%       |      66.82%      |\n",
      "|  174  |    67.38%    |    0.5825     |      65.09%       |      66.56%      |\n",
      "|  175  |    67.34%    |    0.5701     |      65.08%       |      66.58%      |\n",
      "|  176  |    67.45%    |    0.5901     |      65.12%       |      66.31%      |\n",
      "|  177  |    67.45%    |    0.5790     |      65.17%       |      67.11%      |\n",
      "|  178  |    67.21%    |    0.5825     |      65.05%       |      67.32%      |\n",
      "|  179  |    67.70%    |    0.5690     |      65.21%       |      67.15%      |\n",
      "|  180  |    67.47%    |    0.5847     |      65.15%       |      66.85%      |\n",
      "|  181  |    67.34%    |    0.5765     |      65.12%       |      67.03%      |\n",
      "|  182  |    67.60%    |    0.5675     |      64.97%       |      66.64%      |\n",
      "|  183  |    67.57%    |    0.5704     |      65.16%       |      67.09%      |\n",
      "|  184  |    67.54%    |    0.5779     |      64.88%       |      66.10%      |\n",
      "|  185  |    67.44%    |    0.5886     |      64.98%       |      66.52%      |\n",
      "|  186  |    67.56%    |    0.5818     |      65.07%       |      66.88%      |\n",
      "|  187  |    67.52%    |    0.5894     |      65.03%       |      66.64%      |\n",
      "|  188  |    67.12%    |    0.5796     |      65.14%       |      66.49%      |\n",
      "|  189  |    67.55%    |    0.5879     |      65.06%       |      66.62%      |\n",
      "|  190  |    66.97%    |    0.5733     |      65.15%       |      66.65%      |\n",
      "|  191  |    67.24%    |    0.5843     |      65.05%       |      66.44%      |\n",
      "|  192  |    67.31%    |    0.5871     |      65.24%       |      66.93%      |\n",
      "|  193  |    67.50%    |    0.5861     |      65.17%       |      66.63%      |\n",
      "|  194  |    67.38%    |    0.5643     |      64.93%       |      65.80%      |\n",
      "|  195  |    67.42%    |    0.5745     |      65.10%       |      66.51%      |\n",
      "|  196  |    67.59%    |    0.5821     |      65.23%       |      66.65%      |\n",
      "|  197  |    67.63%    |    0.5836     |      65.05%       |      66.83%      |\n",
      "|  198  |    67.46%    |    0.5794     |      64.95%       |      66.38%      |\n",
      "|  199  |    67.31%    |    0.5722     |      64.94%       |      66.59%      |\n",
      "|  200  |    67.33%    |    0.5836     |      65.04%       |      66.88%      |\n"
     ]
    },
    {
     "data": {
      "application/vnd.jupyter.widget-view+json": {
       "model_id": "1ac17b4f3bf34a7ab1f1a2a06d9b9df3",
       "version_major": 2,
       "version_minor": 0
      },
      "text/plain": [
       "VBox(children=(Label(value='0.001 MB of 0.001 MB uploaded\\r'), FloatProgress(value=1.0, max=1.0)))"
      ]
     },
     "metadata": {},
     "output_type": "display_data"
    },
    {
     "data": {
      "text/html": [
       "<style>\n",
       "    table.wandb td:nth-child(1) { padding: 0 10px; text-align: left ; width: auto;} td:nth-child(2) {text-align: left ; width: 100%}\n",
       "    .wandb-row { display: flex; flex-direction: row; flex-wrap: wrap; justify-content: flex-start; width: 100% }\n",
       "    .wandb-col { display: flex; flex-direction: column; flex-basis: 100%; flex: 1; padding: 10px; }\n",
       "    </style>\n",
       "<div class=\"wandb-row\"><div class=\"wandb-col\"><h3>Run history:</h3><br/><table class=\"wandb\"><tr><td>epoch</td><td>▁▁▁▁▂▂▂▂▂▃▃▃▃▃▃▄▄▄▄▄▅▅▅▅▅▅▆▆▆▆▆▇▇▇▇▇▇███</td></tr><tr><td>test_accuracy</td><td>▅▁▃▄▆▂▃▅▆▆▇▇▁▄▃▅▅▃▄▄▆█▄▆▆▅▅▅▄▆▆▅▄▆▅▄▂▆▃▄</td></tr><tr><td>test_last_bit_accuracy</td><td>▆▄▂▃▆▅▅▄▅▄▅▅▃▄▅▇▆▅▅▅▄█▄▇▅▆▆▅▁█▆▆▇▅▅█▃▅▂▆</td></tr><tr><td>test_last_bit_loss</td><td>█▅▄▃▄▃▃▃▃▂▂▂▂▂▂▁▂▂▂▂▂▂▁▁▁▁▂▂▁▁▁▁▁▁▂▁▁▁▃▁</td></tr><tr><td>train_accuracy</td><td>▃▁▂▃▃▄▄▄▃▄▄▃▅▅▅▅▅▅▅▅▆▆▅▇▇▆▅▇▇█▅▇▇█▇▆█▆▇▇</td></tr><tr><td>train_loss</td><td>█▅▄▂▄▅▆▃▃▃▃▆▂▄▄▃▅▂▄▄▄▂▄▃▅▂▄▃▂▃▃▃▄▂▃▃▃▃▁▃</td></tr></table><br/></div><div class=\"wandb-col\"><h3>Run summary:</h3><br/><table class=\"wandb\"><tr><td>epoch</td><td>200</td></tr><tr><td>test_accuracy</td><td>0.6504</td></tr><tr><td>test_last_bit_accuracy</td><td>0.66883</td></tr><tr><td>test_last_bit_loss</td><td>0.50933</td></tr><tr><td>train_accuracy</td><td>0.6733</td></tr><tr><td>train_loss</td><td>0.5836</td></tr></table><br/></div></div>"
      ],
      "text/plain": [
       "<IPython.core.display.HTML object>"
      ]
     },
     "metadata": {},
     "output_type": "display_data"
    },
    {
     "data": {
      "text/html": [
       " View run <strong style=\"color:#cdcd00\">soft-sweep-6</strong> at: <a href='https://wandb.ai/adamimos/epsilon-transformer/runs/hw58r4fe' target=\"_blank\">https://wandb.ai/adamimos/epsilon-transformer/runs/hw58r4fe</a><br/>Synced 5 W&B file(s), 0 media file(s), 0 artifact file(s) and 0 other file(s)"
      ],
      "text/plain": [
       "<IPython.core.display.HTML object>"
      ]
     },
     "metadata": {},
     "output_type": "display_data"
    },
    {
     "data": {
      "text/html": [
       "Find logs at: <code>./wandb/run-20240119_162754-hw58r4fe/logs</code>"
      ],
      "text/plain": [
       "<IPython.core.display.HTML object>"
      ]
     },
     "metadata": {},
     "output_type": "display_data"
    },
    {
     "name": "stderr",
     "output_type": "stream",
     "text": [
      "\u001b[34m\u001b[1mwandb\u001b[0m: Agent Starting Run: 90df40em with config:\n",
      "\u001b[34m\u001b[1mwandb\u001b[0m: \tlearning_rate: 0.002154434690031882\n",
      "\u001b[34m\u001b[1mwandb\u001b[0m: \tweight_decay: 0\n",
      "Failed to detect the name of this notebook, you can set it manually with the WANDB_NOTEBOOK_NAME environment variable to enable code saving.\n"
     ]
    },
    {
     "data": {
      "text/html": [
       "wandb version 0.16.2 is available!  To upgrade, please run:\n",
       " $ pip install wandb --upgrade"
      ],
      "text/plain": [
       "<IPython.core.display.HTML object>"
      ]
     },
     "metadata": {},
     "output_type": "display_data"
    },
    {
     "data": {
      "text/html": [
       "Tracking run with wandb version 0.16.1"
      ],
      "text/plain": [
       "<IPython.core.display.HTML object>"
      ]
     },
     "metadata": {},
     "output_type": "display_data"
    },
    {
     "data": {
      "text/html": [
       "Run data is saved locally in <code>/Users/adamimos/Documents/GitHub/epsilon-transformers/wandb/run-20240119_164408-90df40em</code>"
      ],
      "text/plain": [
       "<IPython.core.display.HTML object>"
      ]
     },
     "metadata": {},
     "output_type": "display_data"
    },
    {
     "data": {
      "text/html": [
       "Syncing run <strong><a href='https://wandb.ai/adamimos/epsilon-transformer/runs/90df40em' target=\"_blank\">apricot-sweep-7</a></strong> to <a href='https://wandb.ai/adamimos/epsilon-transformer' target=\"_blank\">Weights & Biases</a> (<a href='https://wandb.me/run' target=\"_blank\">docs</a>)<br/>Sweep page: <a href='https://wandb.ai/adamimos/epsilon-transformer/sweeps/eaedbzxy' target=\"_blank\">https://wandb.ai/adamimos/epsilon-transformer/sweeps/eaedbzxy</a>"
      ],
      "text/plain": [
       "<IPython.core.display.HTML object>"
      ]
     },
     "metadata": {},
     "output_type": "display_data"
    },
    {
     "data": {
      "text/html": [
       " View project at <a href='https://wandb.ai/adamimos/epsilon-transformer' target=\"_blank\">https://wandb.ai/adamimos/epsilon-transformer</a>"
      ],
      "text/plain": [
       "<IPython.core.display.HTML object>"
      ]
     },
     "metadata": {},
     "output_type": "display_data"
    },
    {
     "data": {
      "text/html": [
       " View sweep at <a href='https://wandb.ai/adamimos/epsilon-transformer/sweeps/eaedbzxy' target=\"_blank\">https://wandb.ai/adamimos/epsilon-transformer/sweeps/eaedbzxy</a>"
      ],
      "text/plain": [
       "<IPython.core.display.HTML object>"
      ]
     },
     "metadata": {},
     "output_type": "display_data"
    },
    {
     "data": {
      "text/html": [
       " View run at <a href='https://wandb.ai/adamimos/epsilon-transformer/runs/90df40em' target=\"_blank\">https://wandb.ai/adamimos/epsilon-transformer/runs/90df40em</a>"
      ],
      "text/plain": [
       "<IPython.core.display.HTML object>"
      ]
     },
     "metadata": {},
     "output_type": "display_data"
    },
    {
     "name": "stdout",
     "output_type": "stream",
     "text": [
      "| Epoch | Training Acc. | Loss | Overall Acc. | Last Bit Acc. |\n",
      "|   1   |    62.81%    |    0.6433     |      64.95%       |      66.70%      |\n",
      "|   2   |    66.23%    |    0.6035     |      64.88%       |      65.92%      |\n",
      "|   3   |    66.27%    |    0.5864     |      65.25%       |      67.10%      |\n",
      "|   4   |    66.65%    |    0.5832     |      64.79%       |      66.05%      |\n",
      "|   5   |    66.76%    |    0.6021     |      65.11%       |      66.51%      |\n",
      "|   6   |    66.61%    |    0.6028     |      65.12%       |      66.95%      |\n",
      "|   7   |    66.78%    |    0.5833     |      65.04%       |      66.50%      |\n",
      "|   8   |    66.97%    |    0.6049     |      64.91%       |      66.36%      |\n",
      "|   9   |    66.85%    |    0.6142     |      64.91%       |      66.25%      |\n",
      "|  10   |    66.83%    |    0.5786     |      64.96%       |      66.63%      |\n",
      "|  11   |    67.03%    |    0.5744     |      64.84%       |      66.28%      |\n",
      "|  12   |    66.78%    |    0.6026     |      64.88%       |      66.22%      |\n",
      "|  13   |    66.77%    |    0.5785     |      64.97%       |      66.55%      |\n",
      "|  14   |    67.04%    |    0.5686     |      64.95%       |      66.63%      |\n",
      "|  15   |    66.98%    |    0.5932     |      64.83%       |      66.29%      |\n",
      "|  16   |    67.25%    |    0.5858     |      64.88%       |      66.41%      |\n",
      "|  17   |    67.02%    |    0.5837     |      64.94%       |      66.37%      |\n",
      "|  18   |    66.99%    |    0.5902     |      64.83%       |      66.71%      |\n",
      "|  19   |    67.01%    |    0.5895     |      64.88%       |      66.04%      |\n",
      "|  20   |    67.13%    |    0.5952     |      65.02%       |      65.90%      |\n",
      "|  21   |    66.84%    |    0.6042     |      64.81%       |      65.84%      |\n",
      "|  22   |    66.75%    |    0.5807     |      65.09%       |      66.70%      |\n",
      "|  23   |    67.06%    |    0.5828     |      65.00%       |      66.77%      |\n",
      "|  24   |    67.12%    |    0.5754     |      65.14%       |      66.57%      |\n",
      "|  25   |    67.22%    |    0.5861     |      65.00%       |      66.50%      |\n",
      "|  26   |    67.02%    |    0.5927     |      64.99%       |      66.47%      |\n",
      "|  27   |    67.01%    |    0.5844     |      65.06%       |      66.23%      |\n",
      "|  28   |    66.79%    |    0.5740     |      65.15%       |      66.18%      |\n",
      "|  29   |    66.89%    |    0.5832     |      65.07%       |      66.39%      |\n",
      "|  30   |    67.15%    |    0.5967     |      64.93%       |      66.51%      |\n",
      "|  31   |    66.98%    |    0.5755     |      65.05%       |      66.72%      |\n",
      "|  32   |    66.88%    |    0.5760     |      65.13%       |      66.72%      |\n",
      "|  33   |    67.11%    |    0.5783     |      65.17%       |      67.26%      |\n",
      "|  34   |    67.30%    |    0.5963     |      65.01%       |      66.21%      |\n",
      "|  35   |    66.95%    |    0.5875     |      65.06%       |      66.46%      |\n",
      "|  36   |    66.87%    |    0.5846     |      65.11%       |      67.10%      |\n",
      "|  37   |    66.79%    |    0.5771     |      65.00%       |      66.54%      |\n",
      "|  38   |    67.04%    |    0.5946     |      64.99%       |      66.14%      |\n",
      "|  39   |    66.94%    |    0.5872     |      65.01%       |      66.83%      |\n",
      "|  40   |    67.29%    |    0.5732     |      64.92%       |      66.86%      |\n",
      "|  41   |    66.84%    |    0.5874     |      65.05%       |      66.47%      |\n",
      "|  42   |    67.09%    |    0.5685     |      64.86%       |      66.67%      |\n",
      "|  43   |    67.09%    |    0.5807     |      65.25%       |      66.65%      |\n",
      "|  44   |    67.25%    |    0.5678     |      65.31%       |      67.12%      |\n",
      "|  45   |    67.05%    |    0.5751     |      65.12%       |      66.39%      |\n",
      "|  46   |    67.09%    |    0.5789     |      64.92%       |      66.38%      |\n",
      "|  47   |    67.56%    |    0.5735     |      65.14%       |      66.57%      |\n",
      "|  48   |    67.08%    |    0.5850     |      65.05%       |      66.29%      |\n",
      "|  49   |    66.82%    |    0.5661     |      65.20%       |      66.89%      |\n",
      "|  50   |    67.17%    |    0.5778     |      65.14%       |      66.71%      |\n",
      "|  51   |    67.13%    |    0.5778     |      65.04%       |      66.75%      |\n",
      "|  52   |    67.34%    |    0.5809     |      65.02%       |      67.29%      |\n",
      "|  53   |    67.17%    |    0.5768     |      65.03%       |      66.62%      |\n",
      "|  54   |    67.10%    |    0.5778     |      65.04%       |      66.78%      |\n",
      "|  55   |    67.04%    |    0.5858     |      65.09%       |      66.56%      |\n",
      "|  56   |    67.01%    |    0.5856     |      65.13%       |      67.06%      |\n",
      "|  57   |    67.13%    |    0.5647     |      64.99%       |      66.59%      |\n",
      "|  58   |    67.22%    |    0.5785     |      65.15%       |      66.76%      |\n",
      "|  59   |    67.25%    |    0.5728     |      65.06%       |      66.88%      |\n",
      "|  60   |    67.28%    |    0.5750     |      65.00%       |      66.70%      |\n",
      "|  61   |    67.24%    |    0.5818     |      65.01%       |      66.96%      |\n",
      "|  62   |    67.34%    |    0.5865     |      65.09%       |      66.87%      |\n",
      "|  63   |    67.07%    |    0.5902     |      65.01%       |      66.21%      |\n",
      "|  64   |    67.16%    |    0.5887     |      65.20%       |      66.59%      |\n",
      "|  65   |    67.27%    |    0.5818     |      65.03%       |      66.10%      |\n",
      "|  66   |    67.34%    |    0.5693     |      65.03%       |      66.78%      |\n",
      "|  67   |    67.44%    |    0.5856     |      64.97%       |      66.36%      |\n",
      "|  68   |    67.56%    |    0.5829     |      65.00%       |      66.84%      |\n",
      "|  69   |    67.28%    |    0.5798     |      64.98%       |      66.57%      |\n",
      "|  70   |    67.28%    |    0.5814     |      65.04%       |      66.75%      |\n",
      "|  71   |    67.32%    |    0.5787     |      65.00%       |      66.65%      |\n",
      "|  72   |    67.18%    |    0.5827     |      64.93%       |      66.91%      |\n",
      "|  73   |    67.35%    |    0.5781     |      65.04%       |      66.84%      |\n",
      "|  74   |    67.54%    |    0.5719     |      64.81%       |      66.39%      |\n",
      "|  75   |    67.06%    |    0.5896     |      65.07%       |      66.58%      |\n",
      "|  76   |    67.26%    |    0.5864     |      64.97%       |      66.82%      |\n",
      "|  77   |    67.26%    |    0.5826     |      64.91%       |      66.16%      |\n",
      "|  78   |    67.23%    |    0.5838     |      65.05%       |      66.63%      |\n",
      "|  79   |    67.38%    |    0.6083     |      64.92%       |      66.44%      |\n",
      "|  80   |    67.18%    |    0.5895     |      65.04%       |      66.70%      |\n",
      "|  81   |    67.45%    |    0.5728     |      64.98%       |      67.07%      |\n",
      "|  82   |    67.23%    |    0.5786     |      64.85%       |      66.61%      |\n",
      "|  83   |    67.37%    |    0.5704     |      64.96%       |      66.35%      |\n",
      "|  84   |    67.28%    |    0.5861     |      65.03%       |      67.04%      |\n",
      "|  85   |    67.27%    |    0.5903     |      65.02%       |      66.39%      |\n",
      "|  86   |    67.26%    |    0.5800     |      65.20%       |      67.05%      |\n",
      "|  87   |    67.39%    |    0.5898     |      64.98%       |      66.06%      |\n",
      "|  88   |    67.27%    |    0.5868     |      64.93%       |      66.25%      |\n",
      "|  89   |    67.24%    |    0.5764     |      65.17%       |      66.94%      |\n",
      "|  90   |    67.24%    |    0.5913     |      65.07%       |      66.18%      |\n",
      "|  91   |    67.46%    |    0.5854     |      65.15%       |      67.08%      |\n",
      "|  92   |    67.09%    |    0.5782     |      65.05%       |      66.55%      |\n",
      "|  93   |    67.22%    |    0.5634     |      65.09%       |      66.64%      |\n",
      "|  94   |    67.23%    |    0.5803     |      64.96%       |      66.75%      |\n",
      "|  95   |    67.36%    |    0.5825     |      65.00%       |      66.23%      |\n",
      "|  96   |    67.22%    |    0.5753     |      64.82%       |      66.44%      |\n",
      "|  97   |    67.41%    |    0.5735     |      65.04%       |      66.82%      |\n",
      "|  98   |    67.34%    |    0.5835     |      65.22%       |      67.04%      |\n",
      "|  99   |    67.46%    |    0.5871     |      65.11%       |      67.21%      |\n",
      "|  100  |    67.26%    |    0.5794     |      65.11%       |      66.88%      |\n",
      "|  101  |    67.43%    |    0.5788     |      65.06%       |      67.00%      |\n",
      "|  102  |    67.37%    |    0.5798     |      65.23%       |      67.20%      |\n",
      "|  103  |    67.35%    |    0.5767     |      65.07%       |      66.24%      |\n",
      "|  104  |    67.43%    |    0.5778     |      65.08%       |      66.93%      |\n",
      "|  105  |    67.35%    |    0.5758     |      64.89%       |      66.39%      |\n",
      "|  106  |    67.35%    |    0.5772     |      64.81%       |      66.25%      |\n",
      "|  107  |    67.52%    |    0.5675     |      65.15%       |      67.13%      |\n",
      "|  108  |    67.37%    |    0.5763     |      64.85%       |      65.98%      |\n",
      "|  109  |    67.35%    |    0.5829     |      64.95%       |      66.93%      |\n",
      "|  110  |    67.54%    |    0.5803     |      65.20%       |      66.74%      |\n",
      "|  111  |    67.55%    |    0.5834     |      65.08%       |      67.05%      |\n",
      "|  112  |    67.38%    |    0.5875     |      64.85%       |      66.20%      |\n",
      "|  113  |    67.41%    |    0.5852     |      64.95%       |      66.68%      |\n",
      "|  114  |    67.58%    |    0.5702     |      64.97%       |      66.55%      |\n",
      "|  115  |    67.30%    |    0.5767     |      65.02%       |      66.08%      |\n",
      "|  116  |    67.47%    |    0.5802     |      64.81%       |      66.78%      |\n",
      "|  117  |    67.64%    |    0.5855     |      65.01%       |      65.79%      |\n",
      "|  118  |    67.35%    |    0.5830     |      65.08%       |      66.64%      |\n",
      "|  119  |    67.52%    |    0.5608     |      65.04%       |      66.65%      |\n",
      "|  120  |    67.50%    |    0.5836     |      65.03%       |      66.50%      |\n",
      "|  121  |    67.38%    |    0.5804     |      65.00%       |      66.76%      |\n",
      "|  122  |    67.52%    |    0.5769     |      64.94%       |      66.59%      |\n",
      "|  123  |    67.45%    |    0.5912     |      65.00%       |      66.94%      |\n",
      "|  124  |    67.40%    |    0.5760     |      65.06%       |      66.76%      |\n",
      "|  125  |    67.38%    |    0.5911     |      64.96%       |      66.74%      |\n",
      "|  126  |    67.27%    |    0.5830     |      65.02%       |      66.13%      |\n",
      "|  127  |    67.56%    |    0.5769     |      65.07%       |      66.74%      |\n",
      "|  128  |    67.42%    |    0.5823     |      64.86%       |      66.35%      |\n",
      "|  129  |    67.33%    |    0.5863     |      65.04%       |      66.77%      |\n",
      "|  130  |    67.62%    |    0.5845     |      64.84%       |      66.45%      |\n",
      "|  131  |    67.57%    |    0.5740     |      64.80%       |      66.43%      |\n",
      "|  132  |    67.60%    |    0.5768     |      64.99%       |      66.27%      |\n",
      "|  133  |    67.55%    |    0.5799     |      65.12%       |      67.14%      |\n",
      "|  134  |    67.73%    |    0.5826     |      65.07%       |      66.06%      |\n",
      "|  135  |    67.50%    |    0.5667     |      64.87%       |      66.03%      |\n",
      "|  136  |    67.26%    |    0.5771     |      64.87%       |      66.25%      |\n",
      "|  137  |    67.54%    |    0.5849     |      64.92%       |      66.25%      |\n",
      "|  138  |    67.66%    |    0.5746     |      64.89%       |      66.39%      |\n",
      "|  139  |    67.38%    |    0.5764     |      64.98%       |      66.19%      |\n",
      "|  140  |    67.33%    |    0.5891     |      64.90%       |      66.23%      |\n",
      "|  141  |    67.43%    |    0.5815     |      65.03%       |      66.38%      |\n",
      "|  142  |    67.64%    |    0.5808     |      64.93%       |      66.74%      |\n",
      "|  143  |    67.65%    |    0.5807     |      64.92%       |      66.43%      |\n",
      "|  144  |    67.34%    |    0.5800     |      65.04%       |      66.79%      |\n",
      "|  145  |    67.62%    |    0.5803     |      64.96%       |      66.59%      |\n",
      "|  146  |    67.46%    |    0.5851     |      64.94%       |      66.77%      |\n",
      "|  147  |    67.62%    |    0.5934     |      64.75%       |      66.23%      |\n",
      "|  148  |    67.49%    |    0.5700     |      64.96%       |      66.19%      |\n",
      "|  149  |    67.51%    |    0.5868     |      65.00%       |      66.40%      |\n",
      "|  150  |    67.34%    |    0.5666     |      65.18%       |      66.30%      |\n",
      "|  151  |    67.47%    |    0.5803     |      64.85%       |      65.70%      |\n",
      "|  152  |    67.57%    |    0.5875     |      64.80%       |      66.03%      |\n",
      "|  153  |    67.59%    |    0.5752     |      64.99%       |      66.75%      |\n",
      "|  154  |    67.52%    |    0.5747     |      64.99%       |      66.62%      |\n",
      "|  155  |    67.52%    |    0.5762     |      65.10%       |      66.72%      |\n",
      "|  156  |    67.37%    |    0.5779     |      64.97%       |      66.53%      |\n",
      "|  157  |    67.27%    |    0.5859     |      64.87%       |      66.21%      |\n",
      "|  158  |    67.54%    |    0.5782     |      64.87%       |      66.55%      |\n",
      "|  159  |    67.42%    |    0.5687     |      65.02%       |      66.65%      |\n",
      "|  160  |    67.60%    |    0.5800     |      65.05%       |      66.20%      |\n",
      "|  161  |    67.70%    |    0.5735     |      64.96%       |      66.06%      |\n",
      "|  162  |    67.57%    |    0.5764     |      64.95%       |      66.55%      |\n",
      "|  163  |    67.39%    |    0.5790     |      64.91%       |      66.48%      |\n",
      "|  164  |    67.41%    |    0.5794     |      64.95%       |      66.39%      |\n",
      "|  165  |    67.62%    |    0.5783     |      65.06%       |      66.77%      |\n",
      "|  166  |    67.47%    |    0.5991     |      64.99%       |      66.16%      |\n",
      "|  167  |    67.51%    |    0.5714     |      64.83%       |      66.31%      |\n",
      "|  168  |    67.61%    |    0.5769     |      65.19%       |      66.47%      |\n",
      "|  169  |    67.76%    |    0.5830     |      65.11%       |      66.31%      |\n",
      "|  170  |    67.40%    |    0.5864     |      65.01%       |      66.44%      |\n",
      "|  171  |    67.35%    |    0.5767     |      64.96%       |      66.33%      |\n",
      "|  172  |    67.52%    |    0.5781     |      64.96%       |      66.39%      |\n",
      "|  173  |    67.62%    |    0.5781     |      64.84%       |      66.08%      |\n",
      "|  174  |    67.34%    |    0.5797     |      65.07%       |      67.10%      |\n",
      "|  175  |    67.48%    |    0.5849     |      64.74%       |      66.37%      |\n",
      "|  176  |    67.24%    |    0.5691     |      65.13%       |      66.84%      |\n",
      "|  177  |    67.57%    |    0.5831     |      64.85%       |      66.19%      |\n",
      "|  178  |    67.45%    |    0.5640     |      64.96%       |      65.72%      |\n",
      "|  179  |    67.25%    |    0.5816     |      65.18%       |      66.50%      |\n",
      "|  180  |    67.47%    |    0.5859     |      65.04%       |      66.82%      |\n",
      "|  181  |    67.35%    |    0.5868     |      65.01%       |      66.46%      |\n",
      "|  182  |    67.33%    |    0.5876     |      64.89%       |      66.13%      |\n",
      "|  183  |    67.67%    |    0.5792     |      65.10%       |      66.57%      |\n",
      "|  184  |    67.67%    |    0.5893     |      64.93%       |      66.20%      |\n",
      "|  185  |    67.77%    |    0.5807     |      65.02%       |      66.88%      |\n",
      "|  186  |    67.42%    |    0.5803     |      65.12%       |      67.06%      |\n",
      "|  187  |    67.72%    |    0.5762     |      65.24%       |      66.82%      |\n",
      "|  188  |    67.46%    |    0.5768     |      64.94%       |      66.63%      |\n",
      "|  189  |    67.27%    |    0.5746     |      65.04%       |      66.71%      |\n",
      "|  190  |    67.57%    |    0.5770     |      65.06%       |      66.74%      |\n",
      "|  191  |    67.67%    |    0.5714     |      64.96%       |      65.61%      |\n",
      "|  192  |    67.45%    |    0.5749     |      65.05%       |      66.79%      |\n",
      "|  193  |    67.30%    |    0.5813     |      65.07%       |      67.05%      |\n",
      "|  194  |    67.07%    |    0.5670     |      64.95%       |      66.21%      |\n",
      "|  195  |    67.55%    |    0.5754     |      64.90%       |      66.29%      |\n",
      "|  196  |    67.21%    |    0.5806     |      65.20%       |      66.46%      |\n",
      "|  197  |    67.36%    |    0.5723     |      64.88%       |      66.08%      |\n",
      "|  198  |    67.44%    |    0.5953     |      65.03%       |      66.61%      |\n",
      "|  199  |    67.56%    |    0.5775     |      65.00%       |      66.57%      |\n",
      "|  200  |    67.40%    |    0.5779     |      65.13%       |      67.08%      |\n"
     ]
    },
    {
     "data": {
      "application/vnd.jupyter.widget-view+json": {
       "model_id": "640274c271ce4676881eceda27aaccf9",
       "version_major": 2,
       "version_minor": 0
      },
      "text/plain": [
       "VBox(children=(Label(value='0.001 MB of 0.001 MB uploaded\\r'), FloatProgress(value=1.0, max=1.0)))"
      ]
     },
     "metadata": {},
     "output_type": "display_data"
    },
    {
     "data": {
      "text/html": [
       "<style>\n",
       "    table.wandb td:nth-child(1) { padding: 0 10px; text-align: left ; width: auto;} td:nth-child(2) {text-align: left ; width: 100%}\n",
       "    .wandb-row { display: flex; flex-direction: row; flex-wrap: wrap; justify-content: flex-start; width: 100% }\n",
       "    .wandb-col { display: flex; flex-direction: column; flex-basis: 100%; flex: 1; padding: 10px; }\n",
       "    </style>\n",
       "<div class=\"wandb-row\"><div class=\"wandb-col\"><h3>Run history:</h3><br/><table class=\"wandb\"><tr><td>epoch</td><td>▁▁▁▁▂▂▂▂▂▃▃▃▃▃▃▄▄▄▄▄▅▅▅▅▅▅▆▆▆▆▆▇▇▇▇▇▇███</td></tr><tr><td>test_accuracy</td><td>▂▆▂▂▅▄▆▆▁▂▄▆▅▄▃▅▁▃▅██▁▁▅▃▁▅▂▅▃▄▂▃▇▅▃▃▃▃▆</td></tr><tr><td>test_last_bit_accuracy</td><td>▂▇▃▄▅▄▅▇▅▄█▇▆▆▆▅▅▃▅▇█▂▃▅▅▄▃▄▆▃▅▅▄▄▇▁▃▅▃▇</td></tr><tr><td>test_last_bit_loss</td><td>█▄▄▃▂▂▂▂▂▂▂▂▁▂▁▁▂▂▂▁▂▁▂▁▁▂▁▁▁▁▁▁▁▁▁▁▂▁▁▂</td></tr><tr><td>train_accuracy</td><td>▁▃▄▆▃▅▄▄▅▅▆▅▆▇▅▆▆▆▅▆▆▆▆▆▇▇██▆▇▇▇▆▇▆▇█▇▅▆</td></tr><tr><td>train_loss</td><td>███▅▄▆▃▅▂▄▄▅▅▄▄▅▄▅▄▄▄▃▅▄▃▄▄▃▄▂▃▄▄▃▄▁▅▃▂▃</td></tr></table><br/></div><div class=\"wandb-col\"><h3>Run summary:</h3><br/><table class=\"wandb\"><tr><td>epoch</td><td>200</td></tr><tr><td>test_accuracy</td><td>0.65127</td></tr><tr><td>test_last_bit_accuracy</td><td>0.67076</td></tr><tr><td>test_last_bit_loss</td><td>0.51472</td></tr><tr><td>train_accuracy</td><td>0.67402</td></tr><tr><td>train_loss</td><td>0.57795</td></tr></table><br/></div></div>"
      ],
      "text/plain": [
       "<IPython.core.display.HTML object>"
      ]
     },
     "metadata": {},
     "output_type": "display_data"
    },
    {
     "data": {
      "text/html": [
       " View run <strong style=\"color:#cdcd00\">apricot-sweep-7</strong> at: <a href='https://wandb.ai/adamimos/epsilon-transformer/runs/90df40em' target=\"_blank\">https://wandb.ai/adamimos/epsilon-transformer/runs/90df40em</a><br/>Synced 5 W&B file(s), 0 media file(s), 0 artifact file(s) and 0 other file(s)"
      ],
      "text/plain": [
       "<IPython.core.display.HTML object>"
      ]
     },
     "metadata": {},
     "output_type": "display_data"
    },
    {
     "data": {
      "text/html": [
       "Find logs at: <code>./wandb/run-20240119_164408-90df40em/logs</code>"
      ],
      "text/plain": [
       "<IPython.core.display.HTML object>"
      ]
     },
     "metadata": {},
     "output_type": "display_data"
    },
    {
     "name": "stderr",
     "output_type": "stream",
     "text": [
      "\u001b[34m\u001b[1mwandb\u001b[0m: Agent Starting Run: wmy54nnt with config:\n",
      "\u001b[34m\u001b[1mwandb\u001b[0m: \tlearning_rate: 0.003593813663804626\n",
      "\u001b[34m\u001b[1mwandb\u001b[0m: \tweight_decay: 0\n",
      "Failed to detect the name of this notebook, you can set it manually with the WANDB_NOTEBOOK_NAME environment variable to enable code saving.\n"
     ]
    },
    {
     "data": {
      "text/html": [
       "wandb version 0.16.2 is available!  To upgrade, please run:\n",
       " $ pip install wandb --upgrade"
      ],
      "text/plain": [
       "<IPython.core.display.HTML object>"
      ]
     },
     "metadata": {},
     "output_type": "display_data"
    },
    {
     "data": {
      "text/html": [
       "Tracking run with wandb version 0.16.1"
      ],
      "text/plain": [
       "<IPython.core.display.HTML object>"
      ]
     },
     "metadata": {},
     "output_type": "display_data"
    },
    {
     "data": {
      "text/html": [
       "Run data is saved locally in <code>/Users/adamimos/Documents/GitHub/epsilon-transformers/wandb/run-20240119_170017-wmy54nnt</code>"
      ],
      "text/plain": [
       "<IPython.core.display.HTML object>"
      ]
     },
     "metadata": {},
     "output_type": "display_data"
    },
    {
     "data": {
      "text/html": [
       "Syncing run <strong><a href='https://wandb.ai/adamimos/epsilon-transformer/runs/wmy54nnt' target=\"_blank\">floral-sweep-8</a></strong> to <a href='https://wandb.ai/adamimos/epsilon-transformer' target=\"_blank\">Weights & Biases</a> (<a href='https://wandb.me/run' target=\"_blank\">docs</a>)<br/>Sweep page: <a href='https://wandb.ai/adamimos/epsilon-transformer/sweeps/eaedbzxy' target=\"_blank\">https://wandb.ai/adamimos/epsilon-transformer/sweeps/eaedbzxy</a>"
      ],
      "text/plain": [
       "<IPython.core.display.HTML object>"
      ]
     },
     "metadata": {},
     "output_type": "display_data"
    },
    {
     "data": {
      "text/html": [
       " View project at <a href='https://wandb.ai/adamimos/epsilon-transformer' target=\"_blank\">https://wandb.ai/adamimos/epsilon-transformer</a>"
      ],
      "text/plain": [
       "<IPython.core.display.HTML object>"
      ]
     },
     "metadata": {},
     "output_type": "display_data"
    },
    {
     "data": {
      "text/html": [
       " View sweep at <a href='https://wandb.ai/adamimos/epsilon-transformer/sweeps/eaedbzxy' target=\"_blank\">https://wandb.ai/adamimos/epsilon-transformer/sweeps/eaedbzxy</a>"
      ],
      "text/plain": [
       "<IPython.core.display.HTML object>"
      ]
     },
     "metadata": {},
     "output_type": "display_data"
    },
    {
     "data": {
      "text/html": [
       " View run at <a href='https://wandb.ai/adamimos/epsilon-transformer/runs/wmy54nnt' target=\"_blank\">https://wandb.ai/adamimos/epsilon-transformer/runs/wmy54nnt</a>"
      ],
      "text/plain": [
       "<IPython.core.display.HTML object>"
      ]
     },
     "metadata": {},
     "output_type": "display_data"
    },
    {
     "name": "stdout",
     "output_type": "stream",
     "text": [
      "| Epoch | Training Acc. | Loss | Overall Acc. | Last Bit Acc. |\n",
      "|   1   |    63.86%    |    0.6475     |      64.83%       |      66.43%      |\n",
      "|   2   |    66.10%    |    0.6116     |      65.09%       |      66.78%      |\n",
      "|   3   |    66.19%    |    0.5942     |      65.14%       |      67.07%      |\n",
      "|   4   |    66.30%    |    0.5933     |      64.62%       |      66.51%      |\n",
      "|   5   |    65.93%    |    0.5784     |      65.11%       |      67.23%      |\n",
      "|   6   |    66.23%    |    0.6062     |      65.26%       |      67.27%      |\n",
      "|   7   |    66.25%    |    0.6071     |      64.79%       |      66.22%      |\n",
      "|   8   |    66.05%    |    0.5876     |      65.08%       |      67.14%      |\n",
      "|   9   |    66.57%    |    0.5820     |      64.70%       |      66.20%      |\n",
      "|  10   |    66.46%    |    0.5891     |      64.95%       |      66.23%      |\n",
      "|  11   |    66.46%    |    0.5830     |      65.07%       |      66.55%      |\n",
      "|  12   |    66.72%    |    0.5846     |      65.02%       |      66.86%      |\n",
      "|  13   |    66.51%    |    0.5950     |      65.16%       |      66.79%      |\n",
      "|  14   |    66.36%    |    0.5953     |      65.09%       |      66.70%      |\n",
      "|  15   |    66.53%    |    0.5808     |      65.24%       |      66.58%      |\n",
      "|  16   |    66.46%    |    0.5830     |      65.16%       |      66.71%      |\n",
      "|  17   |    66.69%    |    0.5829     |      65.14%       |      66.67%      |\n",
      "|  18   |    66.88%    |    0.5991     |      65.18%       |      66.30%      |\n",
      "|  19   |    66.50%    |    0.6010     |      65.12%       |      66.86%      |\n",
      "|  20   |    66.19%    |    0.5749     |      65.22%       |      66.88%      |\n",
      "|  21   |    66.32%    |    0.5939     |      65.05%       |      66.60%      |\n",
      "|  22   |    66.78%    |    0.5732     |      65.20%       |      67.05%      |\n",
      "|  23   |    66.62%    |    0.5820     |      65.23%       |      67.10%      |\n",
      "|  24   |    66.45%    |    0.5936     |      65.18%       |      66.97%      |\n",
      "|  25   |    66.71%    |    0.5813     |      65.24%       |      67.09%      |\n",
      "|  26   |    66.99%    |    0.5807     |      65.15%       |      66.79%      |\n",
      "|  27   |    66.68%    |    0.5836     |      64.81%       |      66.62%      |\n",
      "|  28   |    66.31%    |    0.5849     |      65.04%       |      66.04%      |\n",
      "|  29   |    66.74%    |    0.5869     |      65.04%       |      67.08%      |\n",
      "|  30   |    66.84%    |    0.5937     |      65.18%       |      66.68%      |\n",
      "|  31   |    66.66%    |    0.5691     |      65.14%       |      66.79%      |\n",
      "|  32   |    66.75%    |    0.5803     |      64.91%       |      66.60%      |\n",
      "|  33   |    66.53%    |    0.5834     |      65.15%       |      66.80%      |\n",
      "|  34   |    66.60%    |    0.5837     |      65.10%       |      66.69%      |\n",
      "|  35   |    66.88%    |    0.5847     |      65.05%       |      66.42%      |\n",
      "|  36   |    66.79%    |    0.5828     |      65.21%       |      67.10%      |\n",
      "|  37   |    66.71%    |    0.5797     |      65.05%       |      66.48%      |\n",
      "|  38   |    66.71%    |    0.5841     |      64.94%       |      65.84%      |\n",
      "|  39   |    66.68%    |    0.5716     |      65.21%       |      66.27%      |\n",
      "|  40   |    66.70%    |    0.5866     |      65.11%       |      66.61%      |\n",
      "|  41   |    66.45%    |    0.5862     |      65.13%       |      67.15%      |\n",
      "|  42   |    67.07%    |    0.5869     |      65.09%       |      67.05%      |\n",
      "|  43   |    66.64%    |    0.5839     |      65.19%       |      66.87%      |\n",
      "|  44   |    66.65%    |    0.5817     |      65.01%       |      66.70%      |\n",
      "|  45   |    66.99%    |    0.5775     |      65.25%       |      67.29%      |\n",
      "|  46   |    66.80%    |    0.5796     |      65.06%       |      66.68%      |\n",
      "|  47   |    66.83%    |    0.5864     |      65.13%       |      66.83%      |\n",
      "|  48   |    66.74%    |    0.5898     |      65.06%       |      67.06%      |\n",
      "|  49   |    66.61%    |    0.5849     |      64.89%       |      65.87%      |\n",
      "|  50   |    66.62%    |    0.5680     |      65.05%       |      66.71%      |\n",
      "|  51   |    66.64%    |    0.5823     |      65.12%       |      66.35%      |\n",
      "|  52   |    66.73%    |    0.5828     |      65.22%       |      66.33%      |\n",
      "|  53   |    66.54%    |    0.5824     |      65.07%       |      66.95%      |\n",
      "|  54   |    66.49%    |    0.5816     |      65.13%       |      66.62%      |\n",
      "|  55   |    66.66%    |    0.6048     |      64.85%       |      66.24%      |\n",
      "|  56   |    66.49%    |    0.5763     |      65.09%       |      66.47%      |\n",
      "|  57   |    66.59%    |    0.5771     |      64.91%       |      66.31%      |\n",
      "|  58   |    66.61%    |    0.5829     |      64.92%       |      66.66%      |\n",
      "|  59   |    66.57%    |    0.5891     |      65.00%       |      66.15%      |\n",
      "|  60   |    66.57%    |    0.5914     |      65.10%       |      66.60%      |\n",
      "|  61   |    66.77%    |    0.5818     |      64.97%       |      66.40%      |\n",
      "|  62   |    66.76%    |    0.5833     |      65.20%       |      67.21%      |\n",
      "|  63   |    66.70%    |    0.5862     |      65.02%       |      66.90%      |\n",
      "|  64   |    66.67%    |    0.5965     |      65.16%       |      67.10%      |\n",
      "|  65   |    66.65%    |    0.5962     |      65.10%       |      66.84%      |\n",
      "|  66   |    66.59%    |    0.5796     |      65.11%       |      66.82%      |\n",
      "|  67   |    67.04%    |    0.5761     |      65.12%       |      66.45%      |\n",
      "|  68   |    66.64%    |    0.5869     |      64.99%       |      66.75%      |\n",
      "|  69   |    66.66%    |    0.5824     |      65.17%       |      66.47%      |\n",
      "|  70   |    66.84%    |    0.5810     |      65.12%       |      66.63%      |\n",
      "|  71   |    66.85%    |    0.5772     |      65.25%       |      66.58%      |\n",
      "|  72   |    66.76%    |    0.5878     |      64.94%       |      66.01%      |\n",
      "|  73   |    66.64%    |    0.5779     |      65.18%       |      66.86%      |\n",
      "|  74   |    66.94%    |    0.5910     |      65.10%       |      66.63%      |\n",
      "|  75   |    66.73%    |    0.5826     |      64.98%       |      66.64%      |\n",
      "|  76   |    66.65%    |    0.5832     |      65.10%       |      66.76%      |\n",
      "|  77   |    66.86%    |    0.5798     |      65.23%       |      66.24%      |\n",
      "|  78   |    66.84%    |    0.5703     |      64.90%       |      65.87%      |\n",
      "|  79   |    66.76%    |    0.5828     |      65.30%       |      66.85%      |\n",
      "|  80   |    66.87%    |    0.5915     |      65.03%       |      66.43%      |\n",
      "|  81   |    66.63%    |    0.5844     |      65.19%       |      66.70%      |\n",
      "|  82   |    66.96%    |    0.5804     |      65.20%       |      66.66%      |\n",
      "|  83   |    66.75%    |    0.5847     |      65.15%       |      66.00%      |\n",
      "|  84   |    66.92%    |    0.5816     |      65.04%       |      66.22%      |\n",
      "|  85   |    67.05%    |    0.5750     |      65.27%       |      66.74%      |\n",
      "|  86   |    67.12%    |    0.5847     |      65.13%       |      66.54%      |\n",
      "|  87   |    66.90%    |    0.5797     |      65.04%       |      66.60%      |\n",
      "|  88   |    66.74%    |    0.5734     |      65.04%       |      66.42%      |\n",
      "|  89   |    66.87%    |    0.5876     |      65.06%       |      66.82%      |\n",
      "|  90   |    66.55%    |    0.5844     |      65.16%       |      66.70%      |\n",
      "|  91   |    66.95%    |    0.5933     |      64.76%       |      66.59%      |\n",
      "|  92   |    66.81%    |    0.5896     |      65.22%       |      66.99%      |\n",
      "|  93   |    67.11%    |    0.5799     |      65.24%       |      66.95%      |\n",
      "|  94   |    66.59%    |    0.5829     |      64.98%       |      65.46%      |\n",
      "|  95   |    66.52%    |    0.5736     |      65.06%       |      66.55%      |\n",
      "|  96   |    66.66%    |    0.5851     |      64.99%       |      66.66%      |\n",
      "|  97   |    66.90%    |    0.5744     |      65.22%       |      67.06%      |\n",
      "|  98   |    67.02%    |    0.5815     |      64.91%       |      66.36%      |\n",
      "|  99   |    66.87%    |    0.5837     |      65.24%       |      66.89%      |\n",
      "|  100  |    66.64%    |    0.5863     |      65.02%       |      66.72%      |\n",
      "|  101  |    66.76%    |    0.5851     |      65.13%       |      66.57%      |\n",
      "|  102  |    66.69%    |    0.5879     |      65.03%       |      66.97%      |\n",
      "|  103  |    66.66%    |    0.5843     |      65.08%       |      66.71%      |\n",
      "|  104  |    66.70%    |    0.5712     |      65.05%       |      66.34%      |\n",
      "|  105  |    67.09%    |    0.5713     |      65.22%       |      66.63%      |\n",
      "|  106  |    67.16%    |    0.5893     |      65.28%       |      67.51%      |\n",
      "|  107  |    66.65%    |    0.5805     |      65.18%       |      66.79%      |\n",
      "|  108  |    66.89%    |    0.5717     |      65.15%       |      66.94%      |\n",
      "|  109  |    67.05%    |    0.5747     |      65.20%       |      67.29%      |\n",
      "|  110  |    66.74%    |    0.5750     |      65.36%       |      67.67%      |\n",
      "|  111  |    67.22%    |    0.5788     |      65.12%       |      66.76%      |\n",
      "|  112  |    67.06%    |    0.5865     |      65.07%       |      66.18%      |\n",
      "|  113  |    67.00%    |    0.5748     |      65.18%       |      66.65%      |\n",
      "|  114  |    66.84%    |    0.5826     |      65.10%       |      66.63%      |\n",
      "|  115  |    66.74%    |    0.5777     |      65.03%       |      66.64%      |\n",
      "|  116  |    66.76%    |    0.5842     |      65.05%       |      66.72%      |\n",
      "|  117  |    67.08%    |    0.5758     |      65.07%       |      67.17%      |\n",
      "|  118  |    66.80%    |    0.5821     |      64.83%       |      66.03%      |\n",
      "|  119  |    66.87%    |    0.5848     |      65.22%       |      67.60%      |\n",
      "|  120  |    66.88%    |    0.5821     |      65.27%       |      67.29%      |\n",
      "|  121  |    66.73%    |    0.5911     |      65.14%       |      67.03%      |\n",
      "|  122  |    66.99%    |    0.5830     |      65.23%       |      66.57%      |\n",
      "|  123  |    67.28%    |    0.5778     |      65.17%       |      67.20%      |\n",
      "|  124  |    67.03%    |    0.5891     |      64.97%       |      66.37%      |\n",
      "|  125  |    66.73%    |    0.5748     |      65.09%       |      67.11%      |\n",
      "|  126  |    66.62%    |    0.5809     |      65.14%       |      66.80%      |\n",
      "|  127  |    66.82%    |    0.5762     |      65.09%       |      67.29%      |\n",
      "|  128  |    66.90%    |    0.5802     |      65.11%       |      66.07%      |\n",
      "|  129  |    66.71%    |    0.5873     |      65.12%       |      66.43%      |\n",
      "|  130  |    66.94%    |    0.5768     |      65.27%       |      67.08%      |\n",
      "|  131  |    66.90%    |    0.5820     |      65.20%       |      66.86%      |\n",
      "|  132  |    66.94%    |    0.5761     |      65.11%       |      66.71%      |\n",
      "|  133  |    66.79%    |    0.5766     |      64.84%       |      66.14%      |\n",
      "|  134  |    66.80%    |    0.5870     |      65.06%       |      66.91%      |\n",
      "|  135  |    66.90%    |    0.5772     |      65.22%       |      66.53%      |\n",
      "|  136  |    66.90%    |    0.5885     |      65.02%       |      66.49%      |\n",
      "|  137  |    66.95%    |    0.5951     |      65.19%       |      66.87%      |\n",
      "|  138  |    67.01%    |    0.5716     |      65.23%       |      67.39%      |\n",
      "|  139  |    67.02%    |    0.5707     |      65.14%       |      67.02%      |\n",
      "|  140  |    66.94%    |    0.5837     |      65.04%       |      66.64%      |\n",
      "|  141  |    67.23%    |    0.5874     |      65.11%       |      66.40%      |\n",
      "|  142  |    66.89%    |    0.5829     |      65.23%       |      67.09%      |\n",
      "|  143  |    66.82%    |    0.5781     |      64.60%       |      65.65%      |\n",
      "|  144  |    66.65%    |    0.5869     |      65.05%       |      66.39%      |\n",
      "|  145  |    66.99%    |    0.5790     |      65.13%       |      66.83%      |\n",
      "|  146  |    66.88%    |    0.5817     |      65.08%       |      67.15%      |\n",
      "|  147  |    67.00%    |    0.5756     |      65.22%       |      66.69%      |\n",
      "|  148  |    66.88%    |    0.5641     |      65.24%       |      67.04%      |\n",
      "|  149  |    66.88%    |    0.5809     |      65.02%       |      66.90%      |\n",
      "|  150  |    67.04%    |    0.5812     |      65.17%       |      66.79%      |\n",
      "|  151  |    67.10%    |    0.5833     |      65.16%       |      67.19%      |\n",
      "|  152  |    66.66%    |    0.5812     |      64.94%       |      66.42%      |\n",
      "|  153  |    66.74%    |    0.5791     |      64.93%       |      66.45%      |\n",
      "|  154  |    67.07%    |    0.5816     |      64.94%       |      66.76%      |\n",
      "|  155  |    66.81%    |    0.5846     |      65.00%       |      66.86%      |\n",
      "|  156  |    67.16%    |    0.5905     |      64.84%       |      64.88%      |\n",
      "|  157  |    67.35%    |    0.5730     |      65.11%       |      66.55%      |\n",
      "|  158  |    67.02%    |    0.5748     |      65.12%       |      66.70%      |\n",
      "|  159  |    66.83%    |    0.5678     |      65.05%       |      66.46%      |\n",
      "|  160  |    67.03%    |    0.5860     |      64.95%       |      66.56%      |\n",
      "|  161  |    66.78%    |    0.5724     |      65.02%       |      66.45%      |\n",
      "|  162  |    66.76%    |    0.5872     |      65.01%       |      66.55%      |\n",
      "|  163  |    66.54%    |    0.5704     |      65.08%       |      66.21%      |\n",
      "|  164  |    67.15%    |    0.5745     |      65.12%       |      66.74%      |\n",
      "|  165  |    67.10%    |    0.5846     |      65.20%       |      67.07%      |\n",
      "|  166  |    66.80%    |    0.5869     |      65.22%       |      67.36%      |\n",
      "|  167  |    66.73%    |    0.5773     |      65.08%       |      66.39%      |\n",
      "|  168  |    66.80%    |    0.5789     |      64.97%       |      66.36%      |\n",
      "|  169  |    67.09%    |    0.5760     |      65.18%       |      67.19%      |\n",
      "|  170  |    67.05%    |    0.5767     |      65.13%       |      66.46%      |\n",
      "|  171  |    67.05%    |    0.5785     |      65.03%       |      66.78%      |\n",
      "|  172  |    66.98%    |    0.5831     |      65.01%       |      66.04%      |\n",
      "|  173  |    67.11%    |    0.5738     |      65.11%       |      66.70%      |\n",
      "|  174  |    67.05%    |    0.5851     |      65.01%       |      66.61%      |\n",
      "|  175  |    66.95%    |    0.5750     |      65.23%       |      67.24%      |\n",
      "|  176  |    66.99%    |    0.5858     |      65.11%       |      66.92%      |\n",
      "|  177  |    67.01%    |    0.5840     |      65.14%       |      66.95%      |\n",
      "|  178  |    67.07%    |    0.5790     |      65.13%       |      67.03%      |\n",
      "|  179  |    66.69%    |    0.5789     |      64.91%       |      66.12%      |\n",
      "|  180  |    66.87%    |    0.5792     |      65.09%       |      66.75%      |\n",
      "|  181  |    66.96%    |    0.5921     |      65.00%       |      66.52%      |\n",
      "|  182  |    67.02%    |    0.5822     |      65.10%       |      66.79%      |\n",
      "|  183  |    66.87%    |    0.5740     |      65.07%       |      66.49%      |\n",
      "|  184  |    66.93%    |    0.5722     |      65.18%       |      66.74%      |\n",
      "|  185  |    66.70%    |    0.5888     |      65.43%       |      67.61%      |\n",
      "|  186  |    66.81%    |    0.5812     |      65.18%       |      67.21%      |\n",
      "|  187  |    66.99%    |    0.5729     |      64.88%       |      66.58%      |\n",
      "|  188  |    66.98%    |    0.5927     |      65.13%       |      67.24%      |\n",
      "|  189  |    66.88%    |    0.5766     |      65.08%       |      66.63%      |\n",
      "|  190  |    67.02%    |    0.5814     |      65.01%       |      65.89%      |\n",
      "|  191  |    66.85%    |    0.5791     |      65.09%       |      66.78%      |\n",
      "|  192  |    66.81%    |    0.5779     |      64.86%       |      66.04%      |\n",
      "|  193  |    66.68%    |    0.5911     |      65.16%       |      66.46%      |\n",
      "|  194  |    67.03%    |    0.5806     |      64.98%       |      66.79%      |\n"
     ]
    },
    {
     "name": "stderr",
     "output_type": "stream",
     "text": [
      "\u001b[34m\u001b[1mwandb\u001b[0m: Network error (ConnectionError), entering retry loop.\n"
     ]
    },
    {
     "name": "stdout",
     "output_type": "stream",
     "text": [
      "|  195  |    66.88%    |    0.5714     |      65.10%       |      66.68%      |\n",
      "|  196  |    66.81%    |    0.5811     |      65.09%       |      66.53%      |\n"
     ]
    },
    {
     "name": "stderr",
     "output_type": "stream",
     "text": [
      "wandb: Network error (ConnectionError), entering retry loop.\n"
     ]
    },
    {
     "name": "stdout",
     "output_type": "stream",
     "text": [
      "|  197  |    67.19%    |    0.5837     |      64.96%       |      66.55%      |\n",
      "|  198  |    66.90%    |    0.5852     |      64.99%       |      66.55%      |\n",
      "|  199  |    67.23%    |    0.5877     |      65.04%       |      66.27%      |\n",
      "|  200  |    66.85%    |    0.5786     |      65.14%       |      67.17%      |\n"
     ]
    },
    {
     "data": {
      "application/vnd.jupyter.widget-view+json": {
       "model_id": "b250612b95f24b6683b8af5b25c1a6e4",
       "version_major": 2,
       "version_minor": 0
      },
      "text/plain": [
       "VBox(children=(Label(value='0.001 MB of 0.001 MB uploaded\\r'), FloatProgress(value=1.0, max=1.0)))"
      ]
     },
     "metadata": {},
     "output_type": "display_data"
    },
    {
     "data": {
      "text/html": [
       "<style>\n",
       "    table.wandb td:nth-child(1) { padding: 0 10px; text-align: left ; width: auto;} td:nth-child(2) {text-align: left ; width: 100%}\n",
       "    .wandb-row { display: flex; flex-direction: row; flex-wrap: wrap; justify-content: flex-start; width: 100% }\n",
       "    .wandb-col { display: flex; flex-direction: column; flex-basis: 100%; flex: 1; padding: 10px; }\n",
       "    </style>\n",
       "<div class=\"wandb-row\"><div class=\"wandb-col\"><h3>Run history:</h3><br/><table class=\"wandb\"><tr><td>epoch</td><td>▁▁▁▁▂▂▂▂▂▃▃▃▃▃▃▄▄▄▄▄▅▅▅▅▅▅▆▆▆▆▆▇▇▇▇▇▇███</td></tr><tr><td>test_accuracy</td><td>▅█▄▆▇▆▂▇▅▅▇▅▇▃▃▂▇▄▇▂▄▆▅▁▇▅▅█▅█▃▆▆▃▄▆▇▆▃▆</td></tr><tr><td>test_last_bit_accuracy</td><td>▅▇▆▅▆▅▄▇▆▅▃▄▇▅▂▁▅▄▆▃▆▆▂▂▄▂▆█▃▆▅▅▅▃▄▆▅▇▅▇</td></tr><tr><td>test_last_bit_loss</td><td>█▅▄▃▄▂▄▂▂▂▂▂▂▁▂▂▁▂▂▃▁▁▂▂▁▂▁▁▂▁▁▁▁▁▁▁▁▁▁▁</td></tr><tr><td>train_accuracy</td><td>▁▂▅▃▆▇▅▆█▆▅▄▅▅▅▆▇▅▆▇▅▆▇▆▇▆▆▇▅▆▇▇█▆▇▇▇▇▇▆</td></tr><tr><td>train_loss</td><td>█▇▄▄▂▃▃▄▄▃▄▃▄▄▄▂▃▂▅▄▅▂▄▄▄▃▄▂▄▁▄▃▃▃▄▃▂▅▃▃</td></tr></table><br/></div><div class=\"wandb-col\"><h3>Run summary:</h3><br/><table class=\"wandb\"><tr><td>epoch</td><td>200</td></tr><tr><td>test_accuracy</td><td>0.65144</td></tr><tr><td>test_last_bit_accuracy</td><td>0.67167</td></tr><tr><td>test_last_bit_loss</td><td>0.50641</td></tr><tr><td>train_accuracy</td><td>0.66848</td></tr><tr><td>train_loss</td><td>0.57857</td></tr></table><br/></div></div>"
      ],
      "text/plain": [
       "<IPython.core.display.HTML object>"
      ]
     },
     "metadata": {},
     "output_type": "display_data"
    },
    {
     "data": {
      "text/html": [
       " View run <strong style=\"color:#cdcd00\">floral-sweep-8</strong> at: <a href='https://wandb.ai/adamimos/epsilon-transformer/runs/wmy54nnt' target=\"_blank\">https://wandb.ai/adamimos/epsilon-transformer/runs/wmy54nnt</a><br/>Synced 5 W&B file(s), 0 media file(s), 0 artifact file(s) and 0 other file(s)"
      ],
      "text/plain": [
       "<IPython.core.display.HTML object>"
      ]
     },
     "metadata": {},
     "output_type": "display_data"
    },
    {
     "data": {
      "text/html": [
       "Find logs at: <code>./wandb/run-20240119_170017-wmy54nnt/logs</code>"
      ],
      "text/plain": [
       "<IPython.core.display.HTML object>"
      ]
     },
     "metadata": {},
     "output_type": "display_data"
    },
    {
     "name": "stderr",
     "output_type": "stream",
     "text": [
      "\u001b[34m\u001b[1mwandb\u001b[0m: Sweep Agent: Waiting for job.\n",
      "\u001b[34m\u001b[1mwandb\u001b[0m: Job received.\n",
      "\u001b[34m\u001b[1mwandb\u001b[0m: Agent Starting Run: ss7hkhzb with config:\n",
      "\u001b[34m\u001b[1mwandb\u001b[0m: \tlearning_rate: 0.005994842503189409\n",
      "\u001b[34m\u001b[1mwandb\u001b[0m: \tweight_decay: 0\n",
      "Failed to detect the name of this notebook, you can set it manually with the WANDB_NOTEBOOK_NAME environment variable to enable code saving.\n"
     ]
    },
    {
     "data": {
      "text/html": [
       "wandb version 0.16.2 is available!  To upgrade, please run:\n",
       " $ pip install wandb --upgrade"
      ],
      "text/plain": [
       "<IPython.core.display.HTML object>"
      ]
     },
     "metadata": {},
     "output_type": "display_data"
    },
    {
     "data": {
      "text/html": [
       "Tracking run with wandb version 0.16.1"
      ],
      "text/plain": [
       "<IPython.core.display.HTML object>"
      ]
     },
     "metadata": {},
     "output_type": "display_data"
    },
    {
     "data": {
      "text/html": [
       "Run data is saved locally in <code>/Users/adamimos/Documents/GitHub/epsilon-transformers/wandb/run-20240119_215019-ss7hkhzb</code>"
      ],
      "text/plain": [
       "<IPython.core.display.HTML object>"
      ]
     },
     "metadata": {},
     "output_type": "display_data"
    },
    {
     "data": {
      "text/html": [
       "Syncing run <strong><a href='https://wandb.ai/adamimos/epsilon-transformer/runs/ss7hkhzb' target=\"_blank\">dashing-sweep-9</a></strong> to <a href='https://wandb.ai/adamimos/epsilon-transformer' target=\"_blank\">Weights & Biases</a> (<a href='https://wandb.me/run' target=\"_blank\">docs</a>)<br/>Sweep page: <a href='https://wandb.ai/adamimos/epsilon-transformer/sweeps/eaedbzxy' target=\"_blank\">https://wandb.ai/adamimos/epsilon-transformer/sweeps/eaedbzxy</a>"
      ],
      "text/plain": [
       "<IPython.core.display.HTML object>"
      ]
     },
     "metadata": {},
     "output_type": "display_data"
    },
    {
     "data": {
      "text/html": [
       " View project at <a href='https://wandb.ai/adamimos/epsilon-transformer' target=\"_blank\">https://wandb.ai/adamimos/epsilon-transformer</a>"
      ],
      "text/plain": [
       "<IPython.core.display.HTML object>"
      ]
     },
     "metadata": {},
     "output_type": "display_data"
    },
    {
     "data": {
      "text/html": [
       " View sweep at <a href='https://wandb.ai/adamimos/epsilon-transformer/sweeps/eaedbzxy' target=\"_blank\">https://wandb.ai/adamimos/epsilon-transformer/sweeps/eaedbzxy</a>"
      ],
      "text/plain": [
       "<IPython.core.display.HTML object>"
      ]
     },
     "metadata": {},
     "output_type": "display_data"
    },
    {
     "data": {
      "text/html": [
       " View run at <a href='https://wandb.ai/adamimos/epsilon-transformer/runs/ss7hkhzb' target=\"_blank\">https://wandb.ai/adamimos/epsilon-transformer/runs/ss7hkhzb</a>"
      ],
      "text/plain": [
       "<IPython.core.display.HTML object>"
      ]
     },
     "metadata": {},
     "output_type": "display_data"
    },
    {
     "name": "stdout",
     "output_type": "stream",
     "text": [
      "| Epoch | Training Acc. | Loss | Overall Acc. | Last Bit Acc. |\n",
      "|   1   |    64.39%    |    0.6156     |      64.45%       |      65.45%      |\n",
      "|   2   |    66.36%    |    0.6169     |      65.23%       |      66.90%      |\n",
      "|   3   |    66.57%    |    0.5997     |      65.32%       |      66.81%      |\n",
      "|   4   |    66.79%    |    0.6007     |      65.33%       |      66.91%      |\n",
      "|   5   |    67.02%    |    0.6040     |      64.89%       |      65.73%      |\n",
      "|   6   |    66.82%    |    0.5817     |      65.57%       |      67.08%      |\n",
      "|   7   |    66.68%    |    0.5954     |      65.38%       |      66.54%      |\n",
      "|   8   |    66.59%    |    0.6069     |      65.06%       |      66.65%      |\n",
      "|   9   |    66.53%    |    0.6050     |      65.31%       |      66.48%      |\n",
      "|  10   |    66.47%    |    0.5866     |      65.10%       |      66.48%      |\n",
      "|  11   |    66.62%    |    0.6087     |      64.74%       |      64.74%      |\n",
      "|  12   |    66.72%    |    0.5732     |      65.31%       |      66.48%      |\n",
      "|  13   |    66.99%    |    0.5869     |      65.45%       |      66.83%      |\n",
      "|  14   |    66.87%    |    0.5879     |      65.49%       |      66.86%      |\n",
      "|  15   |    66.80%    |    0.5777     |      65.50%       |      66.24%      |\n",
      "|  16   |    67.00%    |    0.5977     |      65.29%       |      66.55%      |\n",
      "|  17   |    66.89%    |    0.5934     |      65.20%       |      66.14%      |\n",
      "|  18   |    66.80%    |    0.5827     |      65.33%       |      66.59%      |\n",
      "|  19   |    67.09%    |    0.5778     |      65.09%       |      65.99%      |\n",
      "|  20   |    66.93%    |    0.5872     |      65.69%       |      66.62%      |\n",
      "|  21   |    67.05%    |    0.5841     |      65.46%       |      66.82%      |\n",
      "|  22   |    67.11%    |    0.5704     |      65.61%       |      67.55%      |\n",
      "|  23   |    66.70%    |    0.5900     |      65.20%       |      66.71%      |\n",
      "|  24   |    67.15%    |    0.6072     |      65.15%       |      66.43%      |\n",
      "|  25   |    66.96%    |    0.5780     |      65.33%       |      67.16%      |\n",
      "|  26   |    66.91%    |    0.5912     |      65.68%       |      66.60%      |\n",
      "|  27   |    67.04%    |    0.5926     |      65.30%       |      66.89%      |\n",
      "|  28   |    67.11%    |    0.5989     |      65.61%       |      67.41%      |\n",
      "|  29   |    66.86%    |    0.5885     |      65.27%       |      66.57%      |\n",
      "|  30   |    66.99%    |    0.6133     |      65.47%       |      65.87%      |\n",
      "|  31   |    66.95%    |    0.5872     |      65.13%       |      65.92%      |\n",
      "|  32   |    66.86%    |    0.5814     |      65.43%       |      66.87%      |\n",
      "|  33   |    66.88%    |    0.5986     |      65.50%       |      67.31%      |\n",
      "|  34   |    66.66%    |    0.5801     |      65.48%       |      66.42%      |\n",
      "|  35   |    66.60%    |    0.5879     |      65.60%       |      66.95%      |\n",
      "|  36   |    67.09%    |    0.5862     |      65.75%       |      67.26%      |\n",
      "|  37   |    66.79%    |    0.5814     |      65.46%       |      67.03%      |\n",
      "|  38   |    66.73%    |    0.5738     |      65.61%       |      66.59%      |\n",
      "|  39   |    67.07%    |    0.5863     |      65.54%       |      67.00%      |\n",
      "|  40   |    66.74%    |    0.5836     |      65.59%       |      67.23%      |\n",
      "|  41   |    66.70%    |    0.5783     |      65.37%       |      67.20%      |\n"
     ]
    },
    {
     "name": "stderr",
     "output_type": "stream",
     "text": [
      "\u001b[34m\u001b[1mwandb\u001b[0m: Network error (ReadTimeout), entering retry loop.\n"
     ]
    },
    {
     "name": "stdout",
     "output_type": "stream",
     "text": [
      "|  42   |    66.66%    |    0.5787     |      65.10%       |      65.97%      |\n",
      "|  43   |    66.95%    |    0.5988     |      65.60%       |      67.68%      |\n",
      "|  44   |    66.44%    |    0.5863     |      64.98%       |      65.65%      |\n",
      "|  45   |    66.94%    |    0.5888     |      65.65%       |      67.28%      |\n",
      "|  46   |    66.50%    |    0.5862     |      65.31%       |      65.45%      |\n",
      "|  47   |    66.89%    |    0.5789     |      65.46%       |      66.63%      |\n",
      "|  48   |    67.04%    |    0.5816     |      65.52%       |      66.59%      |\n",
      "|  49   |    67.11%    |    0.5943     |      65.33%       |      66.98%      |\n",
      "|  50   |    66.81%    |    0.5996     |      64.74%       |      65.47%      |\n",
      "|  51   |    66.32%    |    0.5733     |      65.53%       |      66.80%      |\n",
      "|  52   |    66.82%    |    0.5809     |      65.42%       |      66.60%      |\n",
      "|  53   |    66.96%    |    0.5794     |      65.68%       |      67.39%      |\n",
      "|  54   |    66.70%    |    0.5766     |      65.27%       |      66.60%      |\n",
      "|  55   |    66.65%    |    0.5950     |      65.39%       |      66.80%      |\n",
      "|  56   |    66.77%    |    0.5784     |      65.43%       |      67.24%      |\n",
      "|  57   |    67.34%    |    0.5887     |      65.65%       |      67.31%      |\n",
      "|  58   |    66.71%    |    0.5861     |      65.24%       |      65.87%      |\n",
      "|  59   |    66.97%    |    0.5887     |      65.32%       |      66.77%      |\n",
      "|  60   |    66.75%    |    0.5925     |      65.46%       |      67.00%      |\n",
      "|  61   |    67.08%    |    0.5875     |      65.64%       |      66.45%      |\n",
      "|  62   |    66.85%    |    0.5806     |      65.43%       |      66.97%      |\n",
      "|  63   |    66.87%    |    0.5803     |      65.57%       |      67.37%      |\n",
      "|  64   |    66.94%    |    0.5718     |      65.44%       |      67.07%      |\n",
      "|  65   |    66.96%    |    0.5919     |      65.49%       |      66.61%      |\n",
      "|  66   |    67.26%    |    0.5947     |      65.43%       |      67.33%      |\n",
      "|  67   |    66.78%    |    0.5759     |      65.24%       |      66.49%      |\n",
      "|  68   |    67.06%    |    0.5770     |      65.51%       |      66.49%      |\n",
      "|  69   |    66.74%    |    0.5892     |      65.25%       |      67.43%      |\n",
      "|  70   |    67.00%    |    0.5878     |      65.34%       |      66.84%      |\n",
      "|  71   |    66.79%    |    0.5954     |      65.74%       |      66.75%      |\n",
      "|  72   |    67.05%    |    0.5703     |      65.77%       |      67.18%      |\n",
      "|  73   |    66.83%    |    0.6016     |      65.48%       |      66.53%      |\n",
      "|  74   |    67.04%    |    0.5797     |      65.30%       |      65.92%      |\n",
      "|  75   |    66.87%    |    0.5862     |      65.74%       |      67.38%      |\n",
      "|  76   |    67.17%    |    0.5792     |      65.24%       |      66.46%      |\n",
      "|  77   |    67.07%    |    0.5884     |      65.46%       |      67.05%      |\n",
      "|  78   |    66.79%    |    0.5912     |      65.22%       |      66.30%      |\n",
      "|  79   |    66.75%    |    0.6001     |      64.91%       |      64.40%      |\n",
      "|  80   |    66.46%    |    0.5968     |      65.09%       |      66.10%      |\n",
      "|  81   |    66.93%    |    0.5809     |      65.76%       |      67.81%      |\n",
      "|  82   |    67.23%    |    0.6065     |      65.43%       |      66.76%      |\n",
      "|  83   |    66.54%    |    0.5901     |      65.56%       |      67.06%      |\n",
      "|  84   |    67.07%    |    0.5981     |      65.46%       |      66.63%      |\n",
      "|  85   |    66.76%    |    0.5785     |      65.55%       |      66.89%      |\n",
      "|  86   |    66.97%    |    0.5854     |      65.57%       |      67.22%      |\n",
      "|  87   |    66.94%    |    0.5714     |      65.13%       |      66.53%      |\n",
      "|  88   |    66.64%    |    0.5874     |      65.59%       |      67.13%      |\n",
      "|  89   |    66.70%    |    0.6224     |      65.34%       |      65.93%      |\n",
      "|  90   |    67.11%    |    0.5954     |      65.61%       |      67.29%      |\n",
      "|  91   |    67.11%    |    0.5846     |      65.42%       |      67.10%      |\n",
      "|  92   |    67.10%    |    0.5777     |      65.42%       |      66.88%      |\n",
      "|  93   |    67.17%    |    0.5765     |      65.65%       |      66.82%      |\n",
      "|  94   |    66.23%    |    0.6168     |      65.01%       |      66.31%      |\n",
      "|  95   |    67.26%    |    0.5901     |      65.72%       |      66.98%      |\n",
      "|  96   |    67.04%    |    0.5760     |      65.66%       |      67.40%      |\n",
      "|  97   |    67.09%    |    0.5800     |      65.46%       |      67.39%      |\n",
      "|  98   |    67.14%    |    0.5770     |      65.43%       |      66.53%      |\n",
      "|  99   |    67.28%    |    0.6095     |      65.24%       |      66.31%      |\n",
      "|  100  |    66.96%    |    0.5924     |      65.23%       |      65.99%      |\n",
      "|  101  |    67.00%    |    0.5926     |      65.55%       |      67.18%      |\n",
      "|  102  |    66.71%    |    0.5829     |      65.33%       |      66.38%      |\n",
      "|  103  |    67.04%    |    0.5740     |      65.57%       |      66.45%      |\n",
      "|  104  |    67.14%    |    0.5899     |      65.44%       |      66.95%      |\n",
      "|  105  |    66.81%    |    0.5899     |      65.24%       |      66.35%      |\n",
      "|  106  |    67.09%    |    0.5773     |      65.19%       |      66.58%      |\n",
      "|  107  |    66.88%    |    0.5939     |      65.80%       |      67.70%      |\n",
      "|  108  |    66.57%    |    0.5812     |      65.79%       |      67.51%      |\n",
      "|  109  |    66.84%    |    0.5768     |      65.58%       |      66.91%      |\n",
      "|  110  |    67.05%    |    0.5888     |      65.31%       |      66.29%      |\n",
      "|  111  |    66.97%    |    0.5780     |      65.42%       |      67.05%      |\n",
      "|  112  |    67.12%    |    0.5793     |      65.62%       |      66.85%      |\n",
      "|  113  |    67.12%    |    0.5855     |      65.69%       |      67.11%      |\n",
      "|  114  |    66.42%    |    0.5781     |      65.25%       |      67.12%      |\n",
      "|  115  |    67.00%    |    0.5823     |      65.60%       |      66.23%      |\n",
      "|  116  |    67.15%    |    0.5826     |      65.28%       |      67.16%      |\n",
      "|  117  |    66.92%    |    0.5801     |      65.33%       |      66.45%      |\n",
      "|  118  |    66.83%    |    0.5838     |      65.43%       |      66.49%      |\n",
      "|  119  |    67.28%    |    0.5707     |      65.59%       |      66.60%      |\n",
      "|  120  |    66.58%    |    0.6045     |      65.47%       |      67.23%      |\n",
      "|  121  |    66.99%    |    0.5815     |      65.30%       |      66.55%      |\n",
      "|  122  |    67.13%    |    0.5726     |      65.43%       |      66.80%      |\n",
      "|  123  |    67.15%    |    0.5828     |      65.92%       |      67.84%      |\n",
      "|  124  |    67.13%    |    0.5819     |      65.47%       |      67.23%      |\n",
      "|  125  |    66.89%    |    0.5856     |      65.54%       |      67.19%      |\n",
      "|  126  |    66.83%    |    0.5864     |      65.83%       |      67.46%      |\n",
      "|  127  |    67.12%    |    0.5731     |      65.56%       |      67.00%      |\n",
      "|  128  |    66.85%    |    0.5733     |      65.40%       |      66.80%      |\n",
      "|  129  |    66.58%    |    0.5972     |      65.18%       |      66.29%      |\n",
      "|  130  |    67.04%    |    0.5769     |      65.46%       |      67.36%      |\n",
      "|  131  |    66.85%    |    0.5772     |      65.37%       |      66.95%      |\n",
      "|  132  |    67.23%    |    0.5722     |      65.63%       |      66.83%      |\n",
      "|  133  |    67.00%    |    0.5796     |      65.48%       |      66.66%      |\n",
      "|  134  |    66.91%    |    0.5812     |      65.64%       |      67.54%      |\n",
      "|  135  |    66.69%    |    0.5847     |      65.29%       |      66.81%      |\n",
      "|  136  |    67.12%    |    0.5757     |      65.34%       |      66.89%      |\n",
      "|  137  |    66.71%    |    0.5870     |      65.74%       |      67.96%      |\n",
      "|  138  |    66.62%    |    0.5914     |      65.54%       |      67.11%      |\n",
      "|  139  |    66.83%    |    0.5793     |      65.46%       |      66.67%      |\n",
      "|  140  |    67.03%    |    0.5818     |      65.34%       |      67.20%      |\n",
      "|  141  |    67.13%    |    0.5746     |      65.52%       |      67.31%      |\n",
      "|  142  |    67.08%    |    0.5825     |      65.34%       |      66.79%      |\n",
      "|  143  |    66.76%    |    0.5786     |      65.57%       |      68.06%      |\n",
      "|  144  |    66.63%    |    0.5848     |      65.51%       |      67.25%      |\n",
      "|  145  |    66.82%    |    0.5851     |      65.19%       |      66.45%      |\n",
      "|  146  |    67.07%    |    0.5849     |      64.81%       |      66.06%      |\n",
      "|  147  |    66.75%    |    0.5781     |      65.47%       |      66.96%      |\n",
      "|  148  |    66.78%    |    0.5776     |      65.68%       |      67.36%      |\n",
      "|  149  |    67.16%    |    0.5750     |      65.62%       |      67.78%      |\n",
      "|  150  |    67.13%    |    0.5920     |      65.26%       |      66.18%      |\n",
      "|  151  |    67.24%    |    0.5855     |      65.26%       |      65.73%      |\n",
      "|  152  |    66.64%    |    0.5800     |      65.38%       |      66.79%      |\n",
      "|  153  |    67.02%    |    0.5975     |      65.62%       |      66.77%      |\n",
      "|  154  |    67.13%    |    0.5761     |      65.32%       |      66.15%      |\n",
      "|  155  |    67.03%    |    0.6293     |      65.13%       |      65.83%      |\n",
      "|  156  |    66.69%    |    0.5787     |      65.44%       |      67.15%      |\n",
      "|  157  |    66.98%    |    0.5730     |      65.33%       |      66.81%      |\n",
      "|  158  |    67.02%    |    0.5755     |      65.97%       |      67.80%      |\n",
      "|  159  |    66.64%    |    0.5748     |      65.60%       |      66.62%      |\n",
      "|  160  |    66.89%    |    0.5829     |      65.51%       |      67.02%      |\n",
      "|  161  |    66.95%    |    0.5755     |      65.68%       |      67.50%      |\n",
      "|  162  |    66.75%    |    0.5842     |      65.48%       |      66.61%      |\n",
      "|  163  |    66.89%    |    0.5736     |      65.27%       |      66.73%      |\n",
      "|  164  |    66.50%    |    0.5925     |      65.21%       |      66.93%      |\n",
      "|  165  |    67.06%    |    0.5787     |      65.64%       |      67.20%      |\n",
      "|  166  |    66.74%    |    0.5792     |      65.37%       |      66.56%      |\n",
      "|  167  |    66.91%    |    0.5970     |      65.36%       |      66.27%      |\n",
      "|  168  |    66.80%    |    0.5869     |      65.61%       |      67.19%      |\n",
      "|  169  |    66.75%    |    0.5832     |      65.11%       |      66.19%      |\n",
      "|  170  |    66.92%    |    0.5823     |      65.57%       |      66.91%      |\n",
      "|  171  |    67.01%    |    0.5861     |      65.46%       |      66.99%      |\n",
      "|  172  |    66.85%    |    0.5849     |      65.42%       |      66.99%      |\n",
      "|  173  |    66.91%    |    0.5807     |      65.23%       |      66.46%      |\n",
      "|  174  |    66.81%    |    0.5748     |      65.45%       |      66.30%      |\n",
      "|  175  |    67.26%    |    0.5789     |      65.73%       |      67.32%      |\n",
      "|  176  |    66.87%    |    0.5742     |      65.49%       |      67.12%      |\n",
      "|  177  |    66.84%    |    0.5720     |      65.44%       |      66.54%      |\n",
      "|  178  |    67.11%    |    0.5889     |      65.33%       |      67.08%      |\n",
      "|  179  |    67.13%    |    0.5726     |      65.33%       |      67.06%      |\n",
      "|  180  |    67.13%    |    0.5916     |      65.43%       |      66.30%      |\n",
      "|  181  |    66.89%    |    0.5818     |      65.50%       |      67.05%      |\n",
      "|  182  |    66.55%    |    0.5820     |      65.23%       |      66.30%      |\n",
      "|  183  |    66.83%    |    0.5784     |      65.39%       |      66.60%      |\n",
      "|  184  |    66.89%    |    0.5725     |      65.51%       |      66.83%      |\n",
      "|  185  |    66.90%    |    0.5844     |      65.21%       |      66.28%      |\n",
      "|  186  |    66.99%    |    0.5724     |      65.36%       |      67.49%      |\n",
      "|  187  |    67.06%    |    0.5848     |      65.59%       |      67.43%      |\n",
      "|  188  |    67.20%    |    0.5801     |      65.16%       |      66.71%      |\n",
      "|  189  |    66.58%    |    0.6641     |      65.35%       |      66.75%      |\n",
      "|  190  |    67.08%    |    0.5826     |      65.09%       |      66.68%      |\n",
      "|  191  |    66.72%    |    0.5832     |      65.13%       |      66.88%      |\n",
      "|  192  |    66.98%    |    0.5696     |      65.37%       |      66.96%      |\n",
      "|  193  |    66.55%    |    0.6829     |      63.91%       |      66.95%      |\n",
      "|  194  |    67.06%    |    0.5614     |      65.15%       |      66.48%      |\n",
      "|  195  |    66.75%    |    0.5805     |      65.24%       |      66.80%      |\n",
      "|  196  |    66.82%    |    0.5748     |      65.39%       |      66.50%      |\n",
      "|  197  |    67.04%    |    0.5882     |      65.05%       |      66.41%      |\n",
      "|  198  |    66.83%    |    0.6046     |      65.34%       |      66.76%      |\n",
      "|  199  |    67.04%    |    0.5832     |      65.54%       |      66.83%      |\n",
      "|  200  |    66.93%    |    0.5648     |      65.15%       |      65.75%      |\n"
     ]
    },
    {
     "data": {
      "application/vnd.jupyter.widget-view+json": {
       "model_id": "176dd96472284597aaaf6a909b16e3df",
       "version_major": 2,
       "version_minor": 0
      },
      "text/plain": [
       "VBox(children=(Label(value='0.001 MB of 0.001 MB uploaded\\r'), FloatProgress(value=1.0, max=1.0)))"
      ]
     },
     "metadata": {},
     "output_type": "display_data"
    },
    {
     "data": {
      "text/html": [
       "<style>\n",
       "    table.wandb td:nth-child(1) { padding: 0 10px; text-align: left ; width: auto;} td:nth-child(2) {text-align: left ; width: 100%}\n",
       "    .wandb-row { display: flex; flex-direction: row; flex-wrap: wrap; justify-content: flex-start; width: 100% }\n",
       "    .wandb-col { display: flex; flex-direction: column; flex-basis: 100%; flex: 1; padding: 10px; }\n",
       "    </style>\n",
       "<div class=\"wandb-row\"><div class=\"wandb-col\"><h3>Run history:</h3><br/><table class=\"wandb\"><tr><td>epoch</td><td>▁▁▁▁▂▂▂▂▂▃▃▃▃▃▃▄▄▄▄▄▅▅▅▅▅▅▆▆▆▆▆▇▇▇▇▇▇███</td></tr><tr><td>test_accuracy</td><td>▂▅▃▃▅▆▄▆▁▃▄▄▄▄▆▂▄▅▄▄▃▇▅▄▄▃▅▅▄▆▃█▂▅▄▃▄▁▁▁</td></tr><tr><td>test_last_bit_accuracy</td><td>▅▆▄▄▇▄▅▆▃▁▄▆▆▄▆▄▅▆▅▄▄▇▅▄▅▅▇▆▆▇▃█▅▆▄▆▅▅▄▂</td></tr><tr><td>test_last_bit_loss</td><td>█▄▄▃▃▃▃▃▂▇▄▂▃▂▂▂▄▃▃▂▄▂▂▁▁▄▃▂▆▁▂▁▁▄▁▁▂▂▁▁</td></tr><tr><td>train_accuracy</td><td>▁▅▄▆▇▅▅▇▃▂▅▄▅▇▇▅█▃▇▇▄▃▇▅▇▅▅▃▃▄▇▆▂▅▅▇▅█▇▆</td></tr><tr><td>train_loss</td><td>█▄▂▆▂▅▄▄▃▄▃▃▃▃▂▅▇▄▃▃▄▄▃▄▂▃▄▅▄▃▃▃▅▄▃▄▂▃▁▁</td></tr></table><br/></div><div class=\"wandb-col\"><h3>Run summary:</h3><br/><table class=\"wandb\"><tr><td>epoch</td><td>200</td></tr><tr><td>test_accuracy</td><td>0.65147</td></tr><tr><td>test_last_bit_accuracy</td><td>0.65747</td></tr><tr><td>test_last_bit_loss</td><td>0.50689</td></tr><tr><td>train_accuracy</td><td>0.66928</td></tr><tr><td>train_loss</td><td>0.56478</td></tr></table><br/></div></div>"
      ],
      "text/plain": [
       "<IPython.core.display.HTML object>"
      ]
     },
     "metadata": {},
     "output_type": "display_data"
    },
    {
     "data": {
      "text/html": [
       " View run <strong style=\"color:#cdcd00\">dashing-sweep-9</strong> at: <a href='https://wandb.ai/adamimos/epsilon-transformer/runs/ss7hkhzb' target=\"_blank\">https://wandb.ai/adamimos/epsilon-transformer/runs/ss7hkhzb</a><br/>Synced 5 W&B file(s), 0 media file(s), 0 artifact file(s) and 0 other file(s)"
      ],
      "text/plain": [
       "<IPython.core.display.HTML object>"
      ]
     },
     "metadata": {},
     "output_type": "display_data"
    },
    {
     "data": {
      "text/html": [
       "Find logs at: <code>./wandb/run-20240119_215019-ss7hkhzb/logs</code>"
      ],
      "text/plain": [
       "<IPython.core.display.HTML object>"
      ]
     },
     "metadata": {},
     "output_type": "display_data"
    },
    {
     "name": "stderr",
     "output_type": "stream",
     "text": [
      "\u001b[34m\u001b[1mwandb\u001b[0m: Agent Starting Run: s4efs8l3 with config:\n",
      "\u001b[34m\u001b[1mwandb\u001b[0m: \tlearning_rate: 0.01\n",
      "\u001b[34m\u001b[1mwandb\u001b[0m: \tweight_decay: 0\n",
      "Failed to detect the name of this notebook, you can set it manually with the WANDB_NOTEBOOK_NAME environment variable to enable code saving.\n"
     ]
    },
    {
     "data": {
      "text/html": [
       "wandb version 0.16.2 is available!  To upgrade, please run:\n",
       " $ pip install wandb --upgrade"
      ],
      "text/plain": [
       "<IPython.core.display.HTML object>"
      ]
     },
     "metadata": {},
     "output_type": "display_data"
    },
    {
     "data": {
      "text/html": [
       "Tracking run with wandb version 0.16.1"
      ],
      "text/plain": [
       "<IPython.core.display.HTML object>"
      ]
     },
     "metadata": {},
     "output_type": "display_data"
    },
    {
     "data": {
      "text/html": [
       "Run data is saved locally in <code>/Users/adamimos/Documents/GitHub/epsilon-transformers/wandb/run-20240120_111437-s4efs8l3</code>"
      ],
      "text/plain": [
       "<IPython.core.display.HTML object>"
      ]
     },
     "metadata": {},
     "output_type": "display_data"
    },
    {
     "data": {
      "text/html": [
       "Syncing run <strong><a href='https://wandb.ai/adamimos/epsilon-transformer/runs/s4efs8l3' target=\"_blank\">denim-sweep-10</a></strong> to <a href='https://wandb.ai/adamimos/epsilon-transformer' target=\"_blank\">Weights & Biases</a> (<a href='https://wandb.me/run' target=\"_blank\">docs</a>)<br/>Sweep page: <a href='https://wandb.ai/adamimos/epsilon-transformer/sweeps/eaedbzxy' target=\"_blank\">https://wandb.ai/adamimos/epsilon-transformer/sweeps/eaedbzxy</a>"
      ],
      "text/plain": [
       "<IPython.core.display.HTML object>"
      ]
     },
     "metadata": {},
     "output_type": "display_data"
    },
    {
     "data": {
      "text/html": [
       " View project at <a href='https://wandb.ai/adamimos/epsilon-transformer' target=\"_blank\">https://wandb.ai/adamimos/epsilon-transformer</a>"
      ],
      "text/plain": [
       "<IPython.core.display.HTML object>"
      ]
     },
     "metadata": {},
     "output_type": "display_data"
    },
    {
     "data": {
      "text/html": [
       " View sweep at <a href='https://wandb.ai/adamimos/epsilon-transformer/sweeps/eaedbzxy' target=\"_blank\">https://wandb.ai/adamimos/epsilon-transformer/sweeps/eaedbzxy</a>"
      ],
      "text/plain": [
       "<IPython.core.display.HTML object>"
      ]
     },
     "metadata": {},
     "output_type": "display_data"
    },
    {
     "data": {
      "text/html": [
       " View run at <a href='https://wandb.ai/adamimos/epsilon-transformer/runs/s4efs8l3' target=\"_blank\">https://wandb.ai/adamimos/epsilon-transformer/runs/s4efs8l3</a>"
      ],
      "text/plain": [
       "<IPython.core.display.HTML object>"
      ]
     },
     "metadata": {},
     "output_type": "display_data"
    },
    {
     "name": "stdout",
     "output_type": "stream",
     "text": [
      "| Epoch | Training Acc. | Loss | Overall Acc. | Last Bit Acc. |\n",
      "|   1   |    64.54%    |    0.6294     |      65.17%       |      67.18%      |\n",
      "|   2   |    66.16%    |    0.5917     |      64.84%       |      66.57%      |\n",
      "|   3   |    66.14%    |    0.6320     |      64.46%       |      64.43%      |\n",
      "|   4   |    66.09%    |    0.6047     |      64.97%       |      66.50%      |\n",
      "|   5   |    66.58%    |    0.5971     |      65.00%       |      66.98%      |\n",
      "|   6   |    66.24%    |    0.6021     |      64.89%       |      66.51%      |\n",
      "|   7   |    66.56%    |    0.5943     |      65.14%       |      66.96%      |\n",
      "|   8   |    66.43%    |    0.5845     |      64.98%       |      66.79%      |\n",
      "|   9   |    66.76%    |    0.5894     |      64.87%       |      66.78%      |\n",
      "|  10   |    66.56%    |    0.5872     |      64.94%       |      66.80%      |\n",
      "|  11   |    66.43%    |    0.5867     |      65.05%       |      66.22%      |\n",
      "|  12   |    66.50%    |    0.6080     |      64.94%       |      66.18%      |\n",
      "|  13   |    66.59%    |    0.6074     |      65.03%       |      66.65%      |\n",
      "|  14   |    66.69%    |    0.5873     |      65.00%       |      66.35%      |\n",
      "|  15   |    66.62%    |    0.5993     |      64.82%       |      65.34%      |\n",
      "|  16   |    66.36%    |    0.5906     |      64.94%       |      66.19%      |\n",
      "|  17   |    66.03%    |    0.5990     |      64.94%       |      66.76%      |\n",
      "|  18   |    66.41%    |    0.6316     |      65.09%       |      66.52%      |\n",
      "|  19   |    66.56%    |    0.5710     |      65.03%       |      66.93%      |\n",
      "|  20   |    66.40%    |    0.5893     |      64.93%       |      67.03%      |\n",
      "|  21   |    66.69%    |    0.5880     |      64.97%       |      66.43%      |\n",
      "|  22   |    66.52%    |    0.6006     |      64.67%       |      65.96%      |\n",
      "|  23   |    66.43%    |    0.6086     |      64.67%       |      66.72%      |\n",
      "|  24   |    66.65%    |    0.5875     |      64.91%       |      66.30%      |\n",
      "|  25   |    66.41%    |    0.5942     |      64.81%       |      66.71%      |\n",
      "|  26   |    66.40%    |    0.5837     |      65.09%       |      66.50%      |\n",
      "|  27   |    66.78%    |    0.5804     |      65.08%       |      66.56%      |\n",
      "|  28   |    66.61%    |    0.5803     |      64.65%       |      65.53%      |\n",
      "|  29   |    66.45%    |    0.5760     |      64.89%       |      66.53%      |\n",
      "|  30   |    66.64%    |    0.5836     |      65.06%       |      66.75%      |\n",
      "|  31   |    66.55%    |    0.5953     |      64.60%       |      66.35%      |\n",
      "|  32   |    67.03%    |    0.5831     |      64.95%       |      66.24%      |\n",
      "|  33   |    66.49%    |    0.5860     |      64.76%       |      66.48%      |\n",
      "|  34   |    66.27%    |    0.5808     |      65.08%       |      66.67%      |\n",
      "|  35   |    66.59%    |    0.5940     |      65.20%       |      67.24%      |\n",
      "|  36   |    66.69%    |    0.5912     |      64.82%       |      66.47%      |\n",
      "|  37   |    66.75%    |    0.6452     |      65.00%       |      66.71%      |\n",
      "|  38   |    66.54%    |    0.5830     |      64.99%       |      66.88%      |\n",
      "|  39   |    66.43%    |    0.6067     |      64.90%       |      66.34%      |\n",
      "|  40   |    66.38%    |    0.6174     |      64.75%       |      66.89%      |\n",
      "|  41   |    66.40%    |    0.5803     |      64.83%       |      66.40%      |\n",
      "|  42   |    66.66%    |    0.5748     |      65.19%       |      67.19%      |\n",
      "|  43   |    66.83%    |    0.5959     |      64.95%       |      66.81%      |\n",
      "|  44   |    65.86%    |    0.5911     |      64.69%       |      66.52%      |\n",
      "|  45   |    66.34%    |    0.5951     |      64.81%       |      66.26%      |\n",
      "|  46   |    66.74%    |    0.6026     |      65.02%       |      66.33%      |\n",
      "|  47   |    66.24%    |    0.5915     |      65.11%       |      66.47%      |\n",
      "|  48   |    66.80%    |    0.6028     |      63.94%       |      65.82%      |\n",
      "|  49   |    66.27%    |    0.6040     |      65.04%       |      66.40%      |\n",
      "|  50   |    66.50%    |    0.5838     |      64.94%       |      66.81%      |\n",
      "|  51   |    66.66%    |    0.5986     |      65.00%       |      66.50%      |\n",
      "|  52   |    66.71%    |    0.5897     |      65.00%       |      67.43%      |\n",
      "|  53   |    66.66%    |    0.5834     |      65.06%       |      66.83%      |\n",
      "|  54   |    66.60%    |    0.5784     |      64.81%       |      66.09%      |\n",
      "|  55   |    66.33%    |    0.5884     |      65.15%       |      66.95%      |\n",
      "|  56   |    66.44%    |    0.5930     |      64.96%       |      66.20%      |\n",
      "|  57   |    66.51%    |    0.5862     |      64.97%       |      66.42%      |\n",
      "|  58   |    66.52%    |    0.5893     |      64.73%       |      65.55%      |\n",
      "|  59   |    66.59%    |    0.5881     |      64.85%       |      66.83%      |\n",
      "|  60   |    66.65%    |    0.5805     |      65.04%       |      66.06%      |\n",
      "|  61   |    65.83%    |    0.6022     |      63.97%       |      66.22%      |\n",
      "|  62   |    66.28%    |    0.5862     |      64.90%       |      66.67%      |\n",
      "|  63   |    66.78%    |    0.5772     |      64.90%       |      66.38%      |\n",
      "|  64   |    66.91%    |    0.5777     |      65.06%       |      66.67%      |\n",
      "|  65   |    66.34%    |    0.5865     |      65.00%       |      66.89%      |\n",
      "|  66   |    66.75%    |    0.6002     |      64.90%       |      66.30%      |\n",
      "|  67   |    66.29%    |    0.5863     |      65.01%       |      66.66%      |\n",
      "|  68   |    65.84%    |    0.6096     |      63.80%       |      62.93%      |\n",
      "|  69   |    66.51%    |    0.5951     |      65.02%       |      66.42%      |\n",
      "|  70   |    66.25%    |    0.5934     |      65.05%       |      66.48%      |\n",
      "|  71   |    66.42%    |    0.5754     |      64.88%       |      66.27%      |\n",
      "|  72   |    66.55%    |    0.5748     |      64.95%       |      66.46%      |\n",
      "|  73   |    66.14%    |    0.6143     |      64.28%       |      65.91%      |\n",
      "|  74   |    64.22%    |    0.6333     |      63.81%       |      63.72%      |\n",
      "|  75   |    65.56%    |    0.6404     |      62.71%       |      65.75%      |\n",
      "|  76   |    65.91%    |    0.5960     |      63.72%       |      63.80%      |\n",
      "|  77   |    64.72%    |    0.6314     |      64.67%       |      65.71%      |\n",
      "|  78   |    66.33%    |    0.6149     |      64.98%       |      66.60%      |\n",
      "|  79   |    66.40%    |    0.6093     |      63.49%       |      66.74%      |\n",
      "|  80   |    66.02%    |    0.6133     |      63.43%       |      63.03%      |\n",
      "|  81   |    66.64%    |    0.6221     |      64.73%       |      66.79%      |\n",
      "|  82   |    66.07%    |    0.6052     |      64.95%       |      66.98%      |\n",
      "|  83   |    66.53%    |    0.6255     |      64.42%       |      61.17%      |\n",
      "|  84   |    66.15%    |    0.6150     |      64.94%       |      67.16%      |\n",
      "|  85   |    66.41%    |    0.6038     |      64.57%       |      66.88%      |\n",
      "|  86   |    66.23%    |    0.5978     |      64.80%       |      66.56%      |\n",
      "|  87   |    64.49%    |    0.6776     |      63.95%       |      64.14%      |\n",
      "|  88   |    65.38%    |    0.6264     |      63.75%       |      63.28%      |\n",
      "|  89   |    65.80%    |    0.6498     |      64.23%       |      64.68%      |\n",
      "|  90   |    66.01%    |    0.6528     |      64.68%       |      66.48%      |\n",
      "|  91   |    65.60%    |    0.6271     |      63.74%       |      66.57%      |\n",
      "|  92   |    65.33%    |    0.6148     |      64.35%       |      66.18%      |\n",
      "|  93   |    65.50%    |    0.6470     |      64.06%       |      66.14%      |\n",
      "|  94   |    63.07%    |    0.6470     |      62.41%       |      65.01%      |\n",
      "|  95   |    62.51%    |    0.6679     |      63.84%       |      66.72%      |\n",
      "|  96   |    65.42%    |    0.6486     |      62.59%       |      65.09%      |\n",
      "|  97   |    65.84%    |    0.6533     |      63.82%       |      66.10%      |\n",
      "|  98   |    66.25%    |    0.6114     |      63.82%       |      66.19%      |\n",
      "|  99   |    66.04%    |    0.6776     |      63.21%       |      66.12%      |\n",
      "|  100  |    66.03%    |    0.6460     |      63.80%       |      66.46%      |\n",
      "|  101  |    64.46%    |    0.6584     |      58.17%       |      62.96%      |\n",
      "|  102  |    62.02%    |    0.6513     |      61.55%       |      64.73%      |\n",
      "|  103  |    55.05%    |    0.6910     |      55.14%       |      51.29%      |\n",
      "|  104  |    52.05%    |    0.6965     |      56.54%       |      51.59%      |\n",
      "|  105  |    53.80%    |    0.6796     |      60.86%       |      56.10%      |\n",
      "|  106  |    54.11%    |    0.6987     |      55.80%       |      55.14%      |\n",
      "|  107  |    58.88%    |    0.6933     |      59.60%       |      63.67%      |\n",
      "|  108  |    60.88%    |    0.6634     |      60.12%       |      62.47%      |\n",
      "|  109  |    62.48%    |    0.6850     |      59.58%       |      64.70%      |\n",
      "|  110  |    63.68%    |    0.6896     |      57.45%       |      53.00%      |\n",
      "|  111  |    61.34%    |    0.6602     |      62.11%       |      65.98%      |\n",
      "|  112  |    62.93%    |    0.7140     |      50.39%       |      49.06%      |\n",
      "|  113  |    50.08%    |    0.6897     |      54.48%       |      50.29%      |\n",
      "|  114  |    52.16%    |    0.6640     |      59.79%       |      60.58%      |\n",
      "|  115  |    61.23%    |    0.6664     |      58.45%       |      58.81%      |\n",
      "|  116  |    63.61%    |    0.6723     |      59.79%       |      61.82%      |\n",
      "|  117  |    63.05%    |    0.7062     |      57.61%       |      62.05%      |\n",
      "|  118  |    62.10%    |    0.6940     |      52.53%       |      55.73%      |\n",
      "|  119  |    62.36%    |    0.6899     |      57.88%       |      64.13%      |\n",
      "|  120  |    63.50%    |    0.6724     |      58.62%       |      65.23%      |\n",
      "|  121  |    63.42%    |    0.6808     |      58.50%       |      65.78%      |\n",
      "|  122  |    64.89%    |    0.6586     |      61.81%       |      66.67%      |\n",
      "|  123  |    64.00%    |    0.6699     |      61.06%       |      65.88%      |\n",
      "|  124  |    64.77%    |    0.6621     |      60.24%       |      66.29%      |\n",
      "|  125  |    65.21%    |    0.6863     |      60.26%       |      65.50%      |\n",
      "|  126  |    65.59%    |    0.6623     |      61.78%       |      64.72%      |\n",
      "|  127  |    64.36%    |    0.6440     |      60.20%       |      66.60%      |\n",
      "|  128  |    63.70%    |    0.6544     |      61.09%       |      65.32%      |\n",
      "|  129  |    64.64%    |    0.6758     |      61.51%       |      66.66%      |\n",
      "|  130  |    65.84%    |    0.6497     |      59.09%       |      66.67%      |\n",
      "|  131  |    59.44%    |    0.6850     |      52.85%       |      53.05%      |\n",
      "|  132  |    54.56%    |    0.6845     |      51.95%       |      55.10%      |\n",
      "|  133  |    54.14%    |    0.6904     |      53.01%       |      55.29%      |\n",
      "|  134  |    56.17%    |    0.6946     |      54.44%       |      58.89%      |\n",
      "|  135  |    55.16%    |    0.6932     |      51.32%       |      50.72%      |\n",
      "|  136  |    55.04%    |    0.6945     |      51.69%       |      50.11%      |\n",
      "|  137  |    56.69%    |    0.6846     |      55.22%       |      57.31%      |\n",
      "|  138  |    55.13%    |    0.6868     |      54.60%       |      54.67%      |\n",
      "|  139  |    54.46%    |    0.6718     |      56.01%       |      55.68%      |\n",
      "|  140  |    55.53%    |    0.6759     |      55.40%       |      56.77%      |\n",
      "|  141  |    57.97%    |    0.6735     |      55.23%       |      57.03%      |\n",
      "|  142  |    58.89%    |    0.6774     |      54.94%       |      59.60%      |\n",
      "|  143  |    52.05%    |    0.6788     |      53.55%       |      50.87%      |\n",
      "|  144  |    51.27%    |    0.6870     |      54.11%       |      53.26%      |\n",
      "|  145  |    51.09%    |    0.6828     |      54.22%       |      53.01%      |\n",
      "|  146  |    51.42%    |    0.6959     |      51.84%       |      50.45%      |\n",
      "|  147  |    52.97%    |    0.6799     |      54.76%       |      53.46%      |\n",
      "|  148  |    54.93%    |    0.7219     |      55.75%       |      57.06%      |\n",
      "|  149  |    54.28%    |    0.6877     |      55.13%       |      56.13%      |\n",
      "|  150  |    57.37%    |    0.6729     |      56.25%       |      60.92%      |\n",
      "|  151  |    59.81%    |    0.6909     |      55.52%       |      58.54%      |\n",
      "|  152  |    57.04%    |    0.6789     |      55.18%       |      57.64%      |\n",
      "|  153  |    60.31%    |    0.6961     |      57.47%       |      61.15%      |\n",
      "|  154  |    63.00%    |    0.6700     |      58.22%       |      63.44%      |\n",
      "|  155  |    61.73%    |    0.6847     |      58.80%       |      60.85%      |\n",
      "|  156  |    62.05%    |    0.6738     |      59.18%       |      63.77%      |\n",
      "|  157  |    62.76%    |    0.6848     |      58.45%       |      57.20%      |\n",
      "|  158  |    58.22%    |    0.6781     |      56.97%       |      59.86%      |\n",
      "|  159  |    60.11%    |    0.6783     |      57.58%       |      59.26%      |\n",
      "|  160  |    59.35%    |    0.6873     |      59.21%       |      59.42%      |\n",
      "|  161  |    60.04%    |    0.6874     |      56.11%       |      57.96%      |\n",
      "|  162  |    61.01%    |    0.6872     |      59.99%       |      63.58%      |\n",
      "|  163  |    59.33%    |    0.6892     |      59.05%       |      59.13%      |\n",
      "|  164  |    59.27%    |    0.6683     |      58.38%       |      60.26%      |\n",
      "|  165  |    59.86%    |    0.6604     |      59.64%       |      61.10%      |\n",
      "|  166  |    62.74%    |    0.6693     |      57.72%       |      61.94%      |\n",
      "|  167  |    58.87%    |    0.6578     |      58.88%       |      61.49%      |\n",
      "|  168  |    56.81%    |    0.6895     |      56.59%       |      55.61%      |\n",
      "|  169  |    56.81%    |    0.6601     |      57.85%       |      58.89%      |\n",
      "|  170  |    57.70%    |    0.7116     |      58.07%       |      55.10%      |\n",
      "|  171  |    56.24%    |    0.6886     |      53.74%       |      50.65%      |\n",
      "|  172  |    53.49%    |    0.6852     |      57.43%       |      52.86%      |\n",
      "|  173  |    51.03%    |    0.6775     |      54.95%       |      51.03%      |\n",
      "|  174  |    51.38%    |    0.6787     |      54.30%       |      51.90%      |\n",
      "|  175  |    51.63%    |    0.6740     |      54.84%       |      51.38%      |\n",
      "|  176  |    52.02%    |    0.6979     |      55.01%       |      51.23%      |\n",
      "|  177  |    52.43%    |    0.6790     |      56.14%       |      52.09%      |\n",
      "|  178  |    51.27%    |    0.9261     |      52.53%       |      50.05%      |\n",
      "|  179  |    51.35%    |    0.7624     |      53.45%       |      51.59%      |\n",
      "|  180  |    51.59%    |    0.6901     |      53.77%       |      54.86%      |\n",
      "|  181  |    53.47%    |    0.7219     |      54.60%       |      52.24%      |\n",
      "|  182  |    53.45%    |    0.6961     |      54.39%       |      55.10%      |\n",
      "|  183  |    54.37%    |    0.7550     |      53.31%       |      53.81%      |\n",
      "|  184  |    54.06%    |    0.7214     |      55.42%       |      56.64%      |\n",
      "|  185  |    54.26%    |    0.7176     |      57.61%       |      55.25%      |\n",
      "|  186  |    54.05%    |    0.6731     |      55.86%       |      51.69%      |\n",
      "|  187  |    54.53%    |    0.7354     |      55.68%       |      54.93%      |\n",
      "|  188  |    52.53%    |    0.7091     |      56.62%       |      52.73%      |\n",
      "|  189  |    51.46%    |    0.6924     |      55.79%       |      52.33%      |\n",
      "|  190  |    52.00%    |    0.6786     |      58.16%       |      53.08%      |\n",
      "|  191  |    52.14%    |    0.6761     |      57.82%       |      53.60%      |\n",
      "|  192  |    52.60%    |    0.7070     |      56.82%       |      52.06%      |\n",
      "|  193  |    51.45%    |    0.8758     |      51.83%       |      49.61%      |\n",
      "|  194  |    50.89%    |    0.6932     |      55.52%       |      52.13%      |\n",
      "|  195  |    52.04%    |    0.6822     |      53.50%       |      50.75%      |\n",
      "|  196  |    51.54%    |    0.6799     |      54.74%       |      49.85%      |\n",
      "|  197  |    50.84%    |    0.6931     |      52.70%       |      51.38%      |\n",
      "|  198  |    51.19%    |    0.7006     |      53.93%       |      50.20%      |\n",
      "|  199  |    52.52%    |    0.6939     |      52.41%       |      49.63%      |\n",
      "|  200  |    50.33%    |    0.6868     |      52.34%       |      50.82%      |\n"
     ]
    },
    {
     "data": {
      "application/vnd.jupyter.widget-view+json": {
       "model_id": "689f305d470a41989c274c36ac47a1d6",
       "version_major": 2,
       "version_minor": 0
      },
      "text/plain": [
       "VBox(children=(Label(value='0.001 MB of 0.001 MB uploaded\\r'), FloatProgress(value=1.0, max=1.0)))"
      ]
     },
     "metadata": {},
     "output_type": "display_data"
    },
    {
     "data": {
      "text/html": [
       "<style>\n",
       "    table.wandb td:nth-child(1) { padding: 0 10px; text-align: left ; width: auto;} td:nth-child(2) {text-align: left ; width: 100%}\n",
       "    .wandb-row { display: flex; flex-direction: row; flex-wrap: wrap; justify-content: flex-start; width: 100% }\n",
       "    .wandb-col { display: flex; flex-direction: column; flex-basis: 100%; flex: 1; padding: 10px; }\n",
       "    </style>\n",
       "<div class=\"wandb-row\"><div class=\"wandb-col\"><h3>Run history:</h3><br/><table class=\"wandb\"><tr><td>epoch</td><td>▁▁▁▁▂▂▂▂▂▃▃▃▃▃▃▄▄▄▄▄▅▅▅▅▅▅▆▆▆▆▆▇▇▇▇▇▇███</td></tr><tr><td>test_accuracy</td><td>█████████████▇███▇█▇▆▆▁▂▆▆▃▃▃▄▅▄▅▄▃▂▃▄▃▂</td></tr><tr><td>test_last_bit_accuracy</td><td>████▇████████▆███▆██▇▆▁▄█▇▅▃▃▄▆▅▅▃▂▁▄▂▂▂</td></tr><tr><td>test_last_bit_loss</td><td>▂▁▁▁▁▁▁▁▁▁▁▁▁▂▁▂▂▂▂▂▂▂▃▃▂▂▂▃▃▃▂▂▂▃▃█▃▃▃▃</td></tr><tr><td>train_accuracy</td><td>█████████████████▇▇█▆▅▆▆▇▇▃▃▁▃▆▄▅▄▁▁▃▂▁▁</td></tr><tr><td>train_loss</td><td>▁▂▂▁▂▁▁▁▁▂▁▁▁▂▁▂▂▂▂▂▃▃▄▃▃▃▃▃▃▄▃▃▃▃▃█▄▄▃▃</td></tr></table><br/></div><div class=\"wandb-col\"><h3>Run summary:</h3><br/><table class=\"wandb\"><tr><td>epoch</td><td>200</td></tr><tr><td>test_accuracy</td><td>0.52336</td></tr><tr><td>test_last_bit_accuracy</td><td>0.50822</td></tr><tr><td>test_last_bit_loss</td><td>0.71058</td></tr><tr><td>train_accuracy</td><td>0.50326</td></tr><tr><td>train_loss</td><td>0.68676</td></tr></table><br/></div></div>"
      ],
      "text/plain": [
       "<IPython.core.display.HTML object>"
      ]
     },
     "metadata": {},
     "output_type": "display_data"
    },
    {
     "data": {
      "text/html": [
       " View run <strong style=\"color:#cdcd00\">denim-sweep-10</strong> at: <a href='https://wandb.ai/adamimos/epsilon-transformer/runs/s4efs8l3' target=\"_blank\">https://wandb.ai/adamimos/epsilon-transformer/runs/s4efs8l3</a><br/>Synced 5 W&B file(s), 0 media file(s), 0 artifact file(s) and 0 other file(s)"
      ],
      "text/plain": [
       "<IPython.core.display.HTML object>"
      ]
     },
     "metadata": {},
     "output_type": "display_data"
    },
    {
     "data": {
      "text/html": [
       "Find logs at: <code>./wandb/run-20240120_111437-s4efs8l3/logs</code>"
      ],
      "text/plain": [
       "<IPython.core.display.HTML object>"
      ]
     },
     "metadata": {},
     "output_type": "display_data"
    },
    {
     "name": "stderr",
     "output_type": "stream",
     "text": [
      "\u001b[34m\u001b[1mwandb\u001b[0m: Sweep Agent: Waiting for job.\n",
      "\u001b[34m\u001b[1mwandb\u001b[0m: Sweep Agent: Exiting.\n"
     ]
    }
   ],
   "source": [
    "import numpy as np\n",
    "\n",
    "sweep_config = {\n",
    "    \"method\": \"grid\",  # Use 'grid' for grid search\n",
    "    \"metric\": {\n",
    "        \"name\": \"test_last_bit_loss\",  # Replace with your validation metric\n",
    "        \"goal\": \"minimize\",  # Can be 'maximize' or 'minimize'\n",
    "    },\n",
    "    \"parameters\": {\n",
    "        \"learning_rate\": {\n",
    "            \"values\": np.logspace(\n",
    "                -4, -2, num=10\n",
    "            ).tolist()  # Specify the grid values for learning rate\n",
    "        },\n",
    "        \"weight_decay\": {\"values\": [0]},  # Specify the grid values for weight decay\n",
    "    },\n",
    "}\n",
    "sweep_id = wandb.sweep(sweep_config, project=\"epsilon-transformer\")\n",
    "\n",
    "# Use a lambda function or a partial function to pass additional arguments to sweep_train\n",
    "wandb.agent(sweep_id, lambda: sweep_train(process, config, train_config))"
   ]
  },
  {
   "cell_type": "code",
   "execution_count": 7,
   "metadata": {},
   "outputs": [],
   "source": [
    "import graph_tool.all as gt"
   ]
  },
  {
   "cell_type": "code",
   "execution_count": 11,
   "metadata": {},
   "outputs": [
    {
     "name": "stderr",
     "output_type": "stream",
     "text": [
      "/Users/adamimos/anaconda3/envs/epsilon-machine/lib/python3.11/site-packages/graph_tool/draw/cairo_draw.py:538: UserWarning: Unknown attribute: outline_color\n",
      "  warnings.warn(\"Unknown attribute: \" + str(k), UserWarning)\n",
      "/Users/adamimos/anaconda3/envs/epsilon-machine/lib/python3.11/site-packages/graph_tool/draw/cairo_draw.py:538: UserWarning: Unknown attribute: outline_width\n",
      "  warnings.warn(\"Unknown attribute: \" + str(k), UserWarning)\n",
      "/Users/adamimos/anaconda3/envs/epsilon-machine/lib/python3.11/site-packages/graph_tool/draw/cairo_draw.py:538: UserWarning: Unknown attribute: curved\n",
      "  warnings.warn(\"Unknown attribute: \" + str(k), UserWarning)\n"
     ]
    },
    {
     "data": {
      "image/png": "[encoded data removed]",
      "text/plain": [
       "<IPython.core.display.Image object>"
      ]
     },
     "metadata": {
      "image/png": {
       "height": 499,
       "width": 500
      }
     },
     "output_type": "display_data"
    },
    {
     "data": {
      "text/plain": [
       "<VertexPropertyMap object with value type 'vector<double>', for Graph 0x2c1227dd0, at 0x2a7becbd0>"
      ]
     },
     "execution_count": 11,
     "metadata": {},
     "output_type": "execute_result"
    }
   ],
   "source": [
    "G = gt.Graph(directed=True)\n",
    "# Assuming 'transition_matrix' is your matrix and 'state_names' is your dictionary\n",
    "# Add vertices\n",
    "vertices = {state: G.add_vertex() for state in process.state_names}\n",
    "\n",
    "# Edge properties for symbols and weights\n",
    "e_label = G.new_edge_property(\"string\")\n",
    "e_weight = G.new_edge_property(\"double\")\n",
    "e_pen_width = G.new_edge_property(\"double\")\n",
    "e_curved = G.new_edge_property(\"bool\")\n",
    "\n",
    "for symbol in range(process.transition_matrix.shape[0]):\n",
    "    for from_state in range(process.transition_matrix.shape[1]):\n",
    "        for to_state in range(process.transition_matrix.shape[2]):\n",
    "            if (\n",
    "                process.transition_matrix[symbol, from_state, to_state] > 0\n",
    "            ):  # Adjust this condition if needed\n",
    "                e = G.add_edge(\n",
    "                    vertices[process.state_inds[from_state]],\n",
    "                    vertices[process.state_inds[to_state]],\n",
    "                )\n",
    "                e_label[\n",
    "                    e\n",
    "                ] = f\"{symbol}|{round(100*process.transition_matrix[symbol, from_state, to_state])}\"\n",
    "                e_weight[e] = process.transition_matrix[symbol, from_state, to_state]\n",
    "                e_pen_width[e] = 7.5  # Adjust the pen width as desired\n",
    "                e_curved[e] = False  # Set to True to make the edges curved\n",
    "\n",
    "G.edge_properties[\"label\"] = e_label\n",
    "G.edge_properties[\"weight\"] = e_weight\n",
    "G.edge_properties[\"pen_width\"] = e_pen_width\n",
    "G.edge_properties[\"curved\"] = e_curved\n",
    "\n",
    "# Vertex labels\n",
    "v_label = G.new_vertex_property(\"string\")\n",
    "for state, vertex in vertices.items():\n",
    "    v_label[vertex] = state\n",
    "G.vertex_properties[\"label\"] = v_label\n",
    "\n",
    "# Layout\n",
    "pos = gt.sfdp_layout(G)\n",
    "\n",
    "# Drawing the graph with vertex labels and custom edge labels\n",
    "vertex_fill_color = G.new_vertex_property(\"vector<double>\")\n",
    "vertex_outline_color = G.new_vertex_property(\"vector<double>\")\n",
    "vertex_outline_width = G.new_vertex_property(\"double\")\n",
    "\n",
    "for v in G.vertices():\n",
    "    vertex_fill_color[v] = (0.8, 0.8, 1.0, 1.0)  # Light blue color\n",
    "    vertex_outline_color[v] = (0.0, 0.0, 0.0, 1.0)  # Black color\n",
    "    vertex_outline_width[v] = 1.0\n",
    "\n",
    "G.vertex_properties[\"fill_color\"] = vertex_fill_color\n",
    "G.vertex_properties[\"outline_color\"] = vertex_outline_color\n",
    "G.vertex_properties[\"outline_width\"] = vertex_outline_width\n",
    "\n",
    "gt.graph_draw(\n",
    "    G,\n",
    "    pos=pos,\n",
    "    vertex_text=G.vertex_properties[\"label\"],\n",
    "    edge_text=G.edge_properties[\"label\"],\n",
    "    edge_pen_width=G.edge_properties[\"pen_width\"],\n",
    "    edge_curved=G.edge_properties[\"curved\"],\n",
    "    vertex_fill_color=G.vertex_properties[\"fill_color\"],\n",
    "    vertex_outline_color=G.vertex_properties[\"outline_color\"],\n",
    "    vertex_outline_width=G.vertex_properties[\"outline_width\"],\n",
    "    output_size=(500, 500),\n",
    ")"
   ]
  },
  {
   "cell_type": "code",
   "execution_count": 10,
   "metadata": {},
   "outputs": [
    {
     "data": {
      "text/plain": [
       "{0: 'S', 1: '0', 2: '1', 3: 'T', 4: 'F'}"
      ]
     },
     "execution_count": 10,
     "metadata": {},
     "output_type": "execute_result"
    }
   ],
   "source": [
    "process.state_inds"
   ]
  },
  {
   "cell_type": "code",
   "execution_count": null,
   "metadata": {},
   "outputs": [],
   "source": []
  }
 ],
 "metadata": {
  "kernelspec": {
   "display_name": "epsilon-machine",
   "language": "python",
   "name": "python3"
  },
  "language_info": {
   "codemirror_mode": {
    "name": "ipython",
    "version": 3
   },
   "file_extension": ".py",
   "mimetype": "text/x-python",
   "name": "python",
   "nbconvert_exporter": "python",
   "pygments_lexer": "ipython3",
   "version": "3.11.7"
  }
 },
 "nbformat": 4,
 "nbformat_minor": 2
}
