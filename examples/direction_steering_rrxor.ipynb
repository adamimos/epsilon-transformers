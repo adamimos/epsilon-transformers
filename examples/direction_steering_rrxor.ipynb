{
 "cells": [
  {
   "cell_type": "code",
   "execution_count": 65,
   "metadata": {},
   "outputs": [
    {
     "name": "stdout",
     "output_type": "stream",
     "text": [
      "The autoreload extension is already loaded. To reload it, use:\n",
      "  %reload_ext autoreload\n"
     ]
    }
   ],
   "source": [
    "%load_ext autoreload\n",
    "%autoreload 2\n",
    "\n",
    "from epsilon_transformers.persistence import S3Persister, HackyPersister\n",
    "from epsilon_transformers.training.configs.model_configs import RawModelConfig\n",
    "from epsilon_transformers.process.processes import RRXOR\n",
    "from epsilon_transformers.analysis.activation_analysis import get_beliefs_for_transformer_inputs\n",
    "from epsilon_transformers.steering.steer import organize_activations,get_steering_vector,run_model_with_steering,get_inputs_ending_in_belief\n",
    "\n",
    "import numpy as np\n",
    "import torch\n",
    "import plotly.express as px\n",
    "import pathlib\n",
    "\n",
    "from sklearn.linear_model import LinearRegression\n",
    "from sklearn.decomposition import PCA\n",
    "from plotly.subplots import make_subplots\n",
    "from plotly import graph_objects as go\n",
    "\n"
   ]
  },
  {
   "cell_type": "markdown",
   "metadata": {},
   "source": [
    "# Get the model checkpoints (.pt files) and the config"
   ]
  },
  {
   "cell_type": "code",
   "execution_count": 66,
   "metadata": {},
   "outputs": [],
   "source": [
    "persister = HackyPersister(dir_path=pathlib.Path('./models/vfs4q106-rrxor'))\n",
    "checkpoints = persister.get_model_checkpoints()\n"
   ]
  },
  {
   "cell_type": "markdown",
   "metadata": {},
   "source": [
    "# Initialize the RRXOR process\n",
    "This library has a Process class that we use to define a data generating HMM.\n",
    "\n",
    "The most important part of the process is the transition matrix, which defines the transitions between states. You can get it via `process.transition_matrix`. It is a numpy array of shape (num_emission, num_states, num_states), and defines the transition probabilities from state i to state j given emission k.\n",
    "\n",
    "The process also has a `state_names_dict`, which is a dictionary mapping state names to state indices. You can get it via `process.state_names_dict`.\n"
   ]
  },
  {
   "cell_type": "code",
   "execution_count": 67,
   "metadata": {},
   "outputs": [
    {
     "name": "stdout",
     "output_type": "stream",
     "text": [
      "rrxor Process\n",
      "Number of states: 5\n",
      "Vocabulary length: 2\n",
      "Transition matrix shape: (2, 5, 5)\n"
     ]
    }
   ],
   "source": [
    "process = RRXOR()\n",
    "print(process)\n",
    "process_matrix= process.transition_matrix\n",
    "mixed_state_tree = process.derive_mixed_state_presentation(depth=11)\n",
    "MSP_transition_matrix = mixed_state_tree.build_msp_transition_matrix()\n",
    "# make a process out of the transition matrix\n",
    "from epsilon_transformers.process.processes import TransitionMatrixProcess\n",
    "process = TransitionMatrixProcess(transition_matrix=MSP_transition_matrix)\n"
   ]
  },
  {
   "cell_type": "markdown",
   "metadata": {},
   "source": [
    "# Simplex Analysis\n",
    "\n",
    "## Ground Truth Simplex\n",
    "\n",
    "To get the ground truth simplex structure, we need to get all paths of any length on the mixed state tree, and their associated belief states. To do this, we use `mixed_state_tree.paths_and_belief_states`, which returns a list of tuples, where the first element is the path, and the second element is the belief state associated with it.\n",
    "\n"
   ]
  },
  {
   "cell_type": "code",
   "execution_count": 68,
   "metadata": {},
   "outputs": [
    {
     "name": "stdout",
     "output_type": "stream",
     "text": [
      "Number of Unique beliefs: 36 out of 1723\n",
      "(0.5, 0.25, 0.0, 0.0, 0.25) is indexed as 0\n",
      "(0.33333, 0.0, 0.33333, 0.16667, 0.16667) is indexed as 1\n",
      "(0.0, 0.0, 1.0, 0.0, 0.0) is indexed as 2\n",
      "(0.0, 0.66667, 0.0, 0.0, 0.33333) is indexed as 3\n",
      "(0.0, 0.0, 0.5, 0.5, 0.0) is indexed as 4\n"
     ]
    }
   ],
   "source": [
    "# in order to plot the belief states in the simplex, we need to get the paths and beliefs from the MSP\n",
    "tree_paths, tree_beliefs = mixed_state_tree.paths_and_belief_states\n",
    "\n",
    "msp_beliefs = [tuple(round(b, 5) for b in belief) for belief in tree_beliefs]\n",
    "# the MSP states are the unique beliefs in the tree\n",
    "print(f\"Number of Unique beliefs: {len(set(msp_beliefs))} out of {len(msp_beliefs)}\")\n",
    "# now lets index each belief\n",
    "msp_belief_index = {b: i for i, b in enumerate(set(msp_beliefs))}\n",
    "\n",
    "for i in range(5):\n",
    "    ith_belief = list(msp_belief_index.keys())[i]\n",
    "    print(f\"{ith_belief} is indexed as {msp_belief_index[ith_belief]}\")\n"
   ]
  },
  {
   "cell_type": "markdown",
   "metadata": {},
   "source": [
    "The simplex is a 4D structure, representing probability distributions over 5 hidden states, so we project down to 3D using PCA for visualization.\n",
    "\n"
   ]
  },
  {
   "cell_type": "code",
   "execution_count": 69,
   "metadata": {},
   "outputs": [],
   "source": [
    "def run_visualization_pca(beliefs):\n",
    "    pca = PCA(n_components=3)\n",
    "    pca.fit(beliefs)\n",
    "\n",
    "    return pca\n",
    "\n",
    "vis_pca = run_visualization_pca(list(msp_belief_index.keys()))\n",
    "index = list(msp_belief_index.values())\n",
    "\n"
   ]
  },
  {
   "cell_type": "markdown",
   "metadata": {},
   "source": [
    "# Find Simplex in Transformer Activations\n",
    "\n",
    "First, we get all of the possible sequences generated by our HMM by getting all of the paths on the MSP, of length equal to the context length. We put them all in one batch so we can get the activations for all of them at once.\n"
   ]
  },
  {
   "cell_type": "code",
   "execution_count": 70,
   "metadata": {},
   "outputs": [
    {
     "name": "stdout",
     "output_type": "stream",
     "text": [
      "tensor([[0, 1, 0, 1, 1, 1, 0, 1, 0, 1],\n",
      "        [0, 1, 0, 1, 1, 1, 0, 0, 1, 1],\n",
      "        [0, 1, 0, 1, 1, 1, 0, 0, 0, 0],\n",
      "        [0, 1, 0, 1, 1, 0, 1, 1, 1, 0],\n",
      "        [0, 1, 0, 1, 1, 0, 1, 1, 1, 1]], dtype=torch.int32)\n"
     ]
    }
   ],
   "source": [
    "# now lets set up all the inputs as they arrive into the transformer\n",
    "device = 'cpu'\n",
    "transformer_inputs = [x for x in tree_paths if len(x) == 10]\n",
    "transformer_inputs = torch.tensor(transformer_inputs, dtype=torch.int).to(device)\n",
    "\n",
    "# print first few batches\n",
    "print(transformer_inputs[:5])"
   ]
  },
  {
   "cell_type": "markdown",
   "metadata": {},
   "source": [
    "Then, we get the belief states associated with each transformer input, using the `get_beliefs_for_transformer_inputs` function. The output of this function is a tuple of two tensors, where the first tensor is the belief states associated with each transformer input, and the second tensor is the indices of the beliefs associated with each transformer input. The shape of the belief states tensor is [batch, n_ctx, belief_dim], and the shape of the indices tensor is [batch, n_ctx].\n"
   ]
  },
  {
   "cell_type": "code",
   "execution_count": 71,
   "metadata": {},
   "outputs": [
    {
     "name": "stdout",
     "output_type": "stream",
     "text": [
      "Transformer Input Beliefs: torch.Size([436, 10, 5]), Transformer Input Belief Indices: torch.Size([436, 10])\n"
     ]
    }
   ],
   "source": [
    "transformer_input_beliefs, transformer_input_belief_indices = get_beliefs_for_transformer_inputs(transformer_inputs, msp_belief_index, tree_paths, tree_beliefs)\n",
    "print(f\"Transformer Input Beliefs: {transformer_input_beliefs.shape}, Transformer Input Belief Indices: {transformer_input_belief_indices.shape}\")\n",
    "transformer_input_belief_indices_flattened = transformer_input_belief_indices.view(-1).cpu().numpy()\n",
    "\n"
   ]
  },
  {
   "cell_type": "markdown",
   "metadata": {},
   "source": [
    "Next we get the activations from the transformer for the input. We use the `names_filter` argument to get the activations from the resid_post layers, which is the residual stream of the transformer after the attention and MLP have been added in."
   ]
  },
  {
   "cell_type": "code",
   "execution_count": 72,
   "metadata": {},
   "outputs": [
    {
     "name": "stdout",
     "output_type": "stream",
     "text": [
      "dict_keys(['blocks.0.hook_resid_post', 'blocks.1.hook_resid_post', 'blocks.2.hook_resid_post', 'blocks.3.hook_resid_post'])\n"
     ]
    }
   ],
   "source": [
    "device = torch.device(\"cpu\")#torch.device(\"cuda\" if torch.cuda.is_available() else \"cpu\")\n",
    "\n",
    "model = persister.load_model(ckpt_num=checkpoints[-1], device=device)\n",
    "logits, activations = model.run_with_cache(transformer_inputs, names_filter=lambda x: 'hook_resid_post' in x)\n",
    "print(activations.keys())"
   ]
  },
  {
   "cell_type": "markdown",
   "metadata": {},
   "source": [
    "Next we define a function to run the linear regression between the activations and the belief states.\n",
    "For the RRXOR process we concatenate the activations from the residual stream of all layers.\n",
    "Using the `run_activation_to_beliefs_regression` function, we run the linear regression between the activations and the belief states. The outputs are the linear regression model, and the belief predictions, which are of shape [batch, n_ctx, belief_dim], that is, for each context position, we have a belief prediction over the 5 hidden states."
   ]
  },
  {
   "cell_type": "code",
   "execution_count": 73,
   "metadata": {},
   "outputs": [],
   "source": [
    "# we now have activations [batch, n_ctx, d_model]\n",
    "# and we have transformer_input_beliefs [batch, n_ctx, belief_dim]\n",
    "# and we have transformer_input_belief_indices [batch, n_ctx]\n",
    "\n",
    "# in the end we want to do linear regression between the activations and the transformer_input_beliefs\n",
    "def run_activation_to_beliefs_regression(activations, ground_truth_beliefs):\n",
    "\n",
    "    # make sure the first two dimensions are the same\n",
    "    assert activations.shape[0] == ground_truth_beliefs.shape[0]\n",
    "    assert activations.shape[1] == ground_truth_beliefs.shape[1]\n",
    "\n",
    "    # flatten the activations\n",
    "    batch_size, n_ctx, d_model = activations.shape\n",
    "    belief_dim = ground_truth_beliefs.shape[-1]\n",
    "    activations_flattened = activations.view(-1, d_model) # [batch * n_ctx, d_model]\n",
    "    ground_truth_beliefs_flattened = ground_truth_beliefs.view(-1, belief_dim) # [batch * n_ctx, belief_dim]\n",
    "    \n",
    "    # run the regression    \n",
    "    regression = LinearRegression()\n",
    "    regression.fit(activations_flattened, ground_truth_beliefs_flattened)\n",
    "\n",
    "    # get the belief predictions\n",
    "    belief_predictions = regression.predict(activations_flattened) # [batch * n_ctx, belief_dim]\n",
    "    belief_predictions = belief_predictions.reshape(batch_size, n_ctx, belief_dim)\n",
    "\n",
    "    return regression, belief_predictions\n",
    "\n"
   ]
  },
  {
   "cell_type": "code",
   "execution_count": 74,
   "metadata": {},
   "outputs": [
    {
     "name": "stdout",
     "output_type": "stream",
     "text": [
      "Shape of belief_predictions: (436, 10, 5)\n"
     ]
    }
   ],
   "source": [
    "acts = torch.concatenate([v for k, v in activations.items()], dim=-1)\n",
    "regression, belief_predictions = run_activation_to_beliefs_regression(acts, transformer_input_beliefs)\n",
    "print(f\"Shape of belief_predictions: {belief_predictions.shape}\")\n",
    "belief_predictions_pca = vis_pca.transform(belief_predictions.reshape(-1, 5))\n",
    "\n"
   ]
  },
  {
   "cell_type": "markdown",
   "metadata": {},
   "source": [
    "## Collect activations"
   ]
  },
  {
   "cell_type": "code",
   "execution_count": 75,
   "metadata": {},
   "outputs": [],
   "source": [
    "per_layer_belief_activations = organize_activations(activations, transformer_input_belief_indices, all_positions=True)"
   ]
  },
  {
   "cell_type": "markdown",
   "metadata": {},
   "source": [
    "## Compute steering vector"
   ]
  },
  {
   "cell_type": "code",
   "execution_count": 76,
   "metadata": {},
   "outputs": [],
   "source": [
    "state_1 = 31\n",
    "state_2 = 21\n",
    "per_layer_steering_vector = get_steering_vector(per_layer_belief_activations,state_1,state_2)\n"
   ]
  },
  {
   "cell_type": "markdown",
   "metadata": {},
   "source": [
    "## Add the hooking function"
   ]
  },
  {
   "cell_type": "code",
   "execution_count": 77,
   "metadata": {},
   "outputs": [],
   "source": [
    "prompts_with_belief_state_1 = get_inputs_ending_in_belief(transformer_inputs,transformer_input_belief_indices,state_1)\n",
    "prompts_with_belief_state_2 = get_inputs_ending_in_belief(transformer_inputs,transformer_input_belief_indices,state_2)"
   ]
  },
  {
   "cell_type": "code",
   "execution_count": 78,
   "metadata": {},
   "outputs": [],
   "source": [
    "normal_1 = model(prompts_with_belief_state_1)\n",
    "steered_to_2 = run_model_with_steering(model,prompts_with_belief_state_1,per_layer_steering_vector,1)\n",
    "\n",
    "normal_2 = model(prompts_with_belief_state_2)\n",
    "steered_to_1 = run_model_with_steering(model,prompts_with_belief_state_2,per_layer_steering_vector,-1)"
   ]
  },
  {
   "cell_type": "code",
   "execution_count": 79,
   "metadata": {},
   "outputs": [],
   "source": [
    "output_state_1 = normal_1[:,-1,:].softmax(1).detach()\n",
    "output_state_2 = normal_2[:,-1,:].softmax(1).detach()\n",
    "corrupted_output_state_1 = steered_to_2[:,-1,:].softmax(1).detach()\n",
    "corrupted_output_state_2 = steered_to_1[:,-1,:].softmax(1).detach()"
   ]
  },
  {
   "cell_type": "code",
   "execution_count": 80,
   "metadata": {},
   "outputs": [],
   "source": [
    "outputs =[output_state_1,output_state_2,corrupted_output_state_1,corrupted_output_state_2]\n",
    "zero_bars = {\"state_1\":0,\"state_2\":0,\"corrupted_state_1\":0,\"corrupted_state_2\":0}\n",
    "one_bars = {\"state_1\":0,\"state_2\":0,\"corrupted_state_1\":0,\"corrupted_state_2\":0}\n",
    "for i,output in enumerate(outputs):\n",
    "    total = len(output)\n",
    "    key = list(one_bars.keys())[i]\n",
    "    one_bars[key] = sum(output[:,0].numpy())/total\n",
    "    zero_bars[key] = sum(output[:,1].numpy())/total"
   ]
  },
  {
   "cell_type": "code",
   "execution_count": 81,
   "metadata": {},
   "outputs": [
    {
     "data": {
      "application/vnd.plotly.v1+json": {
       "config": {
        "plotlyServerURL": "https://plot.ly"
       },
       "data": [
        {
         "name": "Probability to output 0",
         "type": "bar",
         "x": [
          "State T",
          "State F",
          "State T->State F",
          "State F-> State T"
         ],
         "xaxis": "x",
         "y": [
          0.00069535924792165,
          0.9994996664475422,
          0.9999661676737727,
          0.00006091985871572266
         ],
         "yaxis": "y"
        },
        {
         "name": "Probability to output 1",
         "type": "bar",
         "x": [
          "State T",
          "State F",
          "State T->State F",
          "State F-> State T"
         ],
         "xaxis": "x2",
         "y": [
          0.9993046406580477,
          0.0005003278156993697,
          0.00003382930586964476,
          0.9999390755380902
         ],
         "yaxis": "y2"
        }
       ],
       "layout": {
        "height": 400,
        "template": {
         "data": {
          "bar": [
           {
            "error_x": {
             "color": "#2a3f5f"
            },
            "error_y": {
             "color": "#2a3f5f"
            },
            "marker": {
             "line": {
              "color": "#E5ECF6",
              "width": 0.5
             },
             "pattern": {
              "fillmode": "overlay",
              "size": 10,
              "solidity": 0.2
             }
            },
            "type": "bar"
           }
          ],
          "barpolar": [
           {
            "marker": {
             "line": {
              "color": "#E5ECF6",
              "width": 0.5
             },
             "pattern": {
              "fillmode": "overlay",
              "size": 10,
              "solidity": 0.2
             }
            },
            "type": "barpolar"
           }
          ],
          "carpet": [
           {
            "aaxis": {
             "endlinecolor": "#2a3f5f",
             "gridcolor": "white",
             "linecolor": "white",
             "minorgridcolor": "white",
             "startlinecolor": "#2a3f5f"
            },
            "baxis": {
             "endlinecolor": "#2a3f5f",
             "gridcolor": "white",
             "linecolor": "white",
             "minorgridcolor": "white",
             "startlinecolor": "#2a3f5f"
            },
            "type": "carpet"
           }
          ],
          "choropleth": [
           {
            "colorbar": {
             "outlinewidth": 0,
             "ticks": ""
            },
            "type": "choropleth"
           }
          ],
          "contour": [
           {
            "colorbar": {
             "outlinewidth": 0,
             "ticks": ""
            },
            "colorscale": [
             [
              0,
              "#0d0887"
             ],
             [
              0.1111111111111111,
              "#46039f"
             ],
             [
              0.2222222222222222,
              "#7201a8"
             ],
             [
              0.3333333333333333,
              "#9c179e"
             ],
             [
              0.4444444444444444,
              "#bd3786"
             ],
             [
              0.5555555555555556,
              "#d8576b"
             ],
             [
              0.6666666666666666,
              "#ed7953"
             ],
             [
              0.7777777777777778,
              "#fb9f3a"
             ],
             [
              0.8888888888888888,
              "#fdca26"
             ],
             [
              1,
              "#f0f921"
             ]
            ],
            "type": "contour"
           }
          ],
          "contourcarpet": [
           {
            "colorbar": {
             "outlinewidth": 0,
             "ticks": ""
            },
            "type": "contourcarpet"
           }
          ],
          "heatmap": [
           {
            "colorbar": {
             "outlinewidth": 0,
             "ticks": ""
            },
            "colorscale": [
             [
              0,
              "#0d0887"
             ],
             [
              0.1111111111111111,
              "#46039f"
             ],
             [
              0.2222222222222222,
              "#7201a8"
             ],
             [
              0.3333333333333333,
              "#9c179e"
             ],
             [
              0.4444444444444444,
              "#bd3786"
             ],
             [
              0.5555555555555556,
              "#d8576b"
             ],
             [
              0.6666666666666666,
              "#ed7953"
             ],
             [
              0.7777777777777778,
              "#fb9f3a"
             ],
             [
              0.8888888888888888,
              "#fdca26"
             ],
             [
              1,
              "#f0f921"
             ]
            ],
            "type": "heatmap"
           }
          ],
          "heatmapgl": [
           {
            "colorbar": {
             "outlinewidth": 0,
             "ticks": ""
            },
            "colorscale": [
             [
              0,
              "#0d0887"
             ],
             [
              0.1111111111111111,
              "#46039f"
             ],
             [
              0.2222222222222222,
              "#7201a8"
             ],
             [
              0.3333333333333333,
              "#9c179e"
             ],
             [
              0.4444444444444444,
              "#bd3786"
             ],
             [
              0.5555555555555556,
              "#d8576b"
             ],
             [
              0.6666666666666666,
              "#ed7953"
             ],
             [
              0.7777777777777778,
              "#fb9f3a"
             ],
             [
              0.8888888888888888,
              "#fdca26"
             ],
             [
              1,
              "#f0f921"
             ]
            ],
            "type": "heatmapgl"
           }
          ],
          "histogram": [
           {
            "marker": {
             "pattern": {
              "fillmode": "overlay",
              "size": 10,
              "solidity": 0.2
             }
            },
            "type": "histogram"
           }
          ],
          "histogram2d": [
           {
            "colorbar": {
             "outlinewidth": 0,
             "ticks": ""
            },
            "colorscale": [
             [
              0,
              "#0d0887"
             ],
             [
              0.1111111111111111,
              "#46039f"
             ],
             [
              0.2222222222222222,
              "#7201a8"
             ],
             [
              0.3333333333333333,
              "#9c179e"
             ],
             [
              0.4444444444444444,
              "#bd3786"
             ],
             [
              0.5555555555555556,
              "#d8576b"
             ],
             [
              0.6666666666666666,
              "#ed7953"
             ],
             [
              0.7777777777777778,
              "#fb9f3a"
             ],
             [
              0.8888888888888888,
              "#fdca26"
             ],
             [
              1,
              "#f0f921"
             ]
            ],
            "type": "histogram2d"
           }
          ],
          "histogram2dcontour": [
           {
            "colorbar": {
             "outlinewidth": 0,
             "ticks": ""
            },
            "colorscale": [
             [
              0,
              "#0d0887"
             ],
             [
              0.1111111111111111,
              "#46039f"
             ],
             [
              0.2222222222222222,
              "#7201a8"
             ],
             [
              0.3333333333333333,
              "#9c179e"
             ],
             [
              0.4444444444444444,
              "#bd3786"
             ],
             [
              0.5555555555555556,
              "#d8576b"
             ],
             [
              0.6666666666666666,
              "#ed7953"
             ],
             [
              0.7777777777777778,
              "#fb9f3a"
             ],
             [
              0.8888888888888888,
              "#fdca26"
             ],
             [
              1,
              "#f0f921"
             ]
            ],
            "type": "histogram2dcontour"
           }
          ],
          "mesh3d": [
           {
            "colorbar": {
             "outlinewidth": 0,
             "ticks": ""
            },
            "type": "mesh3d"
           }
          ],
          "parcoords": [
           {
            "line": {
             "colorbar": {
              "outlinewidth": 0,
              "ticks": ""
             }
            },
            "type": "parcoords"
           }
          ],
          "pie": [
           {
            "automargin": true,
            "type": "pie"
           }
          ],
          "scatter": [
           {
            "fillpattern": {
             "fillmode": "overlay",
             "size": 10,
             "solidity": 0.2
            },
            "type": "scatter"
           }
          ],
          "scatter3d": [
           {
            "line": {
             "colorbar": {
              "outlinewidth": 0,
              "ticks": ""
             }
            },
            "marker": {
             "colorbar": {
              "outlinewidth": 0,
              "ticks": ""
             }
            },
            "type": "scatter3d"
           }
          ],
          "scattercarpet": [
           {
            "marker": {
             "colorbar": {
              "outlinewidth": 0,
              "ticks": ""
             }
            },
            "type": "scattercarpet"
           }
          ],
          "scattergeo": [
           {
            "marker": {
             "colorbar": {
              "outlinewidth": 0,
              "ticks": ""
             }
            },
            "type": "scattergeo"
           }
          ],
          "scattergl": [
           {
            "marker": {
             "colorbar": {
              "outlinewidth": 0,
              "ticks": ""
             }
            },
            "type": "scattergl"
           }
          ],
          "scattermapbox": [
           {
            "marker": {
             "colorbar": {
              "outlinewidth": 0,
              "ticks": ""
             }
            },
            "type": "scattermapbox"
           }
          ],
          "scatterpolar": [
           {
            "marker": {
             "colorbar": {
              "outlinewidth": 0,
              "ticks": ""
             }
            },
            "type": "scatterpolar"
           }
          ],
          "scatterpolargl": [
           {
            "marker": {
             "colorbar": {
              "outlinewidth": 0,
              "ticks": ""
             }
            },
            "type": "scatterpolargl"
           }
          ],
          "scatterternary": [
           {
            "marker": {
             "colorbar": {
              "outlinewidth": 0,
              "ticks": ""
             }
            },
            "type": "scatterternary"
           }
          ],
          "surface": [
           {
            "colorbar": {
             "outlinewidth": 0,
             "ticks": ""
            },
            "colorscale": [
             [
              0,
              "#0d0887"
             ],
             [
              0.1111111111111111,
              "#46039f"
             ],
             [
              0.2222222222222222,
              "#7201a8"
             ],
             [
              0.3333333333333333,
              "#9c179e"
             ],
             [
              0.4444444444444444,
              "#bd3786"
             ],
             [
              0.5555555555555556,
              "#d8576b"
             ],
             [
              0.6666666666666666,
              "#ed7953"
             ],
             [
              0.7777777777777778,
              "#fb9f3a"
             ],
             [
              0.8888888888888888,
              "#fdca26"
             ],
             [
              1,
              "#f0f921"
             ]
            ],
            "type": "surface"
           }
          ],
          "table": [
           {
            "cells": {
             "fill": {
              "color": "#EBF0F8"
             },
             "line": {
              "color": "white"
             }
            },
            "header": {
             "fill": {
              "color": "#C8D4E3"
             },
             "line": {
              "color": "white"
             }
            },
            "type": "table"
           }
          ]
         },
         "layout": {
          "annotationdefaults": {
           "arrowcolor": "#2a3f5f",
           "arrowhead": 0,
           "arrowwidth": 1
          },
          "autotypenumbers": "strict",
          "coloraxis": {
           "colorbar": {
            "outlinewidth": 0,
            "ticks": ""
           }
          },
          "colorscale": {
           "diverging": [
            [
             0,
             "#8e0152"
            ],
            [
             0.1,
             "#c51b7d"
            ],
            [
             0.2,
             "#de77ae"
            ],
            [
             0.3,
             "#f1b6da"
            ],
            [
             0.4,
             "#fde0ef"
            ],
            [
             0.5,
             "#f7f7f7"
            ],
            [
             0.6,
             "#e6f5d0"
            ],
            [
             0.7,
             "#b8e186"
            ],
            [
             0.8,
             "#7fbc41"
            ],
            [
             0.9,
             "#4d9221"
            ],
            [
             1,
             "#276419"
            ]
           ],
           "sequential": [
            [
             0,
             "#0d0887"
            ],
            [
             0.1111111111111111,
             "#46039f"
            ],
            [
             0.2222222222222222,
             "#7201a8"
            ],
            [
             0.3333333333333333,
             "#9c179e"
            ],
            [
             0.4444444444444444,
             "#bd3786"
            ],
            [
             0.5555555555555556,
             "#d8576b"
            ],
            [
             0.6666666666666666,
             "#ed7953"
            ],
            [
             0.7777777777777778,
             "#fb9f3a"
            ],
            [
             0.8888888888888888,
             "#fdca26"
            ],
            [
             1,
             "#f0f921"
            ]
           ],
           "sequentialminus": [
            [
             0,
             "#0d0887"
            ],
            [
             0.1111111111111111,
             "#46039f"
            ],
            [
             0.2222222222222222,
             "#7201a8"
            ],
            [
             0.3333333333333333,
             "#9c179e"
            ],
            [
             0.4444444444444444,
             "#bd3786"
            ],
            [
             0.5555555555555556,
             "#d8576b"
            ],
            [
             0.6666666666666666,
             "#ed7953"
            ],
            [
             0.7777777777777778,
             "#fb9f3a"
            ],
            [
             0.8888888888888888,
             "#fdca26"
            ],
            [
             1,
             "#f0f921"
            ]
           ]
          },
          "colorway": [
           "#636efa",
           "#EF553B",
           "#00cc96",
           "#ab63fa",
           "#FFA15A",
           "#19d3f3",
           "#FF6692",
           "#B6E880",
           "#FF97FF",
           "#FECB52"
          ],
          "font": {
           "color": "#2a3f5f"
          },
          "geo": {
           "bgcolor": "white",
           "lakecolor": "white",
           "landcolor": "#E5ECF6",
           "showlakes": true,
           "showland": true,
           "subunitcolor": "white"
          },
          "hoverlabel": {
           "align": "left"
          },
          "hovermode": "closest",
          "mapbox": {
           "style": "light"
          },
          "paper_bgcolor": "white",
          "plot_bgcolor": "#E5ECF6",
          "polar": {
           "angularaxis": {
            "gridcolor": "white",
            "linecolor": "white",
            "ticks": ""
           },
           "bgcolor": "#E5ECF6",
           "radialaxis": {
            "gridcolor": "white",
            "linecolor": "white",
            "ticks": ""
           }
          },
          "scene": {
           "xaxis": {
            "backgroundcolor": "#E5ECF6",
            "gridcolor": "white",
            "gridwidth": 2,
            "linecolor": "white",
            "showbackground": true,
            "ticks": "",
            "zerolinecolor": "white"
           },
           "yaxis": {
            "backgroundcolor": "#E5ECF6",
            "gridcolor": "white",
            "gridwidth": 2,
            "linecolor": "white",
            "showbackground": true,
            "ticks": "",
            "zerolinecolor": "white"
           },
           "zaxis": {
            "backgroundcolor": "#E5ECF6",
            "gridcolor": "white",
            "gridwidth": 2,
            "linecolor": "white",
            "showbackground": true,
            "ticks": "",
            "zerolinecolor": "white"
           }
          },
          "shapedefaults": {
           "line": {
            "color": "#2a3f5f"
           }
          },
          "ternary": {
           "aaxis": {
            "gridcolor": "white",
            "linecolor": "white",
            "ticks": ""
           },
           "baxis": {
            "gridcolor": "white",
            "linecolor": "white",
            "ticks": ""
           },
           "bgcolor": "#E5ECF6",
           "caxis": {
            "gridcolor": "white",
            "linecolor": "white",
            "ticks": ""
           }
          },
          "title": {
           "x": 0.05
          },
          "xaxis": {
           "automargin": true,
           "gridcolor": "white",
           "linecolor": "white",
           "ticks": "",
           "title": {
            "standoff": 15
           },
           "zerolinecolor": "white",
           "zerolinewidth": 2
          },
          "yaxis": {
           "automargin": true,
           "gridcolor": "white",
           "linecolor": "white",
           "ticks": "",
           "title": {
            "standoff": 15
           },
           "zerolinecolor": "white",
           "zerolinewidth": 2
          }
         }
        },
        "title": {
         "text": "Output probabilities"
        },
        "width": 800,
        "xaxis": {
         "anchor": "y",
         "domain": [
          0,
          0.45
         ],
         "title": {
          "text": "Model belief state"
         }
        },
        "xaxis2": {
         "anchor": "y2",
         "domain": [
          0.55,
          1
         ]
        },
        "yaxis": {
         "anchor": "x",
         "domain": [
          0,
          1
         ],
         "range": [
          0,
          1
         ],
         "title": {
          "text": "Probabilities"
         }
        },
        "yaxis2": {
         "anchor": "x2",
         "domain": [
          0,
          1
         ],
         "range": [
          0,
          1
         ]
        }
       }
      },
      "text/html": [
       "<div>                            <div id=\"08931982-16ce-4eea-bd59-ca7f959891e0\" class=\"plotly-graph-div\" style=\"height:400px; width:800px;\"></div>            <script type=\"text/javascript\">                require([\"plotly\"], function(Plotly) {                    window.PLOTLYENV=window.PLOTLYENV || {};                                    if (document.getElementById(\"08931982-16ce-4eea-bd59-ca7f959891e0\")) {                    Plotly.newPlot(                        \"08931982-16ce-4eea-bd59-ca7f959891e0\",                        [{\"name\":\"Probability to output 0\",\"x\":[\"State T\",\"State F\",\"State T-\\u003eState F\",\"State F-\\u003e State T\"],\"y\":[0.00069535924792165,0.9994996664475422,0.9999661676737727,6.091985871572266e-05],\"type\":\"bar\",\"xaxis\":\"x\",\"yaxis\":\"y\"},{\"name\":\"Probability to output 1\",\"x\":[\"State T\",\"State F\",\"State T-\\u003eState F\",\"State F-\\u003e State T\"],\"y\":[0.9993046406580477,0.0005003278156993697,3.382930586964476e-05,0.9999390755380902],\"type\":\"bar\",\"xaxis\":\"x2\",\"yaxis\":\"y2\"}],                        {\"template\":{\"data\":{\"histogram2dcontour\":[{\"type\":\"histogram2dcontour\",\"colorbar\":{\"outlinewidth\":0,\"ticks\":\"\"},\"colorscale\":[[0.0,\"#0d0887\"],[0.1111111111111111,\"#46039f\"],[0.2222222222222222,\"#7201a8\"],[0.3333333333333333,\"#9c179e\"],[0.4444444444444444,\"#bd3786\"],[0.5555555555555556,\"#d8576b\"],[0.6666666666666666,\"#ed7953\"],[0.7777777777777778,\"#fb9f3a\"],[0.8888888888888888,\"#fdca26\"],[1.0,\"#f0f921\"]]}],\"choropleth\":[{\"type\":\"choropleth\",\"colorbar\":{\"outlinewidth\":0,\"ticks\":\"\"}}],\"histogram2d\":[{\"type\":\"histogram2d\",\"colorbar\":{\"outlinewidth\":0,\"ticks\":\"\"},\"colorscale\":[[0.0,\"#0d0887\"],[0.1111111111111111,\"#46039f\"],[0.2222222222222222,\"#7201a8\"],[0.3333333333333333,\"#9c179e\"],[0.4444444444444444,\"#bd3786\"],[0.5555555555555556,\"#d8576b\"],[0.6666666666666666,\"#ed7953\"],[0.7777777777777778,\"#fb9f3a\"],[0.8888888888888888,\"#fdca26\"],[1.0,\"#f0f921\"]]}],\"heatmap\":[{\"type\":\"heatmap\",\"colorbar\":{\"outlinewidth\":0,\"ticks\":\"\"},\"colorscale\":[[0.0,\"#0d0887\"],[0.1111111111111111,\"#46039f\"],[0.2222222222222222,\"#7201a8\"],[0.3333333333333333,\"#9c179e\"],[0.4444444444444444,\"#bd3786\"],[0.5555555555555556,\"#d8576b\"],[0.6666666666666666,\"#ed7953\"],[0.7777777777777778,\"#fb9f3a\"],[0.8888888888888888,\"#fdca26\"],[1.0,\"#f0f921\"]]}],\"heatmapgl\":[{\"type\":\"heatmapgl\",\"colorbar\":{\"outlinewidth\":0,\"ticks\":\"\"},\"colorscale\":[[0.0,\"#0d0887\"],[0.1111111111111111,\"#46039f\"],[0.2222222222222222,\"#7201a8\"],[0.3333333333333333,\"#9c179e\"],[0.4444444444444444,\"#bd3786\"],[0.5555555555555556,\"#d8576b\"],[0.6666666666666666,\"#ed7953\"],[0.7777777777777778,\"#fb9f3a\"],[0.8888888888888888,\"#fdca26\"],[1.0,\"#f0f921\"]]}],\"contourcarpet\":[{\"type\":\"contourcarpet\",\"colorbar\":{\"outlinewidth\":0,\"ticks\":\"\"}}],\"contour\":[{\"type\":\"contour\",\"colorbar\":{\"outlinewidth\":0,\"ticks\":\"\"},\"colorscale\":[[0.0,\"#0d0887\"],[0.1111111111111111,\"#46039f\"],[0.2222222222222222,\"#7201a8\"],[0.3333333333333333,\"#9c179e\"],[0.4444444444444444,\"#bd3786\"],[0.5555555555555556,\"#d8576b\"],[0.6666666666666666,\"#ed7953\"],[0.7777777777777778,\"#fb9f3a\"],[0.8888888888888888,\"#fdca26\"],[1.0,\"#f0f921\"]]}],\"surface\":[{\"type\":\"surface\",\"colorbar\":{\"outlinewidth\":0,\"ticks\":\"\"},\"colorscale\":[[0.0,\"#0d0887\"],[0.1111111111111111,\"#46039f\"],[0.2222222222222222,\"#7201a8\"],[0.3333333333333333,\"#9c179e\"],[0.4444444444444444,\"#bd3786\"],[0.5555555555555556,\"#d8576b\"],[0.6666666666666666,\"#ed7953\"],[0.7777777777777778,\"#fb9f3a\"],[0.8888888888888888,\"#fdca26\"],[1.0,\"#f0f921\"]]}],\"mesh3d\":[{\"type\":\"mesh3d\",\"colorbar\":{\"outlinewidth\":0,\"ticks\":\"\"}}],\"scatter\":[{\"fillpattern\":{\"fillmode\":\"overlay\",\"size\":10,\"solidity\":0.2},\"type\":\"scatter\"}],\"parcoords\":[{\"type\":\"parcoords\",\"line\":{\"colorbar\":{\"outlinewidth\":0,\"ticks\":\"\"}}}],\"scatterpolargl\":[{\"type\":\"scatterpolargl\",\"marker\":{\"colorbar\":{\"outlinewidth\":0,\"ticks\":\"\"}}}],\"bar\":[{\"error_x\":{\"color\":\"#2a3f5f\"},\"error_y\":{\"color\":\"#2a3f5f\"},\"marker\":{\"line\":{\"color\":\"#E5ECF6\",\"width\":0.5},\"pattern\":{\"fillmode\":\"overlay\",\"size\":10,\"solidity\":0.2}},\"type\":\"bar\"}],\"scattergeo\":[{\"type\":\"scattergeo\",\"marker\":{\"colorbar\":{\"outlinewidth\":0,\"ticks\":\"\"}}}],\"scatterpolar\":[{\"type\":\"scatterpolar\",\"marker\":{\"colorbar\":{\"outlinewidth\":0,\"ticks\":\"\"}}}],\"histogram\":[{\"marker\":{\"pattern\":{\"fillmode\":\"overlay\",\"size\":10,\"solidity\":0.2}},\"type\":\"histogram\"}],\"scattergl\":[{\"type\":\"scattergl\",\"marker\":{\"colorbar\":{\"outlinewidth\":0,\"ticks\":\"\"}}}],\"scatter3d\":[{\"type\":\"scatter3d\",\"line\":{\"colorbar\":{\"outlinewidth\":0,\"ticks\":\"\"}},\"marker\":{\"colorbar\":{\"outlinewidth\":0,\"ticks\":\"\"}}}],\"scattermapbox\":[{\"type\":\"scattermapbox\",\"marker\":{\"colorbar\":{\"outlinewidth\":0,\"ticks\":\"\"}}}],\"scatterternary\":[{\"type\":\"scatterternary\",\"marker\":{\"colorbar\":{\"outlinewidth\":0,\"ticks\":\"\"}}}],\"scattercarpet\":[{\"type\":\"scattercarpet\",\"marker\":{\"colorbar\":{\"outlinewidth\":0,\"ticks\":\"\"}}}],\"carpet\":[{\"aaxis\":{\"endlinecolor\":\"#2a3f5f\",\"gridcolor\":\"white\",\"linecolor\":\"white\",\"minorgridcolor\":\"white\",\"startlinecolor\":\"#2a3f5f\"},\"baxis\":{\"endlinecolor\":\"#2a3f5f\",\"gridcolor\":\"white\",\"linecolor\":\"white\",\"minorgridcolor\":\"white\",\"startlinecolor\":\"#2a3f5f\"},\"type\":\"carpet\"}],\"table\":[{\"cells\":{\"fill\":{\"color\":\"#EBF0F8\"},\"line\":{\"color\":\"white\"}},\"header\":{\"fill\":{\"color\":\"#C8D4E3\"},\"line\":{\"color\":\"white\"}},\"type\":\"table\"}],\"barpolar\":[{\"marker\":{\"line\":{\"color\":\"#E5ECF6\",\"width\":0.5},\"pattern\":{\"fillmode\":\"overlay\",\"size\":10,\"solidity\":0.2}},\"type\":\"barpolar\"}],\"pie\":[{\"automargin\":true,\"type\":\"pie\"}]},\"layout\":{\"autotypenumbers\":\"strict\",\"colorway\":[\"#636efa\",\"#EF553B\",\"#00cc96\",\"#ab63fa\",\"#FFA15A\",\"#19d3f3\",\"#FF6692\",\"#B6E880\",\"#FF97FF\",\"#FECB52\"],\"font\":{\"color\":\"#2a3f5f\"},\"hovermode\":\"closest\",\"hoverlabel\":{\"align\":\"left\"},\"paper_bgcolor\":\"white\",\"plot_bgcolor\":\"#E5ECF6\",\"polar\":{\"bgcolor\":\"#E5ECF6\",\"angularaxis\":{\"gridcolor\":\"white\",\"linecolor\":\"white\",\"ticks\":\"\"},\"radialaxis\":{\"gridcolor\":\"white\",\"linecolor\":\"white\",\"ticks\":\"\"}},\"ternary\":{\"bgcolor\":\"#E5ECF6\",\"aaxis\":{\"gridcolor\":\"white\",\"linecolor\":\"white\",\"ticks\":\"\"},\"baxis\":{\"gridcolor\":\"white\",\"linecolor\":\"white\",\"ticks\":\"\"},\"caxis\":{\"gridcolor\":\"white\",\"linecolor\":\"white\",\"ticks\":\"\"}},\"coloraxis\":{\"colorbar\":{\"outlinewidth\":0,\"ticks\":\"\"}},\"colorscale\":{\"sequential\":[[0.0,\"#0d0887\"],[0.1111111111111111,\"#46039f\"],[0.2222222222222222,\"#7201a8\"],[0.3333333333333333,\"#9c179e\"],[0.4444444444444444,\"#bd3786\"],[0.5555555555555556,\"#d8576b\"],[0.6666666666666666,\"#ed7953\"],[0.7777777777777778,\"#fb9f3a\"],[0.8888888888888888,\"#fdca26\"],[1.0,\"#f0f921\"]],\"sequentialminus\":[[0.0,\"#0d0887\"],[0.1111111111111111,\"#46039f\"],[0.2222222222222222,\"#7201a8\"],[0.3333333333333333,\"#9c179e\"],[0.4444444444444444,\"#bd3786\"],[0.5555555555555556,\"#d8576b\"],[0.6666666666666666,\"#ed7953\"],[0.7777777777777778,\"#fb9f3a\"],[0.8888888888888888,\"#fdca26\"],[1.0,\"#f0f921\"]],\"diverging\":[[0,\"#8e0152\"],[0.1,\"#c51b7d\"],[0.2,\"#de77ae\"],[0.3,\"#f1b6da\"],[0.4,\"#fde0ef\"],[0.5,\"#f7f7f7\"],[0.6,\"#e6f5d0\"],[0.7,\"#b8e186\"],[0.8,\"#7fbc41\"],[0.9,\"#4d9221\"],[1,\"#276419\"]]},\"xaxis\":{\"gridcolor\":\"white\",\"linecolor\":\"white\",\"ticks\":\"\",\"title\":{\"standoff\":15},\"zerolinecolor\":\"white\",\"automargin\":true,\"zerolinewidth\":2},\"yaxis\":{\"gridcolor\":\"white\",\"linecolor\":\"white\",\"ticks\":\"\",\"title\":{\"standoff\":15},\"zerolinecolor\":\"white\",\"automargin\":true,\"zerolinewidth\":2},\"scene\":{\"xaxis\":{\"backgroundcolor\":\"#E5ECF6\",\"gridcolor\":\"white\",\"linecolor\":\"white\",\"showbackground\":true,\"ticks\":\"\",\"zerolinecolor\":\"white\",\"gridwidth\":2},\"yaxis\":{\"backgroundcolor\":\"#E5ECF6\",\"gridcolor\":\"white\",\"linecolor\":\"white\",\"showbackground\":true,\"ticks\":\"\",\"zerolinecolor\":\"white\",\"gridwidth\":2},\"zaxis\":{\"backgroundcolor\":\"#E5ECF6\",\"gridcolor\":\"white\",\"linecolor\":\"white\",\"showbackground\":true,\"ticks\":\"\",\"zerolinecolor\":\"white\",\"gridwidth\":2}},\"shapedefaults\":{\"line\":{\"color\":\"#2a3f5f\"}},\"annotationdefaults\":{\"arrowcolor\":\"#2a3f5f\",\"arrowhead\":0,\"arrowwidth\":1},\"geo\":{\"bgcolor\":\"white\",\"landcolor\":\"#E5ECF6\",\"subunitcolor\":\"white\",\"showland\":true,\"showlakes\":true,\"lakecolor\":\"white\"},\"title\":{\"x\":0.05},\"mapbox\":{\"style\":\"light\"}}},\"xaxis\":{\"anchor\":\"y\",\"domain\":[0.0,0.45],\"title\":{\"text\":\"Model belief state\"}},\"yaxis\":{\"anchor\":\"x\",\"domain\":[0.0,1.0],\"title\":{\"text\":\"Probabilities\"},\"range\":[0,1]},\"xaxis2\":{\"anchor\":\"y2\",\"domain\":[0.55,1.0]},\"yaxis2\":{\"anchor\":\"x2\",\"domain\":[0.0,1.0],\"range\":[0,1]},\"title\":{\"text\":\"Output probabilities\"},\"width\":800,\"height\":400},                        {\"responsive\": true}                    ).then(function(){\n",
       "                            \n",
       "var gd = document.getElementById('08931982-16ce-4eea-bd59-ca7f959891e0');\n",
       "var x = new MutationObserver(function (mutations, observer) {{\n",
       "        var display = window.getComputedStyle(gd).display;\n",
       "        if (!display || display === 'none') {{\n",
       "            console.log([gd, 'removed!']);\n",
       "            Plotly.purge(gd);\n",
       "            observer.disconnect();\n",
       "        }}\n",
       "}});\n",
       "\n",
       "// Listen for the removal of the full notebook cells\n",
       "var notebookContainer = gd.closest('#notebook-container');\n",
       "if (notebookContainer) {{\n",
       "    x.observe(notebookContainer, {childList: true});\n",
       "}}\n",
       "\n",
       "// Listen for the clearing of the current output cell\n",
       "var outputEl = gd.closest('.output');\n",
       "if (outputEl) {{\n",
       "    x.observe(outputEl, {childList: true});\n",
       "}}\n",
       "\n",
       "                        })                };                });            </script>        </div>"
      ]
     },
     "metadata": {},
     "output_type": "display_data"
    }
   ],
   "source": [
    "# Create a subplot with two scatter plots\n",
    "fig = make_subplots(rows=1, cols=2, specs=[[{'type': 'scatter'}, {'type': 'scatter'}]])\n",
    "\n",
    "# Plot the ground truth beliefs on the left\n",
    "fig.add_trace(go.Bar(x=[\"State T\",\"State F\", \"State T->State F\",\"State F-> State T\"], y=list(zero_bars.values()),\n",
    "                         name=f'Probability to output 0'),\n",
    "              row=1, col=1)\n",
    "fig.add_trace(go.Bar(x=[\"State T\",\"State F\", \"State T->State F\",\"State F-> State T\"], y=list(one_bars.values()),\n",
    "                         name=f'Probability to output 1'),\n",
    "              row=1, col=2)\n",
    "fig.update_layout(title='Output probabilities',\n",
    "                  yaxis_title='Probabilities', xaxis_title='Model belief state',\n",
    "                  width=800, height=400,\n",
    "                  )\n",
    "fig.update_yaxes(range=[0, 1], row=1, col=2)\n",
    "fig.update_yaxes(range=[0, 1], row=1, col=1)\n",
    "\n"
   ]
  },
  {
   "cell_type": "markdown",
   "metadata": {},
   "source": [
    "## Ploting steering vectors"
   ]
  },
  {
   "cell_type": "code",
   "execution_count": 82,
   "metadata": {},
   "outputs": [],
   "source": [
    "state_1 = 31\n",
    "state_2 = 10\n",
    "per_layer_steering_vector = get_steering_vector(per_layer_belief_activations,state_1,state_2)\n",
    "flattened_vector = torch.cat([v for k,v in per_layer_steering_vector.items()],dim=-1)\n",
    "activations_state_1 = []\n",
    "activations_state_2 = []\n",
    "for layers in per_layer_belief_activations.values():\n",
    "    activations_state_1.append(torch.stack(layers[state_1]))\n",
    "    activations_state_2.append(torch.stack(layers[state_2]))\n",
    "activations_state_1 = torch.cat(activations_state_1,dim=-1)\n",
    "activations_state_2 = torch.cat(activations_state_2,dim=-1)\n",
    "\n",
    "transformed_steering_vector_full = vis_pca.transform(regression.predict(flattened_vector.reshape(1,-1)))\n",
    "transformed_activations_1 = regression.predict(activations_state_1)\n",
    "transformed_activations_2 = regression.predict(activations_state_2)\n"
   ]
  },
  {
   "cell_type": "code",
   "execution_count": 83,
   "metadata": {},
   "outputs": [],
   "source": [
    "def get_plot_2d_pca():\n",
    "    colors = px.colors.qualitative.Light24 + px.colors.qualitative.Dark24 + px.colors.qualitative.Plotly\n",
    "\n",
    "    # Create a subplot with two scatter plots\n",
    "    fig = make_subplots(rows=1, cols=1, specs=[[{'type': 'scatter'}]])\n",
    "\n",
    "    for belief in msp_belief_index.keys():\n",
    "        b = msp_belief_index[belief]\n",
    "        relevant_indices = np.where(transformer_input_belief_indices_flattened == b)[0]\n",
    "        relevant_data = belief_predictions_pca[relevant_indices]\n",
    "        if len(relevant_data) > 0:\n",
    "            centers_of_mass = np.mean(relevant_data, axis=0)\n",
    "            fig.add_trace(go.Scatter(x=[centers_of_mass[0]], y=[centers_of_mass[2]],\n",
    "                                        mode='markers',\n",
    "                                        marker=dict(size=4, color=colors[b], opacity=1),\n",
    "                                        name=f'Belief {b}'),\n",
    "                            row=1, col=1)\n",
    "\n",
    "    # set x and y lime to -.75 to .75\n",
    "    fig.update_xaxes(range=[-.85, .85], row=1, col=1)\n",
    "    fig.update_yaxes(range=[-.85, .85], row=1, col=1)\n",
    "    # Update layout\n",
    "    fig.update_layout(title='2D PCA Projection of Beliefs',\n",
    "                    xaxis_title='PCA Dimension 1', yaxis_title='PCA Dimension 2',\n",
    "                    width=600, height=400,\n",
    "                    annotations=[\n",
    "                        dict(text=\"Residual Stream\", x=0.8, y=1.05, showarrow=False, xref=\"paper\", yref=\"paper\")\n",
    "                    ])\n",
    "    return fig"
   ]
  },
  {
   "cell_type": "code",
   "execution_count": 84,
   "metadata": {},
   "outputs": [],
   "source": [
    "def get_plot_2d_pca_vector(fig,vector):\n",
    "    # Calculate and plot the centers of mass of the belief predictions on the right\n",
    "\n",
    "    for belief in msp_belief_index.keys():\n",
    "        b = msp_belief_index[belief]\n",
    "        relevant_indices = np.where(transformer_input_belief_indices_flattened == b)[0]\n",
    "        relevant_data = belief_predictions_pca[relevant_indices]\n",
    "        if len(relevant_data) > 0:\n",
    "            centers_of_mass = np.mean(relevant_data, axis=0)\n",
    "            if b == state_1:\n",
    "                fig.add_trace(go.Scatter(x=[centers_of_mass[0]], y=[centers_of_mass[2]],\n",
    "                                        mode='markers',\n",
    "                                        marker=dict(size=10, color=colors[b], opacity=1),\n",
    "                                        name=f'Starting Belief'),\n",
    "                            row=1, col=1)\n",
    "                center_x_start=centers_of_mass[0]\n",
    "                center_y_start=centers_of_mass[2]\n",
    "            \n",
    "            if b == state_2:\n",
    "                fig.add_trace(go.Scatter(x=[centers_of_mass[0]], y=[centers_of_mass[2]],\n",
    "                                        mode='markers',\n",
    "                                        marker=dict(size=10, color=colors[b], opacity=1),\n",
    "                                        name=f'Ending Belief'),\n",
    "                            row=1, col=1)\n",
    "                center_x_end=centers_of_mass[0]\n",
    "                center_y_end=centers_of_mass[1]\n",
    "                \n",
    "            else:\n",
    "                fig.add_trace(go.Scatter(x=[centers_of_mass[0]], y=[centers_of_mass[2]],\n",
    "                                        mode='markers',\n",
    "                                        marker=dict(size=2, color=colors[b], opacity=1),),\n",
    "                            row=1, col=1)\n",
    "    fig.add_trace(go.Scatter(x=[center_x_start,transformed_steering_vector_full[0][0]], y=[center_y_start,transformed_steering_vector_full[0][2]],name=\"Vector\"))        \n",
    "    return fig"
   ]
  },
  {
   "cell_type": "code",
   "execution_count": 85,
   "metadata": {},
   "outputs": [
    {
     "data": {
      "application/vnd.plotly.v1+json": {
       "config": {
        "plotlyServerURL": "https://plot.ly"
       },
       "data": [
        {
         "marker": {
          "color": "#FD3216",
          "opacity": 1,
          "size": 2
         },
         "mode": "markers",
         "type": "scatter",
         "x": [
          -0.1865173287934817
         ],
         "xaxis": "x",
         "y": [
          0.1792904639970568
         ],
         "yaxis": "y"
        },
        {
         "marker": {
          "color": "#00FE35",
          "opacity": 1,
          "size": 2
         },
         "mode": "markers",
         "type": "scatter",
         "x": [
          0.23599280672019982
         ],
         "xaxis": "x",
         "y": [
          -0.00042349153383726407
         ],
         "yaxis": "y"
        },
        {
         "marker": {
          "color": "#6A76FC",
          "opacity": 1,
          "size": 2
         },
         "mode": "markers",
         "type": "scatter",
         "x": [
          0.624276320391437
         ],
         "xaxis": "x",
         "y": [
          -0.0004217120938929552
         ],
         "yaxis": "y"
        },
        {
         "marker": {
          "color": "#FED4C4",
          "opacity": 1,
          "size": 2
         },
         "mode": "markers",
         "type": "scatter",
         "x": [
          -0.4545652567429235
         ],
         "xaxis": "x",
         "y": [
          0.2260589507876112
         ],
         "yaxis": "y"
        },
        {
         "marker": {
          "color": "#FE00CE",
          "opacity": 1,
          "size": 2
         },
         "mode": "markers",
         "type": "scatter",
         "x": [
          0.35053083286455305
         ],
         "xaxis": "x",
         "y": [
          -0.3408774046762903
         ],
         "yaxis": "y"
        },
        {
         "marker": {
          "color": "#0DF9FF",
          "opacity": 1,
          "size": 2
         },
         "mode": "markers",
         "type": "scatter",
         "x": [
          0.44178075596803473
         ],
         "xaxis": "x",
         "y": [
          -0.22962459246177444
         ],
         "yaxis": "y"
        },
        {
         "marker": {
          "color": "#F6F926",
          "opacity": 1,
          "size": 2
         },
         "mode": "markers",
         "type": "scatter",
         "x": [
          -0.0007319261225071654
         ],
         "xaxis": "x",
         "y": [
          -0.34447375823884485
         ],
         "yaxis": "y"
        },
        {
         "marker": {
          "color": "#FF9616",
          "opacity": 1,
          "size": 2
         },
         "mode": "markers",
         "type": "scatter",
         "x": [
          0.44776799253680394
         ],
         "xaxis": "x",
         "y": [
          0.22816479183108132
         ],
         "yaxis": "y"
        },
        {
         "marker": {
          "color": "#479B55",
          "opacity": 1,
          "size": 2
         },
         "mode": "markers",
         "type": "scatter",
         "x": [
          -0.3521519203591293
         ],
         "xaxis": "x",
         "y": [
          0.34581614124928695
         ],
         "yaxis": "y"
        },
        {
         "marker": {
          "color": "#EEA6FB",
          "opacity": 1,
          "size": 2
         },
         "mode": "markers",
         "type": "scatter",
         "x": [
          0.34522938839786177
         ],
         "xaxis": "x",
         "y": [
          -0.00022039666456837077
         ],
         "yaxis": "y"
        },
        {
         "marker": {
          "color": "#DC587D",
          "opacity": 1,
          "size": 10
         },
         "mode": "markers",
         "name": "Ending Belief",
         "type": "scatter",
         "x": [
          -0.6402839394459551
         ],
         "xaxis": "x",
         "y": [
          0.0010570248375077092
         ],
         "yaxis": "y"
        },
        {
         "marker": {
          "color": "#D626FF",
          "opacity": 1,
          "size": 2
         },
         "mode": "markers",
         "type": "scatter",
         "x": [
          0.34942711549663413
         ],
         "xaxis": "x",
         "y": [
          0.34689246012806296
         ],
         "yaxis": "y"
        },
        {
         "marker": {
          "color": "#6E899C",
          "opacity": 1,
          "size": 2
         },
         "mode": "markers",
         "type": "scatter",
         "x": [
          -0.16981591422328263
         ],
         "xaxis": "x",
         "y": [
          -0.17635800903036522
         ],
         "yaxis": "y"
        },
        {
         "marker": {
          "color": "#00B5F7",
          "opacity": 1,
          "size": 2
         },
         "mode": "markers",
         "type": "scatter",
         "x": [
          -0.009172568064220246
         ],
         "xaxis": "x",
         "y": [
          -0.23122104101232724
         ],
         "yaxis": "y"
        },
        {
         "marker": {
          "color": "#B68E00",
          "opacity": 1,
          "size": 2
         },
         "mode": "markers",
         "type": "scatter",
         "x": [
          0.19182444428461337
         ],
         "xaxis": "x",
         "y": [
          0.18023078363151998
         ],
         "yaxis": "y"
        },
        {
         "marker": {
          "color": "#C9FBE5",
          "opacity": 1,
          "size": 2
         },
         "mode": "markers",
         "type": "scatter",
         "x": [
          -0.34643837652973863
         ],
         "xaxis": "x",
         "y": [
          -0.0019486544010419759
         ],
         "yaxis": "y"
        },
        {
         "marker": {
          "color": "#FF0092",
          "opacity": 1,
          "size": 2
         },
         "mode": "markers",
         "type": "scatter",
         "x": [
          0.005074600415811522
         ],
         "xaxis": "x",
         "y": [
          0.3414779865884708
         ],
         "yaxis": "y"
        },
        {
         "marker": {
          "color": "#22FFA7",
          "opacity": 1,
          "size": 2
         },
         "mode": "markers",
         "type": "scatter",
         "x": [
          0.004581302343333485
         ],
         "xaxis": "x",
         "y": [
          0.22944695539772386
         ],
         "yaxis": "y"
        },
        {
         "marker": {
          "color": "#E3EE9E",
          "opacity": 1,
          "size": 2
         },
         "mode": "markers",
         "type": "scatter",
         "x": [
          -0.23504766441710243
         ],
         "xaxis": "x",
         "y": [
          -0.2359671378948926
         ],
         "yaxis": "y"
        },
        {
         "marker": {
          "color": "#86CE00",
          "opacity": 1,
          "size": 2
         },
         "mode": "markers",
         "type": "scatter",
         "x": [
          0.2781595920953348
         ],
         "xaxis": "x",
         "y": [
          0.14956015198520337
         ],
         "yaxis": "y"
        },
        {
         "marker": {
          "color": "#BC7196",
          "opacity": 1,
          "size": 2
         },
         "mode": "markers",
         "type": "scatter",
         "x": [
          -0.2716209688861152
         ],
         "xaxis": "x",
         "y": [
          0.13996336515549052
         ],
         "yaxis": "y"
        },
        {
         "marker": {
          "color": "#7E7DCD",
          "opacity": 1,
          "size": 2
         },
         "mode": "markers",
         "type": "scatter",
         "x": [
          0.002799820628961693
         ],
         "xaxis": "x",
         "y": [
          -0.7066836858989409
         ],
         "yaxis": "y"
        },
        {
         "marker": {
          "color": "#FC6955",
          "opacity": 1,
          "size": 2
         },
         "mode": "markers",
         "type": "scatter",
         "x": [
          0.011729006567859312
         ],
         "xaxis": "x",
         "y": [
          0.0018823667249082358
         ],
         "yaxis": "y"
        },
        {
         "marker": {
          "color": "#E48F72",
          "opacity": 1,
          "size": 2
         },
         "mode": "markers",
         "type": "scatter",
         "x": [
          0.26482347949919294
         ],
         "xaxis": "x",
         "y": [
          -0.13942473405110112
         ],
         "yaxis": "y"
        },
        {
         "marker": {
          "color": "#2E91E5",
          "opacity": 1,
          "size": 2
         },
         "mode": "markers",
         "type": "scatter",
         "x": [
          -0.23830124725515608
         ],
         "xaxis": "x",
         "y": [
          0.2349729687351188
         ],
         "yaxis": "y"
        },
        {
         "marker": {
          "color": "#E15F99",
          "opacity": 1,
          "size": 2
         },
         "mode": "markers",
         "type": "scatter",
         "x": [
          0.16945238896208942
         ],
         "xaxis": "x",
         "y": [
          -0.1795479064308025
         ],
         "yaxis": "y"
        },
        {
         "marker": {
          "color": "#1CA71C",
          "opacity": 1,
          "size": 2
         },
         "mode": "markers",
         "type": "scatter",
         "x": [
          -0.27842859107786727
         ],
         "xaxis": "x",
         "y": [
          -0.14331000615870443
         ],
         "yaxis": "y"
        },
        {
         "marker": {
          "color": "#FB0D0D",
          "opacity": 1,
          "size": 2
         },
         "mode": "markers",
         "type": "scatter",
         "x": [
          0.2321607789174284
         ],
         "xaxis": "x",
         "y": [
          -0.2382793482485146
         ],
         "yaxis": "y"
        },
        {
         "marker": {
          "color": "#DA16FF",
          "opacity": 1,
          "size": 2
         },
         "mode": "markers",
         "type": "scatter",
         "x": [
          -0.2566338253833498
         ],
         "xaxis": "x",
         "y": [
          -0.00404291771147511
         ],
         "yaxis": "y"
        },
        {
         "marker": {
          "color": "#222A2A",
          "opacity": 1,
          "size": 2
         },
         "mode": "markers",
         "type": "scatter",
         "x": [
          -0.3587081876693427
         ],
         "xaxis": "x",
         "y": [
          -0.35238396970583974
         ],
         "yaxis": "y"
        },
        {
         "marker": {
          "color": "#B68100",
          "opacity": 1,
          "size": 2
         },
         "mode": "markers",
         "type": "scatter",
         "x": [
          0.24674546721346527
         ],
         "xaxis": "x",
         "y": [
          0.23520945671648408
         ],
         "yaxis": "y"
        },
        {
         "marker": {
          "color": "#750D86",
          "opacity": 1,
          "size": 10
         },
         "mode": "markers",
         "name": "Starting Belief",
         "type": "scatter",
         "x": [
          -0.0020522324082769216
         ],
         "xaxis": "x",
         "y": [
          0.70804780704414
         ],
         "yaxis": "y"
        },
        {
         "marker": {
          "color": "#750D86",
          "opacity": 1,
          "size": 2
         },
         "mode": "markers",
         "type": "scatter",
         "x": [
          -0.0020522324082769216
         ],
         "xaxis": "x",
         "y": [
          0.70804780704414
         ],
         "yaxis": "y"
        },
        {
         "marker": {
          "color": "#EB663B",
          "opacity": 1,
          "size": 2
         },
         "mode": "markers",
         "type": "scatter",
         "x": [
          -0.23501223921616973
         ],
         "xaxis": "x",
         "y": [
          0.0003690588789854507
         ],
         "yaxis": "y"
        },
        {
         "marker": {
          "color": "#00A08B",
          "opacity": 1,
          "size": 2
         },
         "mode": "markers",
         "type": "scatter",
         "x": [
          -0.4645662567801136
         ],
         "xaxis": "x",
         "y": [
          -0.2336518168781476
         ],
         "yaxis": "y"
        },
        {
         "marker": {
          "color": "#FB00D1",
          "opacity": 1,
          "size": 2
         },
         "mode": "markers",
         "type": "scatter",
         "x": [
          0.2770224979862614
         ],
         "xaxis": "x",
         "y": [
          -0.004299252502626357
         ],
         "yaxis": "y"
        },
        {
         "name": "Vector",
         "type": "scatter",
         "x": [
          -0.0020522324082769216,
          -0.9810096455445081
         ],
         "y": [
          0.70804780704414,
          -0.711674656628159
         ]
        },
        {
         "marker": {
          "color": "#FD3216",
          "opacity": 1,
          "size": 2
         },
         "mode": "markers",
         "type": "scatter",
         "x": [
          -0.1865173287934817
         ],
         "xaxis": "x",
         "y": [
          0.1792904639970568
         ],
         "yaxis": "y"
        },
        {
         "marker": {
          "color": "#00FE35",
          "opacity": 1,
          "size": 2
         },
         "mode": "markers",
         "type": "scatter",
         "x": [
          0.23599280672019982
         ],
         "xaxis": "x",
         "y": [
          -0.00042349153383726407
         ],
         "yaxis": "y"
        },
        {
         "marker": {
          "color": "#6A76FC",
          "opacity": 1,
          "size": 2
         },
         "mode": "markers",
         "type": "scatter",
         "x": [
          0.624276320391437
         ],
         "xaxis": "x",
         "y": [
          -0.0004217120938929552
         ],
         "yaxis": "y"
        },
        {
         "marker": {
          "color": "#FED4C4",
          "opacity": 1,
          "size": 2
         },
         "mode": "markers",
         "type": "scatter",
         "x": [
          -0.4545652567429235
         ],
         "xaxis": "x",
         "y": [
          0.2260589507876112
         ],
         "yaxis": "y"
        },
        {
         "marker": {
          "color": "#FE00CE",
          "opacity": 1,
          "size": 2
         },
         "mode": "markers",
         "type": "scatter",
         "x": [
          0.35053083286455305
         ],
         "xaxis": "x",
         "y": [
          -0.3408774046762903
         ],
         "yaxis": "y"
        },
        {
         "marker": {
          "color": "#0DF9FF",
          "opacity": 1,
          "size": 2
         },
         "mode": "markers",
         "type": "scatter",
         "x": [
          0.44178075596803473
         ],
         "xaxis": "x",
         "y": [
          -0.22962459246177444
         ],
         "yaxis": "y"
        },
        {
         "marker": {
          "color": "#F6F926",
          "opacity": 1,
          "size": 2
         },
         "mode": "markers",
         "type": "scatter",
         "x": [
          -0.0007319261225071654
         ],
         "xaxis": "x",
         "y": [
          -0.34447375823884485
         ],
         "yaxis": "y"
        },
        {
         "marker": {
          "color": "#FF9616",
          "opacity": 1,
          "size": 2
         },
         "mode": "markers",
         "type": "scatter",
         "x": [
          0.44776799253680394
         ],
         "xaxis": "x",
         "y": [
          0.22816479183108132
         ],
         "yaxis": "y"
        },
        {
         "marker": {
          "color": "#479B55",
          "opacity": 1,
          "size": 2
         },
         "mode": "markers",
         "type": "scatter",
         "x": [
          -0.3521519203591293
         ],
         "xaxis": "x",
         "y": [
          0.34581614124928695
         ],
         "yaxis": "y"
        },
        {
         "marker": {
          "color": "#EEA6FB",
          "opacity": 1,
          "size": 2
         },
         "mode": "markers",
         "type": "scatter",
         "x": [
          0.34522938839786177
         ],
         "xaxis": "x",
         "y": [
          -0.00022039666456837077
         ],
         "yaxis": "y"
        },
        {
         "marker": {
          "color": "#DC587D",
          "opacity": 1,
          "size": 2
         },
         "mode": "markers",
         "type": "scatter",
         "x": [
          -0.6402839394459551
         ],
         "xaxis": "x",
         "y": [
          0.0010570248375077092
         ],
         "yaxis": "y"
        },
        {
         "marker": {
          "color": "#D626FF",
          "opacity": 1,
          "size": 2
         },
         "mode": "markers",
         "type": "scatter",
         "x": [
          0.34942711549663413
         ],
         "xaxis": "x",
         "y": [
          0.34689246012806296
         ],
         "yaxis": "y"
        },
        {
         "marker": {
          "color": "#6E899C",
          "opacity": 1,
          "size": 2
         },
         "mode": "markers",
         "type": "scatter",
         "x": [
          -0.16981591422328263
         ],
         "xaxis": "x",
         "y": [
          -0.17635800903036522
         ],
         "yaxis": "y"
        },
        {
         "marker": {
          "color": "#00B5F7",
          "opacity": 1,
          "size": 2
         },
         "mode": "markers",
         "type": "scatter",
         "x": [
          -0.009172568064220246
         ],
         "xaxis": "x",
         "y": [
          -0.23122104101232724
         ],
         "yaxis": "y"
        },
        {
         "marker": {
          "color": "#B68E00",
          "opacity": 1,
          "size": 2
         },
         "mode": "markers",
         "type": "scatter",
         "x": [
          0.19182444428461337
         ],
         "xaxis": "x",
         "y": [
          0.18023078363151998
         ],
         "yaxis": "y"
        },
        {
         "marker": {
          "color": "#C9FBE5",
          "opacity": 1,
          "size": 2
         },
         "mode": "markers",
         "type": "scatter",
         "x": [
          -0.34643837652973863
         ],
         "xaxis": "x",
         "y": [
          -0.0019486544010419759
         ],
         "yaxis": "y"
        },
        {
         "marker": {
          "color": "#FF0092",
          "opacity": 1,
          "size": 2
         },
         "mode": "markers",
         "type": "scatter",
         "x": [
          0.005074600415811522
         ],
         "xaxis": "x",
         "y": [
          0.3414779865884708
         ],
         "yaxis": "y"
        },
        {
         "marker": {
          "color": "#22FFA7",
          "opacity": 1,
          "size": 2
         },
         "mode": "markers",
         "type": "scatter",
         "x": [
          0.004581302343333485
         ],
         "xaxis": "x",
         "y": [
          0.22944695539772386
         ],
         "yaxis": "y"
        },
        {
         "marker": {
          "color": "#E3EE9E",
          "opacity": 1,
          "size": 2
         },
         "mode": "markers",
         "type": "scatter",
         "x": [
          -0.23504766441710243
         ],
         "xaxis": "x",
         "y": [
          -0.2359671378948926
         ],
         "yaxis": "y"
        },
        {
         "marker": {
          "color": "#86CE00",
          "opacity": 1,
          "size": 2
         },
         "mode": "markers",
         "type": "scatter",
         "x": [
          0.2781595920953348
         ],
         "xaxis": "x",
         "y": [
          0.14956015198520337
         ],
         "yaxis": "y"
        },
        {
         "marker": {
          "color": "#BC7196",
          "opacity": 1,
          "size": 2
         },
         "mode": "markers",
         "type": "scatter",
         "x": [
          -0.2716209688861152
         ],
         "xaxis": "x",
         "y": [
          0.13996336515549052
         ],
         "yaxis": "y"
        },
        {
         "marker": {
          "color": "#7E7DCD",
          "opacity": 1,
          "size": 10
         },
         "mode": "markers",
         "name": "Ending Belief",
         "type": "scatter",
         "x": [
          0.002799820628961693
         ],
         "xaxis": "x",
         "y": [
          -0.7066836858989409
         ],
         "yaxis": "y"
        },
        {
         "marker": {
          "color": "#FC6955",
          "opacity": 1,
          "size": 2
         },
         "mode": "markers",
         "type": "scatter",
         "x": [
          0.011729006567859312
         ],
         "xaxis": "x",
         "y": [
          0.0018823667249082358
         ],
         "yaxis": "y"
        },
        {
         "marker": {
          "color": "#E48F72",
          "opacity": 1,
          "size": 2
         },
         "mode": "markers",
         "type": "scatter",
         "x": [
          0.26482347949919294
         ],
         "xaxis": "x",
         "y": [
          -0.13942473405110112
         ],
         "yaxis": "y"
        },
        {
         "marker": {
          "color": "#2E91E5",
          "opacity": 1,
          "size": 2
         },
         "mode": "markers",
         "type": "scatter",
         "x": [
          -0.23830124725515608
         ],
         "xaxis": "x",
         "y": [
          0.2349729687351188
         ],
         "yaxis": "y"
        },
        {
         "marker": {
          "color": "#E15F99",
          "opacity": 1,
          "size": 2
         },
         "mode": "markers",
         "type": "scatter",
         "x": [
          0.16945238896208942
         ],
         "xaxis": "x",
         "y": [
          -0.1795479064308025
         ],
         "yaxis": "y"
        },
        {
         "marker": {
          "color": "#1CA71C",
          "opacity": 1,
          "size": 2
         },
         "mode": "markers",
         "type": "scatter",
         "x": [
          -0.27842859107786727
         ],
         "xaxis": "x",
         "y": [
          -0.14331000615870443
         ],
         "yaxis": "y"
        },
        {
         "marker": {
          "color": "#FB0D0D",
          "opacity": 1,
          "size": 2
         },
         "mode": "markers",
         "type": "scatter",
         "x": [
          0.2321607789174284
         ],
         "xaxis": "x",
         "y": [
          -0.2382793482485146
         ],
         "yaxis": "y"
        },
        {
         "marker": {
          "color": "#DA16FF",
          "opacity": 1,
          "size": 2
         },
         "mode": "markers",
         "type": "scatter",
         "x": [
          -0.2566338253833498
         ],
         "xaxis": "x",
         "y": [
          -0.00404291771147511
         ],
         "yaxis": "y"
        },
        {
         "marker": {
          "color": "#222A2A",
          "opacity": 1,
          "size": 2
         },
         "mode": "markers",
         "type": "scatter",
         "x": [
          -0.3587081876693427
         ],
         "xaxis": "x",
         "y": [
          -0.35238396970583974
         ],
         "yaxis": "y"
        },
        {
         "marker": {
          "color": "#B68100",
          "opacity": 1,
          "size": 2
         },
         "mode": "markers",
         "type": "scatter",
         "x": [
          0.24674546721346527
         ],
         "xaxis": "x",
         "y": [
          0.23520945671648408
         ],
         "yaxis": "y"
        },
        {
         "marker": {
          "color": "#750D86",
          "opacity": 1,
          "size": 10
         },
         "mode": "markers",
         "name": "Starting Belief",
         "type": "scatter",
         "x": [
          -0.0020522324082769216
         ],
         "xaxis": "x",
         "y": [
          0.70804780704414
         ],
         "yaxis": "y"
        },
        {
         "marker": {
          "color": "#750D86",
          "opacity": 1,
          "size": 2
         },
         "mode": "markers",
         "type": "scatter",
         "x": [
          -0.0020522324082769216
         ],
         "xaxis": "x",
         "y": [
          0.70804780704414
         ],
         "yaxis": "y"
        },
        {
         "marker": {
          "color": "#EB663B",
          "opacity": 1,
          "size": 2
         },
         "mode": "markers",
         "type": "scatter",
         "x": [
          -0.23501223921616973
         ],
         "xaxis": "x",
         "y": [
          0.0003690588789854507
         ],
         "yaxis": "y"
        },
        {
         "marker": {
          "color": "#00A08B",
          "opacity": 1,
          "size": 2
         },
         "mode": "markers",
         "type": "scatter",
         "x": [
          -0.4645662567801136
         ],
         "xaxis": "x",
         "y": [
          -0.2336518168781476
         ],
         "yaxis": "y"
        },
        {
         "marker": {
          "color": "#FB00D1",
          "opacity": 1,
          "size": 2
         },
         "mode": "markers",
         "type": "scatter",
         "x": [
          0.2770224979862614
         ],
         "xaxis": "x",
         "y": [
          -0.004299252502626357
         ],
         "yaxis": "y"
        },
        {
         "name": "Vector",
         "type": "scatter",
         "x": [
          -0.0020522324082769216,
          -0.33792599244158594
         ],
         "y": [
          0.70804780704414,
          -1.4194154950037035
         ]
        },
        {
         "marker": {
          "color": "#FD3216",
          "opacity": 1,
          "size": 2
         },
         "mode": "markers",
         "type": "scatter",
         "x": [
          -0.1865173287934817
         ],
         "xaxis": "x",
         "y": [
          0.1792904639970568
         ],
         "yaxis": "y"
        },
        {
         "marker": {
          "color": "#00FE35",
          "opacity": 1,
          "size": 2
         },
         "mode": "markers",
         "type": "scatter",
         "x": [
          0.23599280672019982
         ],
         "xaxis": "x",
         "y": [
          -0.00042349153383726407
         ],
         "yaxis": "y"
        },
        {
         "marker": {
          "color": "#6A76FC",
          "opacity": 1,
          "size": 10
         },
         "mode": "markers",
         "name": "Ending Belief",
         "type": "scatter",
         "x": [
          0.624276320391437
         ],
         "xaxis": "x",
         "y": [
          -0.0004217120938929552
         ],
         "yaxis": "y"
        },
        {
         "marker": {
          "color": "#FED4C4",
          "opacity": 1,
          "size": 2
         },
         "mode": "markers",
         "type": "scatter",
         "x": [
          -0.4545652567429235
         ],
         "xaxis": "x",
         "y": [
          0.2260589507876112
         ],
         "yaxis": "y"
        },
        {
         "marker": {
          "color": "#FE00CE",
          "opacity": 1,
          "size": 2
         },
         "mode": "markers",
         "type": "scatter",
         "x": [
          0.35053083286455305
         ],
         "xaxis": "x",
         "y": [
          -0.3408774046762903
         ],
         "yaxis": "y"
        },
        {
         "marker": {
          "color": "#0DF9FF",
          "opacity": 1,
          "size": 2
         },
         "mode": "markers",
         "type": "scatter",
         "x": [
          0.44178075596803473
         ],
         "xaxis": "x",
         "y": [
          -0.22962459246177444
         ],
         "yaxis": "y"
        },
        {
         "marker": {
          "color": "#F6F926",
          "opacity": 1,
          "size": 2
         },
         "mode": "markers",
         "type": "scatter",
         "x": [
          -0.0007319261225071654
         ],
         "xaxis": "x",
         "y": [
          -0.34447375823884485
         ],
         "yaxis": "y"
        },
        {
         "marker": {
          "color": "#FF9616",
          "opacity": 1,
          "size": 2
         },
         "mode": "markers",
         "type": "scatter",
         "x": [
          0.44776799253680394
         ],
         "xaxis": "x",
         "y": [
          0.22816479183108132
         ],
         "yaxis": "y"
        },
        {
         "marker": {
          "color": "#479B55",
          "opacity": 1,
          "size": 2
         },
         "mode": "markers",
         "type": "scatter",
         "x": [
          -0.3521519203591293
         ],
         "xaxis": "x",
         "y": [
          0.34581614124928695
         ],
         "yaxis": "y"
        },
        {
         "marker": {
          "color": "#EEA6FB",
          "opacity": 1,
          "size": 2
         },
         "mode": "markers",
         "type": "scatter",
         "x": [
          0.34522938839786177
         ],
         "xaxis": "x",
         "y": [
          -0.00022039666456837077
         ],
         "yaxis": "y"
        },
        {
         "marker": {
          "color": "#DC587D",
          "opacity": 1,
          "size": 10
         },
         "mode": "markers",
         "name": "Starting Belief",
         "type": "scatter",
         "x": [
          -0.6402839394459551
         ],
         "xaxis": "x",
         "y": [
          0.0010570248375077092
         ],
         "yaxis": "y"
        },
        {
         "marker": {
          "color": "#DC587D",
          "opacity": 1,
          "size": 2
         },
         "mode": "markers",
         "type": "scatter",
         "x": [
          -0.6402839394459551
         ],
         "xaxis": "x",
         "y": [
          0.0010570248375077092
         ],
         "yaxis": "y"
        },
        {
         "marker": {
          "color": "#D626FF",
          "opacity": 1,
          "size": 2
         },
         "mode": "markers",
         "type": "scatter",
         "x": [
          0.34942711549663413
         ],
         "xaxis": "x",
         "y": [
          0.34689246012806296
         ],
         "yaxis": "y"
        },
        {
         "marker": {
          "color": "#6E899C",
          "opacity": 1,
          "size": 2
         },
         "mode": "markers",
         "type": "scatter",
         "x": [
          -0.16981591422328263
         ],
         "xaxis": "x",
         "y": [
          -0.17635800903036522
         ],
         "yaxis": "y"
        },
        {
         "marker": {
          "color": "#00B5F7",
          "opacity": 1,
          "size": 2
         },
         "mode": "markers",
         "type": "scatter",
         "x": [
          -0.009172568064220246
         ],
         "xaxis": "x",
         "y": [
          -0.23122104101232724
         ],
         "yaxis": "y"
        },
        {
         "marker": {
          "color": "#B68E00",
          "opacity": 1,
          "size": 2
         },
         "mode": "markers",
         "type": "scatter",
         "x": [
          0.19182444428461337
         ],
         "xaxis": "x",
         "y": [
          0.18023078363151998
         ],
         "yaxis": "y"
        },
        {
         "marker": {
          "color": "#C9FBE5",
          "opacity": 1,
          "size": 2
         },
         "mode": "markers",
         "type": "scatter",
         "x": [
          -0.34643837652973863
         ],
         "xaxis": "x",
         "y": [
          -0.0019486544010419759
         ],
         "yaxis": "y"
        },
        {
         "marker": {
          "color": "#FF0092",
          "opacity": 1,
          "size": 2
         },
         "mode": "markers",
         "type": "scatter",
         "x": [
          0.005074600415811522
         ],
         "xaxis": "x",
         "y": [
          0.3414779865884708
         ],
         "yaxis": "y"
        },
        {
         "marker": {
          "color": "#22FFA7",
          "opacity": 1,
          "size": 2
         },
         "mode": "markers",
         "type": "scatter",
         "x": [
          0.004581302343333485
         ],
         "xaxis": "x",
         "y": [
          0.22944695539772386
         ],
         "yaxis": "y"
        },
        {
         "marker": {
          "color": "#E3EE9E",
          "opacity": 1,
          "size": 2
         },
         "mode": "markers",
         "type": "scatter",
         "x": [
          -0.23504766441710243
         ],
         "xaxis": "x",
         "y": [
          -0.2359671378948926
         ],
         "yaxis": "y"
        },
        {
         "marker": {
          "color": "#86CE00",
          "opacity": 1,
          "size": 2
         },
         "mode": "markers",
         "type": "scatter",
         "x": [
          0.2781595920953348
         ],
         "xaxis": "x",
         "y": [
          0.14956015198520337
         ],
         "yaxis": "y"
        },
        {
         "marker": {
          "color": "#BC7196",
          "opacity": 1,
          "size": 2
         },
         "mode": "markers",
         "type": "scatter",
         "x": [
          -0.2716209688861152
         ],
         "xaxis": "x",
         "y": [
          0.13996336515549052
         ],
         "yaxis": "y"
        },
        {
         "marker": {
          "color": "#7E7DCD",
          "opacity": 1,
          "size": 2
         },
         "mode": "markers",
         "type": "scatter",
         "x": [
          0.002799820628961693
         ],
         "xaxis": "x",
         "y": [
          -0.7066836858989409
         ],
         "yaxis": "y"
        },
        {
         "marker": {
          "color": "#FC6955",
          "opacity": 1,
          "size": 2
         },
         "mode": "markers",
         "type": "scatter",
         "x": [
          0.011729006567859312
         ],
         "xaxis": "x",
         "y": [
          0.0018823667249082358
         ],
         "yaxis": "y"
        },
        {
         "marker": {
          "color": "#E48F72",
          "opacity": 1,
          "size": 2
         },
         "mode": "markers",
         "type": "scatter",
         "x": [
          0.26482347949919294
         ],
         "xaxis": "x",
         "y": [
          -0.13942473405110112
         ],
         "yaxis": "y"
        },
        {
         "marker": {
          "color": "#2E91E5",
          "opacity": 1,
          "size": 2
         },
         "mode": "markers",
         "type": "scatter",
         "x": [
          -0.23830124725515608
         ],
         "xaxis": "x",
         "y": [
          0.2349729687351188
         ],
         "yaxis": "y"
        },
        {
         "marker": {
          "color": "#E15F99",
          "opacity": 1,
          "size": 2
         },
         "mode": "markers",
         "type": "scatter",
         "x": [
          0.16945238896208942
         ],
         "xaxis": "x",
         "y": [
          -0.1795479064308025
         ],
         "yaxis": "y"
        },
        {
         "marker": {
          "color": "#1CA71C",
          "opacity": 1,
          "size": 2
         },
         "mode": "markers",
         "type": "scatter",
         "x": [
          -0.27842859107786727
         ],
         "xaxis": "x",
         "y": [
          -0.14331000615870443
         ],
         "yaxis": "y"
        },
        {
         "marker": {
          "color": "#FB0D0D",
          "opacity": 1,
          "size": 2
         },
         "mode": "markers",
         "type": "scatter",
         "x": [
          0.2321607789174284
         ],
         "xaxis": "x",
         "y": [
          -0.2382793482485146
         ],
         "yaxis": "y"
        },
        {
         "marker": {
          "color": "#DA16FF",
          "opacity": 1,
          "size": 2
         },
         "mode": "markers",
         "type": "scatter",
         "x": [
          -0.2566338253833498
         ],
         "xaxis": "x",
         "y": [
          -0.00404291771147511
         ],
         "yaxis": "y"
        },
        {
         "marker": {
          "color": "#222A2A",
          "opacity": 1,
          "size": 2
         },
         "mode": "markers",
         "type": "scatter",
         "x": [
          -0.3587081876693427
         ],
         "xaxis": "x",
         "y": [
          -0.35238396970583974
         ],
         "yaxis": "y"
        },
        {
         "marker": {
          "color": "#B68100",
          "opacity": 1,
          "size": 2
         },
         "mode": "markers",
         "type": "scatter",
         "x": [
          0.24674546721346527
         ],
         "xaxis": "x",
         "y": [
          0.23520945671648408
         ],
         "yaxis": "y"
        },
        {
         "marker": {
          "color": "#750D86",
          "opacity": 1,
          "size": 2
         },
         "mode": "markers",
         "type": "scatter",
         "x": [
          -0.0020522324082769216
         ],
         "xaxis": "x",
         "y": [
          0.70804780704414
         ],
         "yaxis": "y"
        },
        {
         "marker": {
          "color": "#EB663B",
          "opacity": 1,
          "size": 2
         },
         "mode": "markers",
         "type": "scatter",
         "x": [
          -0.23501223921616973
         ],
         "xaxis": "x",
         "y": [
          0.0003690588789854507
         ],
         "yaxis": "y"
        },
        {
         "marker": {
          "color": "#00A08B",
          "opacity": 1,
          "size": 2
         },
         "mode": "markers",
         "type": "scatter",
         "x": [
          -0.4645662567801136
         ],
         "xaxis": "x",
         "y": [
          -0.2336518168781476
         ],
         "yaxis": "y"
        },
        {
         "marker": {
          "color": "#FB00D1",
          "opacity": 1,
          "size": 2
         },
         "mode": "markers",
         "type": "scatter",
         "x": [
          0.2770224979862614
         ],
         "xaxis": "x",
         "y": [
          -0.004299252502626357
         ],
         "yaxis": "y"
        },
        {
         "name": "Vector",
         "type": "scatter",
         "x": [
          -0.6402839394459551,
          0.9217821333984221
         ],
         "y": [
          0.0010570248375077092,
          -0.0061628386298074045
         ]
        }
       ],
       "layout": {
        "annotations": [
         {
          "showarrow": false,
          "text": "Residual Stream",
          "x": 0.8,
          "xref": "paper",
          "y": 1.05,
          "yref": "paper"
         }
        ],
        "height": 400,
        "template": {
         "data": {
          "bar": [
           {
            "error_x": {
             "color": "#2a3f5f"
            },
            "error_y": {
             "color": "#2a3f5f"
            },
            "marker": {
             "line": {
              "color": "#E5ECF6",
              "width": 0.5
             },
             "pattern": {
              "fillmode": "overlay",
              "size": 10,
              "solidity": 0.2
             }
            },
            "type": "bar"
           }
          ],
          "barpolar": [
           {
            "marker": {
             "line": {
              "color": "#E5ECF6",
              "width": 0.5
             },
             "pattern": {
              "fillmode": "overlay",
              "size": 10,
              "solidity": 0.2
             }
            },
            "type": "barpolar"
           }
          ],
          "carpet": [
           {
            "aaxis": {
             "endlinecolor": "#2a3f5f",
             "gridcolor": "white",
             "linecolor": "white",
             "minorgridcolor": "white",
             "startlinecolor": "#2a3f5f"
            },
            "baxis": {
             "endlinecolor": "#2a3f5f",
             "gridcolor": "white",
             "linecolor": "white",
             "minorgridcolor": "white",
             "startlinecolor": "#2a3f5f"
            },
            "type": "carpet"
           }
          ],
          "choropleth": [
           {
            "colorbar": {
             "outlinewidth": 0,
             "ticks": ""
            },
            "type": "choropleth"
           }
          ],
          "contour": [
           {
            "colorbar": {
             "outlinewidth": 0,
             "ticks": ""
            },
            "colorscale": [
             [
              0,
              "#0d0887"
             ],
             [
              0.1111111111111111,
              "#46039f"
             ],
             [
              0.2222222222222222,
              "#7201a8"
             ],
             [
              0.3333333333333333,
              "#9c179e"
             ],
             [
              0.4444444444444444,
              "#bd3786"
             ],
             [
              0.5555555555555556,
              "#d8576b"
             ],
             [
              0.6666666666666666,
              "#ed7953"
             ],
             [
              0.7777777777777778,
              "#fb9f3a"
             ],
             [
              0.8888888888888888,
              "#fdca26"
             ],
             [
              1,
              "#f0f921"
             ]
            ],
            "type": "contour"
           }
          ],
          "contourcarpet": [
           {
            "colorbar": {
             "outlinewidth": 0,
             "ticks": ""
            },
            "type": "contourcarpet"
           }
          ],
          "heatmap": [
           {
            "colorbar": {
             "outlinewidth": 0,
             "ticks": ""
            },
            "colorscale": [
             [
              0,
              "#0d0887"
             ],
             [
              0.1111111111111111,
              "#46039f"
             ],
             [
              0.2222222222222222,
              "#7201a8"
             ],
             [
              0.3333333333333333,
              "#9c179e"
             ],
             [
              0.4444444444444444,
              "#bd3786"
             ],
             [
              0.5555555555555556,
              "#d8576b"
             ],
             [
              0.6666666666666666,
              "#ed7953"
             ],
             [
              0.7777777777777778,
              "#fb9f3a"
             ],
             [
              0.8888888888888888,
              "#fdca26"
             ],
             [
              1,
              "#f0f921"
             ]
            ],
            "type": "heatmap"
           }
          ],
          "heatmapgl": [
           {
            "colorbar": {
             "outlinewidth": 0,
             "ticks": ""
            },
            "colorscale": [
             [
              0,
              "#0d0887"
             ],
             [
              0.1111111111111111,
              "#46039f"
             ],
             [
              0.2222222222222222,
              "#7201a8"
             ],
             [
              0.3333333333333333,
              "#9c179e"
             ],
             [
              0.4444444444444444,
              "#bd3786"
             ],
             [
              0.5555555555555556,
              "#d8576b"
             ],
             [
              0.6666666666666666,
              "#ed7953"
             ],
             [
              0.7777777777777778,
              "#fb9f3a"
             ],
             [
              0.8888888888888888,
              "#fdca26"
             ],
             [
              1,
              "#f0f921"
             ]
            ],
            "type": "heatmapgl"
           }
          ],
          "histogram": [
           {
            "marker": {
             "pattern": {
              "fillmode": "overlay",
              "size": 10,
              "solidity": 0.2
             }
            },
            "type": "histogram"
           }
          ],
          "histogram2d": [
           {
            "colorbar": {
             "outlinewidth": 0,
             "ticks": ""
            },
            "colorscale": [
             [
              0,
              "#0d0887"
             ],
             [
              0.1111111111111111,
              "#46039f"
             ],
             [
              0.2222222222222222,
              "#7201a8"
             ],
             [
              0.3333333333333333,
              "#9c179e"
             ],
             [
              0.4444444444444444,
              "#bd3786"
             ],
             [
              0.5555555555555556,
              "#d8576b"
             ],
             [
              0.6666666666666666,
              "#ed7953"
             ],
             [
              0.7777777777777778,
              "#fb9f3a"
             ],
             [
              0.8888888888888888,
              "#fdca26"
             ],
             [
              1,
              "#f0f921"
             ]
            ],
            "type": "histogram2d"
           }
          ],
          "histogram2dcontour": [
           {
            "colorbar": {
             "outlinewidth": 0,
             "ticks": ""
            },
            "colorscale": [
             [
              0,
              "#0d0887"
             ],
             [
              0.1111111111111111,
              "#46039f"
             ],
             [
              0.2222222222222222,
              "#7201a8"
             ],
             [
              0.3333333333333333,
              "#9c179e"
             ],
             [
              0.4444444444444444,
              "#bd3786"
             ],
             [
              0.5555555555555556,
              "#d8576b"
             ],
             [
              0.6666666666666666,
              "#ed7953"
             ],
             [
              0.7777777777777778,
              "#fb9f3a"
             ],
             [
              0.8888888888888888,
              "#fdca26"
             ],
             [
              1,
              "#f0f921"
             ]
            ],
            "type": "histogram2dcontour"
           }
          ],
          "mesh3d": [
           {
            "colorbar": {
             "outlinewidth": 0,
             "ticks": ""
            },
            "type": "mesh3d"
           }
          ],
          "parcoords": [
           {
            "line": {
             "colorbar": {
              "outlinewidth": 0,
              "ticks": ""
             }
            },
            "type": "parcoords"
           }
          ],
          "pie": [
           {
            "automargin": true,
            "type": "pie"
           }
          ],
          "scatter": [
           {
            "fillpattern": {
             "fillmode": "overlay",
             "size": 10,
             "solidity": 0.2
            },
            "type": "scatter"
           }
          ],
          "scatter3d": [
           {
            "line": {
             "colorbar": {
              "outlinewidth": 0,
              "ticks": ""
             }
            },
            "marker": {
             "colorbar": {
              "outlinewidth": 0,
              "ticks": ""
             }
            },
            "type": "scatter3d"
           }
          ],
          "scattercarpet": [
           {
            "marker": {
             "colorbar": {
              "outlinewidth": 0,
              "ticks": ""
             }
            },
            "type": "scattercarpet"
           }
          ],
          "scattergeo": [
           {
            "marker": {
             "colorbar": {
              "outlinewidth": 0,
              "ticks": ""
             }
            },
            "type": "scattergeo"
           }
          ],
          "scattergl": [
           {
            "marker": {
             "colorbar": {
              "outlinewidth": 0,
              "ticks": ""
             }
            },
            "type": "scattergl"
           }
          ],
          "scattermapbox": [
           {
            "marker": {
             "colorbar": {
              "outlinewidth": 0,
              "ticks": ""
             }
            },
            "type": "scattermapbox"
           }
          ],
          "scatterpolar": [
           {
            "marker": {
             "colorbar": {
              "outlinewidth": 0,
              "ticks": ""
             }
            },
            "type": "scatterpolar"
           }
          ],
          "scatterpolargl": [
           {
            "marker": {
             "colorbar": {
              "outlinewidth": 0,
              "ticks": ""
             }
            },
            "type": "scatterpolargl"
           }
          ],
          "scatterternary": [
           {
            "marker": {
             "colorbar": {
              "outlinewidth": 0,
              "ticks": ""
             }
            },
            "type": "scatterternary"
           }
          ],
          "surface": [
           {
            "colorbar": {
             "outlinewidth": 0,
             "ticks": ""
            },
            "colorscale": [
             [
              0,
              "#0d0887"
             ],
             [
              0.1111111111111111,
              "#46039f"
             ],
             [
              0.2222222222222222,
              "#7201a8"
             ],
             [
              0.3333333333333333,
              "#9c179e"
             ],
             [
              0.4444444444444444,
              "#bd3786"
             ],
             [
              0.5555555555555556,
              "#d8576b"
             ],
             [
              0.6666666666666666,
              "#ed7953"
             ],
             [
              0.7777777777777778,
              "#fb9f3a"
             ],
             [
              0.8888888888888888,
              "#fdca26"
             ],
             [
              1,
              "#f0f921"
             ]
            ],
            "type": "surface"
           }
          ],
          "table": [
           {
            "cells": {
             "fill": {
              "color": "#EBF0F8"
             },
             "line": {
              "color": "white"
             }
            },
            "header": {
             "fill": {
              "color": "#C8D4E3"
             },
             "line": {
              "color": "white"
             }
            },
            "type": "table"
           }
          ]
         },
         "layout": {
          "annotationdefaults": {
           "arrowcolor": "#2a3f5f",
           "arrowhead": 0,
           "arrowwidth": 1
          },
          "autotypenumbers": "strict",
          "coloraxis": {
           "colorbar": {
            "outlinewidth": 0,
            "ticks": ""
           }
          },
          "colorscale": {
           "diverging": [
            [
             0,
             "#8e0152"
            ],
            [
             0.1,
             "#c51b7d"
            ],
            [
             0.2,
             "#de77ae"
            ],
            [
             0.3,
             "#f1b6da"
            ],
            [
             0.4,
             "#fde0ef"
            ],
            [
             0.5,
             "#f7f7f7"
            ],
            [
             0.6,
             "#e6f5d0"
            ],
            [
             0.7,
             "#b8e186"
            ],
            [
             0.8,
             "#7fbc41"
            ],
            [
             0.9,
             "#4d9221"
            ],
            [
             1,
             "#276419"
            ]
           ],
           "sequential": [
            [
             0,
             "#0d0887"
            ],
            [
             0.1111111111111111,
             "#46039f"
            ],
            [
             0.2222222222222222,
             "#7201a8"
            ],
            [
             0.3333333333333333,
             "#9c179e"
            ],
            [
             0.4444444444444444,
             "#bd3786"
            ],
            [
             0.5555555555555556,
             "#d8576b"
            ],
            [
             0.6666666666666666,
             "#ed7953"
            ],
            [
             0.7777777777777778,
             "#fb9f3a"
            ],
            [
             0.8888888888888888,
             "#fdca26"
            ],
            [
             1,
             "#f0f921"
            ]
           ],
           "sequentialminus": [
            [
             0,
             "#0d0887"
            ],
            [
             0.1111111111111111,
             "#46039f"
            ],
            [
             0.2222222222222222,
             "#7201a8"
            ],
            [
             0.3333333333333333,
             "#9c179e"
            ],
            [
             0.4444444444444444,
             "#bd3786"
            ],
            [
             0.5555555555555556,
             "#d8576b"
            ],
            [
             0.6666666666666666,
             "#ed7953"
            ],
            [
             0.7777777777777778,
             "#fb9f3a"
            ],
            [
             0.8888888888888888,
             "#fdca26"
            ],
            [
             1,
             "#f0f921"
            ]
           ]
          },
          "colorway": [
           "#636efa",
           "#EF553B",
           "#00cc96",
           "#ab63fa",
           "#FFA15A",
           "#19d3f3",
           "#FF6692",
           "#B6E880",
           "#FF97FF",
           "#FECB52"
          ],
          "font": {
           "color": "#2a3f5f"
          },
          "geo": {
           "bgcolor": "white",
           "lakecolor": "white",
           "landcolor": "#E5ECF6",
           "showlakes": true,
           "showland": true,
           "subunitcolor": "white"
          },
          "hoverlabel": {
           "align": "left"
          },
          "hovermode": "closest",
          "mapbox": {
           "style": "light"
          },
          "paper_bgcolor": "white",
          "plot_bgcolor": "#E5ECF6",
          "polar": {
           "angularaxis": {
            "gridcolor": "white",
            "linecolor": "white",
            "ticks": ""
           },
           "bgcolor": "#E5ECF6",
           "radialaxis": {
            "gridcolor": "white",
            "linecolor": "white",
            "ticks": ""
           }
          },
          "scene": {
           "xaxis": {
            "backgroundcolor": "#E5ECF6",
            "gridcolor": "white",
            "gridwidth": 2,
            "linecolor": "white",
            "showbackground": true,
            "ticks": "",
            "zerolinecolor": "white"
           },
           "yaxis": {
            "backgroundcolor": "#E5ECF6",
            "gridcolor": "white",
            "gridwidth": 2,
            "linecolor": "white",
            "showbackground": true,
            "ticks": "",
            "zerolinecolor": "white"
           },
           "zaxis": {
            "backgroundcolor": "#E5ECF6",
            "gridcolor": "white",
            "gridwidth": 2,
            "linecolor": "white",
            "showbackground": true,
            "ticks": "",
            "zerolinecolor": "white"
           }
          },
          "shapedefaults": {
           "line": {
            "color": "#2a3f5f"
           }
          },
          "ternary": {
           "aaxis": {
            "gridcolor": "white",
            "linecolor": "white",
            "ticks": ""
           },
           "baxis": {
            "gridcolor": "white",
            "linecolor": "white",
            "ticks": ""
           },
           "bgcolor": "#E5ECF6",
           "caxis": {
            "gridcolor": "white",
            "linecolor": "white",
            "ticks": ""
           }
          },
          "title": {
           "x": 0.05
          },
          "xaxis": {
           "automargin": true,
           "gridcolor": "white",
           "linecolor": "white",
           "ticks": "",
           "title": {
            "standoff": 15
           },
           "zerolinecolor": "white",
           "zerolinewidth": 2
          },
          "yaxis": {
           "automargin": true,
           "gridcolor": "white",
           "linecolor": "white",
           "ticks": "",
           "title": {
            "standoff": 15
           },
           "zerolinecolor": "white",
           "zerolinewidth": 2
          }
         }
        },
        "title": {
         "text": "2D PCA Projection of Beliefs"
        },
        "width": 600,
        "xaxis": {
         "anchor": "y",
         "domain": [
          0,
          1
         ],
         "range": [
          -0.85,
          0.85
         ],
         "title": {
          "text": "PCA Dimension 1"
         }
        },
        "yaxis": {
         "anchor": "x",
         "domain": [
          0,
          1
         ],
         "range": [
          -0.85,
          0.85
         ],
         "title": {
          "text": "PCA Dimension 2"
         }
        }
       }
      },
      "text/html": [
       "<div>                            <div id=\"3609aea4-2dac-4ac3-8f8f-83fb196ce63f\" class=\"plotly-graph-div\" style=\"height:400px; width:600px;\"></div>            <script type=\"text/javascript\">                require([\"plotly\"], function(Plotly) {                    window.PLOTLYENV=window.PLOTLYENV || {};                                    if (document.getElementById(\"3609aea4-2dac-4ac3-8f8f-83fb196ce63f\")) {                    Plotly.newPlot(                        \"3609aea4-2dac-4ac3-8f8f-83fb196ce63f\",                        [{\"marker\":{\"color\":\"#FD3216\",\"opacity\":1,\"size\":2},\"mode\":\"markers\",\"x\":[-0.1865173287934817],\"y\":[0.1792904639970568],\"type\":\"scatter\",\"xaxis\":\"x\",\"yaxis\":\"y\"},{\"marker\":{\"color\":\"#00FE35\",\"opacity\":1,\"size\":2},\"mode\":\"markers\",\"x\":[0.23599280672019982],\"y\":[-0.00042349153383726407],\"type\":\"scatter\",\"xaxis\":\"x\",\"yaxis\":\"y\"},{\"marker\":{\"color\":\"#6A76FC\",\"opacity\":1,\"size\":2},\"mode\":\"markers\",\"x\":[0.624276320391437],\"y\":[-0.0004217120938929552],\"type\":\"scatter\",\"xaxis\":\"x\",\"yaxis\":\"y\"},{\"marker\":{\"color\":\"#FED4C4\",\"opacity\":1,\"size\":2},\"mode\":\"markers\",\"x\":[-0.4545652567429235],\"y\":[0.2260589507876112],\"type\":\"scatter\",\"xaxis\":\"x\",\"yaxis\":\"y\"},{\"marker\":{\"color\":\"#FE00CE\",\"opacity\":1,\"size\":2},\"mode\":\"markers\",\"x\":[0.35053083286455305],\"y\":[-0.3408774046762903],\"type\":\"scatter\",\"xaxis\":\"x\",\"yaxis\":\"y\"},{\"marker\":{\"color\":\"#0DF9FF\",\"opacity\":1,\"size\":2},\"mode\":\"markers\",\"x\":[0.44178075596803473],\"y\":[-0.22962459246177444],\"type\":\"scatter\",\"xaxis\":\"x\",\"yaxis\":\"y\"},{\"marker\":{\"color\":\"#F6F926\",\"opacity\":1,\"size\":2},\"mode\":\"markers\",\"x\":[-0.0007319261225071654],\"y\":[-0.34447375823884485],\"type\":\"scatter\",\"xaxis\":\"x\",\"yaxis\":\"y\"},{\"marker\":{\"color\":\"#FF9616\",\"opacity\":1,\"size\":2},\"mode\":\"markers\",\"x\":[0.44776799253680394],\"y\":[0.22816479183108132],\"type\":\"scatter\",\"xaxis\":\"x\",\"yaxis\":\"y\"},{\"marker\":{\"color\":\"#479B55\",\"opacity\":1,\"size\":2},\"mode\":\"markers\",\"x\":[-0.3521519203591293],\"y\":[0.34581614124928695],\"type\":\"scatter\",\"xaxis\":\"x\",\"yaxis\":\"y\"},{\"marker\":{\"color\":\"#EEA6FB\",\"opacity\":1,\"size\":2},\"mode\":\"markers\",\"x\":[0.34522938839786177],\"y\":[-0.00022039666456837077],\"type\":\"scatter\",\"xaxis\":\"x\",\"yaxis\":\"y\"},{\"marker\":{\"color\":\"#DC587D\",\"opacity\":1,\"size\":10},\"mode\":\"markers\",\"name\":\"Ending Belief\",\"x\":[-0.6402839394459551],\"y\":[0.0010570248375077092],\"type\":\"scatter\",\"xaxis\":\"x\",\"yaxis\":\"y\"},{\"marker\":{\"color\":\"#D626FF\",\"opacity\":1,\"size\":2},\"mode\":\"markers\",\"x\":[0.34942711549663413],\"y\":[0.34689246012806296],\"type\":\"scatter\",\"xaxis\":\"x\",\"yaxis\":\"y\"},{\"marker\":{\"color\":\"#6E899C\",\"opacity\":1,\"size\":2},\"mode\":\"markers\",\"x\":[-0.16981591422328263],\"y\":[-0.17635800903036522],\"type\":\"scatter\",\"xaxis\":\"x\",\"yaxis\":\"y\"},{\"marker\":{\"color\":\"#00B5F7\",\"opacity\":1,\"size\":2},\"mode\":\"markers\",\"x\":[-0.009172568064220246],\"y\":[-0.23122104101232724],\"type\":\"scatter\",\"xaxis\":\"x\",\"yaxis\":\"y\"},{\"marker\":{\"color\":\"#B68E00\",\"opacity\":1,\"size\":2},\"mode\":\"markers\",\"x\":[0.19182444428461337],\"y\":[0.18023078363151998],\"type\":\"scatter\",\"xaxis\":\"x\",\"yaxis\":\"y\"},{\"marker\":{\"color\":\"#C9FBE5\",\"opacity\":1,\"size\":2},\"mode\":\"markers\",\"x\":[-0.34643837652973863],\"y\":[-0.0019486544010419759],\"type\":\"scatter\",\"xaxis\":\"x\",\"yaxis\":\"y\"},{\"marker\":{\"color\":\"#FF0092\",\"opacity\":1,\"size\":2},\"mode\":\"markers\",\"x\":[0.005074600415811522],\"y\":[0.3414779865884708],\"type\":\"scatter\",\"xaxis\":\"x\",\"yaxis\":\"y\"},{\"marker\":{\"color\":\"#22FFA7\",\"opacity\":1,\"size\":2},\"mode\":\"markers\",\"x\":[0.004581302343333485],\"y\":[0.22944695539772386],\"type\":\"scatter\",\"xaxis\":\"x\",\"yaxis\":\"y\"},{\"marker\":{\"color\":\"#E3EE9E\",\"opacity\":1,\"size\":2},\"mode\":\"markers\",\"x\":[-0.23504766441710243],\"y\":[-0.2359671378948926],\"type\":\"scatter\",\"xaxis\":\"x\",\"yaxis\":\"y\"},{\"marker\":{\"color\":\"#86CE00\",\"opacity\":1,\"size\":2},\"mode\":\"markers\",\"x\":[0.2781595920953348],\"y\":[0.14956015198520337],\"type\":\"scatter\",\"xaxis\":\"x\",\"yaxis\":\"y\"},{\"marker\":{\"color\":\"#BC7196\",\"opacity\":1,\"size\":2},\"mode\":\"markers\",\"x\":[-0.2716209688861152],\"y\":[0.13996336515549052],\"type\":\"scatter\",\"xaxis\":\"x\",\"yaxis\":\"y\"},{\"marker\":{\"color\":\"#7E7DCD\",\"opacity\":1,\"size\":2},\"mode\":\"markers\",\"x\":[0.002799820628961693],\"y\":[-0.7066836858989409],\"type\":\"scatter\",\"xaxis\":\"x\",\"yaxis\":\"y\"},{\"marker\":{\"color\":\"#FC6955\",\"opacity\":1,\"size\":2},\"mode\":\"markers\",\"x\":[0.011729006567859312],\"y\":[0.0018823667249082358],\"type\":\"scatter\",\"xaxis\":\"x\",\"yaxis\":\"y\"},{\"marker\":{\"color\":\"#E48F72\",\"opacity\":1,\"size\":2},\"mode\":\"markers\",\"x\":[0.26482347949919294],\"y\":[-0.13942473405110112],\"type\":\"scatter\",\"xaxis\":\"x\",\"yaxis\":\"y\"},{\"marker\":{\"color\":\"#2E91E5\",\"opacity\":1,\"size\":2},\"mode\":\"markers\",\"x\":[-0.23830124725515608],\"y\":[0.2349729687351188],\"type\":\"scatter\",\"xaxis\":\"x\",\"yaxis\":\"y\"},{\"marker\":{\"color\":\"#E15F99\",\"opacity\":1,\"size\":2},\"mode\":\"markers\",\"x\":[0.16945238896208942],\"y\":[-0.1795479064308025],\"type\":\"scatter\",\"xaxis\":\"x\",\"yaxis\":\"y\"},{\"marker\":{\"color\":\"#1CA71C\",\"opacity\":1,\"size\":2},\"mode\":\"markers\",\"x\":[-0.27842859107786727],\"y\":[-0.14331000615870443],\"type\":\"scatter\",\"xaxis\":\"x\",\"yaxis\":\"y\"},{\"marker\":{\"color\":\"#FB0D0D\",\"opacity\":1,\"size\":2},\"mode\":\"markers\",\"x\":[0.2321607789174284],\"y\":[-0.2382793482485146],\"type\":\"scatter\",\"xaxis\":\"x\",\"yaxis\":\"y\"},{\"marker\":{\"color\":\"#DA16FF\",\"opacity\":1,\"size\":2},\"mode\":\"markers\",\"x\":[-0.2566338253833498],\"y\":[-0.00404291771147511],\"type\":\"scatter\",\"xaxis\":\"x\",\"yaxis\":\"y\"},{\"marker\":{\"color\":\"#222A2A\",\"opacity\":1,\"size\":2},\"mode\":\"markers\",\"x\":[-0.3587081876693427],\"y\":[-0.35238396970583974],\"type\":\"scatter\",\"xaxis\":\"x\",\"yaxis\":\"y\"},{\"marker\":{\"color\":\"#B68100\",\"opacity\":1,\"size\":2},\"mode\":\"markers\",\"x\":[0.24674546721346527],\"y\":[0.23520945671648408],\"type\":\"scatter\",\"xaxis\":\"x\",\"yaxis\":\"y\"},{\"marker\":{\"color\":\"#750D86\",\"opacity\":1,\"size\":10},\"mode\":\"markers\",\"name\":\"Starting Belief\",\"x\":[-0.0020522324082769216],\"y\":[0.70804780704414],\"type\":\"scatter\",\"xaxis\":\"x\",\"yaxis\":\"y\"},{\"marker\":{\"color\":\"#750D86\",\"opacity\":1,\"size\":2},\"mode\":\"markers\",\"x\":[-0.0020522324082769216],\"y\":[0.70804780704414],\"type\":\"scatter\",\"xaxis\":\"x\",\"yaxis\":\"y\"},{\"marker\":{\"color\":\"#EB663B\",\"opacity\":1,\"size\":2},\"mode\":\"markers\",\"x\":[-0.23501223921616973],\"y\":[0.0003690588789854507],\"type\":\"scatter\",\"xaxis\":\"x\",\"yaxis\":\"y\"},{\"marker\":{\"color\":\"#00A08B\",\"opacity\":1,\"size\":2},\"mode\":\"markers\",\"x\":[-0.4645662567801136],\"y\":[-0.2336518168781476],\"type\":\"scatter\",\"xaxis\":\"x\",\"yaxis\":\"y\"},{\"marker\":{\"color\":\"#FB00D1\",\"opacity\":1,\"size\":2},\"mode\":\"markers\",\"x\":[0.2770224979862614],\"y\":[-0.004299252502626357],\"type\":\"scatter\",\"xaxis\":\"x\",\"yaxis\":\"y\"},{\"name\":\"Vector\",\"x\":[-0.0020522324082769216,-0.9810096455445081],\"y\":[0.70804780704414,-0.711674656628159],\"type\":\"scatter\"},{\"marker\":{\"color\":\"#FD3216\",\"opacity\":1,\"size\":2},\"mode\":\"markers\",\"x\":[-0.1865173287934817],\"y\":[0.1792904639970568],\"type\":\"scatter\",\"xaxis\":\"x\",\"yaxis\":\"y\"},{\"marker\":{\"color\":\"#00FE35\",\"opacity\":1,\"size\":2},\"mode\":\"markers\",\"x\":[0.23599280672019982],\"y\":[-0.00042349153383726407],\"type\":\"scatter\",\"xaxis\":\"x\",\"yaxis\":\"y\"},{\"marker\":{\"color\":\"#6A76FC\",\"opacity\":1,\"size\":2},\"mode\":\"markers\",\"x\":[0.624276320391437],\"y\":[-0.0004217120938929552],\"type\":\"scatter\",\"xaxis\":\"x\",\"yaxis\":\"y\"},{\"marker\":{\"color\":\"#FED4C4\",\"opacity\":1,\"size\":2},\"mode\":\"markers\",\"x\":[-0.4545652567429235],\"y\":[0.2260589507876112],\"type\":\"scatter\",\"xaxis\":\"x\",\"yaxis\":\"y\"},{\"marker\":{\"color\":\"#FE00CE\",\"opacity\":1,\"size\":2},\"mode\":\"markers\",\"x\":[0.35053083286455305],\"y\":[-0.3408774046762903],\"type\":\"scatter\",\"xaxis\":\"x\",\"yaxis\":\"y\"},{\"marker\":{\"color\":\"#0DF9FF\",\"opacity\":1,\"size\":2},\"mode\":\"markers\",\"x\":[0.44178075596803473],\"y\":[-0.22962459246177444],\"type\":\"scatter\",\"xaxis\":\"x\",\"yaxis\":\"y\"},{\"marker\":{\"color\":\"#F6F926\",\"opacity\":1,\"size\":2},\"mode\":\"markers\",\"x\":[-0.0007319261225071654],\"y\":[-0.34447375823884485],\"type\":\"scatter\",\"xaxis\":\"x\",\"yaxis\":\"y\"},{\"marker\":{\"color\":\"#FF9616\",\"opacity\":1,\"size\":2},\"mode\":\"markers\",\"x\":[0.44776799253680394],\"y\":[0.22816479183108132],\"type\":\"scatter\",\"xaxis\":\"x\",\"yaxis\":\"y\"},{\"marker\":{\"color\":\"#479B55\",\"opacity\":1,\"size\":2},\"mode\":\"markers\",\"x\":[-0.3521519203591293],\"y\":[0.34581614124928695],\"type\":\"scatter\",\"xaxis\":\"x\",\"yaxis\":\"y\"},{\"marker\":{\"color\":\"#EEA6FB\",\"opacity\":1,\"size\":2},\"mode\":\"markers\",\"x\":[0.34522938839786177],\"y\":[-0.00022039666456837077],\"type\":\"scatter\",\"xaxis\":\"x\",\"yaxis\":\"y\"},{\"marker\":{\"color\":\"#DC587D\",\"opacity\":1,\"size\":2},\"mode\":\"markers\",\"x\":[-0.6402839394459551],\"y\":[0.0010570248375077092],\"type\":\"scatter\",\"xaxis\":\"x\",\"yaxis\":\"y\"},{\"marker\":{\"color\":\"#D626FF\",\"opacity\":1,\"size\":2},\"mode\":\"markers\",\"x\":[0.34942711549663413],\"y\":[0.34689246012806296],\"type\":\"scatter\",\"xaxis\":\"x\",\"yaxis\":\"y\"},{\"marker\":{\"color\":\"#6E899C\",\"opacity\":1,\"size\":2},\"mode\":\"markers\",\"x\":[-0.16981591422328263],\"y\":[-0.17635800903036522],\"type\":\"scatter\",\"xaxis\":\"x\",\"yaxis\":\"y\"},{\"marker\":{\"color\":\"#00B5F7\",\"opacity\":1,\"size\":2},\"mode\":\"markers\",\"x\":[-0.009172568064220246],\"y\":[-0.23122104101232724],\"type\":\"scatter\",\"xaxis\":\"x\",\"yaxis\":\"y\"},{\"marker\":{\"color\":\"#B68E00\",\"opacity\":1,\"size\":2},\"mode\":\"markers\",\"x\":[0.19182444428461337],\"y\":[0.18023078363151998],\"type\":\"scatter\",\"xaxis\":\"x\",\"yaxis\":\"y\"},{\"marker\":{\"color\":\"#C9FBE5\",\"opacity\":1,\"size\":2},\"mode\":\"markers\",\"x\":[-0.34643837652973863],\"y\":[-0.0019486544010419759],\"type\":\"scatter\",\"xaxis\":\"x\",\"yaxis\":\"y\"},{\"marker\":{\"color\":\"#FF0092\",\"opacity\":1,\"size\":2},\"mode\":\"markers\",\"x\":[0.005074600415811522],\"y\":[0.3414779865884708],\"type\":\"scatter\",\"xaxis\":\"x\",\"yaxis\":\"y\"},{\"marker\":{\"color\":\"#22FFA7\",\"opacity\":1,\"size\":2},\"mode\":\"markers\",\"x\":[0.004581302343333485],\"y\":[0.22944695539772386],\"type\":\"scatter\",\"xaxis\":\"x\",\"yaxis\":\"y\"},{\"marker\":{\"color\":\"#E3EE9E\",\"opacity\":1,\"size\":2},\"mode\":\"markers\",\"x\":[-0.23504766441710243],\"y\":[-0.2359671378948926],\"type\":\"scatter\",\"xaxis\":\"x\",\"yaxis\":\"y\"},{\"marker\":{\"color\":\"#86CE00\",\"opacity\":1,\"size\":2},\"mode\":\"markers\",\"x\":[0.2781595920953348],\"y\":[0.14956015198520337],\"type\":\"scatter\",\"xaxis\":\"x\",\"yaxis\":\"y\"},{\"marker\":{\"color\":\"#BC7196\",\"opacity\":1,\"size\":2},\"mode\":\"markers\",\"x\":[-0.2716209688861152],\"y\":[0.13996336515549052],\"type\":\"scatter\",\"xaxis\":\"x\",\"yaxis\":\"y\"},{\"marker\":{\"color\":\"#7E7DCD\",\"opacity\":1,\"size\":10},\"mode\":\"markers\",\"name\":\"Ending Belief\",\"x\":[0.002799820628961693],\"y\":[-0.7066836858989409],\"type\":\"scatter\",\"xaxis\":\"x\",\"yaxis\":\"y\"},{\"marker\":{\"color\":\"#FC6955\",\"opacity\":1,\"size\":2},\"mode\":\"markers\",\"x\":[0.011729006567859312],\"y\":[0.0018823667249082358],\"type\":\"scatter\",\"xaxis\":\"x\",\"yaxis\":\"y\"},{\"marker\":{\"color\":\"#E48F72\",\"opacity\":1,\"size\":2},\"mode\":\"markers\",\"x\":[0.26482347949919294],\"y\":[-0.13942473405110112],\"type\":\"scatter\",\"xaxis\":\"x\",\"yaxis\":\"y\"},{\"marker\":{\"color\":\"#2E91E5\",\"opacity\":1,\"size\":2},\"mode\":\"markers\",\"x\":[-0.23830124725515608],\"y\":[0.2349729687351188],\"type\":\"scatter\",\"xaxis\":\"x\",\"yaxis\":\"y\"},{\"marker\":{\"color\":\"#E15F99\",\"opacity\":1,\"size\":2},\"mode\":\"markers\",\"x\":[0.16945238896208942],\"y\":[-0.1795479064308025],\"type\":\"scatter\",\"xaxis\":\"x\",\"yaxis\":\"y\"},{\"marker\":{\"color\":\"#1CA71C\",\"opacity\":1,\"size\":2},\"mode\":\"markers\",\"x\":[-0.27842859107786727],\"y\":[-0.14331000615870443],\"type\":\"scatter\",\"xaxis\":\"x\",\"yaxis\":\"y\"},{\"marker\":{\"color\":\"#FB0D0D\",\"opacity\":1,\"size\":2},\"mode\":\"markers\",\"x\":[0.2321607789174284],\"y\":[-0.2382793482485146],\"type\":\"scatter\",\"xaxis\":\"x\",\"yaxis\":\"y\"},{\"marker\":{\"color\":\"#DA16FF\",\"opacity\":1,\"size\":2},\"mode\":\"markers\",\"x\":[-0.2566338253833498],\"y\":[-0.00404291771147511],\"type\":\"scatter\",\"xaxis\":\"x\",\"yaxis\":\"y\"},{\"marker\":{\"color\":\"#222A2A\",\"opacity\":1,\"size\":2},\"mode\":\"markers\",\"x\":[-0.3587081876693427],\"y\":[-0.35238396970583974],\"type\":\"scatter\",\"xaxis\":\"x\",\"yaxis\":\"y\"},{\"marker\":{\"color\":\"#B68100\",\"opacity\":1,\"size\":2},\"mode\":\"markers\",\"x\":[0.24674546721346527],\"y\":[0.23520945671648408],\"type\":\"scatter\",\"xaxis\":\"x\",\"yaxis\":\"y\"},{\"marker\":{\"color\":\"#750D86\",\"opacity\":1,\"size\":10},\"mode\":\"markers\",\"name\":\"Starting Belief\",\"x\":[-0.0020522324082769216],\"y\":[0.70804780704414],\"type\":\"scatter\",\"xaxis\":\"x\",\"yaxis\":\"y\"},{\"marker\":{\"color\":\"#750D86\",\"opacity\":1,\"size\":2},\"mode\":\"markers\",\"x\":[-0.0020522324082769216],\"y\":[0.70804780704414],\"type\":\"scatter\",\"xaxis\":\"x\",\"yaxis\":\"y\"},{\"marker\":{\"color\":\"#EB663B\",\"opacity\":1,\"size\":2},\"mode\":\"markers\",\"x\":[-0.23501223921616973],\"y\":[0.0003690588789854507],\"type\":\"scatter\",\"xaxis\":\"x\",\"yaxis\":\"y\"},{\"marker\":{\"color\":\"#00A08B\",\"opacity\":1,\"size\":2},\"mode\":\"markers\",\"x\":[-0.4645662567801136],\"y\":[-0.2336518168781476],\"type\":\"scatter\",\"xaxis\":\"x\",\"yaxis\":\"y\"},{\"marker\":{\"color\":\"#FB00D1\",\"opacity\":1,\"size\":2},\"mode\":\"markers\",\"x\":[0.2770224979862614],\"y\":[-0.004299252502626357],\"type\":\"scatter\",\"xaxis\":\"x\",\"yaxis\":\"y\"},{\"name\":\"Vector\",\"x\":[-0.0020522324082769216,-0.33792599244158594],\"y\":[0.70804780704414,-1.4194154950037035],\"type\":\"scatter\"},{\"marker\":{\"color\":\"#FD3216\",\"opacity\":1,\"size\":2},\"mode\":\"markers\",\"x\":[-0.1865173287934817],\"y\":[0.1792904639970568],\"type\":\"scatter\",\"xaxis\":\"x\",\"yaxis\":\"y\"},{\"marker\":{\"color\":\"#00FE35\",\"opacity\":1,\"size\":2},\"mode\":\"markers\",\"x\":[0.23599280672019982],\"y\":[-0.00042349153383726407],\"type\":\"scatter\",\"xaxis\":\"x\",\"yaxis\":\"y\"},{\"marker\":{\"color\":\"#6A76FC\",\"opacity\":1,\"size\":10},\"mode\":\"markers\",\"name\":\"Ending Belief\",\"x\":[0.624276320391437],\"y\":[-0.0004217120938929552],\"type\":\"scatter\",\"xaxis\":\"x\",\"yaxis\":\"y\"},{\"marker\":{\"color\":\"#FED4C4\",\"opacity\":1,\"size\":2},\"mode\":\"markers\",\"x\":[-0.4545652567429235],\"y\":[0.2260589507876112],\"type\":\"scatter\",\"xaxis\":\"x\",\"yaxis\":\"y\"},{\"marker\":{\"color\":\"#FE00CE\",\"opacity\":1,\"size\":2},\"mode\":\"markers\",\"x\":[0.35053083286455305],\"y\":[-0.3408774046762903],\"type\":\"scatter\",\"xaxis\":\"x\",\"yaxis\":\"y\"},{\"marker\":{\"color\":\"#0DF9FF\",\"opacity\":1,\"size\":2},\"mode\":\"markers\",\"x\":[0.44178075596803473],\"y\":[-0.22962459246177444],\"type\":\"scatter\",\"xaxis\":\"x\",\"yaxis\":\"y\"},{\"marker\":{\"color\":\"#F6F926\",\"opacity\":1,\"size\":2},\"mode\":\"markers\",\"x\":[-0.0007319261225071654],\"y\":[-0.34447375823884485],\"type\":\"scatter\",\"xaxis\":\"x\",\"yaxis\":\"y\"},{\"marker\":{\"color\":\"#FF9616\",\"opacity\":1,\"size\":2},\"mode\":\"markers\",\"x\":[0.44776799253680394],\"y\":[0.22816479183108132],\"type\":\"scatter\",\"xaxis\":\"x\",\"yaxis\":\"y\"},{\"marker\":{\"color\":\"#479B55\",\"opacity\":1,\"size\":2},\"mode\":\"markers\",\"x\":[-0.3521519203591293],\"y\":[0.34581614124928695],\"type\":\"scatter\",\"xaxis\":\"x\",\"yaxis\":\"y\"},{\"marker\":{\"color\":\"#EEA6FB\",\"opacity\":1,\"size\":2},\"mode\":\"markers\",\"x\":[0.34522938839786177],\"y\":[-0.00022039666456837077],\"type\":\"scatter\",\"xaxis\":\"x\",\"yaxis\":\"y\"},{\"marker\":{\"color\":\"#DC587D\",\"opacity\":1,\"size\":10},\"mode\":\"markers\",\"name\":\"Starting Belief\",\"x\":[-0.6402839394459551],\"y\":[0.0010570248375077092],\"type\":\"scatter\",\"xaxis\":\"x\",\"yaxis\":\"y\"},{\"marker\":{\"color\":\"#DC587D\",\"opacity\":1,\"size\":2},\"mode\":\"markers\",\"x\":[-0.6402839394459551],\"y\":[0.0010570248375077092],\"type\":\"scatter\",\"xaxis\":\"x\",\"yaxis\":\"y\"},{\"marker\":{\"color\":\"#D626FF\",\"opacity\":1,\"size\":2},\"mode\":\"markers\",\"x\":[0.34942711549663413],\"y\":[0.34689246012806296],\"type\":\"scatter\",\"xaxis\":\"x\",\"yaxis\":\"y\"},{\"marker\":{\"color\":\"#6E899C\",\"opacity\":1,\"size\":2},\"mode\":\"markers\",\"x\":[-0.16981591422328263],\"y\":[-0.17635800903036522],\"type\":\"scatter\",\"xaxis\":\"x\",\"yaxis\":\"y\"},{\"marker\":{\"color\":\"#00B5F7\",\"opacity\":1,\"size\":2},\"mode\":\"markers\",\"x\":[-0.009172568064220246],\"y\":[-0.23122104101232724],\"type\":\"scatter\",\"xaxis\":\"x\",\"yaxis\":\"y\"},{\"marker\":{\"color\":\"#B68E00\",\"opacity\":1,\"size\":2},\"mode\":\"markers\",\"x\":[0.19182444428461337],\"y\":[0.18023078363151998],\"type\":\"scatter\",\"xaxis\":\"x\",\"yaxis\":\"y\"},{\"marker\":{\"color\":\"#C9FBE5\",\"opacity\":1,\"size\":2},\"mode\":\"markers\",\"x\":[-0.34643837652973863],\"y\":[-0.0019486544010419759],\"type\":\"scatter\",\"xaxis\":\"x\",\"yaxis\":\"y\"},{\"marker\":{\"color\":\"#FF0092\",\"opacity\":1,\"size\":2},\"mode\":\"markers\",\"x\":[0.005074600415811522],\"y\":[0.3414779865884708],\"type\":\"scatter\",\"xaxis\":\"x\",\"yaxis\":\"y\"},{\"marker\":{\"color\":\"#22FFA7\",\"opacity\":1,\"size\":2},\"mode\":\"markers\",\"x\":[0.004581302343333485],\"y\":[0.22944695539772386],\"type\":\"scatter\",\"xaxis\":\"x\",\"yaxis\":\"y\"},{\"marker\":{\"color\":\"#E3EE9E\",\"opacity\":1,\"size\":2},\"mode\":\"markers\",\"x\":[-0.23504766441710243],\"y\":[-0.2359671378948926],\"type\":\"scatter\",\"xaxis\":\"x\",\"yaxis\":\"y\"},{\"marker\":{\"color\":\"#86CE00\",\"opacity\":1,\"size\":2},\"mode\":\"markers\",\"x\":[0.2781595920953348],\"y\":[0.14956015198520337],\"type\":\"scatter\",\"xaxis\":\"x\",\"yaxis\":\"y\"},{\"marker\":{\"color\":\"#BC7196\",\"opacity\":1,\"size\":2},\"mode\":\"markers\",\"x\":[-0.2716209688861152],\"y\":[0.13996336515549052],\"type\":\"scatter\",\"xaxis\":\"x\",\"yaxis\":\"y\"},{\"marker\":{\"color\":\"#7E7DCD\",\"opacity\":1,\"size\":2},\"mode\":\"markers\",\"x\":[0.002799820628961693],\"y\":[-0.7066836858989409],\"type\":\"scatter\",\"xaxis\":\"x\",\"yaxis\":\"y\"},{\"marker\":{\"color\":\"#FC6955\",\"opacity\":1,\"size\":2},\"mode\":\"markers\",\"x\":[0.011729006567859312],\"y\":[0.0018823667249082358],\"type\":\"scatter\",\"xaxis\":\"x\",\"yaxis\":\"y\"},{\"marker\":{\"color\":\"#E48F72\",\"opacity\":1,\"size\":2},\"mode\":\"markers\",\"x\":[0.26482347949919294],\"y\":[-0.13942473405110112],\"type\":\"scatter\",\"xaxis\":\"x\",\"yaxis\":\"y\"},{\"marker\":{\"color\":\"#2E91E5\",\"opacity\":1,\"size\":2},\"mode\":\"markers\",\"x\":[-0.23830124725515608],\"y\":[0.2349729687351188],\"type\":\"scatter\",\"xaxis\":\"x\",\"yaxis\":\"y\"},{\"marker\":{\"color\":\"#E15F99\",\"opacity\":1,\"size\":2},\"mode\":\"markers\",\"x\":[0.16945238896208942],\"y\":[-0.1795479064308025],\"type\":\"scatter\",\"xaxis\":\"x\",\"yaxis\":\"y\"},{\"marker\":{\"color\":\"#1CA71C\",\"opacity\":1,\"size\":2},\"mode\":\"markers\",\"x\":[-0.27842859107786727],\"y\":[-0.14331000615870443],\"type\":\"scatter\",\"xaxis\":\"x\",\"yaxis\":\"y\"},{\"marker\":{\"color\":\"#FB0D0D\",\"opacity\":1,\"size\":2},\"mode\":\"markers\",\"x\":[0.2321607789174284],\"y\":[-0.2382793482485146],\"type\":\"scatter\",\"xaxis\":\"x\",\"yaxis\":\"y\"},{\"marker\":{\"color\":\"#DA16FF\",\"opacity\":1,\"size\":2},\"mode\":\"markers\",\"x\":[-0.2566338253833498],\"y\":[-0.00404291771147511],\"type\":\"scatter\",\"xaxis\":\"x\",\"yaxis\":\"y\"},{\"marker\":{\"color\":\"#222A2A\",\"opacity\":1,\"size\":2},\"mode\":\"markers\",\"x\":[-0.3587081876693427],\"y\":[-0.35238396970583974],\"type\":\"scatter\",\"xaxis\":\"x\",\"yaxis\":\"y\"},{\"marker\":{\"color\":\"#B68100\",\"opacity\":1,\"size\":2},\"mode\":\"markers\",\"x\":[0.24674546721346527],\"y\":[0.23520945671648408],\"type\":\"scatter\",\"xaxis\":\"x\",\"yaxis\":\"y\"},{\"marker\":{\"color\":\"#750D86\",\"opacity\":1,\"size\":2},\"mode\":\"markers\",\"x\":[-0.0020522324082769216],\"y\":[0.70804780704414],\"type\":\"scatter\",\"xaxis\":\"x\",\"yaxis\":\"y\"},{\"marker\":{\"color\":\"#EB663B\",\"opacity\":1,\"size\":2},\"mode\":\"markers\",\"x\":[-0.23501223921616973],\"y\":[0.0003690588789854507],\"type\":\"scatter\",\"xaxis\":\"x\",\"yaxis\":\"y\"},{\"marker\":{\"color\":\"#00A08B\",\"opacity\":1,\"size\":2},\"mode\":\"markers\",\"x\":[-0.4645662567801136],\"y\":[-0.2336518168781476],\"type\":\"scatter\",\"xaxis\":\"x\",\"yaxis\":\"y\"},{\"marker\":{\"color\":\"#FB00D1\",\"opacity\":1,\"size\":2},\"mode\":\"markers\",\"x\":[0.2770224979862614],\"y\":[-0.004299252502626357],\"type\":\"scatter\",\"xaxis\":\"x\",\"yaxis\":\"y\"},{\"name\":\"Vector\",\"x\":[-0.6402839394459551,0.9217821333984221],\"y\":[0.0010570248375077092,-0.0061628386298074045],\"type\":\"scatter\"}],                        {\"template\":{\"data\":{\"histogram2dcontour\":[{\"type\":\"histogram2dcontour\",\"colorbar\":{\"outlinewidth\":0,\"ticks\":\"\"},\"colorscale\":[[0.0,\"#0d0887\"],[0.1111111111111111,\"#46039f\"],[0.2222222222222222,\"#7201a8\"],[0.3333333333333333,\"#9c179e\"],[0.4444444444444444,\"#bd3786\"],[0.5555555555555556,\"#d8576b\"],[0.6666666666666666,\"#ed7953\"],[0.7777777777777778,\"#fb9f3a\"],[0.8888888888888888,\"#fdca26\"],[1.0,\"#f0f921\"]]}],\"choropleth\":[{\"type\":\"choropleth\",\"colorbar\":{\"outlinewidth\":0,\"ticks\":\"\"}}],\"histogram2d\":[{\"type\":\"histogram2d\",\"colorbar\":{\"outlinewidth\":0,\"ticks\":\"\"},\"colorscale\":[[0.0,\"#0d0887\"],[0.1111111111111111,\"#46039f\"],[0.2222222222222222,\"#7201a8\"],[0.3333333333333333,\"#9c179e\"],[0.4444444444444444,\"#bd3786\"],[0.5555555555555556,\"#d8576b\"],[0.6666666666666666,\"#ed7953\"],[0.7777777777777778,\"#fb9f3a\"],[0.8888888888888888,\"#fdca26\"],[1.0,\"#f0f921\"]]}],\"heatmap\":[{\"type\":\"heatmap\",\"colorbar\":{\"outlinewidth\":0,\"ticks\":\"\"},\"colorscale\":[[0.0,\"#0d0887\"],[0.1111111111111111,\"#46039f\"],[0.2222222222222222,\"#7201a8\"],[0.3333333333333333,\"#9c179e\"],[0.4444444444444444,\"#bd3786\"],[0.5555555555555556,\"#d8576b\"],[0.6666666666666666,\"#ed7953\"],[0.7777777777777778,\"#fb9f3a\"],[0.8888888888888888,\"#fdca26\"],[1.0,\"#f0f921\"]]}],\"heatmapgl\":[{\"type\":\"heatmapgl\",\"colorbar\":{\"outlinewidth\":0,\"ticks\":\"\"},\"colorscale\":[[0.0,\"#0d0887\"],[0.1111111111111111,\"#46039f\"],[0.2222222222222222,\"#7201a8\"],[0.3333333333333333,\"#9c179e\"],[0.4444444444444444,\"#bd3786\"],[0.5555555555555556,\"#d8576b\"],[0.6666666666666666,\"#ed7953\"],[0.7777777777777778,\"#fb9f3a\"],[0.8888888888888888,\"#fdca26\"],[1.0,\"#f0f921\"]]}],\"contourcarpet\":[{\"type\":\"contourcarpet\",\"colorbar\":{\"outlinewidth\":0,\"ticks\":\"\"}}],\"contour\":[{\"type\":\"contour\",\"colorbar\":{\"outlinewidth\":0,\"ticks\":\"\"},\"colorscale\":[[0.0,\"#0d0887\"],[0.1111111111111111,\"#46039f\"],[0.2222222222222222,\"#7201a8\"],[0.3333333333333333,\"#9c179e\"],[0.4444444444444444,\"#bd3786\"],[0.5555555555555556,\"#d8576b\"],[0.6666666666666666,\"#ed7953\"],[0.7777777777777778,\"#fb9f3a\"],[0.8888888888888888,\"#fdca26\"],[1.0,\"#f0f921\"]]}],\"surface\":[{\"type\":\"surface\",\"colorbar\":{\"outlinewidth\":0,\"ticks\":\"\"},\"colorscale\":[[0.0,\"#0d0887\"],[0.1111111111111111,\"#46039f\"],[0.2222222222222222,\"#7201a8\"],[0.3333333333333333,\"#9c179e\"],[0.4444444444444444,\"#bd3786\"],[0.5555555555555556,\"#d8576b\"],[0.6666666666666666,\"#ed7953\"],[0.7777777777777778,\"#fb9f3a\"],[0.8888888888888888,\"#fdca26\"],[1.0,\"#f0f921\"]]}],\"mesh3d\":[{\"type\":\"mesh3d\",\"colorbar\":{\"outlinewidth\":0,\"ticks\":\"\"}}],\"scatter\":[{\"fillpattern\":{\"fillmode\":\"overlay\",\"size\":10,\"solidity\":0.2},\"type\":\"scatter\"}],\"parcoords\":[{\"type\":\"parcoords\",\"line\":{\"colorbar\":{\"outlinewidth\":0,\"ticks\":\"\"}}}],\"scatterpolargl\":[{\"type\":\"scatterpolargl\",\"marker\":{\"colorbar\":{\"outlinewidth\":0,\"ticks\":\"\"}}}],\"bar\":[{\"error_x\":{\"color\":\"#2a3f5f\"},\"error_y\":{\"color\":\"#2a3f5f\"},\"marker\":{\"line\":{\"color\":\"#E5ECF6\",\"width\":0.5},\"pattern\":{\"fillmode\":\"overlay\",\"size\":10,\"solidity\":0.2}},\"type\":\"bar\"}],\"scattergeo\":[{\"type\":\"scattergeo\",\"marker\":{\"colorbar\":{\"outlinewidth\":0,\"ticks\":\"\"}}}],\"scatterpolar\":[{\"type\":\"scatterpolar\",\"marker\":{\"colorbar\":{\"outlinewidth\":0,\"ticks\":\"\"}}}],\"histogram\":[{\"marker\":{\"pattern\":{\"fillmode\":\"overlay\",\"size\":10,\"solidity\":0.2}},\"type\":\"histogram\"}],\"scattergl\":[{\"type\":\"scattergl\",\"marker\":{\"colorbar\":{\"outlinewidth\":0,\"ticks\":\"\"}}}],\"scatter3d\":[{\"type\":\"scatter3d\",\"line\":{\"colorbar\":{\"outlinewidth\":0,\"ticks\":\"\"}},\"marker\":{\"colorbar\":{\"outlinewidth\":0,\"ticks\":\"\"}}}],\"scattermapbox\":[{\"type\":\"scattermapbox\",\"marker\":{\"colorbar\":{\"outlinewidth\":0,\"ticks\":\"\"}}}],\"scatterternary\":[{\"type\":\"scatterternary\",\"marker\":{\"colorbar\":{\"outlinewidth\":0,\"ticks\":\"\"}}}],\"scattercarpet\":[{\"type\":\"scattercarpet\",\"marker\":{\"colorbar\":{\"outlinewidth\":0,\"ticks\":\"\"}}}],\"carpet\":[{\"aaxis\":{\"endlinecolor\":\"#2a3f5f\",\"gridcolor\":\"white\",\"linecolor\":\"white\",\"minorgridcolor\":\"white\",\"startlinecolor\":\"#2a3f5f\"},\"baxis\":{\"endlinecolor\":\"#2a3f5f\",\"gridcolor\":\"white\",\"linecolor\":\"white\",\"minorgridcolor\":\"white\",\"startlinecolor\":\"#2a3f5f\"},\"type\":\"carpet\"}],\"table\":[{\"cells\":{\"fill\":{\"color\":\"#EBF0F8\"},\"line\":{\"color\":\"white\"}},\"header\":{\"fill\":{\"color\":\"#C8D4E3\"},\"line\":{\"color\":\"white\"}},\"type\":\"table\"}],\"barpolar\":[{\"marker\":{\"line\":{\"color\":\"#E5ECF6\",\"width\":0.5},\"pattern\":{\"fillmode\":\"overlay\",\"size\":10,\"solidity\":0.2}},\"type\":\"barpolar\"}],\"pie\":[{\"automargin\":true,\"type\":\"pie\"}]},\"layout\":{\"autotypenumbers\":\"strict\",\"colorway\":[\"#636efa\",\"#EF553B\",\"#00cc96\",\"#ab63fa\",\"#FFA15A\",\"#19d3f3\",\"#FF6692\",\"#B6E880\",\"#FF97FF\",\"#FECB52\"],\"font\":{\"color\":\"#2a3f5f\"},\"hovermode\":\"closest\",\"hoverlabel\":{\"align\":\"left\"},\"paper_bgcolor\":\"white\",\"plot_bgcolor\":\"#E5ECF6\",\"polar\":{\"bgcolor\":\"#E5ECF6\",\"angularaxis\":{\"gridcolor\":\"white\",\"linecolor\":\"white\",\"ticks\":\"\"},\"radialaxis\":{\"gridcolor\":\"white\",\"linecolor\":\"white\",\"ticks\":\"\"}},\"ternary\":{\"bgcolor\":\"#E5ECF6\",\"aaxis\":{\"gridcolor\":\"white\",\"linecolor\":\"white\",\"ticks\":\"\"},\"baxis\":{\"gridcolor\":\"white\",\"linecolor\":\"white\",\"ticks\":\"\"},\"caxis\":{\"gridcolor\":\"white\",\"linecolor\":\"white\",\"ticks\":\"\"}},\"coloraxis\":{\"colorbar\":{\"outlinewidth\":0,\"ticks\":\"\"}},\"colorscale\":{\"sequential\":[[0.0,\"#0d0887\"],[0.1111111111111111,\"#46039f\"],[0.2222222222222222,\"#7201a8\"],[0.3333333333333333,\"#9c179e\"],[0.4444444444444444,\"#bd3786\"],[0.5555555555555556,\"#d8576b\"],[0.6666666666666666,\"#ed7953\"],[0.7777777777777778,\"#fb9f3a\"],[0.8888888888888888,\"#fdca26\"],[1.0,\"#f0f921\"]],\"sequentialminus\":[[0.0,\"#0d0887\"],[0.1111111111111111,\"#46039f\"],[0.2222222222222222,\"#7201a8\"],[0.3333333333333333,\"#9c179e\"],[0.4444444444444444,\"#bd3786\"],[0.5555555555555556,\"#d8576b\"],[0.6666666666666666,\"#ed7953\"],[0.7777777777777778,\"#fb9f3a\"],[0.8888888888888888,\"#fdca26\"],[1.0,\"#f0f921\"]],\"diverging\":[[0,\"#8e0152\"],[0.1,\"#c51b7d\"],[0.2,\"#de77ae\"],[0.3,\"#f1b6da\"],[0.4,\"#fde0ef\"],[0.5,\"#f7f7f7\"],[0.6,\"#e6f5d0\"],[0.7,\"#b8e186\"],[0.8,\"#7fbc41\"],[0.9,\"#4d9221\"],[1,\"#276419\"]]},\"xaxis\":{\"gridcolor\":\"white\",\"linecolor\":\"white\",\"ticks\":\"\",\"title\":{\"standoff\":15},\"zerolinecolor\":\"white\",\"automargin\":true,\"zerolinewidth\":2},\"yaxis\":{\"gridcolor\":\"white\",\"linecolor\":\"white\",\"ticks\":\"\",\"title\":{\"standoff\":15},\"zerolinecolor\":\"white\",\"automargin\":true,\"zerolinewidth\":2},\"scene\":{\"xaxis\":{\"backgroundcolor\":\"#E5ECF6\",\"gridcolor\":\"white\",\"linecolor\":\"white\",\"showbackground\":true,\"ticks\":\"\",\"zerolinecolor\":\"white\",\"gridwidth\":2},\"yaxis\":{\"backgroundcolor\":\"#E5ECF6\",\"gridcolor\":\"white\",\"linecolor\":\"white\",\"showbackground\":true,\"ticks\":\"\",\"zerolinecolor\":\"white\",\"gridwidth\":2},\"zaxis\":{\"backgroundcolor\":\"#E5ECF6\",\"gridcolor\":\"white\",\"linecolor\":\"white\",\"showbackground\":true,\"ticks\":\"\",\"zerolinecolor\":\"white\",\"gridwidth\":2}},\"shapedefaults\":{\"line\":{\"color\":\"#2a3f5f\"}},\"annotationdefaults\":{\"arrowcolor\":\"#2a3f5f\",\"arrowhead\":0,\"arrowwidth\":1},\"geo\":{\"bgcolor\":\"white\",\"landcolor\":\"#E5ECF6\",\"subunitcolor\":\"white\",\"showland\":true,\"showlakes\":true,\"lakecolor\":\"white\"},\"title\":{\"x\":0.05},\"mapbox\":{\"style\":\"light\"}}},\"xaxis\":{\"anchor\":\"y\",\"domain\":[0.0,1.0],\"range\":[-0.85,0.85],\"title\":{\"text\":\"PCA Dimension 1\"}},\"yaxis\":{\"anchor\":\"x\",\"domain\":[0.0,1.0],\"range\":[-0.85,0.85],\"title\":{\"text\":\"PCA Dimension 2\"}},\"title\":{\"text\":\"2D PCA Projection of Beliefs\"},\"width\":600,\"height\":400,\"annotations\":[{\"showarrow\":false,\"text\":\"Residual Stream\",\"x\":0.8,\"xref\":\"paper\",\"y\":1.05,\"yref\":\"paper\"}]},                        {\"responsive\": true}                    ).then(function(){\n",
       "                            \n",
       "var gd = document.getElementById('3609aea4-2dac-4ac3-8f8f-83fb196ce63f');\n",
       "var x = new MutationObserver(function (mutations, observer) {{\n",
       "        var display = window.getComputedStyle(gd).display;\n",
       "        if (!display || display === 'none') {{\n",
       "            console.log([gd, 'removed!']);\n",
       "            Plotly.purge(gd);\n",
       "            observer.disconnect();\n",
       "        }}\n",
       "}});\n",
       "\n",
       "// Listen for the removal of the full notebook cells\n",
       "var notebookContainer = gd.closest('#notebook-container');\n",
       "if (notebookContainer) {{\n",
       "    x.observe(notebookContainer, {childList: true});\n",
       "}}\n",
       "\n",
       "// Listen for the clearing of the current output cell\n",
       "var outputEl = gd.closest('.output');\n",
       "if (outputEl) {{\n",
       "    x.observe(outputEl, {childList: true});\n",
       "}}\n",
       "\n",
       "                        })                };                });            </script>        </div>"
      ]
     },
     "metadata": {},
     "output_type": "display_data"
    }
   ],
   "source": [
    "# Transform the ground truth beliefs\n",
    "colors = px.colors.qualitative.Light24 + px.colors.qualitative.Dark24 + px.colors.qualitative.Plotly\n",
    "\n",
    "# Create a subplot with two scatter plots\n",
    "fig = make_subplots(rows=1, cols=1, specs=[[{'type': 'scatter'}]])\n",
    "\n",
    "\n",
    "state_1 = 31\n",
    "state_2 = 10\n",
    "per_layer_steering_vector = get_steering_vector(per_layer_belief_activations,state_1,state_2)\n",
    "flattened_vector = torch.cat([v for k,v in per_layer_steering_vector.items()],dim=-1)\n",
    "transformed_steering_vector_full = vis_pca.transform(regression.predict(flattened_vector.reshape(1,-1)))\n",
    "fig = get_plot_2d_pca_vector(fig,transformed_steering_vector_full)\n",
    "\n",
    "state_1 = 31\n",
    "state_2 = 21\n",
    "per_layer_steering_vector = get_steering_vector(per_layer_belief_activations,state_1,state_2)\n",
    "flattened_vector = torch.cat([v for k,v in per_layer_steering_vector.items()],dim=-1)\n",
    "transformed_steering_vector_full = vis_pca.transform(regression.predict(flattened_vector.reshape(1,-1)))\n",
    "fig = get_plot_2d_pca_vector(fig,transformed_steering_vector_full)\n",
    "\n",
    "state_1 = 10\n",
    "state_2 = 2\n",
    "per_layer_steering_vector = get_steering_vector(per_layer_belief_activations,state_1,state_2)\n",
    "flattened_vector = torch.cat([v for k,v in per_layer_steering_vector.items()],dim=-1)\n",
    "transformed_steering_vector_full = vis_pca.transform(regression.predict(flattened_vector.reshape(1,-1)))\n",
    "fig = get_plot_2d_pca_vector(fig,transformed_steering_vector_full)\n",
    "\n",
    "\n",
    "\n",
    "\n",
    "# set x and y lime to -.75 to .75\n",
    "fig.update_xaxes(range=[-.85, .85], row=1, col=1)\n",
    "fig.update_yaxes(range=[-.85, .85], row=1, col=1)\n",
    "# Update layout\n",
    "fig.update_layout(title='2D PCA Projection of Beliefs',\n",
    "                  xaxis_title='PCA Dimension 1', yaxis_title='PCA Dimension 2',\n",
    "                  width=600, height=400,\n",
    "                  annotations=[\n",
    "                      dict(text=\"Residual Stream\", x=0.8, y=1.05, showarrow=False, xref=\"paper\", yref=\"paper\")\n",
    "                  ])\n",
    "\n"
   ]
  },
  {
   "cell_type": "markdown",
   "metadata": {},
   "source": [
    "## Plot trajectory"
   ]
  },
  {
   "cell_type": "code",
   "execution_count": 86,
   "metadata": {},
   "outputs": [],
   "source": [
    "sentence_activation=[]\n",
    "for activation in activations.values():\n",
    "    sentence_activation.append(activation[1])\n",
    "sentence_activation = torch.stack(sentence_activation)\n",
    "sentence_activation = torch.permute(sentence_activation,(1,0,2))"
   ]
  },
  {
   "cell_type": "code",
   "execution_count": 87,
   "metadata": {},
   "outputs": [
    {
     "data": {
      "application/vnd.plotly.v1+json": {
       "config": {
        "plotlyServerURL": "https://plot.ly"
       },
       "data": [
        {
         "marker": {
          "color": "#FD3216",
          "opacity": 1,
          "size": 4
         },
         "mode": "markers",
         "name": "Belief 0",
         "type": "scatter",
         "x": [
          -0.1865173287934817
         ],
         "xaxis": "x",
         "y": [
          0.1792904639970568
         ],
         "yaxis": "y"
        },
        {
         "marker": {
          "color": "#00FE35",
          "opacity": 1,
          "size": 4
         },
         "mode": "markers",
         "name": "Belief 1",
         "type": "scatter",
         "x": [
          0.23599280672019982
         ],
         "xaxis": "x",
         "y": [
          -0.00042349153383726407
         ],
         "yaxis": "y"
        },
        {
         "marker": {
          "color": "#6A76FC",
          "opacity": 1,
          "size": 4
         },
         "mode": "markers",
         "name": "Belief 2",
         "type": "scatter",
         "x": [
          0.624276320391437
         ],
         "xaxis": "x",
         "y": [
          -0.0004217120938929552
         ],
         "yaxis": "y"
        },
        {
         "marker": {
          "color": "#FED4C4",
          "opacity": 1,
          "size": 4
         },
         "mode": "markers",
         "name": "Belief 3",
         "type": "scatter",
         "x": [
          -0.4545652567429235
         ],
         "xaxis": "x",
         "y": [
          0.2260589507876112
         ],
         "yaxis": "y"
        },
        {
         "marker": {
          "color": "#FE00CE",
          "opacity": 1,
          "size": 4
         },
         "mode": "markers",
         "name": "Belief 4",
         "type": "scatter",
         "x": [
          0.35053083286455305
         ],
         "xaxis": "x",
         "y": [
          -0.3408774046762903
         ],
         "yaxis": "y"
        },
        {
         "marker": {
          "color": "#0DF9FF",
          "opacity": 1,
          "size": 4
         },
         "mode": "markers",
         "name": "Belief 5",
         "type": "scatter",
         "x": [
          0.44178075596803473
         ],
         "xaxis": "x",
         "y": [
          -0.22962459246177444
         ],
         "yaxis": "y"
        },
        {
         "marker": {
          "color": "#F6F926",
          "opacity": 1,
          "size": 4
         },
         "mode": "markers",
         "name": "Belief 6",
         "type": "scatter",
         "x": [
          -0.0007319261225071654
         ],
         "xaxis": "x",
         "y": [
          -0.34447375823884485
         ],
         "yaxis": "y"
        },
        {
         "marker": {
          "color": "#FF9616",
          "opacity": 1,
          "size": 4
         },
         "mode": "markers",
         "name": "Belief 7",
         "type": "scatter",
         "x": [
          0.44776799253680394
         ],
         "xaxis": "x",
         "y": [
          0.22816479183108132
         ],
         "yaxis": "y"
        },
        {
         "marker": {
          "color": "#479B55",
          "opacity": 1,
          "size": 4
         },
         "mode": "markers",
         "name": "Belief 8",
         "type": "scatter",
         "x": [
          -0.3521519203591293
         ],
         "xaxis": "x",
         "y": [
          0.34581614124928695
         ],
         "yaxis": "y"
        },
        {
         "marker": {
          "color": "#EEA6FB",
          "opacity": 1,
          "size": 4
         },
         "mode": "markers",
         "name": "Belief 9",
         "type": "scatter",
         "x": [
          0.34522938839786177
         ],
         "xaxis": "x",
         "y": [
          -0.00022039666456837077
         ],
         "yaxis": "y"
        },
        {
         "marker": {
          "color": "#DC587D",
          "opacity": 1,
          "size": 4
         },
         "mode": "markers",
         "name": "Belief 10",
         "type": "scatter",
         "x": [
          -0.6402839394459551
         ],
         "xaxis": "x",
         "y": [
          0.0010570248375077092
         ],
         "yaxis": "y"
        },
        {
         "marker": {
          "color": "#D626FF",
          "opacity": 1,
          "size": 4
         },
         "mode": "markers",
         "name": "Belief 11",
         "type": "scatter",
         "x": [
          0.34942711549663413
         ],
         "xaxis": "x",
         "y": [
          0.34689246012806296
         ],
         "yaxis": "y"
        },
        {
         "marker": {
          "color": "#6E899C",
          "opacity": 1,
          "size": 4
         },
         "mode": "markers",
         "name": "Belief 12",
         "type": "scatter",
         "x": [
          -0.16981591422328263
         ],
         "xaxis": "x",
         "y": [
          -0.17635800903036522
         ],
         "yaxis": "y"
        },
        {
         "marker": {
          "color": "#00B5F7",
          "opacity": 1,
          "size": 4
         },
         "mode": "markers",
         "name": "Belief 13",
         "type": "scatter",
         "x": [
          -0.009172568064220246
         ],
         "xaxis": "x",
         "y": [
          -0.23122104101232724
         ],
         "yaxis": "y"
        },
        {
         "marker": {
          "color": "#B68E00",
          "opacity": 1,
          "size": 4
         },
         "mode": "markers",
         "name": "Belief 14",
         "type": "scatter",
         "x": [
          0.19182444428461337
         ],
         "xaxis": "x",
         "y": [
          0.18023078363151998
         ],
         "yaxis": "y"
        },
        {
         "marker": {
          "color": "#C9FBE5",
          "opacity": 1,
          "size": 4
         },
         "mode": "markers",
         "name": "Belief 15",
         "type": "scatter",
         "x": [
          -0.34643837652973863
         ],
         "xaxis": "x",
         "y": [
          -0.0019486544010419759
         ],
         "yaxis": "y"
        },
        {
         "marker": {
          "color": "#FF0092",
          "opacity": 1,
          "size": 4
         },
         "mode": "markers",
         "name": "Belief 16",
         "type": "scatter",
         "x": [
          0.005074600415811522
         ],
         "xaxis": "x",
         "y": [
          0.3414779865884708
         ],
         "yaxis": "y"
        },
        {
         "marker": {
          "color": "#22FFA7",
          "opacity": 1,
          "size": 4
         },
         "mode": "markers",
         "name": "Belief 17",
         "type": "scatter",
         "x": [
          0.004581302343333485
         ],
         "xaxis": "x",
         "y": [
          0.22944695539772386
         ],
         "yaxis": "y"
        },
        {
         "marker": {
          "color": "#E3EE9E",
          "opacity": 1,
          "size": 4
         },
         "mode": "markers",
         "name": "Belief 18",
         "type": "scatter",
         "x": [
          -0.23504766441710243
         ],
         "xaxis": "x",
         "y": [
          -0.2359671378948926
         ],
         "yaxis": "y"
        },
        {
         "marker": {
          "color": "#86CE00",
          "opacity": 1,
          "size": 4
         },
         "mode": "markers",
         "name": "Belief 19",
         "type": "scatter",
         "x": [
          0.2781595920953348
         ],
         "xaxis": "x",
         "y": [
          0.14956015198520337
         ],
         "yaxis": "y"
        },
        {
         "marker": {
          "color": "#BC7196",
          "opacity": 1,
          "size": 4
         },
         "mode": "markers",
         "name": "Belief 20",
         "type": "scatter",
         "x": [
          -0.2716209688861152
         ],
         "xaxis": "x",
         "y": [
          0.13996336515549052
         ],
         "yaxis": "y"
        },
        {
         "marker": {
          "color": "#7E7DCD",
          "opacity": 1,
          "size": 4
         },
         "mode": "markers",
         "name": "Belief 21",
         "type": "scatter",
         "x": [
          0.002799820628961693
         ],
         "xaxis": "x",
         "y": [
          -0.7066836858989409
         ],
         "yaxis": "y"
        },
        {
         "marker": {
          "color": "#FC6955",
          "opacity": 1,
          "size": 4
         },
         "mode": "markers",
         "name": "Belief 22",
         "type": "scatter",
         "x": [
          0.011729006567859312
         ],
         "xaxis": "x",
         "y": [
          0.0018823667249082358
         ],
         "yaxis": "y"
        },
        {
         "marker": {
          "color": "#E48F72",
          "opacity": 1,
          "size": 4
         },
         "mode": "markers",
         "name": "Belief 23",
         "type": "scatter",
         "x": [
          0.26482347949919294
         ],
         "xaxis": "x",
         "y": [
          -0.13942473405110112
         ],
         "yaxis": "y"
        },
        {
         "marker": {
          "color": "#2E91E5",
          "opacity": 1,
          "size": 4
         },
         "mode": "markers",
         "name": "Belief 24",
         "type": "scatter",
         "x": [
          -0.23830124725515608
         ],
         "xaxis": "x",
         "y": [
          0.2349729687351188
         ],
         "yaxis": "y"
        },
        {
         "marker": {
          "color": "#E15F99",
          "opacity": 1,
          "size": 4
         },
         "mode": "markers",
         "name": "Belief 25",
         "type": "scatter",
         "x": [
          0.16945238896208942
         ],
         "xaxis": "x",
         "y": [
          -0.1795479064308025
         ],
         "yaxis": "y"
        },
        {
         "marker": {
          "color": "#1CA71C",
          "opacity": 1,
          "size": 4
         },
         "mode": "markers",
         "name": "Belief 26",
         "type": "scatter",
         "x": [
          -0.27842859107786727
         ],
         "xaxis": "x",
         "y": [
          -0.14331000615870443
         ],
         "yaxis": "y"
        },
        {
         "marker": {
          "color": "#FB0D0D",
          "opacity": 1,
          "size": 4
         },
         "mode": "markers",
         "name": "Belief 27",
         "type": "scatter",
         "x": [
          0.2321607789174284
         ],
         "xaxis": "x",
         "y": [
          -0.2382793482485146
         ],
         "yaxis": "y"
        },
        {
         "marker": {
          "color": "#DA16FF",
          "opacity": 1,
          "size": 4
         },
         "mode": "markers",
         "name": "Belief 28",
         "type": "scatter",
         "x": [
          -0.2566338253833498
         ],
         "xaxis": "x",
         "y": [
          -0.00404291771147511
         ],
         "yaxis": "y"
        },
        {
         "marker": {
          "color": "#222A2A",
          "opacity": 1,
          "size": 4
         },
         "mode": "markers",
         "name": "Belief 29",
         "type": "scatter",
         "x": [
          -0.3587081876693427
         ],
         "xaxis": "x",
         "y": [
          -0.35238396970583974
         ],
         "yaxis": "y"
        },
        {
         "marker": {
          "color": "#B68100",
          "opacity": 1,
          "size": 4
         },
         "mode": "markers",
         "name": "Belief 30",
         "type": "scatter",
         "x": [
          0.24674546721346527
         ],
         "xaxis": "x",
         "y": [
          0.23520945671648408
         ],
         "yaxis": "y"
        },
        {
         "marker": {
          "color": "#750D86",
          "opacity": 1,
          "size": 4
         },
         "mode": "markers",
         "name": "Belief 31",
         "type": "scatter",
         "x": [
          -0.0020522324082769216
         ],
         "xaxis": "x",
         "y": [
          0.70804780704414
         ],
         "yaxis": "y"
        },
        {
         "marker": {
          "color": "#EB663B",
          "opacity": 1,
          "size": 4
         },
         "mode": "markers",
         "name": "Belief 32",
         "type": "scatter",
         "x": [
          -0.23501223921616973
         ],
         "xaxis": "x",
         "y": [
          0.0003690588789854507
         ],
         "yaxis": "y"
        },
        {
         "marker": {
          "color": "#00A08B",
          "opacity": 1,
          "size": 4
         },
         "mode": "markers",
         "name": "Belief 34",
         "type": "scatter",
         "x": [
          -0.4645662567801136
         ],
         "xaxis": "x",
         "y": [
          -0.2336518168781476
         ],
         "yaxis": "y"
        },
        {
         "marker": {
          "color": "#FB00D1",
          "opacity": 1,
          "size": 4
         },
         "mode": "markers",
         "name": "Belief 35",
         "type": "scatter",
         "x": [
          0.2770224979862614
         ],
         "xaxis": "x",
         "y": [
          -0.004299252502626357
         ],
         "yaxis": "y"
        },
        {
         "marker": {
          "color": "#EB663B",
          "opacity": 1,
          "size": 10
         },
         "mode": "lines+markers",
         "name": "Token 0",
         "type": "scatter",
         "x": [
          -0.23501459943968694
         ],
         "xaxis": "x",
         "y": [
          0.00036838452940929356
         ],
         "yaxis": "y"
        },
        {
         "marker": {
          "color": "#FB0D0D",
          "opacity": 1,
          "size": 10
         },
         "mode": "lines+markers",
         "name": "Token 1",
         "type": "scatter",
         "x": [
          0.23258588729424684
         ],
         "xaxis": "x",
         "y": [
          -0.23643823568868763
         ],
         "yaxis": "y"
        },
        {
         "marker": {
          "color": "#222A2A",
          "opacity": 1,
          "size": 10
         },
         "mode": "lines+markers",
         "name": "Token 2",
         "type": "scatter",
         "x": [
          -0.3475155805895727
         ],
         "xaxis": "x",
         "y": [
          -0.35381883144519555
         ],
         "yaxis": "y"
        },
        {
         "marker": {
          "color": "#00B5F7",
          "opacity": 1,
          "size": 10
         },
         "mode": "lines+markers",
         "name": "Token 3",
         "type": "scatter",
         "x": [
          0.021639983266554752
         ],
         "xaxis": "x",
         "y": [
          -0.23656661498925194
         ],
         "yaxis": "y"
        },
        {
         "marker": {
          "color": "#EEA6FB",
          "opacity": 1,
          "size": 10
         },
         "mode": "lines+markers",
         "name": "Token 4",
         "type": "scatter",
         "x": [
          0.32520417695281567
         ],
         "xaxis": "x",
         "y": [
          0.005569200268532701
         ],
         "yaxis": "y"
        },
        {
         "marker": {
          "color": "#D626FF",
          "opacity": 1,
          "size": 10
         },
         "mode": "lines+markers",
         "name": "Token 5",
         "type": "scatter",
         "x": [
          0.33740080056229166
         ],
         "xaxis": "x",
         "y": [
          0.3418447853427051
         ],
         "yaxis": "y"
        },
        {
         "marker": {
          "color": "#00B5F7",
          "opacity": 1,
          "size": 10
         },
         "mode": "lines+markers",
         "name": "Token 6",
         "type": "scatter",
         "x": [
          -0.041038365321633276
         ],
         "xaxis": "x",
         "y": [
          -0.22763635106594543
         ],
         "yaxis": "y"
        },
        {
         "marker": {
          "color": "#DC587D",
          "opacity": 1,
          "size": 10
         },
         "mode": "lines+markers",
         "name": "Token 7",
         "type": "scatter",
         "x": [
          -0.7792964301516131
         ],
         "xaxis": "x",
         "y": [
          0.0054550666027642775
         ],
         "yaxis": "y"
        },
        {
         "marker": {
          "color": "#7E7DCD",
          "opacity": 1,
          "size": 10
         },
         "mode": "lines+markers",
         "name": "Token 8",
         "type": "scatter",
         "x": [
          -0.04014788670629515
         ],
         "xaxis": "x",
         "y": [
          -0.7489231141114189
         ],
         "yaxis": "y"
        },
        {
         "marker": {
          "color": "#FC6955",
          "opacity": 1,
          "size": 10
         },
         "mode": "lines+markers",
         "name": "Token 9",
         "type": "scatter",
         "x": [
          0.03353386606317744
         ],
         "xaxis": "x",
         "y": [
          0.037070429195150925
         ],
         "yaxis": "y"
        },
        {
         "line": {
          "color": "firebrick",
          "dash": "dash",
          "width": 1
         },
         "mode": "lines",
         "name": "Trajectory",
         "type": "scatter",
         "x": [
          -0.23501459943968694,
          0.23258588729424684,
          -0.3475155805895727,
          0.021639983266554752,
          0.32520417695281567,
          0.33740080056229166,
          -0.041038365321633276,
          -0.7792964301516131,
          -0.04014788670629515,
          0.03353386606317744
         ],
         "xaxis": "x",
         "y": [
          0.00036838452940929356,
          -0.23643823568868763,
          -0.35381883144519555,
          -0.23656661498925194,
          0.005569200268532701,
          0.3418447853427051,
          -0.22763635106594543,
          0.0054550666027642775,
          -0.7489231141114189,
          0.037070429195150925
         ],
         "yaxis": "y"
        }
       ],
       "layout": {
        "annotations": [
         {
          "showarrow": false,
          "text": "Residual Stream",
          "x": 0.8,
          "xref": "paper",
          "y": 1.05,
          "yref": "paper"
         }
        ],
        "height": 400,
        "template": {
         "data": {
          "bar": [
           {
            "error_x": {
             "color": "#2a3f5f"
            },
            "error_y": {
             "color": "#2a3f5f"
            },
            "marker": {
             "line": {
              "color": "#E5ECF6",
              "width": 0.5
             },
             "pattern": {
              "fillmode": "overlay",
              "size": 10,
              "solidity": 0.2
             }
            },
            "type": "bar"
           }
          ],
          "barpolar": [
           {
            "marker": {
             "line": {
              "color": "#E5ECF6",
              "width": 0.5
             },
             "pattern": {
              "fillmode": "overlay",
              "size": 10,
              "solidity": 0.2
             }
            },
            "type": "barpolar"
           }
          ],
          "carpet": [
           {
            "aaxis": {
             "endlinecolor": "#2a3f5f",
             "gridcolor": "white",
             "linecolor": "white",
             "minorgridcolor": "white",
             "startlinecolor": "#2a3f5f"
            },
            "baxis": {
             "endlinecolor": "#2a3f5f",
             "gridcolor": "white",
             "linecolor": "white",
             "minorgridcolor": "white",
             "startlinecolor": "#2a3f5f"
            },
            "type": "carpet"
           }
          ],
          "choropleth": [
           {
            "colorbar": {
             "outlinewidth": 0,
             "ticks": ""
            },
            "type": "choropleth"
           }
          ],
          "contour": [
           {
            "colorbar": {
             "outlinewidth": 0,
             "ticks": ""
            },
            "colorscale": [
             [
              0,
              "#0d0887"
             ],
             [
              0.1111111111111111,
              "#46039f"
             ],
             [
              0.2222222222222222,
              "#7201a8"
             ],
             [
              0.3333333333333333,
              "#9c179e"
             ],
             [
              0.4444444444444444,
              "#bd3786"
             ],
             [
              0.5555555555555556,
              "#d8576b"
             ],
             [
              0.6666666666666666,
              "#ed7953"
             ],
             [
              0.7777777777777778,
              "#fb9f3a"
             ],
             [
              0.8888888888888888,
              "#fdca26"
             ],
             [
              1,
              "#f0f921"
             ]
            ],
            "type": "contour"
           }
          ],
          "contourcarpet": [
           {
            "colorbar": {
             "outlinewidth": 0,
             "ticks": ""
            },
            "type": "contourcarpet"
           }
          ],
          "heatmap": [
           {
            "colorbar": {
             "outlinewidth": 0,
             "ticks": ""
            },
            "colorscale": [
             [
              0,
              "#0d0887"
             ],
             [
              0.1111111111111111,
              "#46039f"
             ],
             [
              0.2222222222222222,
              "#7201a8"
             ],
             [
              0.3333333333333333,
              "#9c179e"
             ],
             [
              0.4444444444444444,
              "#bd3786"
             ],
             [
              0.5555555555555556,
              "#d8576b"
             ],
             [
              0.6666666666666666,
              "#ed7953"
             ],
             [
              0.7777777777777778,
              "#fb9f3a"
             ],
             [
              0.8888888888888888,
              "#fdca26"
             ],
             [
              1,
              "#f0f921"
             ]
            ],
            "type": "heatmap"
           }
          ],
          "heatmapgl": [
           {
            "colorbar": {
             "outlinewidth": 0,
             "ticks": ""
            },
            "colorscale": [
             [
              0,
              "#0d0887"
             ],
             [
              0.1111111111111111,
              "#46039f"
             ],
             [
              0.2222222222222222,
              "#7201a8"
             ],
             [
              0.3333333333333333,
              "#9c179e"
             ],
             [
              0.4444444444444444,
              "#bd3786"
             ],
             [
              0.5555555555555556,
              "#d8576b"
             ],
             [
              0.6666666666666666,
              "#ed7953"
             ],
             [
              0.7777777777777778,
              "#fb9f3a"
             ],
             [
              0.8888888888888888,
              "#fdca26"
             ],
             [
              1,
              "#f0f921"
             ]
            ],
            "type": "heatmapgl"
           }
          ],
          "histogram": [
           {
            "marker": {
             "pattern": {
              "fillmode": "overlay",
              "size": 10,
              "solidity": 0.2
             }
            },
            "type": "histogram"
           }
          ],
          "histogram2d": [
           {
            "colorbar": {
             "outlinewidth": 0,
             "ticks": ""
            },
            "colorscale": [
             [
              0,
              "#0d0887"
             ],
             [
              0.1111111111111111,
              "#46039f"
             ],
             [
              0.2222222222222222,
              "#7201a8"
             ],
             [
              0.3333333333333333,
              "#9c179e"
             ],
             [
              0.4444444444444444,
              "#bd3786"
             ],
             [
              0.5555555555555556,
              "#d8576b"
             ],
             [
              0.6666666666666666,
              "#ed7953"
             ],
             [
              0.7777777777777778,
              "#fb9f3a"
             ],
             [
              0.8888888888888888,
              "#fdca26"
             ],
             [
              1,
              "#f0f921"
             ]
            ],
            "type": "histogram2d"
           }
          ],
          "histogram2dcontour": [
           {
            "colorbar": {
             "outlinewidth": 0,
             "ticks": ""
            },
            "colorscale": [
             [
              0,
              "#0d0887"
             ],
             [
              0.1111111111111111,
              "#46039f"
             ],
             [
              0.2222222222222222,
              "#7201a8"
             ],
             [
              0.3333333333333333,
              "#9c179e"
             ],
             [
              0.4444444444444444,
              "#bd3786"
             ],
             [
              0.5555555555555556,
              "#d8576b"
             ],
             [
              0.6666666666666666,
              "#ed7953"
             ],
             [
              0.7777777777777778,
              "#fb9f3a"
             ],
             [
              0.8888888888888888,
              "#fdca26"
             ],
             [
              1,
              "#f0f921"
             ]
            ],
            "type": "histogram2dcontour"
           }
          ],
          "mesh3d": [
           {
            "colorbar": {
             "outlinewidth": 0,
             "ticks": ""
            },
            "type": "mesh3d"
           }
          ],
          "parcoords": [
           {
            "line": {
             "colorbar": {
              "outlinewidth": 0,
              "ticks": ""
             }
            },
            "type": "parcoords"
           }
          ],
          "pie": [
           {
            "automargin": true,
            "type": "pie"
           }
          ],
          "scatter": [
           {
            "fillpattern": {
             "fillmode": "overlay",
             "size": 10,
             "solidity": 0.2
            },
            "type": "scatter"
           }
          ],
          "scatter3d": [
           {
            "line": {
             "colorbar": {
              "outlinewidth": 0,
              "ticks": ""
             }
            },
            "marker": {
             "colorbar": {
              "outlinewidth": 0,
              "ticks": ""
             }
            },
            "type": "scatter3d"
           }
          ],
          "scattercarpet": [
           {
            "marker": {
             "colorbar": {
              "outlinewidth": 0,
              "ticks": ""
             }
            },
            "type": "scattercarpet"
           }
          ],
          "scattergeo": [
           {
            "marker": {
             "colorbar": {
              "outlinewidth": 0,
              "ticks": ""
             }
            },
            "type": "scattergeo"
           }
          ],
          "scattergl": [
           {
            "marker": {
             "colorbar": {
              "outlinewidth": 0,
              "ticks": ""
             }
            },
            "type": "scattergl"
           }
          ],
          "scattermapbox": [
           {
            "marker": {
             "colorbar": {
              "outlinewidth": 0,
              "ticks": ""
             }
            },
            "type": "scattermapbox"
           }
          ],
          "scatterpolar": [
           {
            "marker": {
             "colorbar": {
              "outlinewidth": 0,
              "ticks": ""
             }
            },
            "type": "scatterpolar"
           }
          ],
          "scatterpolargl": [
           {
            "marker": {
             "colorbar": {
              "outlinewidth": 0,
              "ticks": ""
             }
            },
            "type": "scatterpolargl"
           }
          ],
          "scatterternary": [
           {
            "marker": {
             "colorbar": {
              "outlinewidth": 0,
              "ticks": ""
             }
            },
            "type": "scatterternary"
           }
          ],
          "surface": [
           {
            "colorbar": {
             "outlinewidth": 0,
             "ticks": ""
            },
            "colorscale": [
             [
              0,
              "#0d0887"
             ],
             [
              0.1111111111111111,
              "#46039f"
             ],
             [
              0.2222222222222222,
              "#7201a8"
             ],
             [
              0.3333333333333333,
              "#9c179e"
             ],
             [
              0.4444444444444444,
              "#bd3786"
             ],
             [
              0.5555555555555556,
              "#d8576b"
             ],
             [
              0.6666666666666666,
              "#ed7953"
             ],
             [
              0.7777777777777778,
              "#fb9f3a"
             ],
             [
              0.8888888888888888,
              "#fdca26"
             ],
             [
              1,
              "#f0f921"
             ]
            ],
            "type": "surface"
           }
          ],
          "table": [
           {
            "cells": {
             "fill": {
              "color": "#EBF0F8"
             },
             "line": {
              "color": "white"
             }
            },
            "header": {
             "fill": {
              "color": "#C8D4E3"
             },
             "line": {
              "color": "white"
             }
            },
            "type": "table"
           }
          ]
         },
         "layout": {
          "annotationdefaults": {
           "arrowcolor": "#2a3f5f",
           "arrowhead": 0,
           "arrowwidth": 1
          },
          "autotypenumbers": "strict",
          "coloraxis": {
           "colorbar": {
            "outlinewidth": 0,
            "ticks": ""
           }
          },
          "colorscale": {
           "diverging": [
            [
             0,
             "#8e0152"
            ],
            [
             0.1,
             "#c51b7d"
            ],
            [
             0.2,
             "#de77ae"
            ],
            [
             0.3,
             "#f1b6da"
            ],
            [
             0.4,
             "#fde0ef"
            ],
            [
             0.5,
             "#f7f7f7"
            ],
            [
             0.6,
             "#e6f5d0"
            ],
            [
             0.7,
             "#b8e186"
            ],
            [
             0.8,
             "#7fbc41"
            ],
            [
             0.9,
             "#4d9221"
            ],
            [
             1,
             "#276419"
            ]
           ],
           "sequential": [
            [
             0,
             "#0d0887"
            ],
            [
             0.1111111111111111,
             "#46039f"
            ],
            [
             0.2222222222222222,
             "#7201a8"
            ],
            [
             0.3333333333333333,
             "#9c179e"
            ],
            [
             0.4444444444444444,
             "#bd3786"
            ],
            [
             0.5555555555555556,
             "#d8576b"
            ],
            [
             0.6666666666666666,
             "#ed7953"
            ],
            [
             0.7777777777777778,
             "#fb9f3a"
            ],
            [
             0.8888888888888888,
             "#fdca26"
            ],
            [
             1,
             "#f0f921"
            ]
           ],
           "sequentialminus": [
            [
             0,
             "#0d0887"
            ],
            [
             0.1111111111111111,
             "#46039f"
            ],
            [
             0.2222222222222222,
             "#7201a8"
            ],
            [
             0.3333333333333333,
             "#9c179e"
            ],
            [
             0.4444444444444444,
             "#bd3786"
            ],
            [
             0.5555555555555556,
             "#d8576b"
            ],
            [
             0.6666666666666666,
             "#ed7953"
            ],
            [
             0.7777777777777778,
             "#fb9f3a"
            ],
            [
             0.8888888888888888,
             "#fdca26"
            ],
            [
             1,
             "#f0f921"
            ]
           ]
          },
          "colorway": [
           "#636efa",
           "#EF553B",
           "#00cc96",
           "#ab63fa",
           "#FFA15A",
           "#19d3f3",
           "#FF6692",
           "#B6E880",
           "#FF97FF",
           "#FECB52"
          ],
          "font": {
           "color": "#2a3f5f"
          },
          "geo": {
           "bgcolor": "white",
           "lakecolor": "white",
           "landcolor": "#E5ECF6",
           "showlakes": true,
           "showland": true,
           "subunitcolor": "white"
          },
          "hoverlabel": {
           "align": "left"
          },
          "hovermode": "closest",
          "mapbox": {
           "style": "light"
          },
          "paper_bgcolor": "white",
          "plot_bgcolor": "#E5ECF6",
          "polar": {
           "angularaxis": {
            "gridcolor": "white",
            "linecolor": "white",
            "ticks": ""
           },
           "bgcolor": "#E5ECF6",
           "radialaxis": {
            "gridcolor": "white",
            "linecolor": "white",
            "ticks": ""
           }
          },
          "scene": {
           "xaxis": {
            "backgroundcolor": "#E5ECF6",
            "gridcolor": "white",
            "gridwidth": 2,
            "linecolor": "white",
            "showbackground": true,
            "ticks": "",
            "zerolinecolor": "white"
           },
           "yaxis": {
            "backgroundcolor": "#E5ECF6",
            "gridcolor": "white",
            "gridwidth": 2,
            "linecolor": "white",
            "showbackground": true,
            "ticks": "",
            "zerolinecolor": "white"
           },
           "zaxis": {
            "backgroundcolor": "#E5ECF6",
            "gridcolor": "white",
            "gridwidth": 2,
            "linecolor": "white",
            "showbackground": true,
            "ticks": "",
            "zerolinecolor": "white"
           }
          },
          "shapedefaults": {
           "line": {
            "color": "#2a3f5f"
           }
          },
          "ternary": {
           "aaxis": {
            "gridcolor": "white",
            "linecolor": "white",
            "ticks": ""
           },
           "baxis": {
            "gridcolor": "white",
            "linecolor": "white",
            "ticks": ""
           },
           "bgcolor": "#E5ECF6",
           "caxis": {
            "gridcolor": "white",
            "linecolor": "white",
            "ticks": ""
           }
          },
          "title": {
           "x": 0.05
          },
          "xaxis": {
           "automargin": true,
           "gridcolor": "white",
           "linecolor": "white",
           "ticks": "",
           "title": {
            "standoff": 15
           },
           "zerolinecolor": "white",
           "zerolinewidth": 2
          },
          "yaxis": {
           "automargin": true,
           "gridcolor": "white",
           "linecolor": "white",
           "ticks": "",
           "title": {
            "standoff": 15
           },
           "zerolinecolor": "white",
           "zerolinewidth": 2
          }
         }
        },
        "title": {
         "text": "2D PCA Projection of Beliefs"
        },
        "width": 600,
        "xaxis": {
         "anchor": "y",
         "domain": [
          0,
          1
         ],
         "range": [
          -0.85,
          0.85
         ],
         "title": {
          "text": "PCA Dimension 1"
         }
        },
        "yaxis": {
         "anchor": "x",
         "domain": [
          0,
          1
         ],
         "range": [
          -0.85,
          0.85
         ],
         "title": {
          "text": "PCA Dimension 2"
         }
        }
       }
      },
      "text/html": [
       "<div>                            <div id=\"52e16a09-9bbe-4575-8c86-6cf9984798e1\" class=\"plotly-graph-div\" style=\"height:400px; width:600px;\"></div>            <script type=\"text/javascript\">                require([\"plotly\"], function(Plotly) {                    window.PLOTLYENV=window.PLOTLYENV || {};                                    if (document.getElementById(\"52e16a09-9bbe-4575-8c86-6cf9984798e1\")) {                    Plotly.newPlot(                        \"52e16a09-9bbe-4575-8c86-6cf9984798e1\",                        [{\"marker\":{\"color\":\"#FD3216\",\"opacity\":1,\"size\":4},\"mode\":\"markers\",\"name\":\"Belief 0\",\"x\":[-0.1865173287934817],\"y\":[0.1792904639970568],\"type\":\"scatter\",\"xaxis\":\"x\",\"yaxis\":\"y\"},{\"marker\":{\"color\":\"#00FE35\",\"opacity\":1,\"size\":4},\"mode\":\"markers\",\"name\":\"Belief 1\",\"x\":[0.23599280672019982],\"y\":[-0.00042349153383726407],\"type\":\"scatter\",\"xaxis\":\"x\",\"yaxis\":\"y\"},{\"marker\":{\"color\":\"#6A76FC\",\"opacity\":1,\"size\":4},\"mode\":\"markers\",\"name\":\"Belief 2\",\"x\":[0.624276320391437],\"y\":[-0.0004217120938929552],\"type\":\"scatter\",\"xaxis\":\"x\",\"yaxis\":\"y\"},{\"marker\":{\"color\":\"#FED4C4\",\"opacity\":1,\"size\":4},\"mode\":\"markers\",\"name\":\"Belief 3\",\"x\":[-0.4545652567429235],\"y\":[0.2260589507876112],\"type\":\"scatter\",\"xaxis\":\"x\",\"yaxis\":\"y\"},{\"marker\":{\"color\":\"#FE00CE\",\"opacity\":1,\"size\":4},\"mode\":\"markers\",\"name\":\"Belief 4\",\"x\":[0.35053083286455305],\"y\":[-0.3408774046762903],\"type\":\"scatter\",\"xaxis\":\"x\",\"yaxis\":\"y\"},{\"marker\":{\"color\":\"#0DF9FF\",\"opacity\":1,\"size\":4},\"mode\":\"markers\",\"name\":\"Belief 5\",\"x\":[0.44178075596803473],\"y\":[-0.22962459246177444],\"type\":\"scatter\",\"xaxis\":\"x\",\"yaxis\":\"y\"},{\"marker\":{\"color\":\"#F6F926\",\"opacity\":1,\"size\":4},\"mode\":\"markers\",\"name\":\"Belief 6\",\"x\":[-0.0007319261225071654],\"y\":[-0.34447375823884485],\"type\":\"scatter\",\"xaxis\":\"x\",\"yaxis\":\"y\"},{\"marker\":{\"color\":\"#FF9616\",\"opacity\":1,\"size\":4},\"mode\":\"markers\",\"name\":\"Belief 7\",\"x\":[0.44776799253680394],\"y\":[0.22816479183108132],\"type\":\"scatter\",\"xaxis\":\"x\",\"yaxis\":\"y\"},{\"marker\":{\"color\":\"#479B55\",\"opacity\":1,\"size\":4},\"mode\":\"markers\",\"name\":\"Belief 8\",\"x\":[-0.3521519203591293],\"y\":[0.34581614124928695],\"type\":\"scatter\",\"xaxis\":\"x\",\"yaxis\":\"y\"},{\"marker\":{\"color\":\"#EEA6FB\",\"opacity\":1,\"size\":4},\"mode\":\"markers\",\"name\":\"Belief 9\",\"x\":[0.34522938839786177],\"y\":[-0.00022039666456837077],\"type\":\"scatter\",\"xaxis\":\"x\",\"yaxis\":\"y\"},{\"marker\":{\"color\":\"#DC587D\",\"opacity\":1,\"size\":4},\"mode\":\"markers\",\"name\":\"Belief 10\",\"x\":[-0.6402839394459551],\"y\":[0.0010570248375077092],\"type\":\"scatter\",\"xaxis\":\"x\",\"yaxis\":\"y\"},{\"marker\":{\"color\":\"#D626FF\",\"opacity\":1,\"size\":4},\"mode\":\"markers\",\"name\":\"Belief 11\",\"x\":[0.34942711549663413],\"y\":[0.34689246012806296],\"type\":\"scatter\",\"xaxis\":\"x\",\"yaxis\":\"y\"},{\"marker\":{\"color\":\"#6E899C\",\"opacity\":1,\"size\":4},\"mode\":\"markers\",\"name\":\"Belief 12\",\"x\":[-0.16981591422328263],\"y\":[-0.17635800903036522],\"type\":\"scatter\",\"xaxis\":\"x\",\"yaxis\":\"y\"},{\"marker\":{\"color\":\"#00B5F7\",\"opacity\":1,\"size\":4},\"mode\":\"markers\",\"name\":\"Belief 13\",\"x\":[-0.009172568064220246],\"y\":[-0.23122104101232724],\"type\":\"scatter\",\"xaxis\":\"x\",\"yaxis\":\"y\"},{\"marker\":{\"color\":\"#B68E00\",\"opacity\":1,\"size\":4},\"mode\":\"markers\",\"name\":\"Belief 14\",\"x\":[0.19182444428461337],\"y\":[0.18023078363151998],\"type\":\"scatter\",\"xaxis\":\"x\",\"yaxis\":\"y\"},{\"marker\":{\"color\":\"#C9FBE5\",\"opacity\":1,\"size\":4},\"mode\":\"markers\",\"name\":\"Belief 15\",\"x\":[-0.34643837652973863],\"y\":[-0.0019486544010419759],\"type\":\"scatter\",\"xaxis\":\"x\",\"yaxis\":\"y\"},{\"marker\":{\"color\":\"#FF0092\",\"opacity\":1,\"size\":4},\"mode\":\"markers\",\"name\":\"Belief 16\",\"x\":[0.005074600415811522],\"y\":[0.3414779865884708],\"type\":\"scatter\",\"xaxis\":\"x\",\"yaxis\":\"y\"},{\"marker\":{\"color\":\"#22FFA7\",\"opacity\":1,\"size\":4},\"mode\":\"markers\",\"name\":\"Belief 17\",\"x\":[0.004581302343333485],\"y\":[0.22944695539772386],\"type\":\"scatter\",\"xaxis\":\"x\",\"yaxis\":\"y\"},{\"marker\":{\"color\":\"#E3EE9E\",\"opacity\":1,\"size\":4},\"mode\":\"markers\",\"name\":\"Belief 18\",\"x\":[-0.23504766441710243],\"y\":[-0.2359671378948926],\"type\":\"scatter\",\"xaxis\":\"x\",\"yaxis\":\"y\"},{\"marker\":{\"color\":\"#86CE00\",\"opacity\":1,\"size\":4},\"mode\":\"markers\",\"name\":\"Belief 19\",\"x\":[0.2781595920953348],\"y\":[0.14956015198520337],\"type\":\"scatter\",\"xaxis\":\"x\",\"yaxis\":\"y\"},{\"marker\":{\"color\":\"#BC7196\",\"opacity\":1,\"size\":4},\"mode\":\"markers\",\"name\":\"Belief 20\",\"x\":[-0.2716209688861152],\"y\":[0.13996336515549052],\"type\":\"scatter\",\"xaxis\":\"x\",\"yaxis\":\"y\"},{\"marker\":{\"color\":\"#7E7DCD\",\"opacity\":1,\"size\":4},\"mode\":\"markers\",\"name\":\"Belief 21\",\"x\":[0.002799820628961693],\"y\":[-0.7066836858989409],\"type\":\"scatter\",\"xaxis\":\"x\",\"yaxis\":\"y\"},{\"marker\":{\"color\":\"#FC6955\",\"opacity\":1,\"size\":4},\"mode\":\"markers\",\"name\":\"Belief 22\",\"x\":[0.011729006567859312],\"y\":[0.0018823667249082358],\"type\":\"scatter\",\"xaxis\":\"x\",\"yaxis\":\"y\"},{\"marker\":{\"color\":\"#E48F72\",\"opacity\":1,\"size\":4},\"mode\":\"markers\",\"name\":\"Belief 23\",\"x\":[0.26482347949919294],\"y\":[-0.13942473405110112],\"type\":\"scatter\",\"xaxis\":\"x\",\"yaxis\":\"y\"},{\"marker\":{\"color\":\"#2E91E5\",\"opacity\":1,\"size\":4},\"mode\":\"markers\",\"name\":\"Belief 24\",\"x\":[-0.23830124725515608],\"y\":[0.2349729687351188],\"type\":\"scatter\",\"xaxis\":\"x\",\"yaxis\":\"y\"},{\"marker\":{\"color\":\"#E15F99\",\"opacity\":1,\"size\":4},\"mode\":\"markers\",\"name\":\"Belief 25\",\"x\":[0.16945238896208942],\"y\":[-0.1795479064308025],\"type\":\"scatter\",\"xaxis\":\"x\",\"yaxis\":\"y\"},{\"marker\":{\"color\":\"#1CA71C\",\"opacity\":1,\"size\":4},\"mode\":\"markers\",\"name\":\"Belief 26\",\"x\":[-0.27842859107786727],\"y\":[-0.14331000615870443],\"type\":\"scatter\",\"xaxis\":\"x\",\"yaxis\":\"y\"},{\"marker\":{\"color\":\"#FB0D0D\",\"opacity\":1,\"size\":4},\"mode\":\"markers\",\"name\":\"Belief 27\",\"x\":[0.2321607789174284],\"y\":[-0.2382793482485146],\"type\":\"scatter\",\"xaxis\":\"x\",\"yaxis\":\"y\"},{\"marker\":{\"color\":\"#DA16FF\",\"opacity\":1,\"size\":4},\"mode\":\"markers\",\"name\":\"Belief 28\",\"x\":[-0.2566338253833498],\"y\":[-0.00404291771147511],\"type\":\"scatter\",\"xaxis\":\"x\",\"yaxis\":\"y\"},{\"marker\":{\"color\":\"#222A2A\",\"opacity\":1,\"size\":4},\"mode\":\"markers\",\"name\":\"Belief 29\",\"x\":[-0.3587081876693427],\"y\":[-0.35238396970583974],\"type\":\"scatter\",\"xaxis\":\"x\",\"yaxis\":\"y\"},{\"marker\":{\"color\":\"#B68100\",\"opacity\":1,\"size\":4},\"mode\":\"markers\",\"name\":\"Belief 30\",\"x\":[0.24674546721346527],\"y\":[0.23520945671648408],\"type\":\"scatter\",\"xaxis\":\"x\",\"yaxis\":\"y\"},{\"marker\":{\"color\":\"#750D86\",\"opacity\":1,\"size\":4},\"mode\":\"markers\",\"name\":\"Belief 31\",\"x\":[-0.0020522324082769216],\"y\":[0.70804780704414],\"type\":\"scatter\",\"xaxis\":\"x\",\"yaxis\":\"y\"},{\"marker\":{\"color\":\"#EB663B\",\"opacity\":1,\"size\":4},\"mode\":\"markers\",\"name\":\"Belief 32\",\"x\":[-0.23501223921616973],\"y\":[0.0003690588789854507],\"type\":\"scatter\",\"xaxis\":\"x\",\"yaxis\":\"y\"},{\"marker\":{\"color\":\"#00A08B\",\"opacity\":1,\"size\":4},\"mode\":\"markers\",\"name\":\"Belief 34\",\"x\":[-0.4645662567801136],\"y\":[-0.2336518168781476],\"type\":\"scatter\",\"xaxis\":\"x\",\"yaxis\":\"y\"},{\"marker\":{\"color\":\"#FB00D1\",\"opacity\":1,\"size\":4},\"mode\":\"markers\",\"name\":\"Belief 35\",\"x\":[0.2770224979862614],\"y\":[-0.004299252502626357],\"type\":\"scatter\",\"xaxis\":\"x\",\"yaxis\":\"y\"},{\"marker\":{\"color\":\"#EB663B\",\"opacity\":1,\"size\":10},\"mode\":\"lines+markers\",\"name\":\"Token 0\",\"x\":[-0.23501459943968694],\"y\":[0.00036838452940929356],\"type\":\"scatter\",\"xaxis\":\"x\",\"yaxis\":\"y\"},{\"marker\":{\"color\":\"#FB0D0D\",\"opacity\":1,\"size\":10},\"mode\":\"lines+markers\",\"name\":\"Token 1\",\"x\":[0.23258588729424684],\"y\":[-0.23643823568868763],\"type\":\"scatter\",\"xaxis\":\"x\",\"yaxis\":\"y\"},{\"marker\":{\"color\":\"#222A2A\",\"opacity\":1,\"size\":10},\"mode\":\"lines+markers\",\"name\":\"Token 2\",\"x\":[-0.3475155805895727],\"y\":[-0.35381883144519555],\"type\":\"scatter\",\"xaxis\":\"x\",\"yaxis\":\"y\"},{\"marker\":{\"color\":\"#00B5F7\",\"opacity\":1,\"size\":10},\"mode\":\"lines+markers\",\"name\":\"Token 3\",\"x\":[0.021639983266554752],\"y\":[-0.23656661498925194],\"type\":\"scatter\",\"xaxis\":\"x\",\"yaxis\":\"y\"},{\"marker\":{\"color\":\"#EEA6FB\",\"opacity\":1,\"size\":10},\"mode\":\"lines+markers\",\"name\":\"Token 4\",\"x\":[0.32520417695281567],\"y\":[0.005569200268532701],\"type\":\"scatter\",\"xaxis\":\"x\",\"yaxis\":\"y\"},{\"marker\":{\"color\":\"#D626FF\",\"opacity\":1,\"size\":10},\"mode\":\"lines+markers\",\"name\":\"Token 5\",\"x\":[0.33740080056229166],\"y\":[0.3418447853427051],\"type\":\"scatter\",\"xaxis\":\"x\",\"yaxis\":\"y\"},{\"marker\":{\"color\":\"#00B5F7\",\"opacity\":1,\"size\":10},\"mode\":\"lines+markers\",\"name\":\"Token 6\",\"x\":[-0.041038365321633276],\"y\":[-0.22763635106594543],\"type\":\"scatter\",\"xaxis\":\"x\",\"yaxis\":\"y\"},{\"marker\":{\"color\":\"#DC587D\",\"opacity\":1,\"size\":10},\"mode\":\"lines+markers\",\"name\":\"Token 7\",\"x\":[-0.7792964301516131],\"y\":[0.0054550666027642775],\"type\":\"scatter\",\"xaxis\":\"x\",\"yaxis\":\"y\"},{\"marker\":{\"color\":\"#7E7DCD\",\"opacity\":1,\"size\":10},\"mode\":\"lines+markers\",\"name\":\"Token 8\",\"x\":[-0.04014788670629515],\"y\":[-0.7489231141114189],\"type\":\"scatter\",\"xaxis\":\"x\",\"yaxis\":\"y\"},{\"marker\":{\"color\":\"#FC6955\",\"opacity\":1,\"size\":10},\"mode\":\"lines+markers\",\"name\":\"Token 9\",\"x\":[0.03353386606317744],\"y\":[0.037070429195150925],\"type\":\"scatter\",\"xaxis\":\"x\",\"yaxis\":\"y\"},{\"line\":{\"color\":\"firebrick\",\"dash\":\"dash\",\"width\":1},\"mode\":\"lines\",\"name\":\"Trajectory\",\"x\":[-0.23501459943968694,0.23258588729424684,-0.3475155805895727,0.021639983266554752,0.32520417695281567,0.33740080056229166,-0.041038365321633276,-0.7792964301516131,-0.04014788670629515,0.03353386606317744],\"y\":[0.00036838452940929356,-0.23643823568868763,-0.35381883144519555,-0.23656661498925194,0.005569200268532701,0.3418447853427051,-0.22763635106594543,0.0054550666027642775,-0.7489231141114189,0.037070429195150925],\"type\":\"scatter\",\"xaxis\":\"x\",\"yaxis\":\"y\"}],                        {\"template\":{\"data\":{\"histogram2dcontour\":[{\"type\":\"histogram2dcontour\",\"colorbar\":{\"outlinewidth\":0,\"ticks\":\"\"},\"colorscale\":[[0.0,\"#0d0887\"],[0.1111111111111111,\"#46039f\"],[0.2222222222222222,\"#7201a8\"],[0.3333333333333333,\"#9c179e\"],[0.4444444444444444,\"#bd3786\"],[0.5555555555555556,\"#d8576b\"],[0.6666666666666666,\"#ed7953\"],[0.7777777777777778,\"#fb9f3a\"],[0.8888888888888888,\"#fdca26\"],[1.0,\"#f0f921\"]]}],\"choropleth\":[{\"type\":\"choropleth\",\"colorbar\":{\"outlinewidth\":0,\"ticks\":\"\"}}],\"histogram2d\":[{\"type\":\"histogram2d\",\"colorbar\":{\"outlinewidth\":0,\"ticks\":\"\"},\"colorscale\":[[0.0,\"#0d0887\"],[0.1111111111111111,\"#46039f\"],[0.2222222222222222,\"#7201a8\"],[0.3333333333333333,\"#9c179e\"],[0.4444444444444444,\"#bd3786\"],[0.5555555555555556,\"#d8576b\"],[0.6666666666666666,\"#ed7953\"],[0.7777777777777778,\"#fb9f3a\"],[0.8888888888888888,\"#fdca26\"],[1.0,\"#f0f921\"]]}],\"heatmap\":[{\"type\":\"heatmap\",\"colorbar\":{\"outlinewidth\":0,\"ticks\":\"\"},\"colorscale\":[[0.0,\"#0d0887\"],[0.1111111111111111,\"#46039f\"],[0.2222222222222222,\"#7201a8\"],[0.3333333333333333,\"#9c179e\"],[0.4444444444444444,\"#bd3786\"],[0.5555555555555556,\"#d8576b\"],[0.6666666666666666,\"#ed7953\"],[0.7777777777777778,\"#fb9f3a\"],[0.8888888888888888,\"#fdca26\"],[1.0,\"#f0f921\"]]}],\"heatmapgl\":[{\"type\":\"heatmapgl\",\"colorbar\":{\"outlinewidth\":0,\"ticks\":\"\"},\"colorscale\":[[0.0,\"#0d0887\"],[0.1111111111111111,\"#46039f\"],[0.2222222222222222,\"#7201a8\"],[0.3333333333333333,\"#9c179e\"],[0.4444444444444444,\"#bd3786\"],[0.5555555555555556,\"#d8576b\"],[0.6666666666666666,\"#ed7953\"],[0.7777777777777778,\"#fb9f3a\"],[0.8888888888888888,\"#fdca26\"],[1.0,\"#f0f921\"]]}],\"contourcarpet\":[{\"type\":\"contourcarpet\",\"colorbar\":{\"outlinewidth\":0,\"ticks\":\"\"}}],\"contour\":[{\"type\":\"contour\",\"colorbar\":{\"outlinewidth\":0,\"ticks\":\"\"},\"colorscale\":[[0.0,\"#0d0887\"],[0.1111111111111111,\"#46039f\"],[0.2222222222222222,\"#7201a8\"],[0.3333333333333333,\"#9c179e\"],[0.4444444444444444,\"#bd3786\"],[0.5555555555555556,\"#d8576b\"],[0.6666666666666666,\"#ed7953\"],[0.7777777777777778,\"#fb9f3a\"],[0.8888888888888888,\"#fdca26\"],[1.0,\"#f0f921\"]]}],\"surface\":[{\"type\":\"surface\",\"colorbar\":{\"outlinewidth\":0,\"ticks\":\"\"},\"colorscale\":[[0.0,\"#0d0887\"],[0.1111111111111111,\"#46039f\"],[0.2222222222222222,\"#7201a8\"],[0.3333333333333333,\"#9c179e\"],[0.4444444444444444,\"#bd3786\"],[0.5555555555555556,\"#d8576b\"],[0.6666666666666666,\"#ed7953\"],[0.7777777777777778,\"#fb9f3a\"],[0.8888888888888888,\"#fdca26\"],[1.0,\"#f0f921\"]]}],\"mesh3d\":[{\"type\":\"mesh3d\",\"colorbar\":{\"outlinewidth\":0,\"ticks\":\"\"}}],\"scatter\":[{\"fillpattern\":{\"fillmode\":\"overlay\",\"size\":10,\"solidity\":0.2},\"type\":\"scatter\"}],\"parcoords\":[{\"type\":\"parcoords\",\"line\":{\"colorbar\":{\"outlinewidth\":0,\"ticks\":\"\"}}}],\"scatterpolargl\":[{\"type\":\"scatterpolargl\",\"marker\":{\"colorbar\":{\"outlinewidth\":0,\"ticks\":\"\"}}}],\"bar\":[{\"error_x\":{\"color\":\"#2a3f5f\"},\"error_y\":{\"color\":\"#2a3f5f\"},\"marker\":{\"line\":{\"color\":\"#E5ECF6\",\"width\":0.5},\"pattern\":{\"fillmode\":\"overlay\",\"size\":10,\"solidity\":0.2}},\"type\":\"bar\"}],\"scattergeo\":[{\"type\":\"scattergeo\",\"marker\":{\"colorbar\":{\"outlinewidth\":0,\"ticks\":\"\"}}}],\"scatterpolar\":[{\"type\":\"scatterpolar\",\"marker\":{\"colorbar\":{\"outlinewidth\":0,\"ticks\":\"\"}}}],\"histogram\":[{\"marker\":{\"pattern\":{\"fillmode\":\"overlay\",\"size\":10,\"solidity\":0.2}},\"type\":\"histogram\"}],\"scattergl\":[{\"type\":\"scattergl\",\"marker\":{\"colorbar\":{\"outlinewidth\":0,\"ticks\":\"\"}}}],\"scatter3d\":[{\"type\":\"scatter3d\",\"line\":{\"colorbar\":{\"outlinewidth\":0,\"ticks\":\"\"}},\"marker\":{\"colorbar\":{\"outlinewidth\":0,\"ticks\":\"\"}}}],\"scattermapbox\":[{\"type\":\"scattermapbox\",\"marker\":{\"colorbar\":{\"outlinewidth\":0,\"ticks\":\"\"}}}],\"scatterternary\":[{\"type\":\"scatterternary\",\"marker\":{\"colorbar\":{\"outlinewidth\":0,\"ticks\":\"\"}}}],\"scattercarpet\":[{\"type\":\"scattercarpet\",\"marker\":{\"colorbar\":{\"outlinewidth\":0,\"ticks\":\"\"}}}],\"carpet\":[{\"aaxis\":{\"endlinecolor\":\"#2a3f5f\",\"gridcolor\":\"white\",\"linecolor\":\"white\",\"minorgridcolor\":\"white\",\"startlinecolor\":\"#2a3f5f\"},\"baxis\":{\"endlinecolor\":\"#2a3f5f\",\"gridcolor\":\"white\",\"linecolor\":\"white\",\"minorgridcolor\":\"white\",\"startlinecolor\":\"#2a3f5f\"},\"type\":\"carpet\"}],\"table\":[{\"cells\":{\"fill\":{\"color\":\"#EBF0F8\"},\"line\":{\"color\":\"white\"}},\"header\":{\"fill\":{\"color\":\"#C8D4E3\"},\"line\":{\"color\":\"white\"}},\"type\":\"table\"}],\"barpolar\":[{\"marker\":{\"line\":{\"color\":\"#E5ECF6\",\"width\":0.5},\"pattern\":{\"fillmode\":\"overlay\",\"size\":10,\"solidity\":0.2}},\"type\":\"barpolar\"}],\"pie\":[{\"automargin\":true,\"type\":\"pie\"}]},\"layout\":{\"autotypenumbers\":\"strict\",\"colorway\":[\"#636efa\",\"#EF553B\",\"#00cc96\",\"#ab63fa\",\"#FFA15A\",\"#19d3f3\",\"#FF6692\",\"#B6E880\",\"#FF97FF\",\"#FECB52\"],\"font\":{\"color\":\"#2a3f5f\"},\"hovermode\":\"closest\",\"hoverlabel\":{\"align\":\"left\"},\"paper_bgcolor\":\"white\",\"plot_bgcolor\":\"#E5ECF6\",\"polar\":{\"bgcolor\":\"#E5ECF6\",\"angularaxis\":{\"gridcolor\":\"white\",\"linecolor\":\"white\",\"ticks\":\"\"},\"radialaxis\":{\"gridcolor\":\"white\",\"linecolor\":\"white\",\"ticks\":\"\"}},\"ternary\":{\"bgcolor\":\"#E5ECF6\",\"aaxis\":{\"gridcolor\":\"white\",\"linecolor\":\"white\",\"ticks\":\"\"},\"baxis\":{\"gridcolor\":\"white\",\"linecolor\":\"white\",\"ticks\":\"\"},\"caxis\":{\"gridcolor\":\"white\",\"linecolor\":\"white\",\"ticks\":\"\"}},\"coloraxis\":{\"colorbar\":{\"outlinewidth\":0,\"ticks\":\"\"}},\"colorscale\":{\"sequential\":[[0.0,\"#0d0887\"],[0.1111111111111111,\"#46039f\"],[0.2222222222222222,\"#7201a8\"],[0.3333333333333333,\"#9c179e\"],[0.4444444444444444,\"#bd3786\"],[0.5555555555555556,\"#d8576b\"],[0.6666666666666666,\"#ed7953\"],[0.7777777777777778,\"#fb9f3a\"],[0.8888888888888888,\"#fdca26\"],[1.0,\"#f0f921\"]],\"sequentialminus\":[[0.0,\"#0d0887\"],[0.1111111111111111,\"#46039f\"],[0.2222222222222222,\"#7201a8\"],[0.3333333333333333,\"#9c179e\"],[0.4444444444444444,\"#bd3786\"],[0.5555555555555556,\"#d8576b\"],[0.6666666666666666,\"#ed7953\"],[0.7777777777777778,\"#fb9f3a\"],[0.8888888888888888,\"#fdca26\"],[1.0,\"#f0f921\"]],\"diverging\":[[0,\"#8e0152\"],[0.1,\"#c51b7d\"],[0.2,\"#de77ae\"],[0.3,\"#f1b6da\"],[0.4,\"#fde0ef\"],[0.5,\"#f7f7f7\"],[0.6,\"#e6f5d0\"],[0.7,\"#b8e186\"],[0.8,\"#7fbc41\"],[0.9,\"#4d9221\"],[1,\"#276419\"]]},\"xaxis\":{\"gridcolor\":\"white\",\"linecolor\":\"white\",\"ticks\":\"\",\"title\":{\"standoff\":15},\"zerolinecolor\":\"white\",\"automargin\":true,\"zerolinewidth\":2},\"yaxis\":{\"gridcolor\":\"white\",\"linecolor\":\"white\",\"ticks\":\"\",\"title\":{\"standoff\":15},\"zerolinecolor\":\"white\",\"automargin\":true,\"zerolinewidth\":2},\"scene\":{\"xaxis\":{\"backgroundcolor\":\"#E5ECF6\",\"gridcolor\":\"white\",\"linecolor\":\"white\",\"showbackground\":true,\"ticks\":\"\",\"zerolinecolor\":\"white\",\"gridwidth\":2},\"yaxis\":{\"backgroundcolor\":\"#E5ECF6\",\"gridcolor\":\"white\",\"linecolor\":\"white\",\"showbackground\":true,\"ticks\":\"\",\"zerolinecolor\":\"white\",\"gridwidth\":2},\"zaxis\":{\"backgroundcolor\":\"#E5ECF6\",\"gridcolor\":\"white\",\"linecolor\":\"white\",\"showbackground\":true,\"ticks\":\"\",\"zerolinecolor\":\"white\",\"gridwidth\":2}},\"shapedefaults\":{\"line\":{\"color\":\"#2a3f5f\"}},\"annotationdefaults\":{\"arrowcolor\":\"#2a3f5f\",\"arrowhead\":0,\"arrowwidth\":1},\"geo\":{\"bgcolor\":\"white\",\"landcolor\":\"#E5ECF6\",\"subunitcolor\":\"white\",\"showland\":true,\"showlakes\":true,\"lakecolor\":\"white\"},\"title\":{\"x\":0.05},\"mapbox\":{\"style\":\"light\"}}},\"xaxis\":{\"anchor\":\"y\",\"domain\":[0.0,1.0],\"range\":[-0.85,0.85],\"title\":{\"text\":\"PCA Dimension 1\"}},\"yaxis\":{\"anchor\":\"x\",\"domain\":[0.0,1.0],\"range\":[-0.85,0.85],\"title\":{\"text\":\"PCA Dimension 2\"}},\"title\":{\"text\":\"2D PCA Projection of Beliefs\"},\"width\":600,\"height\":400,\"annotations\":[{\"showarrow\":false,\"text\":\"Residual Stream\",\"x\":0.8,\"xref\":\"paper\",\"y\":1.05,\"yref\":\"paper\"}]},                        {\"responsive\": true}                    ).then(function(){\n",
       "                            \n",
       "var gd = document.getElementById('52e16a09-9bbe-4575-8c86-6cf9984798e1');\n",
       "var x = new MutationObserver(function (mutations, observer) {{\n",
       "        var display = window.getComputedStyle(gd).display;\n",
       "        if (!display || display === 'none') {{\n",
       "            console.log([gd, 'removed!']);\n",
       "            Plotly.purge(gd);\n",
       "            observer.disconnect();\n",
       "        }}\n",
       "}});\n",
       "\n",
       "// Listen for the removal of the full notebook cells\n",
       "var notebookContainer = gd.closest('#notebook-container');\n",
       "if (notebookContainer) {{\n",
       "    x.observe(notebookContainer, {childList: true});\n",
       "}}\n",
       "\n",
       "// Listen for the clearing of the current output cell\n",
       "var outputEl = gd.closest('.output');\n",
       "if (outputEl) {{\n",
       "    x.observe(outputEl, {childList: true});\n",
       "}}\n",
       "\n",
       "                        })                };                });            </script>        </div>"
      ]
     },
     "metadata": {},
     "output_type": "display_data"
    }
   ],
   "source": [
    "plot = get_plot_2d_pca()\n",
    "token_trajectory = []\n",
    "belief_colors = []\n",
    "for j,token in enumerate(sentence_activation):\n",
    "    token = token.reshape(1,-1)\n",
    "    transformed_token = regression.predict(token)\n",
    "    transformed_token = vis_pca.transform(transformed_token)\n",
    "    correct_belief = transformer_input_belief_indices[1][j].item()\n",
    "    belief_colors.append(colors[correct_belief])\n",
    "    token_trajectory.append(transformed_token[0])\n",
    "    plot.add_trace(go.Scatter(x=[transformed_token[0][0]], y=[transformed_token[0][2]],\n",
    "                                        mode='lines+markers',\n",
    "                                        marker=dict(size=10, color=colors[correct_belief], opacity=1),\n",
    "                                        name=f'Token {j}'),   \n",
    "                            row=1, col=1)\n",
    "\n",
    "token_trajectory = np.transpose(token_trajectory)\n",
    "plot.add_trace(go.Scatter(x=token_trajectory[0], y=token_trajectory[2],\n",
    "                                    mode='lines',\n",
    "                                    name=f'Trajectory',line=dict(color='firebrick', width=1,\n",
    "                              dash='dash')),   \n",
    "                        row=1, col=1)\n",
    "plot.show()"
   ]
  },
  {
   "cell_type": "markdown",
   "metadata": {},
   "source": [
    "## Steer in intermediate generation"
   ]
  },
  {
   "cell_type": "code",
   "execution_count": 88,
   "metadata": {},
   "outputs": [
    {
     "data": {
      "application/vnd.plotly.v1+json": {
       "config": {
        "plotlyServerURL": "https://plot.ly"
       },
       "data": [
        {
         "name": "Probability to output 0",
         "type": "bar",
         "x": [
          "State T",
          "State F",
          "State T->State F",
          "State F-> State T"
         ],
         "xaxis": "x",
         "y": [
          0.3226616084575653,
          0.6607033610343933,
          0.852515459060669,
          0.1263917088508606
         ],
         "yaxis": "y"
        },
        {
         "name": "Probability to output 1",
         "type": "bar",
         "x": [
          "State T",
          "State F",
          "State T->State F",
          "State F-> State T"
         ],
         "xaxis": "x2",
         "y": [
          0.6773384213447571,
          0.3392966091632843,
          0.14748451113700867,
          0.8736082911491394
         ],
         "yaxis": "y2"
        }
       ],
       "layout": {
        "height": 400,
        "template": {
         "data": {
          "bar": [
           {
            "error_x": {
             "color": "#2a3f5f"
            },
            "error_y": {
             "color": "#2a3f5f"
            },
            "marker": {
             "line": {
              "color": "#E5ECF6",
              "width": 0.5
             },
             "pattern": {
              "fillmode": "overlay",
              "size": 10,
              "solidity": 0.2
             }
            },
            "type": "bar"
           }
          ],
          "barpolar": [
           {
            "marker": {
             "line": {
              "color": "#E5ECF6",
              "width": 0.5
             },
             "pattern": {
              "fillmode": "overlay",
              "size": 10,
              "solidity": 0.2
             }
            },
            "type": "barpolar"
           }
          ],
          "carpet": [
           {
            "aaxis": {
             "endlinecolor": "#2a3f5f",
             "gridcolor": "white",
             "linecolor": "white",
             "minorgridcolor": "white",
             "startlinecolor": "#2a3f5f"
            },
            "baxis": {
             "endlinecolor": "#2a3f5f",
             "gridcolor": "white",
             "linecolor": "white",
             "minorgridcolor": "white",
             "startlinecolor": "#2a3f5f"
            },
            "type": "carpet"
           }
          ],
          "choropleth": [
           {
            "colorbar": {
             "outlinewidth": 0,
             "ticks": ""
            },
            "type": "choropleth"
           }
          ],
          "contour": [
           {
            "colorbar": {
             "outlinewidth": 0,
             "ticks": ""
            },
            "colorscale": [
             [
              0,
              "#0d0887"
             ],
             [
              0.1111111111111111,
              "#46039f"
             ],
             [
              0.2222222222222222,
              "#7201a8"
             ],
             [
              0.3333333333333333,
              "#9c179e"
             ],
             [
              0.4444444444444444,
              "#bd3786"
             ],
             [
              0.5555555555555556,
              "#d8576b"
             ],
             [
              0.6666666666666666,
              "#ed7953"
             ],
             [
              0.7777777777777778,
              "#fb9f3a"
             ],
             [
              0.8888888888888888,
              "#fdca26"
             ],
             [
              1,
              "#f0f921"
             ]
            ],
            "type": "contour"
           }
          ],
          "contourcarpet": [
           {
            "colorbar": {
             "outlinewidth": 0,
             "ticks": ""
            },
            "type": "contourcarpet"
           }
          ],
          "heatmap": [
           {
            "colorbar": {
             "outlinewidth": 0,
             "ticks": ""
            },
            "colorscale": [
             [
              0,
              "#0d0887"
             ],
             [
              0.1111111111111111,
              "#46039f"
             ],
             [
              0.2222222222222222,
              "#7201a8"
             ],
             [
              0.3333333333333333,
              "#9c179e"
             ],
             [
              0.4444444444444444,
              "#bd3786"
             ],
             [
              0.5555555555555556,
              "#d8576b"
             ],
             [
              0.6666666666666666,
              "#ed7953"
             ],
             [
              0.7777777777777778,
              "#fb9f3a"
             ],
             [
              0.8888888888888888,
              "#fdca26"
             ],
             [
              1,
              "#f0f921"
             ]
            ],
            "type": "heatmap"
           }
          ],
          "heatmapgl": [
           {
            "colorbar": {
             "outlinewidth": 0,
             "ticks": ""
            },
            "colorscale": [
             [
              0,
              "#0d0887"
             ],
             [
              0.1111111111111111,
              "#46039f"
             ],
             [
              0.2222222222222222,
              "#7201a8"
             ],
             [
              0.3333333333333333,
              "#9c179e"
             ],
             [
              0.4444444444444444,
              "#bd3786"
             ],
             [
              0.5555555555555556,
              "#d8576b"
             ],
             [
              0.6666666666666666,
              "#ed7953"
             ],
             [
              0.7777777777777778,
              "#fb9f3a"
             ],
             [
              0.8888888888888888,
              "#fdca26"
             ],
             [
              1,
              "#f0f921"
             ]
            ],
            "type": "heatmapgl"
           }
          ],
          "histogram": [
           {
            "marker": {
             "pattern": {
              "fillmode": "overlay",
              "size": 10,
              "solidity": 0.2
             }
            },
            "type": "histogram"
           }
          ],
          "histogram2d": [
           {
            "colorbar": {
             "outlinewidth": 0,
             "ticks": ""
            },
            "colorscale": [
             [
              0,
              "#0d0887"
             ],
             [
              0.1111111111111111,
              "#46039f"
             ],
             [
              0.2222222222222222,
              "#7201a8"
             ],
             [
              0.3333333333333333,
              "#9c179e"
             ],
             [
              0.4444444444444444,
              "#bd3786"
             ],
             [
              0.5555555555555556,
              "#d8576b"
             ],
             [
              0.6666666666666666,
              "#ed7953"
             ],
             [
              0.7777777777777778,
              "#fb9f3a"
             ],
             [
              0.8888888888888888,
              "#fdca26"
             ],
             [
              1,
              "#f0f921"
             ]
            ],
            "type": "histogram2d"
           }
          ],
          "histogram2dcontour": [
           {
            "colorbar": {
             "outlinewidth": 0,
             "ticks": ""
            },
            "colorscale": [
             [
              0,
              "#0d0887"
             ],
             [
              0.1111111111111111,
              "#46039f"
             ],
             [
              0.2222222222222222,
              "#7201a8"
             ],
             [
              0.3333333333333333,
              "#9c179e"
             ],
             [
              0.4444444444444444,
              "#bd3786"
             ],
             [
              0.5555555555555556,
              "#d8576b"
             ],
             [
              0.6666666666666666,
              "#ed7953"
             ],
             [
              0.7777777777777778,
              "#fb9f3a"
             ],
             [
              0.8888888888888888,
              "#fdca26"
             ],
             [
              1,
              "#f0f921"
             ]
            ],
            "type": "histogram2dcontour"
           }
          ],
          "mesh3d": [
           {
            "colorbar": {
             "outlinewidth": 0,
             "ticks": ""
            },
            "type": "mesh3d"
           }
          ],
          "parcoords": [
           {
            "line": {
             "colorbar": {
              "outlinewidth": 0,
              "ticks": ""
             }
            },
            "type": "parcoords"
           }
          ],
          "pie": [
           {
            "automargin": true,
            "type": "pie"
           }
          ],
          "scatter": [
           {
            "fillpattern": {
             "fillmode": "overlay",
             "size": 10,
             "solidity": 0.2
            },
            "type": "scatter"
           }
          ],
          "scatter3d": [
           {
            "line": {
             "colorbar": {
              "outlinewidth": 0,
              "ticks": ""
             }
            },
            "marker": {
             "colorbar": {
              "outlinewidth": 0,
              "ticks": ""
             }
            },
            "type": "scatter3d"
           }
          ],
          "scattercarpet": [
           {
            "marker": {
             "colorbar": {
              "outlinewidth": 0,
              "ticks": ""
             }
            },
            "type": "scattercarpet"
           }
          ],
          "scattergeo": [
           {
            "marker": {
             "colorbar": {
              "outlinewidth": 0,
              "ticks": ""
             }
            },
            "type": "scattergeo"
           }
          ],
          "scattergl": [
           {
            "marker": {
             "colorbar": {
              "outlinewidth": 0,
              "ticks": ""
             }
            },
            "type": "scattergl"
           }
          ],
          "scattermapbox": [
           {
            "marker": {
             "colorbar": {
              "outlinewidth": 0,
              "ticks": ""
             }
            },
            "type": "scattermapbox"
           }
          ],
          "scatterpolar": [
           {
            "marker": {
             "colorbar": {
              "outlinewidth": 0,
              "ticks": ""
             }
            },
            "type": "scatterpolar"
           }
          ],
          "scatterpolargl": [
           {
            "marker": {
             "colorbar": {
              "outlinewidth": 0,
              "ticks": ""
             }
            },
            "type": "scatterpolargl"
           }
          ],
          "scatterternary": [
           {
            "marker": {
             "colorbar": {
              "outlinewidth": 0,
              "ticks": ""
             }
            },
            "type": "scatterternary"
           }
          ],
          "surface": [
           {
            "colorbar": {
             "outlinewidth": 0,
             "ticks": ""
            },
            "colorscale": [
             [
              0,
              "#0d0887"
             ],
             [
              0.1111111111111111,
              "#46039f"
             ],
             [
              0.2222222222222222,
              "#7201a8"
             ],
             [
              0.3333333333333333,
              "#9c179e"
             ],
             [
              0.4444444444444444,
              "#bd3786"
             ],
             [
              0.5555555555555556,
              "#d8576b"
             ],
             [
              0.6666666666666666,
              "#ed7953"
             ],
             [
              0.7777777777777778,
              "#fb9f3a"
             ],
             [
              0.8888888888888888,
              "#fdca26"
             ],
             [
              1,
              "#f0f921"
             ]
            ],
            "type": "surface"
           }
          ],
          "table": [
           {
            "cells": {
             "fill": {
              "color": "#EBF0F8"
             },
             "line": {
              "color": "white"
             }
            },
            "header": {
             "fill": {
              "color": "#C8D4E3"
             },
             "line": {
              "color": "white"
             }
            },
            "type": "table"
           }
          ]
         },
         "layout": {
          "annotationdefaults": {
           "arrowcolor": "#2a3f5f",
           "arrowhead": 0,
           "arrowwidth": 1
          },
          "autotypenumbers": "strict",
          "coloraxis": {
           "colorbar": {
            "outlinewidth": 0,
            "ticks": ""
           }
          },
          "colorscale": {
           "diverging": [
            [
             0,
             "#8e0152"
            ],
            [
             0.1,
             "#c51b7d"
            ],
            [
             0.2,
             "#de77ae"
            ],
            [
             0.3,
             "#f1b6da"
            ],
            [
             0.4,
             "#fde0ef"
            ],
            [
             0.5,
             "#f7f7f7"
            ],
            [
             0.6,
             "#e6f5d0"
            ],
            [
             0.7,
             "#b8e186"
            ],
            [
             0.8,
             "#7fbc41"
            ],
            [
             0.9,
             "#4d9221"
            ],
            [
             1,
             "#276419"
            ]
           ],
           "sequential": [
            [
             0,
             "#0d0887"
            ],
            [
             0.1111111111111111,
             "#46039f"
            ],
            [
             0.2222222222222222,
             "#7201a8"
            ],
            [
             0.3333333333333333,
             "#9c179e"
            ],
            [
             0.4444444444444444,
             "#bd3786"
            ],
            [
             0.5555555555555556,
             "#d8576b"
            ],
            [
             0.6666666666666666,
             "#ed7953"
            ],
            [
             0.7777777777777778,
             "#fb9f3a"
            ],
            [
             0.8888888888888888,
             "#fdca26"
            ],
            [
             1,
             "#f0f921"
            ]
           ],
           "sequentialminus": [
            [
             0,
             "#0d0887"
            ],
            [
             0.1111111111111111,
             "#46039f"
            ],
            [
             0.2222222222222222,
             "#7201a8"
            ],
            [
             0.3333333333333333,
             "#9c179e"
            ],
            [
             0.4444444444444444,
             "#bd3786"
            ],
            [
             0.5555555555555556,
             "#d8576b"
            ],
            [
             0.6666666666666666,
             "#ed7953"
            ],
            [
             0.7777777777777778,
             "#fb9f3a"
            ],
            [
             0.8888888888888888,
             "#fdca26"
            ],
            [
             1,
             "#f0f921"
            ]
           ]
          },
          "colorway": [
           "#636efa",
           "#EF553B",
           "#00cc96",
           "#ab63fa",
           "#FFA15A",
           "#19d3f3",
           "#FF6692",
           "#B6E880",
           "#FF97FF",
           "#FECB52"
          ],
          "font": {
           "color": "#2a3f5f"
          },
          "geo": {
           "bgcolor": "white",
           "lakecolor": "white",
           "landcolor": "#E5ECF6",
           "showlakes": true,
           "showland": true,
           "subunitcolor": "white"
          },
          "hoverlabel": {
           "align": "left"
          },
          "hovermode": "closest",
          "mapbox": {
           "style": "light"
          },
          "paper_bgcolor": "white",
          "plot_bgcolor": "#E5ECF6",
          "polar": {
           "angularaxis": {
            "gridcolor": "white",
            "linecolor": "white",
            "ticks": ""
           },
           "bgcolor": "#E5ECF6",
           "radialaxis": {
            "gridcolor": "white",
            "linecolor": "white",
            "ticks": ""
           }
          },
          "scene": {
           "xaxis": {
            "backgroundcolor": "#E5ECF6",
            "gridcolor": "white",
            "gridwidth": 2,
            "linecolor": "white",
            "showbackground": true,
            "ticks": "",
            "zerolinecolor": "white"
           },
           "yaxis": {
            "backgroundcolor": "#E5ECF6",
            "gridcolor": "white",
            "gridwidth": 2,
            "linecolor": "white",
            "showbackground": true,
            "ticks": "",
            "zerolinecolor": "white"
           },
           "zaxis": {
            "backgroundcolor": "#E5ECF6",
            "gridcolor": "white",
            "gridwidth": 2,
            "linecolor": "white",
            "showbackground": true,
            "ticks": "",
            "zerolinecolor": "white"
           }
          },
          "shapedefaults": {
           "line": {
            "color": "#2a3f5f"
           }
          },
          "ternary": {
           "aaxis": {
            "gridcolor": "white",
            "linecolor": "white",
            "ticks": ""
           },
           "baxis": {
            "gridcolor": "white",
            "linecolor": "white",
            "ticks": ""
           },
           "bgcolor": "#E5ECF6",
           "caxis": {
            "gridcolor": "white",
            "linecolor": "white",
            "ticks": ""
           }
          },
          "title": {
           "x": 0.05
          },
          "xaxis": {
           "automargin": true,
           "gridcolor": "white",
           "linecolor": "white",
           "ticks": "",
           "title": {
            "standoff": 15
           },
           "zerolinecolor": "white",
           "zerolinewidth": 2
          },
          "yaxis": {
           "automargin": true,
           "gridcolor": "white",
           "linecolor": "white",
           "ticks": "",
           "title": {
            "standoff": 15
           },
           "zerolinecolor": "white",
           "zerolinewidth": 2
          }
         }
        },
        "title": {
         "text": "Output probabilities"
        },
        "width": 800,
        "xaxis": {
         "anchor": "y",
         "domain": [
          0,
          0.45
         ],
         "title": {
          "text": "Model belief state"
         }
        },
        "xaxis2": {
         "anchor": "y2",
         "domain": [
          0.55,
          1
         ]
        },
        "yaxis": {
         "anchor": "x",
         "domain": [
          0,
          1
         ],
         "range": [
          0,
          1
         ],
         "title": {
          "text": "Probabilities"
         }
        },
        "yaxis2": {
         "anchor": "x2",
         "domain": [
          0,
          1
         ],
         "range": [
          0,
          1
         ]
        }
       }
      },
      "text/html": [
       "<div>                            <div id=\"5f05263e-8271-485b-b91c-140775f46666\" class=\"plotly-graph-div\" style=\"height:400px; width:800px;\"></div>            <script type=\"text/javascript\">                require([\"plotly\"], function(Plotly) {                    window.PLOTLYENV=window.PLOTLYENV || {};                                    if (document.getElementById(\"5f05263e-8271-485b-b91c-140775f46666\")) {                    Plotly.newPlot(                        \"5f05263e-8271-485b-b91c-140775f46666\",                        [{\"name\":\"Probability to output 0\",\"x\":[\"State T\",\"State F\",\"State T-\\u003eState F\",\"State F-\\u003e State T\"],\"y\":[0.3226616084575653,0.6607033610343933,0.852515459060669,0.1263917088508606],\"type\":\"bar\",\"xaxis\":\"x\",\"yaxis\":\"y\"},{\"name\":\"Probability to output 1\",\"x\":[\"State T\",\"State F\",\"State T-\\u003eState F\",\"State F-\\u003e State T\"],\"y\":[0.6773384213447571,0.3392966091632843,0.14748451113700867,0.8736082911491394],\"type\":\"bar\",\"xaxis\":\"x2\",\"yaxis\":\"y2\"}],                        {\"template\":{\"data\":{\"histogram2dcontour\":[{\"type\":\"histogram2dcontour\",\"colorbar\":{\"outlinewidth\":0,\"ticks\":\"\"},\"colorscale\":[[0.0,\"#0d0887\"],[0.1111111111111111,\"#46039f\"],[0.2222222222222222,\"#7201a8\"],[0.3333333333333333,\"#9c179e\"],[0.4444444444444444,\"#bd3786\"],[0.5555555555555556,\"#d8576b\"],[0.6666666666666666,\"#ed7953\"],[0.7777777777777778,\"#fb9f3a\"],[0.8888888888888888,\"#fdca26\"],[1.0,\"#f0f921\"]]}],\"choropleth\":[{\"type\":\"choropleth\",\"colorbar\":{\"outlinewidth\":0,\"ticks\":\"\"}}],\"histogram2d\":[{\"type\":\"histogram2d\",\"colorbar\":{\"outlinewidth\":0,\"ticks\":\"\"},\"colorscale\":[[0.0,\"#0d0887\"],[0.1111111111111111,\"#46039f\"],[0.2222222222222222,\"#7201a8\"],[0.3333333333333333,\"#9c179e\"],[0.4444444444444444,\"#bd3786\"],[0.5555555555555556,\"#d8576b\"],[0.6666666666666666,\"#ed7953\"],[0.7777777777777778,\"#fb9f3a\"],[0.8888888888888888,\"#fdca26\"],[1.0,\"#f0f921\"]]}],\"heatmap\":[{\"type\":\"heatmap\",\"colorbar\":{\"outlinewidth\":0,\"ticks\":\"\"},\"colorscale\":[[0.0,\"#0d0887\"],[0.1111111111111111,\"#46039f\"],[0.2222222222222222,\"#7201a8\"],[0.3333333333333333,\"#9c179e\"],[0.4444444444444444,\"#bd3786\"],[0.5555555555555556,\"#d8576b\"],[0.6666666666666666,\"#ed7953\"],[0.7777777777777778,\"#fb9f3a\"],[0.8888888888888888,\"#fdca26\"],[1.0,\"#f0f921\"]]}],\"heatmapgl\":[{\"type\":\"heatmapgl\",\"colorbar\":{\"outlinewidth\":0,\"ticks\":\"\"},\"colorscale\":[[0.0,\"#0d0887\"],[0.1111111111111111,\"#46039f\"],[0.2222222222222222,\"#7201a8\"],[0.3333333333333333,\"#9c179e\"],[0.4444444444444444,\"#bd3786\"],[0.5555555555555556,\"#d8576b\"],[0.6666666666666666,\"#ed7953\"],[0.7777777777777778,\"#fb9f3a\"],[0.8888888888888888,\"#fdca26\"],[1.0,\"#f0f921\"]]}],\"contourcarpet\":[{\"type\":\"contourcarpet\",\"colorbar\":{\"outlinewidth\":0,\"ticks\":\"\"}}],\"contour\":[{\"type\":\"contour\",\"colorbar\":{\"outlinewidth\":0,\"ticks\":\"\"},\"colorscale\":[[0.0,\"#0d0887\"],[0.1111111111111111,\"#46039f\"],[0.2222222222222222,\"#7201a8\"],[0.3333333333333333,\"#9c179e\"],[0.4444444444444444,\"#bd3786\"],[0.5555555555555556,\"#d8576b\"],[0.6666666666666666,\"#ed7953\"],[0.7777777777777778,\"#fb9f3a\"],[0.8888888888888888,\"#fdca26\"],[1.0,\"#f0f921\"]]}],\"surface\":[{\"type\":\"surface\",\"colorbar\":{\"outlinewidth\":0,\"ticks\":\"\"},\"colorscale\":[[0.0,\"#0d0887\"],[0.1111111111111111,\"#46039f\"],[0.2222222222222222,\"#7201a8\"],[0.3333333333333333,\"#9c179e\"],[0.4444444444444444,\"#bd3786\"],[0.5555555555555556,\"#d8576b\"],[0.6666666666666666,\"#ed7953\"],[0.7777777777777778,\"#fb9f3a\"],[0.8888888888888888,\"#fdca26\"],[1.0,\"#f0f921\"]]}],\"mesh3d\":[{\"type\":\"mesh3d\",\"colorbar\":{\"outlinewidth\":0,\"ticks\":\"\"}}],\"scatter\":[{\"fillpattern\":{\"fillmode\":\"overlay\",\"size\":10,\"solidity\":0.2},\"type\":\"scatter\"}],\"parcoords\":[{\"type\":\"parcoords\",\"line\":{\"colorbar\":{\"outlinewidth\":0,\"ticks\":\"\"}}}],\"scatterpolargl\":[{\"type\":\"scatterpolargl\",\"marker\":{\"colorbar\":{\"outlinewidth\":0,\"ticks\":\"\"}}}],\"bar\":[{\"error_x\":{\"color\":\"#2a3f5f\"},\"error_y\":{\"color\":\"#2a3f5f\"},\"marker\":{\"line\":{\"color\":\"#E5ECF6\",\"width\":0.5},\"pattern\":{\"fillmode\":\"overlay\",\"size\":10,\"solidity\":0.2}},\"type\":\"bar\"}],\"scattergeo\":[{\"type\":\"scattergeo\",\"marker\":{\"colorbar\":{\"outlinewidth\":0,\"ticks\":\"\"}}}],\"scatterpolar\":[{\"type\":\"scatterpolar\",\"marker\":{\"colorbar\":{\"outlinewidth\":0,\"ticks\":\"\"}}}],\"histogram\":[{\"marker\":{\"pattern\":{\"fillmode\":\"overlay\",\"size\":10,\"solidity\":0.2}},\"type\":\"histogram\"}],\"scattergl\":[{\"type\":\"scattergl\",\"marker\":{\"colorbar\":{\"outlinewidth\":0,\"ticks\":\"\"}}}],\"scatter3d\":[{\"type\":\"scatter3d\",\"line\":{\"colorbar\":{\"outlinewidth\":0,\"ticks\":\"\"}},\"marker\":{\"colorbar\":{\"outlinewidth\":0,\"ticks\":\"\"}}}],\"scattermapbox\":[{\"type\":\"scattermapbox\",\"marker\":{\"colorbar\":{\"outlinewidth\":0,\"ticks\":\"\"}}}],\"scatterternary\":[{\"type\":\"scatterternary\",\"marker\":{\"colorbar\":{\"outlinewidth\":0,\"ticks\":\"\"}}}],\"scattercarpet\":[{\"type\":\"scattercarpet\",\"marker\":{\"colorbar\":{\"outlinewidth\":0,\"ticks\":\"\"}}}],\"carpet\":[{\"aaxis\":{\"endlinecolor\":\"#2a3f5f\",\"gridcolor\":\"white\",\"linecolor\":\"white\",\"minorgridcolor\":\"white\",\"startlinecolor\":\"#2a3f5f\"},\"baxis\":{\"endlinecolor\":\"#2a3f5f\",\"gridcolor\":\"white\",\"linecolor\":\"white\",\"minorgridcolor\":\"white\",\"startlinecolor\":\"#2a3f5f\"},\"type\":\"carpet\"}],\"table\":[{\"cells\":{\"fill\":{\"color\":\"#EBF0F8\"},\"line\":{\"color\":\"white\"}},\"header\":{\"fill\":{\"color\":\"#C8D4E3\"},\"line\":{\"color\":\"white\"}},\"type\":\"table\"}],\"barpolar\":[{\"marker\":{\"line\":{\"color\":\"#E5ECF6\",\"width\":0.5},\"pattern\":{\"fillmode\":\"overlay\",\"size\":10,\"solidity\":0.2}},\"type\":\"barpolar\"}],\"pie\":[{\"automargin\":true,\"type\":\"pie\"}]},\"layout\":{\"autotypenumbers\":\"strict\",\"colorway\":[\"#636efa\",\"#EF553B\",\"#00cc96\",\"#ab63fa\",\"#FFA15A\",\"#19d3f3\",\"#FF6692\",\"#B6E880\",\"#FF97FF\",\"#FECB52\"],\"font\":{\"color\":\"#2a3f5f\"},\"hovermode\":\"closest\",\"hoverlabel\":{\"align\":\"left\"},\"paper_bgcolor\":\"white\",\"plot_bgcolor\":\"#E5ECF6\",\"polar\":{\"bgcolor\":\"#E5ECF6\",\"angularaxis\":{\"gridcolor\":\"white\",\"linecolor\":\"white\",\"ticks\":\"\"},\"radialaxis\":{\"gridcolor\":\"white\",\"linecolor\":\"white\",\"ticks\":\"\"}},\"ternary\":{\"bgcolor\":\"#E5ECF6\",\"aaxis\":{\"gridcolor\":\"white\",\"linecolor\":\"white\",\"ticks\":\"\"},\"baxis\":{\"gridcolor\":\"white\",\"linecolor\":\"white\",\"ticks\":\"\"},\"caxis\":{\"gridcolor\":\"white\",\"linecolor\":\"white\",\"ticks\":\"\"}},\"coloraxis\":{\"colorbar\":{\"outlinewidth\":0,\"ticks\":\"\"}},\"colorscale\":{\"sequential\":[[0.0,\"#0d0887\"],[0.1111111111111111,\"#46039f\"],[0.2222222222222222,\"#7201a8\"],[0.3333333333333333,\"#9c179e\"],[0.4444444444444444,\"#bd3786\"],[0.5555555555555556,\"#d8576b\"],[0.6666666666666666,\"#ed7953\"],[0.7777777777777778,\"#fb9f3a\"],[0.8888888888888888,\"#fdca26\"],[1.0,\"#f0f921\"]],\"sequentialminus\":[[0.0,\"#0d0887\"],[0.1111111111111111,\"#46039f\"],[0.2222222222222222,\"#7201a8\"],[0.3333333333333333,\"#9c179e\"],[0.4444444444444444,\"#bd3786\"],[0.5555555555555556,\"#d8576b\"],[0.6666666666666666,\"#ed7953\"],[0.7777777777777778,\"#fb9f3a\"],[0.8888888888888888,\"#fdca26\"],[1.0,\"#f0f921\"]],\"diverging\":[[0,\"#8e0152\"],[0.1,\"#c51b7d\"],[0.2,\"#de77ae\"],[0.3,\"#f1b6da\"],[0.4,\"#fde0ef\"],[0.5,\"#f7f7f7\"],[0.6,\"#e6f5d0\"],[0.7,\"#b8e186\"],[0.8,\"#7fbc41\"],[0.9,\"#4d9221\"],[1,\"#276419\"]]},\"xaxis\":{\"gridcolor\":\"white\",\"linecolor\":\"white\",\"ticks\":\"\",\"title\":{\"standoff\":15},\"zerolinecolor\":\"white\",\"automargin\":true,\"zerolinewidth\":2},\"yaxis\":{\"gridcolor\":\"white\",\"linecolor\":\"white\",\"ticks\":\"\",\"title\":{\"standoff\":15},\"zerolinecolor\":\"white\",\"automargin\":true,\"zerolinewidth\":2},\"scene\":{\"xaxis\":{\"backgroundcolor\":\"#E5ECF6\",\"gridcolor\":\"white\",\"linecolor\":\"white\",\"showbackground\":true,\"ticks\":\"\",\"zerolinecolor\":\"white\",\"gridwidth\":2},\"yaxis\":{\"backgroundcolor\":\"#E5ECF6\",\"gridcolor\":\"white\",\"linecolor\":\"white\",\"showbackground\":true,\"ticks\":\"\",\"zerolinecolor\":\"white\",\"gridwidth\":2},\"zaxis\":{\"backgroundcolor\":\"#E5ECF6\",\"gridcolor\":\"white\",\"linecolor\":\"white\",\"showbackground\":true,\"ticks\":\"\",\"zerolinecolor\":\"white\",\"gridwidth\":2}},\"shapedefaults\":{\"line\":{\"color\":\"#2a3f5f\"}},\"annotationdefaults\":{\"arrowcolor\":\"#2a3f5f\",\"arrowhead\":0,\"arrowwidth\":1},\"geo\":{\"bgcolor\":\"white\",\"landcolor\":\"#E5ECF6\",\"subunitcolor\":\"white\",\"showland\":true,\"showlakes\":true,\"lakecolor\":\"white\"},\"title\":{\"x\":0.05},\"mapbox\":{\"style\":\"light\"}}},\"xaxis\":{\"anchor\":\"y\",\"domain\":[0.0,0.45],\"title\":{\"text\":\"Model belief state\"}},\"yaxis\":{\"anchor\":\"x\",\"domain\":[0.0,1.0],\"title\":{\"text\":\"Probabilities\"},\"range\":[0,1]},\"xaxis2\":{\"anchor\":\"y2\",\"domain\":[0.55,1.0]},\"yaxis2\":{\"anchor\":\"x2\",\"domain\":[0.0,1.0],\"range\":[0,1]},\"title\":{\"text\":\"Output probabilities\"},\"width\":800,\"height\":400},                        {\"responsive\": true}                    ).then(function(){\n",
       "                            \n",
       "var gd = document.getElementById('5f05263e-8271-485b-b91c-140775f46666');\n",
       "var x = new MutationObserver(function (mutations, observer) {{\n",
       "        var display = window.getComputedStyle(gd).display;\n",
       "        if (!display || display === 'none') {{\n",
       "            console.log([gd, 'removed!']);\n",
       "            Plotly.purge(gd);\n",
       "            observer.disconnect();\n",
       "        }}\n",
       "}});\n",
       "\n",
       "// Listen for the removal of the full notebook cells\n",
       "var notebookContainer = gd.closest('#notebook-container');\n",
       "if (notebookContainer) {{\n",
       "    x.observe(notebookContainer, {childList: true});\n",
       "}}\n",
       "\n",
       "// Listen for the clearing of the current output cell\n",
       "var outputEl = gd.closest('.output');\n",
       "if (outputEl) {{\n",
       "    x.observe(outputEl, {childList: true});\n",
       "}}\n",
       "\n",
       "                        })                };                });            </script>        </div>"
      ]
     },
     "metadata": {},
     "output_type": "display_data"
    }
   ],
   "source": [
    "\n",
    "state_1 = 24\n",
    "state_2 = 27\n",
    "cut_at = 2\n",
    "cut_belief_indices = transformer_input_belief_indices[:,:cut_at]\n",
    "\n",
    "per_layer_steering_vector = get_steering_vector(per_layer_belief_activations,state_1,state_2)\n",
    "prompts_with_belief_state_1 = get_inputs_ending_in_belief(transformer_inputs[:,:cut_at],cut_belief_indices,state_1)[0] # all are the same \n",
    "prompts_with_belief_state_2 = get_inputs_ending_in_belief(transformer_inputs[:,:cut_at],cut_belief_indices,state_2)[0] # all are the same \n",
    "\n",
    "normal_1 = model(prompts_with_belief_state_1)\n",
    "steered_to_2 = run_model_with_steering(model,prompts_with_belief_state_1,per_layer_steering_vector,1)\n",
    "normal_2 = model(prompts_with_belief_state_2)\n",
    "steered_to_1 = run_model_with_steering(model,prompts_with_belief_state_2,per_layer_steering_vector,-1)\n",
    "\n",
    "output_state_1 = normal_1[:,-1,:].softmax(1).detach()\n",
    "output_state_2 = normal_2[:,-1,:].softmax(1).detach()\n",
    "corrupted_output_state_1 = steered_to_2[:,-1,:].softmax(1).detach()\n",
    "corrupted_output_state_2 = steered_to_1[:,-1,:].softmax(1).detach()\n",
    "\n",
    "outputs =[output_state_1,output_state_2,corrupted_output_state_1,corrupted_output_state_2]\n",
    "zero_bars = {\"state_1\":0,\"state_2\":0,\"corrupted_state_1\":0,\"corrupted_state_2\":0}\n",
    "one_bars = {\"state_1\":0,\"state_2\":0,\"corrupted_state_1\":0,\"corrupted_state_2\":0}\n",
    "for i,output in enumerate(outputs):\n",
    "    total = len(output)\n",
    "    key = list(one_bars.keys())[i]\n",
    "    one_bars[key] = sum(output[:,0].numpy())/total\n",
    "    zero_bars[key] = sum(output[:,1].numpy())/total\n",
    "\n",
    "# Create a subplot with two scatter plots\n",
    "fig = make_subplots(rows=1, cols=2, specs=[[{'type': 'scatter'}, {'type': 'scatter'}]])\n",
    "\n",
    "# Plot the ground truth beliefs on the left\n",
    "fig.add_trace(go.Bar(x=[\"State T\",\"State F\", \"State T->State F\",\"State F-> State T\"], y=list(zero_bars.values()),\n",
    "                         name=f'Probability to output 0'),\n",
    "              row=1, col=1)\n",
    "fig.add_trace(go.Bar(x=[\"State T\",\"State F\", \"State T->State F\",\"State F-> State T\"], y=list(one_bars.values()),\n",
    "                         name=f'Probability to output 1'),\n",
    "              row=1, col=2)\n",
    "fig.update_layout(title='Output probabilities',\n",
    "                  yaxis_title='Probabilities', xaxis_title='Model belief state',\n",
    "                  width=800, height=400,\n",
    "                  )\n",
    "fig.update_yaxes(range=[0, 1], row=1, col=2)\n",
    "fig.update_yaxes(range=[0, 1], row=1, col=1)\n",
    "\n",
    "\n"
   ]
  },
  {
   "cell_type": "markdown",
   "metadata": {},
   "source": []
  }
 ],
 "metadata": {
  "kernelspec": {
   "display_name": "epsilon-machine",
   "language": "python",
   "name": "python3"
  },
  "language_info": {
   "codemirror_mode": {
    "name": "ipython",
    "version": 3
   },
   "file_extension": ".py",
   "mimetype": "text/x-python",
   "name": "python",
   "nbconvert_exporter": "python",
   "pygments_lexer": "ipython3",
   "version": "3.10.0"
  }
 },
 "nbformat": 4,
 "nbformat_minor": 2
}
