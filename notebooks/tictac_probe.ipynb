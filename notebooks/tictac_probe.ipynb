{
 "cells": [
  {
   "cell_type": "code",
   "execution_count": 1,
   "metadata": {},
   "outputs": [],
   "source": [
    "import pandas as pd\n",
    "import numpy as np"
   ]
  },
  {
   "cell_type": "code",
   "execution_count": 2,
   "metadata": {},
   "outputs": [],
   "source": [
    "# each game is 9 char string, X starts\n",
    "\n",
    "def create_game_tree():\n",
    "    stack = [(\"\", \" \" * 9, 0, 1., [])]  # (prev_board, board, depth, prob, moves)\n",
    "    result = stack[:]\n",
    "    while stack:\n",
    "        _, board, depth, prob, moves = stack.pop()\n",
    "\n",
    "        if is_game_over(board):\n",
    "            # node = (board, board, depth + 1, prob, moves + [-1])\n",
    "            # result.append(node)\n",
    "            # if depth + 1 < 9:\n",
    "                # stack.append(node)\n",
    "            continue\n",
    "\n",
    "        move_char = \"X\" if depth % 2 == 0 else \"O\"\n",
    "\n",
    "        valid_moves = [i for i in range(9) if board[i] == \" \"]\n",
    "\n",
    "        move_prob = 1. / len(valid_moves)\n",
    "        for move in valid_moves:\n",
    "            new_board = board[:move] + move_char + board[move+1:]\n",
    "            next_node = (board, new_board, depth + 1, move_prob * prob, moves + [move])\n",
    "\n",
    "            stack.append(next_node)\n",
    "            result.append(next_node)\n",
    "    return result\n",
    "\n",
    "\n",
    "def is_game_over(board):\n",
    "    return (\n",
    "        board.count(\" \") == 0 or\n",
    "        any(board[i] != ' ' and board[i:i+3].count(board[i]) == 3 for i in range(0, 9, 3)) or\n",
    "        any(board[i] != ' ' and board[i::3].count(board[i]) == 3 for i in range(0, 3)) or\n",
    "        board[0] != ' ' and board[0::4].count(board[0]) == 3 or\n",
    "        board[2] != ' ' and board[2:8:2].count(board[2]) == 3\n",
    "    )\n",
    "\n",
    "def print_board(board):\n",
    "    print('\\n'.join(board[i:i+3] for i in range(0, 9, 3)))"
   ]
  },
  {
   "cell_type": "code",
   "execution_count": 3,
   "metadata": {},
   "outputs": [
    {
     "data": {
      "text/plain": [
       "1.0"
      ]
     },
     "execution_count": 3,
     "metadata": {},
     "output_type": "execute_result"
    }
   ],
   "source": [
    "tree = create_game_tree()\n",
    "game_df = pd.DataFrame(tree, columns=[\"prev_board\", \"board\", \"depth\", \"prob\", \"moves\"])\n",
    "\n",
    "prob_tot = game_df.groupby(\"depth\").prob.sum()\n",
    "game_df = game_df.assign(prob_norm=lambda x: x.prob / x.depth.map(prob_tot))\n",
    "\n",
    "state_ids = {\n",
    "    board: i\n",
    "    for i, board in enumerate(\n",
    "        sorted(game_df.board.unique(), key=lambda x: (x.count(\" \"), x), reverse=True)\n",
    "    )\n",
    "}\n",
    "\n",
    "game_df = game_df.assign(state_id=lambda x: x.board.map(state_ids)).assign(\n",
    "    is_game_over=lambda x: x.board.apply(is_game_over)\n",
    ")\n",
    "\n",
    "game_df.query('is_game_over').prob.sum()"
   ]
  },
  {
   "cell_type": "code",
   "execution_count": 4,
   "metadata": {},
   "outputs": [
    {
     "data": {
      "text/html": [
       "<div>\n",
       "<style scoped>\n",
       "    .dataframe tbody tr th:only-of-type {\n",
       "        vertical-align: middle;\n",
       "    }\n",
       "\n",
       "    .dataframe tbody tr th {\n",
       "        vertical-align: top;\n",
       "    }\n",
       "\n",
       "    .dataframe thead th {\n",
       "        text-align: right;\n",
       "    }\n",
       "</style>\n",
       "<table border=\"1\" class=\"dataframe\">\n",
       "  <thead>\n",
       "    <tr style=\"text-align: right;\">\n",
       "      <th></th>\n",
       "      <th>board</th>\n",
       "      <th>prob</th>\n",
       "      <th>prob_norm</th>\n",
       "    </tr>\n",
       "    <tr>\n",
       "      <th>depth</th>\n",
       "      <th></th>\n",
       "      <th></th>\n",
       "      <th></th>\n",
       "    </tr>\n",
       "  </thead>\n",
       "  <tbody>\n",
       "    <tr>\n",
       "      <th>0</th>\n",
       "      <td>1</td>\n",
       "      <td>1.000000</td>\n",
       "      <td>1.0</td>\n",
       "    </tr>\n",
       "    <tr>\n",
       "      <th>1</th>\n",
       "      <td>9</td>\n",
       "      <td>1.000000</td>\n",
       "      <td>1.0</td>\n",
       "    </tr>\n",
       "    <tr>\n",
       "      <th>2</th>\n",
       "      <td>72</td>\n",
       "      <td>1.000000</td>\n",
       "      <td>1.0</td>\n",
       "    </tr>\n",
       "    <tr>\n",
       "      <th>3</th>\n",
       "      <td>252</td>\n",
       "      <td>1.000000</td>\n",
       "      <td>1.0</td>\n",
       "    </tr>\n",
       "    <tr>\n",
       "      <th>4</th>\n",
       "      <td>756</td>\n",
       "      <td>1.000000</td>\n",
       "      <td>1.0</td>\n",
       "    </tr>\n",
       "    <tr>\n",
       "      <th>5</th>\n",
       "      <td>1260</td>\n",
       "      <td>1.000000</td>\n",
       "      <td>1.0</td>\n",
       "    </tr>\n",
       "    <tr>\n",
       "      <th>6</th>\n",
       "      <td>1520</td>\n",
       "      <td>0.904762</td>\n",
       "      <td>1.0</td>\n",
       "    </tr>\n",
       "    <tr>\n",
       "      <th>7</th>\n",
       "      <td>1140</td>\n",
       "      <td>0.816667</td>\n",
       "      <td>1.0</td>\n",
       "    </tr>\n",
       "    <tr>\n",
       "      <th>8</th>\n",
       "      <td>390</td>\n",
       "      <td>0.552381</td>\n",
       "      <td>1.0</td>\n",
       "    </tr>\n",
       "    <tr>\n",
       "      <th>9</th>\n",
       "      <td>78</td>\n",
       "      <td>0.352381</td>\n",
       "      <td>1.0</td>\n",
       "    </tr>\n",
       "  </tbody>\n",
       "</table>\n",
       "</div>"
      ],
      "text/plain": [
       "       board      prob  prob_norm\n",
       "depth                            \n",
       "0          1  1.000000        1.0\n",
       "1          9  1.000000        1.0\n",
       "2         72  1.000000        1.0\n",
       "3        252  1.000000        1.0\n",
       "4        756  1.000000        1.0\n",
       "5       1260  1.000000        1.0\n",
       "6       1520  0.904762        1.0\n",
       "7       1140  0.816667        1.0\n",
       "8        390  0.552381        1.0\n",
       "9         78  0.352381        1.0"
      ]
     },
     "execution_count": 4,
     "metadata": {},
     "output_type": "execute_result"
    }
   ],
   "source": [
    "game_df.groupby(['depth']).agg({\n",
    "    'board': 'nunique',\n",
    "    'prob': 'sum',\n",
    "    'prob_norm': 'sum'\n",
    "})"
   ]
  },
  {
   "cell_type": "code",
   "execution_count": 5,
   "metadata": {},
   "outputs": [],
   "source": [
    "def game_state_to_target_binary(board):\n",
    "    targets = np.zeros(9 * 3)\n",
    "    for i, c in enumerate(' XO'):\n",
    "        for j in range(len(board)):\n",
    "            targets[i * 9 + j] = int(board[j] == c)\n",
    "    return targets\n",
    "\n",
    "def game_state_to_target_binary_alt(board):\n",
    "    targets = np.zeros(9 * 3)\n",
    "    depth = 9 - board.count(' ')\n",
    "    for i, c in enumerate(' XO'):\n",
    "        for j in range(len(board)):\n",
    "            if depth % 2 == 0 and c != ' ':\n",
    "                c = 'X' if c == 'O' else 'O'\n",
    "            targets[i * 9 + j] = int(board[j] == c)\n",
    "    return targets\n",
    "\n",
    "def depth_label(board):\n",
    "    depth = 9 - board.count(' ')\n",
    "    target = np.zeros(9)\n",
    "    target[depth - 1] = 1\n",
    "    return target\n"
   ]
  },
  {
   "cell_type": "code",
   "execution_count": 6,
   "metadata": {},
   "outputs": [
    {
     "data": {
      "text/plain": [
       "((5478, 5478), (5478, 27), (5478,))"
      ]
     },
     "execution_count": 6,
     "metadata": {},
     "output_type": "execute_result"
    }
   ],
   "source": [
    "grouped_df = game_df.groupby(['depth', 'state_id', 'board']).prob.sum().reset_index()\n",
    "\n",
    "state_space = np.zeros((len(grouped_df), grouped_df.state_id.max() + 1))\n",
    "state_space[np.arange(len(grouped_df)), grouped_df.state_id] = 1\n",
    "\n",
    "targets = np.array([game_state_to_target_binary(b) for b in grouped_df.board])\n",
    "targets_alt = np.array([game_state_to_target_binary_alt(b) for b in grouped_df.board])\n",
    "targets_depth = np.array([depth_label(b) for b in grouped_df.board])\n",
    "weight = grouped_df.prob.values\n",
    "\n",
    "state_space.shape, targets.shape, weight.shape"
   ]
  },
  {
   "cell_type": "code",
   "execution_count": 7,
   "metadata": {},
   "outputs": [
    {
     "name": "stderr",
     "output_type": "stream",
     "text": [
      "/usr/lib/python3/dist-packages/scipy/__init__.py:146: UserWarning: A NumPy version >=1.17.3 and <1.25.0 is required for this version of SciPy (detected version 1.25.2\n",
      "  warnings.warn(f\"A NumPy version >={np_minversion} and <{np_maxversion}\"\n"
     ]
    },
    {
     "data": {
      "text/plain": [
       "PCA(svd_solver='full')"
      ]
     },
     "execution_count": 7,
     "metadata": {},
     "output_type": "execute_result"
    }
   ],
   "source": [
    "from sklearn.decomposition import PCA\n",
    "from sklearn.preprocessing import StandardScaler\n",
    "\n",
    "scaler = StandardScaler()\n",
    "scaled_state_space = scaler.fit_transform(state_space)\n",
    "\n",
    "pca = PCA(svd_solver='full')\n",
    "pca.fit(scaled_state_space * np.sqrt(weight[:, np.newaxis]))\n"
   ]
  },
  {
   "cell_type": "code",
   "execution_count": 38,
   "metadata": {},
   "outputs": [
    {
     "data": {
      "text/plain": [
       "PCA(svd_solver='arpack')"
      ]
     },
     "execution_count": 38,
     "metadata": {},
     "output_type": "execute_result"
    }
   ],
   "source": [
    "from sklearn.decomposition import PCA\n",
    "\n",
    "pca1 = PCA(svd_solver='arpack')\n",
    "pca1.fit(state_space * np.sqrt(weight[:, np.newaxis]))\n"
   ]
  },
  {
   "cell_type": "code",
   "execution_count": 8,
   "metadata": {},
   "outputs": [
    {
     "data": {
      "image/png": "[encoded data removed]",
      "text/plain": [
       "<Figure size 720x432 with 1 Axes>"
      ]
     },
     "metadata": {
      "needs_background": "light"
     },
     "output_type": "display_data"
    },
    {
     "name": "stdout",
     "output_type": "stream",
     "text": [
      "Number of components needed to explain 95% of variance: 4753\n"
     ]
    }
   ],
   "source": [
    "import matplotlib.pyplot as plt\n",
    "\n",
    "# Calculate cumulative explained variance ratio\n",
    "cumulative_var_ratio = np.cumsum(pca.explained_variance_ratio_)\n",
    "\n",
    "# Create the plot\n",
    "plt.figure(figsize=(10, 6))\n",
    "plt.plot(range(1, len(cumulative_var_ratio) + 1), cumulative_var_ratio, 'b-')\n",
    "plt.xlabel('Number of Components')\n",
    "plt.ylabel('Cumulative Explained Variance Ratio')\n",
    "plt.title('Cumulative Explained Variance Ratio vs Number of PCA Components')\n",
    "plt.grid(True)\n",
    "\n",
    "# Add a horizontal line at 95% explained variance\n",
    "plt.axhline(y=0.95, color='r', linestyle='--', label='95% Explained Variance')\n",
    "\n",
    "# Find the number of components needed to explain 95% of the variance\n",
    "n_components_95 = next(i for i, ratio in enumerate(cumulative_var_ratio) if ratio >= 0.95) + 1\n",
    "plt.plot(n_components_95, cumulative_var_ratio[n_components_95-1], 'ro', \n",
    "         label=f'95% variance: {n_components_95} components')\n",
    "\n",
    "plt.legend()\n",
    "plt.tight_layout()\n",
    "plt.show()\n",
    "\n",
    "print(f\"Number of components needed to explain 95% of variance: {n_components_95}\")\n"
   ]
  },
  {
   "cell_type": "code",
   "execution_count": 9,
   "metadata": {},
   "outputs": [],
   "source": [
    "import torch\n",
    "from tqdm import trange\n",
    "from sklearn.metrics import roc_auc_score\n",
    "\n",
    "\n",
    "def calculate_accuracy_scores(pca, state_space, targets, start=10, step=100, end=None):\n",
    "    accuracy_scores = {}\n",
    "\n",
    "    states = torch.tensor(state_space, dtype=torch.float32).cuda()\n",
    "    targets_cuda = torch.tensor(targets, dtype=torch.float32).cuda()\n",
    "\n",
    "    pca_transform = pca.transform(state_space)\n",
    "    \n",
    "    if end is None:\n",
    "        end = pca.n_components_\n",
    "    \n",
    "    for i in trange(start, end, step):\n",
    "        projected_states = pca_transform[:, :i]\n",
    "        projected_states = torch.tensor(projected_states, dtype=torch.float32).cuda()\n",
    "        solution = torch.linalg.lstsq(projected_states, targets_cuda)\n",
    "        predicted = projected_states @ solution.solution\n",
    "        \n",
    "        roc_auc_scores = []\n",
    "        for col in range(targets.shape[1]):\n",
    "            roc_auc = roc_auc_score(targets_cuda[:, col].cpu(), predicted[:, col].cpu())\n",
    "            roc_auc_scores.append(roc_auc)\n",
    "        \n",
    "        accuracy_scores[i] = roc_auc_scores\n",
    "\n",
    "    return accuracy_scores"
   ]
  },
  {
   "cell_type": "code",
   "execution_count": 10,
   "metadata": {},
   "outputs": [
    {
     "name": "stderr",
     "output_type": "stream",
     "text": [
      "100%|██████████| 55/55 [00:08<00:00,  6.45it/s]\n",
      "100%|██████████| 55/55 [00:08<00:00,  6.60it/s]\n",
      "100%|██████████| 55/55 [00:06<00:00,  8.55it/s]\n"
     ]
    }
   ],
   "source": [
    "from matplotlib import pyplot as plt\n",
    "import numpy as np\n",
    "\n",
    "accuracy_scores = calculate_accuracy_scores(pca, state_space, targets)\n",
    "accuracy_scores_alt = calculate_accuracy_scores(pca, state_space, targets_alt)\n",
    "accuracy_scores_depth = calculate_accuracy_scores(pca, state_space, targets_depth)"
   ]
  },
  {
   "cell_type": "code",
   "execution_count": 48,
   "metadata": {},
   "outputs": [
    {
     "data": {
      "image/png": "[encoded data removed]",
      "text/plain": [
       "<Figure size 720x432 with 1 Axes>"
      ]
     },
     "metadata": {
      "needs_background": "light"
     },
     "output_type": "display_data"
    }
   ],
   "source": [
    "\n",
    "# Average each value entry\n",
    "avg_accuracy_scores = {k: np.mean(v) for k, v in accuracy_scores.items()}\n",
    "avg_accuracy_scores_alt = {k: np.mean(v) for k, v in accuracy_scores_alt.items()}\n",
    "\n",
    "plt.figure(figsize=(10, 6))\n",
    "# plt.plot(list(avg_accuracy_scores.keys()), list(avg_accuracy_scores.values()), label='Original Targets')\n",
    "# plt.plot(list(avg_accuracy_scores_alt.keys()), list(avg_accuracy_scores_alt.values()), label='Alternating Targets')\n",
    "plt.plot(list(accuracy_scores.keys()), list(accuracy_scores.values()), label='Original Targets')\n",
    "plt.plot(list(accuracy_scores_alt.keys()), list(accuracy_scores_alt.values()), label='Alternating Targets')\n",
    "plt.xlabel('Number of PCA Components')\n",
    "plt.ylabel('Average Accuracy')\n",
    "plt.title('Average Accuracy vs Number of PCA Components')\n",
    "# plt.legend()\n",
    "plt.grid(True)\n",
    "plt.show()\n"
   ]
  },
  {
   "cell_type": "code",
   "execution_count": 179,
   "metadata": {},
   "outputs": [
    {
     "name": "stderr",
     "output_type": "stream",
     "text": [
      "100%|██████████| 55/55 [00:04<00:00, 11.06it/s]\n",
      "100%|██████████| 55/55 [00:05<00:00, 10.39it/s]\n",
      "100%|██████████| 55/55 [00:03<00:00, 14.26it/s]\n"
     ]
    }
   ],
   "source": [
    "from matplotlib import pyplot as plt\n",
    "\n",
    "accuracy_scores = calculate_accuracy_scores(pca, state_space, targets, start=1, step=100)\n",
    "accuracy_scores_alt = calculate_accuracy_scores(pca, state_space, targets_alt, start=1, step=100)\n",
    "accuracy_scores_depth = calculate_accuracy_scores(pca, state_space, targets_depth, start=1, step=100)\n"
   ]
  },
  {
   "cell_type": "code",
   "execution_count": 29,
   "metadata": {},
   "outputs": [
    {
     "data": {
      "image/png": "[encoded data removed]",
      "text/plain": [
       "<Figure size 720x432 with 1 Axes>"
      ]
     },
     "metadata": {
      "needs_background": "light"
     },
     "output_type": "display_data"
    }
   ],
   "source": [
    "plt.figure(figsize=(10, 6))\n",
    "\n",
    "def ratio_scores_above_threshold(scores, threshold=0.999):\n",
    "    return sum(1 for score in scores if score > threshold) / len(scores)\n",
    "\n",
    "plt.plot(\n",
    "    list(accuracy_scores.keys()),\n",
    "    [ratio_scores_above_threshold(scores) for scores in accuracy_scores.values()],\n",
    "    label=\"Original Targets\",\n",
    ")\n",
    "plt.plot(\n",
    "    list(accuracy_scores_alt.keys()),\n",
    "    [ratio_scores_above_threshold(scores) for scores in accuracy_scores_alt.values()],\n",
    "    label=\"Alternating Targets\",\n",
    ")\n",
    "plt.plot(\n",
    "    list(accuracy_scores_depth.keys()),\n",
    "    [ratio_scores_above_threshold(scores) for scores in accuracy_scores_depth.values()],\n",
    "    label=\"Depth Targets\",\n",
    ")\n",
    "\n",
    "plt.xlabel(\"Number of PCA Components\")\n",
    "plt.ylabel(\"Ratio of Scores > 0.999\")\n",
    "plt.title(\"Ratio of High Accuracy Scores vs Number of PCA Components\")\n",
    "plt.legend()\n",
    "plt.grid(True)\n",
    "plt.show()"
   ]
  },
  {
   "cell_type": "code",
   "execution_count": 30,
   "metadata": {},
   "outputs": [
    {
     "name": "stderr",
     "output_type": "stream",
     "text": [
      "100%|██████████| 200/200 [00:12<00:00, 15.54it/s]\n",
      "100%|██████████| 200/200 [00:12<00:00, 15.43it/s]\n"
     ]
    }
   ],
   "source": [
    "from matplotlib import pyplot as plt\n",
    "\n",
    "accuracy_scores1 = calculate_accuracy_scores(pca, state_space, targets, start=1000, end=2000, step=5)\n",
    "accuracy_scores_alt1 = calculate_accuracy_scores(pca, state_space, targets_alt, start=1000, end=2000, step=5)\n",
    "# accuracy_scores_depth1 = calculate_accuracy_scores(pca1, state_space, targets_depth, start=1000, end=2000, step=5)\n"
   ]
  },
  {
   "cell_type": "code",
   "execution_count": 42,
   "metadata": {},
   "outputs": [
    {
     "data": {
      "image/png": "[encoded data removed]",
      "text/plain": [
       "<Figure size 720x432 with 1 Axes>"
      ]
     },
     "metadata": {
      "needs_background": "light"
     },
     "output_type": "display_data"
    }
   ],
   "source": [
    "plt.figure(figsize=(10, 6))\n",
    "\n",
    "# Assuming we want to plot the first position (index 0)\n",
    "position_to_plot = 20\n",
    "\n",
    "plt.plot(\n",
    "    list(accuracy_scores1.keys()),\n",
    "    [scores[position_to_plot] for scores in accuracy_scores1.values()],\n",
    "    label=\"Original Targets\",\n",
    ")\n",
    "plt.plot(\n",
    "    list(accuracy_scores_alt1.keys()),\n",
    "    [scores[position_to_plot] for scores in accuracy_scores_alt1.values()],\n",
    "    label=\"Alternating Targets\",\n",
    ")\n",
    "\n",
    "# plt.plot(\n",
    "#     list(accuracy_scores_depth1.keys()),\n",
    "#     [scores[6] for scores in accuracy_scores_depth1.values()],\n",
    "#     label=\"Depth Targets\",\n",
    "# )\n",
    "plt.xlabel(\"Number of PCA Components\")\n",
    "plt.ylabel(\"Accuracy\")\n",
    "plt.title(f\"ROC AUC Score vs Number of PCA Components (Position {position_to_plot}) - Full Solver (scaled input)\")\n",
    "plt.legend()\n",
    "plt.grid(True)\n",
    "plt.show()"
   ]
  },
  {
   "cell_type": "code",
   "execution_count": 39,
   "metadata": {},
   "outputs": [
    {
     "name": "stderr",
     "output_type": "stream",
     "text": [
      "100%|██████████| 200/200 [00:13<00:00, 15.33it/s]\n",
      "100%|██████████| 200/200 [00:13<00:00, 15.28it/s]\n"
     ]
    }
   ],
   "source": [
    "from matplotlib import pyplot as plt\n",
    "\n",
    "accuracy_scores2 = calculate_accuracy_scores(pca1, state_space, targets, start=1000, end=2000, step=5)\n",
    "accuracy_scores_alt2 = calculate_accuracy_scores(pca1, state_space, targets_alt, start=1000, end=2000, step=5)\n",
    "# accuracy_scores_depth1 = calculate_accuracy_scores(pca1, state_space, targets_depth, start=1000, end=2000, step=5)\n"
   ]
  },
  {
   "cell_type": "code",
   "execution_count": 41,
   "metadata": {},
   "outputs": [
    {
     "data": {
      "image/png": "[encoded data removed]",
      "text/plain": [
       "<Figure size 720x432 with 1 Axes>"
      ]
     },
     "metadata": {
      "needs_background": "light"
     },
     "output_type": "display_data"
    }
   ],
   "source": [
    "\n",
    "\n",
    "plt.figure(figsize=(10, 6))\n",
    "\n",
    "# Assuming we want to plot the first position (index 0)\n",
    "position_to_plot = 20\n",
    "\n",
    "plt.plot(\n",
    "    list(accuracy_scores2.keys()),\n",
    "    [scores[position_to_plot] for scores in accuracy_scores2.values()],\n",
    "    label=\"Original Targets\",\n",
    ")\n",
    "plt.plot(\n",
    "    list(accuracy_scores_alt2.keys()),\n",
    "    [scores[position_to_plot] for scores in accuracy_scores_alt1.values()],\n",
    "    label=\"Alternating Targets\",\n",
    ")\n",
    "\n",
    "# plt.plot(\n",
    "#     list(accuracy_scores_depth1.keys()),\n",
    "#     [scores[6] for scores in accuracy_scores_depth1.values()],\n",
    "#     label=\"Depth Targets\",\n",
    "# )\n",
    "plt.xlabel(\"Number of PCA Components\")\n",
    "plt.ylabel(\"ROC AUC Score\")\n",
    "plt.title(f\"ROC AUC Score vs Number of PCA Components (Position {position_to_plot}) - Arpack Solver\")\n",
    "plt.legend()\n",
    "plt.grid(True)\n",
    "plt.show()"
   ]
  },
  {
   "cell_type": "code",
   "execution_count": 301,
   "metadata": {},
   "outputs": [
    {
     "name": "stderr",
     "output_type": "stream",
     "text": [
      "100%|██████████| 100/100 [00:06<00:00, 15.02it/s]\n"
     ]
    }
   ],
   "source": [
    "accuracy_scores2 = calculate_accuracy_scores(pca1, state_space, targets, start=1500, end=1600, step=1)\n"
   ]
  },
  {
   "cell_type": "code",
   "execution_count": 304,
   "metadata": {},
   "outputs": [
    {
     "data": {
      "text/plain": [
       "[<matplotlib.lines.Line2D at 0x7ff48c3c46d0>]"
      ]
     },
     "execution_count": 304,
     "metadata": {},
     "output_type": "execute_result"
    },
    {
     "data": {
      "image/png": "[encoded data removed]",
      "text/plain": [
       "<Figure size 432x288 with 1 Axes>"
      ]
     },
     "metadata": {
      "needs_background": "light"
     },
     "output_type": "display_data"
    }
   ],
   "source": [
    "plt.plot(\n",
    "    list(accuracy_scores2.keys()),\n",
    "    [scores[position_to_plot] for scores in accuracy_scores2.values()],\n",
    "    label=\"Original Targets\",\n",
    ")"
   ]
  },
  {
   "cell_type": "code",
   "execution_count": 362,
   "metadata": {},
   "outputs": [],
   "source": [
    "i = np.diff(np.array([scores[position_to_plot] for scores in accuracy_scores2.values()])).argmax()\n",
    "i = list(accuracy_scores2.keys())[i]"
   ]
  },
  {
   "cell_type": "code",
   "execution_count": 363,
   "metadata": {},
   "outputs": [
    {
     "data": {
      "text/plain": [
       "0.7216456081896696"
      ]
     },
     "execution_count": 363,
     "metadata": {},
     "output_type": "execute_result"
    }
   ],
   "source": [
    "state_space_pca = pca1.transform(state_space)\n",
    "lin_probe1 = LinearRegression(fit_intercept=False)\n",
    "x = state_space_pca[:, :i]\n",
    "lin_probe1.fit(x, targets[:, position_to_plot])\n",
    "preds = lin_probe1.predict(x)\n",
    "\n",
    "roc_auc_score(targets[:, position_to_plot], preds)\n",
    "# accuracy_score(targets[:, position_to_plot], preds > 0.5)"
   ]
  },
  {
   "cell_type": "code",
   "execution_count": 366,
   "metadata": {},
   "outputs": [
    {
     "data": {
      "text/plain": [
       "0.7216456081896696"
      ]
     },
     "execution_count": 366,
     "metadata": {},
     "output_type": "execute_result"
    }
   ],
   "source": [
    "state_space_pca = pca1.transform(state_space)\n",
    "lin_probe1 = LinearRegression(fit_intercept=False)\n",
    "x = state_space_pca[:, :i]\n",
    "lin_probe1.fit(x, targets[:, position_to_plot])\n",
    "preds = lin_probe1.predict(x)\n",
    "\n",
    "roc_auc_score(targets[:, position_to_plot], preds)\n",
    "# accuracy_score(targets[:, position_to_plot], preds > 0.5)"
   ]
  },
  {
   "cell_type": "code",
   "execution_count": 390,
   "metadata": {},
   "outputs": [
    {
     "data": {
      "text/plain": [
       "0.7221626057520826"
      ]
     },
     "execution_count": 390,
     "metadata": {},
     "output_type": "execute_result"
    }
   ],
   "source": [
    "state_space_pca = pca1.transform(state_space)\n",
    "lin_probe1 = LogisticRegression(fit_intercept=False)\n",
    "x = state_space_pca[:, :i]\n",
    "lin_probe1.fit(x, targets[:, position_to_plot])\n",
    "preds = lin_probe1.predict_proba(x)\n",
    "\n",
    "roc_auc_score(targets[:, position_to_plot], preds[:, 1])\n",
    "# accuracy_score(targets[:, position_to_plot], preds > 0.5)"
   ]
  },
  {
   "cell_type": "code",
   "execution_count": 374,
   "metadata": {},
   "outputs": [
    {
     "data": {
      "text/plain": [
       "0.7206286489173634"
      ]
     },
     "execution_count": 374,
     "metadata": {},
     "output_type": "execute_result"
    }
   ],
   "source": [
    "state_space_pca = pca1.transform(state_space)\n",
    "lin_probe1 = LogisticRegression(fit_intercept=True)\n",
    "x = state_space_pca[:, :i]\n",
    "lin_probe1.fit(x, targets[:, position_to_plot])\n",
    "preds = lin_probe1.predict_proba(x)\n",
    "\n",
    "roc_auc_score(targets[:, position_to_plot], preds[:, 1])\n",
    "# accuracy_score(targets[:, position_to_plot], preds > 0.5)"
   ]
  },
  {
   "cell_type": "code",
   "execution_count": 367,
   "metadata": {},
   "outputs": [
    {
     "data": {
      "text/plain": [
       "0.7612624021006342"
      ]
     },
     "execution_count": 367,
     "metadata": {},
     "output_type": "execute_result"
    }
   ],
   "source": [
    "state_space_pca = pca1.transform(state_space)\n",
    "lin_probe1 = LinearRegression(fit_intercept=False)\n",
    "x = state_space_pca[:, :i+1]\n",
    "lin_probe1.fit(x, targets[:, position_to_plot])\n",
    "preds = lin_probe1.predict(x)\n",
    "\n",
    "roc_auc_score(targets[:, position_to_plot], preds)\n",
    "# accuracy_score(targets[:, position_to_plot], preds > 0.5)"
   ]
  },
  {
   "cell_type": "code",
   "execution_count": 368,
   "metadata": {},
   "outputs": [
    {
     "data": {
      "text/plain": [
       "0.7211388321387686"
      ]
     },
     "execution_count": 368,
     "metadata": {},
     "output_type": "execute_result"
    }
   ],
   "source": [
    "state_space_pca = pca1.transform(state_space)\n",
    "lin_probe1 = LinearRegression(fit_intercept=True)\n",
    "x = state_space_pca[:, :i]\n",
    "lin_probe1.fit(x, targets[:, position_to_plot])\n",
    "preds = lin_probe1.predict(x)\n",
    "\n",
    "roc_auc_score(targets[:, position_to_plot], preds)\n",
    "# accuracy_score(targets[:, position_to_plot], preds > 0.5)"
   ]
  },
  {
   "cell_type": "code",
   "execution_count": 370,
   "metadata": {},
   "outputs": [
    {
     "data": {
      "text/plain": [
       "0.7615877057606492"
      ]
     },
     "execution_count": 370,
     "metadata": {},
     "output_type": "execute_result"
    }
   ],
   "source": [
    "state_space_pca = pca1.transform(state_space)\n",
    "lin_probe1 = LinearRegression(fit_intercept=True)\n",
    "x = state_space_pca[:, :i+1]\n",
    "lin_probe1.fit(x, targets[:, position_to_plot])\n",
    "preds = lin_probe1.predict(x)\n",
    "\n",
    "roc_auc_score(targets[:, position_to_plot], preds)\n",
    "# accuracy_score(targets[:, position_to_plot], preds > 0.5)"
   ]
  },
  {
   "cell_type": "code",
   "execution_count": 116,
   "metadata": {},
   "outputs": [
    {
     "name": "stderr",
     "output_type": "stream",
     "text": [
      "100%|██████████| 55/55 [00:03<00:00, 14.21it/s]\n",
      "100%|██████████| 55/55 [00:03<00:00, 14.28it/s]\n"
     ]
    },
    {
     "data": {
      "image/png": "[encoded data removed]",
      "text/plain": [
       "<Figure size 720x432 with 1 Axes>"
      ]
     },
     "metadata": {
      "needs_background": "light"
     },
     "output_type": "display_data"
    }
   ],
   "source": [
    "from matplotlib import pyplot as plt\n",
    "\n",
    "accuracy_scores = calculate_accuracy_scores(pca1, state_space, targets)\n",
    "accuracy_scores_alt = calculate_accuracy_scores(pca1, state_space, targets_alt)\n",
    "\n",
    "plt.figure(figsize=(10, 6))\n",
    "plt.plot(list(accuracy_scores.keys()), list(accuracy_scores.values()), label='Original Targets')\n",
    "plt.plot(list(accuracy_scores_alt.keys()), list(accuracy_scores_alt.values()), label='Alternating Targets')\n",
    "plt.xlabel('Number of PCA Components')\n",
    "plt.ylabel('Accuracy')\n",
    "plt.title('Accuracy vs Number of PCA Components')\n",
    "plt.legend()\n",
    "plt.grid(True)\n",
    "plt.show()\n"
   ]
  },
  {
   "cell_type": "code",
   "execution_count": 47,
   "metadata": {},
   "outputs": [
    {
     "data": {
      "text/plain": [
       "(5478, 5478)"
      ]
     },
     "execution_count": 47,
     "metadata": {},
     "output_type": "execute_result"
    }
   ],
   "source": [
    "state_space.shape\n",
    "\n",
    "from torch import nn\n",
    "class AutoEncoder(nn.Module):\n",
    "    def __init__(self, d_in, d_hidden, activation='relu'):\n",
    "        super().__init__()\n",
    "        self.encoder = nn.Embedding(d_in, d_hidden)\n",
    "        self.decoder = nn.Linear(d_hidden, d_in)\n",
    "        self.activation = nn.ReLU()\n",
    "\n",
    "    def forward(self, x):\n",
    "        x = self.encoder(x)\n",
    "        x = self.activation(x)\n",
    "        x = self.decoder(x)\n",
    "        return x"
   ]
  },
  {
   "cell_type": "code",
   "execution_count": 281,
   "metadata": {},
   "outputs": [
    {
     "name": "stdout",
     "output_type": "stream",
     "text": [
      "Epoch [10/5000], Loss: 8.33911133\n",
      "Epoch [20/5000], Loss: 7.99675417\n",
      "Epoch [30/5000], Loss: 7.65780210\n",
      "Epoch [40/5000], Loss: 7.32029390\n",
      "Epoch [50/5000], Loss: 6.98230934\n",
      "Epoch [60/5000], Loss: 6.64223099\n",
      "Epoch [70/5000], Loss: 6.29880190\n",
      "Epoch [80/5000], Loss: 5.95112324\n",
      "Epoch [90/5000], Loss: 5.59864759\n",
      "Epoch [100/5000], Loss: 5.24126863\n",
      "Epoch [110/5000], Loss: 4.87941265\n",
      "Epoch [120/5000], Loss: 4.51416874\n",
      "Epoch [130/5000], Loss: 4.14745712\n",
      "Epoch [140/5000], Loss: 3.78204679\n",
      "Epoch [150/5000], Loss: 3.42136025\n",
      "Epoch [160/5000], Loss: 3.06926417\n",
      "Epoch [170/5000], Loss: 2.72989607\n",
      "Epoch [180/5000], Loss: 2.40754008\n",
      "Epoch [190/5000], Loss: 2.10626054\n",
      "Epoch [200/5000], Loss: 1.82931900\n",
      "Epoch [210/5000], Loss: 1.57865894\n",
      "Epoch [220/5000], Loss: 1.35487127\n",
      "Epoch [230/5000], Loss: 1.15751398\n",
      "Epoch [240/5000], Loss: 0.98547542\n",
      "Epoch [250/5000], Loss: 0.83721107\n",
      "Epoch [260/5000], Loss: 0.71083081\n",
      "Epoch [270/5000], Loss: 0.60417360\n",
      "Epoch [280/5000], Loss: 0.51493245\n",
      "Epoch [290/5000], Loss: 0.44074553\n",
      "Epoch [300/5000], Loss: 0.37933511\n",
      "Epoch [310/5000], Loss: 0.32859856\n",
      "Epoch [320/5000], Loss: 0.28667143\n",
      "Epoch [330/5000], Loss: 0.25194785\n",
      "Epoch [340/5000], Loss: 0.22308065\n",
      "Epoch [350/5000], Loss: 0.19895616\n",
      "Epoch [360/5000], Loss: 0.17867085\n",
      "Epoch [370/5000], Loss: 0.16149770\n",
      "Epoch [380/5000], Loss: 0.14685476\n",
      "Epoch [390/5000], Loss: 0.13427795\n",
      "Epoch [400/5000], Loss: 0.12339718\n",
      "Epoch [410/5000], Loss: 0.11391746\n",
      "Epoch [420/5000], Loss: 0.10560344\n",
      "Epoch [430/5000], Loss: 0.09826576\n",
      "Epoch [440/5000], Loss: 0.09175196\n",
      "Epoch [450/5000], Loss: 0.08593764\n",
      "Epoch [460/5000], Loss: 0.08072109\n",
      "Epoch [470/5000], Loss: 0.07601909\n",
      "Epoch [480/5000], Loss: 0.07176253\n",
      "Epoch [490/5000], Loss: 0.06789358\n",
      "Epoch [500/5000], Loss: 0.06436399\n",
      "Epoch [510/5000], Loss: 0.06113283\n",
      "Epoch [520/5000], Loss: 0.05816536\n",
      "Epoch [530/5000], Loss: 0.05543195\n",
      "Epoch [540/5000], Loss: 0.05290698\n",
      "Epoch [550/5000], Loss: 0.05056855\n",
      "Epoch [560/5000], Loss: 0.04839768\n",
      "Epoch [570/5000], Loss: 0.04637787\n",
      "Epoch [580/5000], Loss: 0.04449441\n",
      "Epoch [590/5000], Loss: 0.04273454\n",
      "Epoch [600/5000], Loss: 0.04108715\n",
      "Epoch [610/5000], Loss: 0.03954224\n",
      "Epoch [620/5000], Loss: 0.03809090\n",
      "Epoch [630/5000], Loss: 0.03672540\n",
      "Epoch [640/5000], Loss: 0.03543852\n",
      "Epoch [650/5000], Loss: 0.03422400\n",
      "Epoch [660/5000], Loss: 0.03307633\n",
      "Epoch [670/5000], Loss: 0.03199032\n",
      "Epoch [680/5000], Loss: 0.03096134\n",
      "Epoch [690/5000], Loss: 0.02998529\n",
      "Epoch [700/5000], Loss: 0.02905829\n",
      "Epoch [710/5000], Loss: 0.02817695\n",
      "Epoch [720/5000], Loss: 0.02733827\n",
      "Epoch [730/5000], Loss: 0.02653934\n",
      "Epoch [740/5000], Loss: 0.02577740\n",
      "Epoch [750/5000], Loss: 0.02505026\n",
      "Epoch [760/5000], Loss: 0.02435555\n",
      "Epoch [770/5000], Loss: 0.02369138\n",
      "Epoch [780/5000], Loss: 0.02305586\n",
      "Epoch [790/5000], Loss: 0.02244719\n",
      "Epoch [800/5000], Loss: 0.02186390\n",
      "Epoch [810/5000], Loss: 0.02130455\n",
      "Epoch [820/5000], Loss: 0.02076765\n",
      "Epoch [830/5000], Loss: 0.02025206\n",
      "Epoch [840/5000], Loss: 0.01975649\n",
      "Epoch [850/5000], Loss: 0.01928001\n",
      "Epoch [860/5000], Loss: 0.01882157\n",
      "Epoch [870/5000], Loss: 0.01838009\n",
      "Epoch [880/5000], Loss: 0.01795477\n",
      "Epoch [890/5000], Loss: 0.01754484\n",
      "Epoch [900/5000], Loss: 0.01714947\n",
      "Epoch [910/5000], Loss: 0.01676804\n",
      "Epoch [920/5000], Loss: 0.01639978\n",
      "Epoch [930/5000], Loss: 0.01604401\n",
      "Epoch [940/5000], Loss: 0.01570028\n",
      "Epoch [950/5000], Loss: 0.01536791\n",
      "Epoch [960/5000], Loss: 0.01504648\n",
      "Epoch [970/5000], Loss: 0.01473550\n",
      "Epoch [980/5000], Loss: 0.01443435\n",
      "Epoch [990/5000], Loss: 0.01414281\n",
      "Epoch [1000/5000], Loss: 0.01386024\n",
      "Epoch [1010/5000], Loss: 0.01358633\n",
      "Epoch [1020/5000], Loss: 0.01332086\n",
      "Epoch [1030/5000], Loss: 0.01306321\n",
      "Epoch [1040/5000], Loss: 0.01281334\n",
      "Epoch [1050/5000], Loss: 0.01257079\n",
      "Epoch [1060/5000], Loss: 0.01233518\n",
      "Epoch [1070/5000], Loss: 0.01210637\n",
      "Epoch [1080/5000], Loss: 0.01188409\n",
      "Epoch [1090/5000], Loss: 0.01166790\n",
      "Epoch [1100/5000], Loss: 0.01145785\n",
      "Epoch [1110/5000], Loss: 0.01125338\n",
      "Epoch [1120/5000], Loss: 0.01105462\n",
      "Epoch [1130/5000], Loss: 0.01086111\n",
      "Epoch [1140/5000], Loss: 0.01067280\n",
      "Epoch [1150/5000], Loss: 0.01048935\n",
      "Epoch [1160/5000], Loss: 0.01031071\n",
      "Epoch [1170/5000], Loss: 0.01013666\n",
      "Epoch [1180/5000], Loss: 0.00996705\n",
      "Epoch [1190/5000], Loss: 0.00980175\n",
      "Epoch [1200/5000], Loss: 0.00964052\n",
      "Epoch [1210/5000], Loss: 0.00948338\n",
      "Epoch [1220/5000], Loss: 0.00932998\n",
      "Epoch [1230/5000], Loss: 0.00918033\n",
      "Epoch [1240/5000], Loss: 0.00903431\n",
      "Epoch [1250/5000], Loss: 0.00889181\n",
      "Epoch [1260/5000], Loss: 0.00875258\n",
      "Epoch [1270/5000], Loss: 0.00861669\n",
      "Epoch [1280/5000], Loss: 0.00848393\n",
      "Epoch [1290/5000], Loss: 0.00835421\n",
      "Epoch [1300/5000], Loss: 0.00822742\n",
      "Epoch [1310/5000], Loss: 0.00810353\n",
      "Epoch [1320/5000], Loss: 0.00798254\n",
      "Epoch [1330/5000], Loss: 0.00786411\n",
      "Epoch [1340/5000], Loss: 0.00774827\n",
      "Epoch [1350/5000], Loss: 0.00763495\n",
      "Epoch [1360/5000], Loss: 0.00752417\n",
      "Epoch [1370/5000], Loss: 0.00741571\n",
      "Epoch [1380/5000], Loss: 0.00730957\n",
      "Epoch [1390/5000], Loss: 0.00720563\n",
      "Epoch [1400/5000], Loss: 0.00710401\n",
      "Epoch [1410/5000], Loss: 0.00700436\n",
      "Epoch [1420/5000], Loss: 0.00690675\n",
      "Epoch [1430/5000], Loss: 0.00681124\n",
      "Epoch [1440/5000], Loss: 0.00671767\n",
      "Epoch [1450/5000], Loss: 0.00662592\n",
      "Epoch [1460/5000], Loss: 0.00653607\n",
      "Epoch [1470/5000], Loss: 0.00644798\n",
      "Epoch [1480/5000], Loss: 0.00636160\n",
      "Epoch [1490/5000], Loss: 0.00627697\n",
      "Epoch [1500/5000], Loss: 0.00619393\n",
      "Epoch [1510/5000], Loss: 0.00611248\n",
      "Epoch [1520/5000], Loss: 0.00603264\n",
      "Epoch [1530/5000], Loss: 0.00595428\n",
      "Epoch [1540/5000], Loss: 0.00587741\n",
      "Epoch [1550/5000], Loss: 0.00580202\n",
      "Epoch [1560/5000], Loss: 0.00572799\n",
      "Epoch [1570/5000], Loss: 0.00565535\n",
      "Epoch [1580/5000], Loss: 0.00558406\n",
      "Epoch [1590/5000], Loss: 0.00551404\n",
      "Epoch [1600/5000], Loss: 0.00544534\n",
      "Epoch [1610/5000], Loss: 0.00537782\n",
      "Epoch [1620/5000], Loss: 0.00531139\n",
      "Epoch [1630/5000], Loss: 0.00524634\n",
      "Epoch [1640/5000], Loss: 0.00518236\n",
      "Epoch [1650/5000], Loss: 0.00511949\n",
      "Epoch [1660/5000], Loss: 0.00505773\n",
      "Epoch [1670/5000], Loss: 0.00499701\n",
      "Epoch [1680/5000], Loss: 0.00493740\n",
      "Epoch [1690/5000], Loss: 0.00487874\n",
      "Epoch [1700/5000], Loss: 0.00482113\n",
      "Epoch [1710/5000], Loss: 0.00476446\n",
      "Epoch [1720/5000], Loss: 0.00470879\n",
      "Epoch [1730/5000], Loss: 0.00465399\n",
      "Epoch [1740/5000], Loss: 0.00460012\n",
      "Epoch [1750/5000], Loss: 0.00454714\n",
      "Epoch [1760/5000], Loss: 0.00449504\n",
      "Epoch [1770/5000], Loss: 0.00444372\n",
      "Epoch [1780/5000], Loss: 0.00439328\n",
      "Epoch [1790/5000], Loss: 0.00434366\n",
      "Epoch [1800/5000], Loss: 0.00429483\n",
      "Epoch [1810/5000], Loss: 0.00424676\n",
      "Epoch [1820/5000], Loss: 0.00419947\n",
      "Epoch [1830/5000], Loss: 0.00415290\n",
      "Epoch [1840/5000], Loss: 0.00410713\n",
      "Epoch [1850/5000], Loss: 0.00406198\n",
      "Epoch [1860/5000], Loss: 0.00401753\n",
      "Epoch [1870/5000], Loss: 0.00397377\n",
      "Epoch [1880/5000], Loss: 0.00393077\n",
      "Epoch [1890/5000], Loss: 0.00388831\n",
      "Epoch [1900/5000], Loss: 0.00384655\n",
      "Epoch [1910/5000], Loss: 0.00380548\n",
      "Epoch [1920/5000], Loss: 0.00376492\n",
      "Epoch [1930/5000], Loss: 0.00372497\n",
      "Epoch [1940/5000], Loss: 0.00368569\n",
      "Epoch [1950/5000], Loss: 0.00364691\n",
      "Epoch [1960/5000], Loss: 0.00360868\n",
      "Epoch [1970/5000], Loss: 0.00357116\n",
      "Epoch [1980/5000], Loss: 0.00353401\n",
      "Epoch [1990/5000], Loss: 0.00349746\n",
      "Epoch [2000/5000], Loss: 0.00346142\n",
      "Epoch [2010/5000], Loss: 0.00342600\n",
      "Epoch [2020/5000], Loss: 0.00339093\n",
      "Epoch [2030/5000], Loss: 0.00335648\n",
      "Epoch [2040/5000], Loss: 0.00332239\n",
      "Epoch [2050/5000], Loss: 0.00328889\n",
      "Epoch [2060/5000], Loss: 0.00325583\n",
      "Epoch [2070/5000], Loss: 0.00322315\n",
      "Epoch [2080/5000], Loss: 0.00319098\n",
      "Epoch [2090/5000], Loss: 0.00315932\n",
      "Epoch [2100/5000], Loss: 0.00312800\n",
      "Epoch [2110/5000], Loss: 0.00309714\n",
      "Epoch [2120/5000], Loss: 0.00306671\n",
      "Epoch [2130/5000], Loss: 0.00303666\n",
      "Epoch [2140/5000], Loss: 0.00300704\n",
      "Epoch [2150/5000], Loss: 0.00297782\n",
      "Epoch [2160/5000], Loss: 0.00294894\n",
      "Epoch [2170/5000], Loss: 0.00292045\n",
      "Epoch [2180/5000], Loss: 0.00289237\n",
      "Epoch [2190/5000], Loss: 0.00286467\n",
      "Epoch [2200/5000], Loss: 0.00283731\n",
      "Epoch [2210/5000], Loss: 0.00281028\n",
      "Epoch [2220/5000], Loss: 0.00278358\n",
      "Epoch [2230/5000], Loss: 0.00275731\n",
      "Epoch [2240/5000], Loss: 0.00273139\n",
      "Epoch [2250/5000], Loss: 0.00270573\n",
      "Epoch [2260/5000], Loss: 0.00268037\n",
      "Epoch [2270/5000], Loss: 0.00265536\n",
      "Epoch [2280/5000], Loss: 0.00263069\n",
      "Epoch [2290/5000], Loss: 0.00260633\n",
      "Epoch [2300/5000], Loss: 0.00258222\n",
      "Epoch [2310/5000], Loss: 0.00255853\n",
      "Epoch [2320/5000], Loss: 0.00253499\n",
      "Epoch [2330/5000], Loss: 0.00251190\n",
      "Epoch [2340/5000], Loss: 0.00248888\n",
      "Epoch [2350/5000], Loss: 0.00246628\n",
      "Epoch [2360/5000], Loss: 0.00244397\n",
      "Epoch [2370/5000], Loss: 0.00242189\n",
      "Epoch [2380/5000], Loss: 0.00240005\n",
      "Epoch [2390/5000], Loss: 0.00237853\n",
      "Epoch [2400/5000], Loss: 0.00235729\n",
      "Epoch [2410/5000], Loss: 0.00233625\n",
      "Epoch [2420/5000], Loss: 0.00231547\n",
      "Epoch [2430/5000], Loss: 0.00229491\n",
      "Epoch [2440/5000], Loss: 0.00227460\n",
      "Epoch [2450/5000], Loss: 0.00225456\n",
      "Epoch [2460/5000], Loss: 0.00223475\n",
      "Epoch [2470/5000], Loss: 0.00221510\n",
      "Epoch [2480/5000], Loss: 0.00219587\n",
      "Epoch [2490/5000], Loss: 0.00217670\n",
      "Epoch [2500/5000], Loss: 0.00215778\n",
      "Epoch [2510/5000], Loss: 0.00213908\n",
      "Epoch [2520/5000], Loss: 0.00212058\n",
      "Epoch [2530/5000], Loss: 0.00210226\n",
      "Epoch [2540/5000], Loss: 0.00208429\n",
      "Epoch [2550/5000], Loss: 0.00206642\n",
      "Epoch [2560/5000], Loss: 0.00204877\n",
      "Epoch [2570/5000], Loss: 0.00203131\n",
      "Epoch [2580/5000], Loss: 0.00201406\n",
      "Epoch [2590/5000], Loss: 0.00199700\n",
      "Epoch [2600/5000], Loss: 0.00198009\n",
      "Epoch [2610/5000], Loss: 0.00196342\n",
      "Epoch [2620/5000], Loss: 0.00194690\n",
      "Epoch [2630/5000], Loss: 0.00193065\n",
      "Epoch [2640/5000], Loss: 0.00191443\n",
      "Epoch [2650/5000], Loss: 0.00189847\n",
      "Epoch [2660/5000], Loss: 0.00188267\n",
      "Epoch [2670/5000], Loss: 0.00186712\n",
      "Epoch [2680/5000], Loss: 0.00185158\n",
      "Epoch [2690/5000], Loss: 0.00183629\n",
      "Epoch [2700/5000], Loss: 0.00182116\n",
      "Epoch [2710/5000], Loss: 0.00180625\n",
      "Epoch [2720/5000], Loss: 0.00179146\n",
      "Epoch [2730/5000], Loss: 0.00177684\n",
      "Epoch [2740/5000], Loss: 0.00176230\n",
      "Epoch [2750/5000], Loss: 0.00174797\n",
      "Epoch [2760/5000], Loss: 0.00173382\n",
      "Epoch [2770/5000], Loss: 0.00171976\n",
      "Epoch [2780/5000], Loss: 0.00170582\n",
      "Epoch [2790/5000], Loss: 0.00169210\n",
      "Epoch [2800/5000], Loss: 0.00167848\n",
      "Epoch [2810/5000], Loss: 0.00166500\n",
      "Epoch [2820/5000], Loss: 0.00165173\n",
      "Epoch [2830/5000], Loss: 0.00163857\n",
      "Epoch [2840/5000], Loss: 0.00162550\n",
      "Epoch [2850/5000], Loss: 0.00161265\n",
      "Epoch [2860/5000], Loss: 0.00159985\n",
      "Epoch [2870/5000], Loss: 0.00158717\n",
      "Epoch [2880/5000], Loss: 0.00157461\n",
      "Epoch [2890/5000], Loss: 0.00156225\n",
      "Epoch [2900/5000], Loss: 0.00154988\n",
      "Epoch [2910/5000], Loss: 0.00153781\n",
      "Epoch [2920/5000], Loss: 0.00152577\n",
      "Epoch [2930/5000], Loss: 0.00151386\n",
      "Epoch [2940/5000], Loss: 0.00150211\n",
      "Epoch [2950/5000], Loss: 0.00149042\n",
      "Epoch [2960/5000], Loss: 0.00147885\n",
      "Epoch [2970/5000], Loss: 0.00146736\n",
      "Epoch [2980/5000], Loss: 0.00145606\n",
      "Epoch [2990/5000], Loss: 0.00144484\n",
      "Epoch [3000/5000], Loss: 0.00143376\n",
      "Epoch [3010/5000], Loss: 0.00142278\n",
      "Epoch [3020/5000], Loss: 0.00141184\n",
      "Epoch [3030/5000], Loss: 0.00140103\n",
      "Epoch [3040/5000], Loss: 0.00139034\n",
      "Epoch [3050/5000], Loss: 0.00137977\n",
      "Epoch [3060/5000], Loss: 0.00136928\n",
      "Epoch [3070/5000], Loss: 0.00135894\n",
      "Epoch [3080/5000], Loss: 0.00134858\n",
      "Epoch [3090/5000], Loss: 0.00133843\n",
      "Epoch [3100/5000], Loss: 0.00132833\n",
      "Epoch [3110/5000], Loss: 0.00131838\n",
      "Epoch [3120/5000], Loss: 0.00130849\n",
      "Epoch [3130/5000], Loss: 0.00129863\n",
      "Epoch [3140/5000], Loss: 0.00128891\n",
      "Epoch [3150/5000], Loss: 0.00127931\n",
      "Epoch [3160/5000], Loss: 0.00126981\n",
      "Epoch [3170/5000], Loss: 0.00126034\n",
      "Epoch [3180/5000], Loss: 0.00125093\n",
      "Epoch [3190/5000], Loss: 0.00124174\n",
      "Epoch [3200/5000], Loss: 0.00123254\n",
      "Epoch [3210/5000], Loss: 0.00122340\n",
      "Epoch [3220/5000], Loss: 0.00121444\n",
      "Epoch [3230/5000], Loss: 0.00120550\n",
      "Epoch [3240/5000], Loss: 0.00119666\n",
      "Epoch [3250/5000], Loss: 0.00118786\n",
      "Epoch [3260/5000], Loss: 0.00117917\n",
      "Epoch [3270/5000], Loss: 0.00117057\n",
      "Epoch [3280/5000], Loss: 0.00116208\n",
      "Epoch [3290/5000], Loss: 0.00115357\n",
      "Epoch [3300/5000], Loss: 0.00114520\n",
      "Epoch [3310/5000], Loss: 0.00113693\n",
      "Epoch [3320/5000], Loss: 0.00112866\n",
      "Epoch [3330/5000], Loss: 0.00112048\n",
      "Epoch [3340/5000], Loss: 0.00111245\n",
      "Epoch [3350/5000], Loss: 0.00110440\n",
      "Epoch [3360/5000], Loss: 0.00109653\n",
      "Epoch [3370/5000], Loss: 0.00108858\n",
      "Epoch [3380/5000], Loss: 0.00108080\n",
      "Epoch [3390/5000], Loss: 0.00107308\n",
      "Epoch [3400/5000], Loss: 0.00106544\n",
      "Epoch [3410/5000], Loss: 0.00105781\n",
      "Epoch [3420/5000], Loss: 0.00105027\n",
      "Epoch [3430/5000], Loss: 0.00104279\n",
      "Epoch [3440/5000], Loss: 0.00103545\n",
      "Epoch [3450/5000], Loss: 0.00102806\n",
      "Epoch [3460/5000], Loss: 0.00102076\n",
      "Epoch [3470/5000], Loss: 0.00101360\n",
      "Epoch [3480/5000], Loss: 0.00100645\n",
      "Epoch [3490/5000], Loss: 0.00099937\n",
      "Epoch [3500/5000], Loss: 0.00099239\n",
      "Epoch [3510/5000], Loss: 0.00098540\n",
      "Epoch [3520/5000], Loss: 0.00097852\n",
      "Epoch [3530/5000], Loss: 0.00097166\n",
      "Epoch [3540/5000], Loss: 0.00096487\n",
      "Epoch [3550/5000], Loss: 0.00095814\n",
      "Epoch [3560/5000], Loss: 0.00095146\n",
      "Epoch [3570/5000], Loss: 0.00094483\n",
      "Epoch [3580/5000], Loss: 0.00093825\n",
      "Epoch [3590/5000], Loss: 0.00093175\n",
      "Epoch [3600/5000], Loss: 0.00092538\n",
      "Epoch [3610/5000], Loss: 0.00091899\n",
      "Epoch [3620/5000], Loss: 0.00091260\n",
      "Epoch [3630/5000], Loss: 0.00090632\n",
      "Epoch [3640/5000], Loss: 0.00090003\n",
      "Epoch [3650/5000], Loss: 0.00089390\n",
      "Epoch [3660/5000], Loss: 0.00088775\n",
      "Epoch [3670/5000], Loss: 0.00088166\n",
      "Epoch [3680/5000], Loss: 0.00087563\n",
      "Epoch [3690/5000], Loss: 0.00086965\n",
      "Epoch [3700/5000], Loss: 0.00086370\n",
      "Epoch [3710/5000], Loss: 0.00085784\n",
      "Epoch [3720/5000], Loss: 0.00085200\n",
      "Epoch [3730/5000], Loss: 0.00084622\n",
      "Epoch [3740/5000], Loss: 0.00084046\n",
      "Epoch [3750/5000], Loss: 0.00083475\n",
      "Epoch [3760/5000], Loss: 0.00082910\n",
      "Epoch [3770/5000], Loss: 0.00082348\n",
      "Epoch [3780/5000], Loss: 0.00081792\n",
      "Epoch [3790/5000], Loss: 0.00081240\n",
      "Epoch [3800/5000], Loss: 0.00080690\n",
      "Epoch [3810/5000], Loss: 0.00080151\n",
      "Epoch [3820/5000], Loss: 0.00079617\n",
      "Epoch [3830/5000], Loss: 0.00079084\n",
      "Epoch [3840/5000], Loss: 0.00078552\n",
      "Epoch [3850/5000], Loss: 0.00078027\n",
      "Epoch [3860/5000], Loss: 0.00077509\n",
      "Epoch [3870/5000], Loss: 0.00076988\n",
      "Epoch [3880/5000], Loss: 0.00076476\n",
      "Epoch [3890/5000], Loss: 0.00075960\n",
      "Epoch [3900/5000], Loss: 0.00075458\n",
      "Epoch [3910/5000], Loss: 0.00074959\n",
      "Epoch [3920/5000], Loss: 0.00074457\n",
      "Epoch [3930/5000], Loss: 0.00073964\n",
      "Epoch [3940/5000], Loss: 0.00073480\n",
      "Epoch [3950/5000], Loss: 0.00072994\n",
      "Epoch [3960/5000], Loss: 0.00072509\n",
      "Epoch [3970/5000], Loss: 0.00072031\n",
      "Epoch [3980/5000], Loss: 0.00071554\n",
      "Epoch [3990/5000], Loss: 0.00071090\n",
      "Epoch [4000/5000], Loss: 0.00070619\n",
      "Epoch [4010/5000], Loss: 0.00070156\n",
      "Epoch [4020/5000], Loss: 0.00069700\n",
      "Epoch [4030/5000], Loss: 0.00069244\n",
      "Epoch [4040/5000], Loss: 0.00068793\n",
      "Epoch [4050/5000], Loss: 0.00068345\n",
      "Epoch [4060/5000], Loss: 0.00067896\n",
      "Epoch [4070/5000], Loss: 0.00067455\n",
      "Epoch [4080/5000], Loss: 0.00067016\n",
      "Epoch [4090/5000], Loss: 0.00066582\n",
      "Epoch [4100/5000], Loss: 0.00066148\n",
      "Epoch [4110/5000], Loss: 0.00065721\n",
      "Epoch [4120/5000], Loss: 0.00065297\n",
      "Epoch [4130/5000], Loss: 0.00064865\n",
      "Epoch [4140/5000], Loss: 0.00064446\n",
      "Epoch [4150/5000], Loss: 0.00064030\n",
      "Epoch [4160/5000], Loss: 0.00063619\n",
      "Epoch [4170/5000], Loss: 0.00063210\n",
      "Epoch [4180/5000], Loss: 0.00062804\n",
      "Epoch [4190/5000], Loss: 0.00062406\n",
      "Epoch [4200/5000], Loss: 0.00062006\n",
      "Epoch [4210/5000], Loss: 0.00061610\n",
      "Epoch [4220/5000], Loss: 0.00061210\n",
      "Epoch [4230/5000], Loss: 0.00060813\n",
      "Epoch [4240/5000], Loss: 0.00060423\n",
      "Epoch [4250/5000], Loss: 0.00060039\n",
      "Epoch [4260/5000], Loss: 0.00059657\n",
      "Epoch [4270/5000], Loss: 0.00059278\n",
      "Epoch [4280/5000], Loss: 0.00058902\n",
      "Epoch [4290/5000], Loss: 0.00058525\n",
      "Epoch [4300/5000], Loss: 0.00058158\n",
      "Epoch [4310/5000], Loss: 0.00057787\n",
      "Epoch [4320/5000], Loss: 0.00057419\n",
      "Epoch [4330/5000], Loss: 0.00057054\n",
      "Epoch [4340/5000], Loss: 0.00056692\n",
      "Epoch [4350/5000], Loss: 0.00056333\n",
      "Epoch [4360/5000], Loss: 0.00055981\n",
      "Epoch [4370/5000], Loss: 0.00055629\n",
      "Epoch [4380/5000], Loss: 0.00055274\n",
      "Epoch [4390/5000], Loss: 0.00054927\n",
      "Epoch [4400/5000], Loss: 0.00054577\n",
      "Epoch [4410/5000], Loss: 0.00054234\n",
      "Epoch [4420/5000], Loss: 0.00053898\n",
      "Epoch [4430/5000], Loss: 0.00053557\n",
      "Epoch [4440/5000], Loss: 0.00053221\n",
      "Epoch [4450/5000], Loss: 0.00052885\n",
      "Epoch [4460/5000], Loss: 0.00052555\n",
      "Epoch [4470/5000], Loss: 0.00052231\n",
      "Epoch [4480/5000], Loss: 0.00051908\n",
      "Epoch [4490/5000], Loss: 0.00051582\n",
      "Epoch [4500/5000], Loss: 0.00051259\n",
      "Epoch [4510/5000], Loss: 0.00050945\n",
      "Epoch [4520/5000], Loss: 0.00050627\n",
      "Epoch [4530/5000], Loss: 0.00050310\n",
      "Epoch [4540/5000], Loss: 0.00049998\n",
      "Epoch [4550/5000], Loss: 0.00049691\n",
      "Epoch [4560/5000], Loss: 0.00049377\n",
      "Epoch [4570/5000], Loss: 0.00049068\n",
      "Epoch [4580/5000], Loss: 0.00048763\n",
      "Epoch [4590/5000], Loss: 0.00048464\n",
      "Epoch [4600/5000], Loss: 0.00048166\n",
      "Epoch [4610/5000], Loss: 0.00047866\n",
      "Epoch [4620/5000], Loss: 0.00047569\n",
      "Epoch [4630/5000], Loss: 0.00047278\n",
      "Epoch [4640/5000], Loss: 0.00046984\n",
      "Epoch [4650/5000], Loss: 0.00046695\n",
      "Epoch [4660/5000], Loss: 0.00046409\n",
      "Epoch [4670/5000], Loss: 0.00046122\n",
      "Epoch [4680/5000], Loss: 0.00045841\n",
      "Epoch [4690/5000], Loss: 0.00045564\n",
      "Epoch [4700/5000], Loss: 0.00045283\n",
      "Epoch [4710/5000], Loss: 0.00045001\n",
      "Epoch [4720/5000], Loss: 0.00044731\n",
      "Epoch [4730/5000], Loss: 0.00044456\n",
      "Epoch [4740/5000], Loss: 0.00044182\n",
      "Epoch [4750/5000], Loss: 0.00043910\n",
      "Epoch [4760/5000], Loss: 0.00043644\n",
      "Epoch [4770/5000], Loss: 0.00043372\n",
      "Epoch [4780/5000], Loss: 0.00043111\n",
      "Epoch [4790/5000], Loss: 0.00042846\n",
      "Epoch [4800/5000], Loss: 0.00042588\n",
      "Epoch [4810/5000], Loss: 0.00042331\n",
      "Epoch [4820/5000], Loss: 0.00042075\n",
      "Epoch [4830/5000], Loss: 0.00041823\n",
      "Epoch [4840/5000], Loss: 0.00041570\n",
      "Epoch [4850/5000], Loss: 0.00041320\n",
      "Epoch [4860/5000], Loss: 0.00041071\n",
      "Epoch [4870/5000], Loss: 0.00040819\n",
      "Epoch [4880/5000], Loss: 0.00040570\n",
      "Epoch [4890/5000], Loss: 0.00040327\n",
      "Epoch [4900/5000], Loss: 0.00040082\n",
      "Epoch [4910/5000], Loss: 0.00039839\n",
      "Epoch [4920/5000], Loss: 0.00039598\n",
      "Epoch [4930/5000], Loss: 0.00039360\n",
      "Epoch [4940/5000], Loss: 0.00039116\n",
      "Epoch [4950/5000], Loss: 0.00038885\n",
      "Epoch [4960/5000], Loss: 0.00038647\n",
      "Epoch [4970/5000], Loss: 0.00038421\n",
      "Epoch [4980/5000], Loss: 0.00038189\n",
      "Epoch [4990/5000], Loss: 0.00037961\n",
      "Epoch [5000/5000], Loss: 0.00037732\n"
     ]
    }
   ],
   "source": [
    "import torch\n",
    "from torch import nn\n",
    "\n",
    "\n",
    "class AutoEncoder(nn.Module):\n",
    "    def __init__(self, d_in, d_hidden):\n",
    "        super().__init__()\n",
    "        self.encoder = nn.Embedding(d_in, d_hidden)\n",
    "        self.decoder = nn.Linear(d_hidden, d_in)\n",
    "        self.activation = nn.ReLU()\n",
    "\n",
    "    def forward(self, x):\n",
    "        x = self.encoder(x)\n",
    "        x = self.activation(x)\n",
    "        x = self.decoder(x)\n",
    "        return x\n",
    "\n",
    "\n",
    "def train_autoencoder(\n",
    "    model, weights, num_epochs=100, learning_rate=0.001, device=\"cuda\"\n",
    "):\n",
    "    if isinstance(weights, np.ndarray):\n",
    "        weights = torch.tensor(weights, dtype=torch.float32)\n",
    "\n",
    "    model = model.to(device)\n",
    "    weights = weights.to(device)\n",
    "\n",
    "    optimizer = torch.optim.Adam(model.parameters(), lr=learning_rate)\n",
    "    criterion = nn.CrossEntropyLoss(weight=weights)\n",
    "\n",
    "    for epoch in range(num_epochs):\n",
    "        optimizer.zero_grad()\n",
    "\n",
    "        # Create input tensor (indices)\n",
    "        input_indices = torch.arange(weights.shape[0], device=device)\n",
    "\n",
    "        # Forward pass\n",
    "        output = model(input_indices)\n",
    "\n",
    "        # Compute loss\n",
    "        loss = criterion(output, input_indices)\n",
    "\n",
    "        # Backward pass and optimize\n",
    "        loss.backward()\n",
    "        optimizer.step()\n",
    "\n",
    "        if (epoch + 1) % 10 == 0:\n",
    "            print(f\"Epoch [{epoch+1}/{num_epochs}], Loss: {loss.item():.8f}\")\n",
    "\n",
    "    return model\n",
    "\n",
    "\n",
    "model = AutoEncoder(weight.shape[0], 64)\n",
    "device = torch.device(\"cuda\" if torch.cuda.is_available() else \"cpu\")\n",
    "model = train_autoencoder(model, weight, device=device, num_epochs=5000)\n"
   ]
  },
  {
   "cell_type": "code",
   "execution_count": null,
   "metadata": {},
   "outputs": [],
   "source": []
  },
  {
   "cell_type": "code",
   "execution_count": 238,
   "metadata": {},
   "outputs": [
    {
     "data": {
      "text/plain": [
       "(tensor(0.9993, device='cuda:0', grad_fn=<MinBackward1>),\n",
       " tensor(0.9999, device='cuda:0', grad_fn=<MaxBackward1>))"
      ]
     },
     "execution_count": 238,
     "metadata": {},
     "output_type": "execute_result"
    }
   ],
   "source": [
    "input_indices = torch.arange(weight.shape[0], device=device)\n",
    "out = model(input_indices)\n",
    "from torch.nn.functional import softmax\n",
    "out = softmax(out, dim=1)\n",
    "\n",
    "out.max(dim=1).values.min(), out.max(dim=1).values.max()"
   ]
  },
  {
   "cell_type": "code",
   "execution_count": 235,
   "metadata": {},
   "outputs": [
    {
     "data": {
      "text/plain": [
       "torch.return_types.max(\n",
       "values=tensor([0.0002, 0.0002, 0.0002,  ..., 0.0002, 0.0002, 0.0002], device='cuda:0',\n",
       "       grad_fn=<MaxBackward0>),\n",
       "indices=tensor([0, 0, 0,  ..., 0, 0, 0], device='cuda:0'))"
      ]
     },
     "execution_count": 235,
     "metadata": {},
     "output_type": "execute_result"
    }
   ],
   "source": []
  },
  {
   "cell_type": "code",
   "execution_count": 284,
   "metadata": {},
   "outputs": [],
   "source": [
    "# encode\n",
    "\n",
    "encoded = model.encoder(torch.arange(weight.shape[0], device=device))\n",
    "encoded = model.activation(encoded)\n",
    "decoded = softmax(model.decoder(encoded), dim=1)\n"
   ]
  },
  {
   "cell_type": "code",
   "execution_count": 222,
   "metadata": {},
   "outputs": [],
   "source": [
    "# encoded.shape\n",
    "\n",
    "data = encoded.cpu().detach().numpy()\n",
    "\n",
    "lin_reg = LinearRegression()\n",
    "lin_reg.fit(data, targets[:, 20])\n",
    "preds = lin_reg.predict(data)\n"
   ]
  },
  {
   "cell_type": "code",
   "execution_count": null,
   "metadata": {},
   "outputs": [],
   "source": []
  },
  {
   "cell_type": "code",
   "execution_count": 279,
   "metadata": {},
   "outputs": [
    {
     "data": {
      "text/plain": [
       "0.9971847036864937"
      ]
     },
     "execution_count": 279,
     "metadata": {},
     "output_type": "execute_result"
    }
   ],
   "source": [
    "# encoded.shape\n",
    "\n",
    "data = encoded.cpu().detach().numpy()\n",
    "\n",
    "lin_reg = LinearRegression()\n",
    "lin_reg.fit(data, targets[:, 20])\n",
    "preds = lin_reg.predict(data)\n",
    "roc_auc_score(targets[:, 20], preds)"
   ]
  },
  {
   "cell_type": "code",
   "execution_count": 283,
   "metadata": {},
   "outputs": [
    {
     "data": {
      "text/plain": [
       "0.5653879826175896"
      ]
     },
     "execution_count": 283,
     "metadata": {},
     "output_type": "execute_result"
    }
   ],
   "source": [
    "# encoded.shape\n",
    "\n",
    "data = encoded.cpu().detach().numpy()\n",
    "\n",
    "lin_reg = LinearRegression()\n",
    "lin_reg.fit(data, targets[:, 20])\n",
    "preds = lin_reg.predict(data)\n",
    "roc_auc_score(targets[:, 20], preds)"
   ]
  },
  {
   "cell_type": "code",
   "execution_count": 287,
   "metadata": {},
   "outputs": [
    {
     "ename": "LinAlgError",
     "evalue": "SVD did not converge in Linear Least Squares",
     "output_type": "error",
     "traceback": [
      "\u001b[0;31m---------------------------------------------------------------------------\u001b[0m",
      "\u001b[0;31mLinAlgError\u001b[0m                               Traceback (most recent call last)",
      "\u001b[0;32m/tmp/ipykernel_26635/2508572178.py\u001b[0m in \u001b[0;36m<module>\u001b[0;34m\u001b[0m\n\u001b[1;32m      4\u001b[0m \u001b[0;34m\u001b[0m\u001b[0m\n\u001b[1;32m      5\u001b[0m \u001b[0mlin_reg\u001b[0m \u001b[0;34m=\u001b[0m \u001b[0mLinearRegression\u001b[0m\u001b[0;34m(\u001b[0m\u001b[0;34m)\u001b[0m\u001b[0;34m\u001b[0m\u001b[0;34m\u001b[0m\u001b[0m\n\u001b[0;32m----> 6\u001b[0;31m \u001b[0mlin_reg\u001b[0m\u001b[0;34m.\u001b[0m\u001b[0mfit\u001b[0m\u001b[0;34m(\u001b[0m\u001b[0mdatad\u001b[0m\u001b[0;34m,\u001b[0m \u001b[0mtargets\u001b[0m\u001b[0;34m[\u001b[0m\u001b[0;34m:\u001b[0m\u001b[0;34m,\u001b[0m \u001b[0;36m20\u001b[0m\u001b[0;34m]\u001b[0m\u001b[0;34m)\u001b[0m\u001b[0;34m\u001b[0m\u001b[0;34m\u001b[0m\u001b[0m\n\u001b[0m\u001b[1;32m      7\u001b[0m \u001b[0mpreds\u001b[0m \u001b[0;34m=\u001b[0m \u001b[0mlin_reg\u001b[0m\u001b[0;34m.\u001b[0m\u001b[0mpredict\u001b[0m\u001b[0;34m(\u001b[0m\u001b[0mdatad\u001b[0m\u001b[0;34m)\u001b[0m\u001b[0;34m\u001b[0m\u001b[0;34m\u001b[0m\u001b[0m\n\u001b[1;32m      8\u001b[0m \u001b[0mroc_auc_score\u001b[0m\u001b[0;34m(\u001b[0m\u001b[0mtargets\u001b[0m\u001b[0;34m[\u001b[0m\u001b[0;34m:\u001b[0m\u001b[0;34m,\u001b[0m \u001b[0;36m20\u001b[0m\u001b[0;34m]\u001b[0m\u001b[0;34m,\u001b[0m \u001b[0mpreds\u001b[0m\u001b[0;34m)\u001b[0m\u001b[0;34m\u001b[0m\u001b[0;34m\u001b[0m\u001b[0m\n",
      "\u001b[0;32m/usr/lib/python3/dist-packages/sklearn/linear_model/_base.py\u001b[0m in \u001b[0;36mfit\u001b[0;34m(self, X, y, sample_weight)\u001b[0m\n\u001b[1;32m    545\u001b[0m         \u001b[0;32melse\u001b[0m\u001b[0;34m:\u001b[0m\u001b[0;34m\u001b[0m\u001b[0;34m\u001b[0m\u001b[0m\n\u001b[1;32m    546\u001b[0m             \u001b[0mself\u001b[0m\u001b[0;34m.\u001b[0m\u001b[0mcoef_\u001b[0m\u001b[0;34m,\u001b[0m \u001b[0mself\u001b[0m\u001b[0;34m.\u001b[0m\u001b[0m_residues\u001b[0m\u001b[0;34m,\u001b[0m \u001b[0mself\u001b[0m\u001b[0;34m.\u001b[0m\u001b[0mrank_\u001b[0m\u001b[0;34m,\u001b[0m \u001b[0mself\u001b[0m\u001b[0;34m.\u001b[0m\u001b[0msingular_\u001b[0m \u001b[0;34m=\u001b[0m\u001b[0;31m \u001b[0m\u001b[0;31m\\\u001b[0m\u001b[0;34m\u001b[0m\u001b[0;34m\u001b[0m\u001b[0m\n\u001b[0;32m--> 547\u001b[0;31m                 \u001b[0mlinalg\u001b[0m\u001b[0;34m.\u001b[0m\u001b[0mlstsq\u001b[0m\u001b[0;34m(\u001b[0m\u001b[0mX\u001b[0m\u001b[0;34m,\u001b[0m \u001b[0my\u001b[0m\u001b[0;34m)\u001b[0m\u001b[0;34m\u001b[0m\u001b[0;34m\u001b[0m\u001b[0m\n\u001b[0m\u001b[1;32m    548\u001b[0m             \u001b[0mself\u001b[0m\u001b[0;34m.\u001b[0m\u001b[0mcoef_\u001b[0m \u001b[0;34m=\u001b[0m \u001b[0mself\u001b[0m\u001b[0;34m.\u001b[0m\u001b[0mcoef_\u001b[0m\u001b[0;34m.\u001b[0m\u001b[0mT\u001b[0m\u001b[0;34m\u001b[0m\u001b[0;34m\u001b[0m\u001b[0m\n\u001b[1;32m    549\u001b[0m \u001b[0;34m\u001b[0m\u001b[0m\n",
      "\u001b[0;32m/usr/lib/python3/dist-packages/scipy/linalg/_basic.py\u001b[0m in \u001b[0;36mlstsq\u001b[0;34m(a, b, cond, overwrite_a, overwrite_b, check_finite, lapack_driver)\u001b[0m\n\u001b[1;32m   1210\u001b[0m                                                cond, False, False)\n\u001b[1;32m   1211\u001b[0m         \u001b[0;32mif\u001b[0m \u001b[0minfo\u001b[0m \u001b[0;34m>\u001b[0m \u001b[0;36m0\u001b[0m\u001b[0;34m:\u001b[0m\u001b[0;34m\u001b[0m\u001b[0;34m\u001b[0m\u001b[0m\n\u001b[0;32m-> 1212\u001b[0;31m             \u001b[0;32mraise\u001b[0m \u001b[0mLinAlgError\u001b[0m\u001b[0;34m(\u001b[0m\u001b[0;34m\"SVD did not converge in Linear Least Squares\"\u001b[0m\u001b[0;34m)\u001b[0m\u001b[0;34m\u001b[0m\u001b[0;34m\u001b[0m\u001b[0m\n\u001b[0m\u001b[1;32m   1213\u001b[0m         \u001b[0;32mif\u001b[0m \u001b[0minfo\u001b[0m \u001b[0;34m<\u001b[0m \u001b[0;36m0\u001b[0m\u001b[0;34m:\u001b[0m\u001b[0;34m\u001b[0m\u001b[0;34m\u001b[0m\u001b[0m\n\u001b[1;32m   1214\u001b[0m             raise ValueError('illegal value in %d-th argument of internal %s'\n",
      "\u001b[0;31mLinAlgError\u001b[0m: SVD did not converge in Linear Least Squares"
     ]
    }
   ],
   "source": [
    "# encoded.shape\n",
    "\n",
    "datad = decoded.cpu().detach().numpy()\n",
    "\n",
    "lin_reg = LinearRegression()\n",
    "lin_reg.fit(datad, targets[:, 20])\n",
    "preds = lin_reg.predict(datad)\n",
    "roc_auc_score(targets[:, 20], preds)"
   ]
  },
  {
   "cell_type": "code",
   "execution_count": null,
   "metadata": {},
   "outputs": [],
   "source": []
  },
  {
   "cell_type": "code",
   "execution_count": 240,
   "metadata": {},
   "outputs": [
    {
     "data": {
      "text/plain": [
       "0.7672505042612345"
      ]
     },
     "execution_count": 240,
     "metadata": {},
     "output_type": "execute_result"
    }
   ],
   "source": [
    "# encoded.shape\n",
    "\n",
    "data = encoded.cpu().detach().numpy()\n",
    "\n",
    "lin_reg = LinearRegression()\n",
    "lin_reg.fit(data, targets[:, 20])\n",
    "preds = lin_reg.predict(data)\n",
    "roc_auc_score(targets[:, 20], preds)"
   ]
  },
  {
   "cell_type": "code",
   "execution_count": 241,
   "metadata": {},
   "outputs": [
    {
     "data": {
      "text/plain": [
       "0.7702471918425199"
      ]
     },
     "execution_count": 241,
     "metadata": {},
     "output_type": "execute_result"
    }
   ],
   "source": [
    "# encoded.shape\n",
    "\n",
    "data = encoded.cpu().detach().numpy()\n",
    "\n",
    "lin_reg = LogisticRegression(max_iter=10000)\n",
    "lin_reg.fit(data, targets[:, 20])\n",
    "preds = lin_reg.predict_proba(data)\n",
    "roc_auc_score(targets[:, 20], preds[:, 1])"
   ]
  },
  {
   "cell_type": "code",
   "execution_count": null,
   "metadata": {},
   "outputs": [
    {
     "data": {
      "text/plain": [
       "0.7702471918425199"
      ]
     },
     "metadata": {},
     "output_type": "display_data"
    }
   ],
   "source": [
    "# encoded.shape\n",
    "\n",
    "data = encoded.cpu().detach().numpy()\n",
    "\n",
    "lin_reg = LogisticRegression(max_iter=10000)\n",
    "lin_reg.fit(data, targets[:, 20])\n",
    "preds = lin_reg.predict_proba(data)\n",
    "roc_auc_score(targets[:, 20], preds[:, 1])"
   ]
  },
  {
   "cell_type": "code",
   "execution_count": 269,
   "metadata": {},
   "outputs": [],
   "source": [
    "# SVC\n",
    "\n",
    "data = encoded.cpu().detach().numpy()\n",
    "\n",
    "svm = SVC(random_state=42, probability=True)\n",
    "svm.fit(data, targets[:, 20])\n",
    "preds = svm.predict_proba(data)\n",
    "# roc_auc_score(targets[:, 20], preds)"
   ]
  },
  {
   "cell_type": "code",
   "execution_count": 270,
   "metadata": {},
   "outputs": [
    {
     "data": {
      "text/plain": [
       "0.2590401968241277"
      ]
     },
     "execution_count": 270,
     "metadata": {},
     "output_type": "execute_result"
    }
   ],
   "source": [
    "\n",
    "linear_svc = SVC(random_state=42, probability=True, kernel='linear')\n",
    "linear_svc.fit(data, targets[:, 20])\n",
    "preds_linear = linear_svc.predict_proba(data)\n",
    "roc_auc_score(targets[:, 20], preds_linear[:, 1])"
   ]
  },
  {
   "cell_type": "code",
   "execution_count": 271,
   "metadata": {},
   "outputs": [
    {
     "data": {
      "text/plain": [
       "0.7409598031758724"
      ]
     },
     "execution_count": 271,
     "metadata": {},
     "output_type": "execute_result"
    }
   ],
   "source": [
    "\n",
    "roc_auc_score(targets[:, 20], preds_linear[:, 0])"
   ]
  },
  {
   "cell_type": "code",
   "execution_count": 252,
   "metadata": {},
   "outputs": [
    {
     "data": {
      "image/png": "[encoded data removed]",
      "text/plain": [
       "<Figure size 576x432 with 1 Axes>"
      ]
     },
     "metadata": {
      "needs_background": "light"
     },
     "output_type": "display_data"
    }
   ],
   "source": [
    "# Create ROC curve\n",
    "from sklearn.metrics import roc_curve\n",
    "import matplotlib.pyplot as plt\n",
    "\n",
    "fpr, tpr, thresholds = roc_curve(targets[:, 20], preds[:, 0])\n",
    "\n",
    "plt.figure(figsize=(8, 6))\n",
    "plt.plot(fpr, tpr, label='ROC curve')\n",
    "plt.plot([0, 1], [0, 1], linestyle='--', label='Random classifier')\n",
    "plt.xlabel('False Positive Rate')\n",
    "plt.ylabel('True Positive Rate')\n",
    "plt.title('Receiver Operating Characteristic (ROC) Curve')\n",
    "plt.legend()\n",
    "plt.show()"
   ]
  },
  {
   "cell_type": "code",
   "execution_count": 254,
   "metadata": {},
   "outputs": [
    {
     "data": {
      "text/plain": [
       "array([0.00000000e+00, 6.32111252e-04, 1.00000000e+00, 1.00000000e+00])"
      ]
     },
     "execution_count": 254,
     "metadata": {},
     "output_type": "execute_result"
    }
   ],
   "source": [
    "tpr"
   ]
  },
  {
   "cell_type": "code",
   "execution_count": 260,
   "metadata": {},
   "outputs": [
    {
     "data": {
      "text/plain": [
       "1582.0"
      ]
     },
     "execution_count": 260,
     "metadata": {},
     "output_type": "execute_result"
    }
   ],
   "source": [
    "targets[:, 20].sum()"
   ]
  },
  {
   "cell_type": "code",
   "execution_count": 264,
   "metadata": {},
   "outputs": [
    {
     "data": {
      "text/plain": [
       "0.9998174516246805"
      ]
     },
     "execution_count": 264,
     "metadata": {},
     "output_type": "execute_result"
    }
   ],
   "source": [
    "((preds[:, 0] > thresholds[-2]) == targets[:, 20]).mean()"
   ]
  },
  {
   "cell_type": "code",
   "execution_count": 265,
   "metadata": {},
   "outputs": [
    {
     "data": {
      "text/plain": [
       "'rbf'"
      ]
     },
     "execution_count": 265,
     "metadata": {},
     "output_type": "execute_result"
    }
   ],
   "source": [
    "svm.kernel"
   ]
  },
  {
   "cell_type": "code",
   "execution_count": 250,
   "metadata": {},
   "outputs": [
    {
     "data": {
      "text/plain": [
       "1.0"
      ]
     },
     "execution_count": 250,
     "metadata": {},
     "output_type": "execute_result"
    }
   ],
   "source": [
    "roc_auc_score(targets[:, 20], preds[:, 0])"
   ]
  },
  {
   "cell_type": "code",
   "execution_count": 223,
   "metadata": {},
   "outputs": [
    {
     "data": {
      "text/plain": [
       "0.7672505042612345"
      ]
     },
     "execution_count": 223,
     "metadata": {},
     "output_type": "execute_result"
    }
   ],
   "source": [
    "roc_auc_score(targets[:, 20], preds)"
   ]
  },
  {
   "cell_type": "code",
   "execution_count": 229,
   "metadata": {},
   "outputs": [
    {
     "data": {
      "text/plain": [
       "0.7702471918425199"
      ]
     },
     "execution_count": 229,
     "metadata": {},
     "output_type": "execute_result"
    }
   ],
   "source": []
  },
  {
   "cell_type": "code",
   "execution_count": 220,
   "metadata": {},
   "outputs": [
    {
     "data": {
      "text/plain": [
       "0.7743554173736695"
      ]
     },
     "execution_count": 220,
     "metadata": {},
     "output_type": "execute_result"
    }
   ],
   "source": [
    "roc_auc_score(targets_alt[:, 20], preds)"
   ]
  },
  {
   "cell_type": "code",
   "execution_count": 224,
   "metadata": {},
   "outputs": [],
   "source": [
    "state_pca = pca1.transform(state_space)"
   ]
  },
  {
   "cell_type": "code",
   "execution_count": 272,
   "metadata": {},
   "outputs": [
    {
     "data": {
      "text/plain": [
       "0.6852936948525117"
      ]
     },
     "execution_count": 272,
     "metadata": {},
     "output_type": "execute_result"
    }
   ],
   "source": [
    "lr_pca = LogisticRegression()\n",
    "lr_pca.fit(state_pca[:, :1024], targets[:, 20])\n",
    "preds_pca = lr_pca.predict_proba(state_pca[:, :1024])[:, 1]\n",
    "roc_auc_score(targets[:, 20], preds_pca)"
   ]
  },
  {
   "cell_type": "code",
   "execution_count": 274,
   "metadata": {},
   "outputs": [
    {
     "data": {
      "text/plain": [
       "0.6927002584931655"
      ]
     },
     "execution_count": 274,
     "metadata": {},
     "output_type": "execute_result"
    }
   ],
   "source": [
    "lr_pca = LogisticRegression()\n",
    "lr_pca.fit(state_pca[:, :1024], targets_alt[:, 20])\n",
    "preds_pca = lr_pca.predict_proba(state_pca[:, :1024])[:, 1]\n",
    "roc_auc_score(targets_alt[:, 20], preds_pca)"
   ]
  },
  {
   "cell_type": "code",
   "execution_count": 293,
   "metadata": {},
   "outputs": [
    {
     "data": {
      "text/plain": [
       "0.5265263848614503"
      ]
     },
     "execution_count": 293,
     "metadata": {},
     "output_type": "execute_result"
    }
   ],
   "source": [
    "lr_pca = LogisticRegression()\n",
    "lr_pca.fit(state_pca[:, :64], targets_alt[:, 20])\n",
    "preds_pca = lr_pca.predict_proba(state_pca[:, :64])[:, 0]\n",
    "roc_auc_score(targets_alt[:, 20], preds_pca)"
   ]
  },
  {
   "cell_type": "markdown",
   "metadata": {},
   "source": []
  }
 ],
 "metadata": {
  "kernelspec": {
   "display_name": "simplex",
   "language": "python",
   "name": "python3"
  },
  "language_info": {
   "codemirror_mode": {
    "name": "ipython",
    "version": 3
   },
   "file_extension": ".py",
   "mimetype": "text/x-python",
   "name": "python",
   "nbconvert_exporter": "python",
   "pygments_lexer": "ipython3",
   "version": "3.10.12"
  }
 },
 "nbformat": 4,
 "nbformat_minor": 2
}
