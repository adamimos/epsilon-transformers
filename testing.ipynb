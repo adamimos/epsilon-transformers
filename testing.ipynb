{
 "cells": [
  {
   "cell_type": "code",
   "execution_count": 1,
   "metadata": {},
   "outputs": [],
   "source": [
    "from epsilon_transformers.comp_mech.processes import (\n",
    "    mess3,\n",
    "    nond,\n",
    "    even_process,\n",
    "    zero_one_random,\n",
    "    golden_mean,\n",
    "    random_random_xor,\n",
    ")\n",
    "\n",
    "from epsilon_transformers import create_train_loader\n",
    "\n",
    "# %%\n",
    "\n",
    "from epsilon_transformers.comp_mech import (\n",
    "    generate_sequences,\n",
    "    mixed_state_tree,\n",
    "    block_entropy,\n",
    "    myopic_entropy,\n",
    "    collect_path_probs_with_paths,\n",
    ")\n",
    "\n",
    "import numpy as np"
   ]
  },
  {
   "cell_type": "code",
   "execution_count": 6,
   "metadata": {},
   "outputs": [
    {
     "name": "stdout",
     "output_type": "stream",
     "text": [
      "[[0 0 0 1 1 0 0 0 0 1 1 1 1 1 1 0 0 0 1 1]\n",
      " [0 0 0 0 1 1 1 1 0 0 0 0 0 0 0 1 1 0 1 1]\n",
      " [1 1 0 0 0 0 0 1 1 1 1 1 1 0 0 0 0 0 0 1]\n",
      " [0 1 1 1 1 1 1 0 0 0 1 1 1 1 0 0 0 0 0 1]\n",
      " [1 0 0 0 0 0 1 1 1 1 0 0 1 1 0 1 1 0 1 1]]\n"
     ]
    }
   ],
   "source": [
    "process = even_process(p=0.75)\n",
    "data = generate_sequences(process, 5, 20)\n",
    "print(data)"
   ]
  },
  {
   "cell_type": "code",
   "execution_count": 14,
   "metadata": {},
   "outputs": [
    {
     "data": {
      "image/png": "[encoded data removed]",
      "text/plain": [
       "<Figure size 640x480 with 1 Axes>"
      ]
     },
     "metadata": {},
     "output_type": "display_data"
    }
   ],
   "source": [
    "MSP_tree = mixed_state_tree(process, tree_depth=11)\n",
    "H_mu = block_entropy(MSP_tree)\n",
    "H_mu_L = myopic_entropy(MSP_tree)\n",
    "\n",
    "from matplotlib import pyplot as plt\n",
    "\n",
    "plt.plot(H_mu_L, \"o-\")\n",
    "plt.show()"
   ]
  },
  {
   "cell_type": "code",
   "execution_count": 18,
   "metadata": {},
   "outputs": [
    {
     "name": "stdout",
     "output_type": "stream",
     "text": [
      "1.0\n"
     ]
    }
   ],
   "source": [
    "\n",
    "path_probs = collect_path_probs_with_paths(MSP_tree, 11)\n",
    "\n",
    "seqs = np.array([path[0] for path in path_probs])\n",
    "probs = np.array([path[1] for path in path_probs])\n",
    "print(probs.sum())\n"
   ]
  },
  {
   "cell_type": "code",
   "execution_count": 27,
   "metadata": {},
   "outputs": [
    {
     "name": "stdout",
     "output_type": "stream",
     "text": [
      "Number of unique rows with tolerance: 4\n",
      "Belief state labels: [0 1 1 1 1 1 1 1 1 1 1 1 2 2 1 2 1 1 2 2 1 1 1 2 2 1 2 1 1 1 1 2 2 1 2 1 1\n",
      " 2 2 1 1 1 1 1 2 2 1 2 1 1 2 2 1 1 1 2 2 1 2 1 1 1 1 1 1 2 2 1 2 1 1 2 2 1\n",
      " 1 1 2 2 1 2 1 1 1 1 2 2 1 2 1 1 2 2 1 1 1 1 1 1 1 2 2 1 2 1 1 2 2 1 1 1 2\n",
      " 2 1 2 1 1 1 1 2 2 1 2 1 1 2 2 1 1 1 1 1 2 2 1 2 1 1 2 2 1 1 1 2 2 1 2 1 1\n",
      " 1 1 1 1 1 1 2 2 1 2 1 1 2 2 1 1 1 2 2 1 2 1 1 1 1 2 2 1 2 1 1 2 2 1 1 1 1\n",
      " 1 2 2 1 2 1 1 2 2 1 1 1 2 2 1 2 1 1 1 1 1 1 2 2 1 2 1 1 2 2 1 1 1 2 2 1 2\n",
      " 1 1 1 1 2 2 1 2 1 1 2 2 1 1 1 1 1 1 1 1 1 2 2 1 2 1 1 2 2 1 1 1 2 2 1 2 1\n",
      " 1 1 1 2 2 1 2 1 1 2 2 1 1 1 1 1 2 2 1 2 1 1 2 2 1 1 1 2 2 1 2 1 1 1 1 1 1\n",
      " 2 2 1 2 1 1 2 2 1 1 1 2 2 1 2 1 1 1 1 2 2 1 2 1 1 2 2 1 1 1 1 1 1 1 2 2 1\n",
      " 2 1 1 2 2 1 1 1 2 2 1 2 1 1 1 1 2 2 1 2 1 1 2 2 1 1 1 1 1 2 2 1 2 1 1 2 2\n",
      " 1 1 1 2 2 1 3 1 1 1 1 1 1 1 1 1 1 2 2 1 2 1 1 2 2 1 1 1 2 2 1 2 1 1 1 1 2\n",
      " 2 1 2 1 1 2 2 1 1 1 1 1 2 2 1 2 1 1 2 2 1 1 1 2 2 1 2 1 1 1 1 1 1 2 2 1 2\n",
      " 1 1 2 2 1 1 1 2 2 1 2 1 1 1 1 2 2 1 2 1 1 2 2 1 1 1 1 1 1 1 2 2 1 2 1 1 2\n",
      " 2 1 1 1 2 2 1 2 1 1 1 1 2 2 1 2 1 1 2 2 1 1 1 1 1 2 2 1 2 1 1 2 2 1 1 1 2\n",
      " 2 1 2 1 1 1 1 1 1 1 1 2 2 1 2 1 1 2 2 1 1 1 2 2 1 2 1 1 1 1 2 2 1 2 1 1 2\n",
      " 2 1 1 1 1 1 2 2 1 2 1 1 2 2 1 1 1 2 2 1 2 1 1 1 1 1 1 2 2 1 2 1 1 2 2 1 1\n",
      " 1 2 2 1 2 1 1 1 1 2 2 1 2 1 1 2 0 1 1 1 1 1 1 1 1 1 2 2 1 2 1 1 2 2 1 1 1\n",
      " 2 2 1 2 1 1 1 1 2 2 1 2 1 1 2 2 1 1 1 1 1 2 2 1 2 1 1 2 2 1 1 1 2 2 1 2 1\n",
      " 1 1 1 1 1 2 2 1 2 1 1 2 2 1 1 1 2 2 1 2 1 1 1 1 2 2 1 2 1 1 2 2 1 1 1 1 1\n",
      " 1 1 2 2 1 2 1 1 2 2 1 1 1 2 2 1 2 1 1 1 1 2 2 1 2 1 1 2 2 1 1 1 1 1 2 2 1\n",
      " 2 1 1 2 2 1 1 1 2 2 1 3 1 1 1 1 1 1 1 1 2 2 1 2 1 1 2 2 1 1 1 2 2 1 2 1 1\n",
      " 1 1 2 2 1 2 1 1 2 2 1 1 1 1 1 2 2 1 2 1 1 2 2 1 1 1 2 2 1 2 1 1 1 1 1 1 2\n",
      " 2 1 2 1 1 2 2 1 1 1 2 2 1 2 1 1 1 1 2 2 1 2 1 1 2 0 1 1 1 1 1 1 1 2 2 1 2\n",
      " 1 1 2 2 1 1 1 2 2 1 2 1 1 1 1 2 2 1 2 1 1 2 2 1 1 1 1 1 2 2 1 2 1 1 2 2 1\n",
      " 1 1 2 2 1 3 1 1 1 1 1 1 2 2 1 2 1 1 2 2 1 1 1 2 2 1 2 1 1 1 1 2 2 1 2 1 1\n",
      " 2 0 1 1 1 1 1 2 2 1 2 1 1 2 2 1 1 1 2 2 1 3 1 1 1 1 2 2 1 2 1 1 2 0 1 1 1\n",
      " 2 2 1 3 1 1 2 0 1 3]\n"
     ]
    }
   ],
   "source": [
    "belief_states = MSP_tree.get_belief_states()\n",
    "belief_states = np.array(belief_states)\n",
    "\n",
    "# Assign a group label to each belief state row based on uniqueness with a tolerance for L2 distance\n",
    "def assign_labels_to_belief_states(arr, tol=0.01):\n",
    "    unique = []\n",
    "    labels = []\n",
    "    for row in arr:\n",
    "        distances = np.linalg.norm(np.array(unique) - row, axis=1) if unique else [float('inf')]\n",
    "        min_dist_idx = np.argmin(distances)\n",
    "        if distances[min_dist_idx] > tol:  # if the closest distance is greater than tol, it's unique\n",
    "            unique.append(row)\n",
    "            labels.append(len(unique) - 1)  # Assign a new label for this unique row\n",
    "        else:\n",
    "            labels.append(min_dist_idx)  # Assign the label of the closest existing unique row\n",
    "    return np.array(labels)\n",
    "\n",
    "belief_state_labels = assign_labels_to_belief_states(belief_states)\n",
    "print(f\"Number of unique rows with tolerance: {len(np.unique(belief_state_labels))}\")\n",
    "print(f\"Belief state labels: {belief_state_labels}\")\n",
    "unique_belief_states = belief_states[belief_state_labels]\n",
    "unique_labels = np.unique(belief_state_labels)\n",
    "unique_belief_states = np.zeros((len(unique_labels), 2))\n",
    "for ul in unique_labels:\n",
    "    idx = np.where(belief_state_labels == ul)[0][0]\n",
    "    unique_belief_states[ul] = belief_states[idx]\n",
    "\n"
   ]
  },
  {
   "cell_type": "code",
   "execution_count": 28,
   "metadata": {},
   "outputs": [
    {
     "data": {
      "text/plain": [
       "array([[0.8, 0.2],\n",
       "       [1. , 0. ],\n",
       "       [0. , 1. ],\n",
       "       [0.5, 0.5]])"
      ]
     },
     "execution_count": 28,
     "metadata": {},
     "output_type": "execute_result"
    }
   ],
   "source": [
    "unique_belief_states"
   ]
  },
  {
   "cell_type": "code",
   "execution_count": null,
   "metadata": {},
   "outputs": [],
   "source": []
  }
 ],
 "metadata": {
  "kernelspec": {
   "display_name": "epsilon-machine",
   "language": "python",
   "name": "python3"
  },
  "language_info": {
   "codemirror_mode": {
    "name": "ipython",
    "version": 3
   },
   "file_extension": ".py",
   "mimetype": "text/x-python",
   "name": "python",
   "nbconvert_exporter": "python",
   "pygments_lexer": "ipython3",
   "version": "3.11.7"
  }
 },
 "nbformat": 4,
 "nbformat_minor": 2
}
